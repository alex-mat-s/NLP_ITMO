{
  "nbformat": 4,
  "nbformat_minor": 0,
  "metadata": {
    "colab": {
      "name": "ANLP_lab4_Alexandra_Matveeva_J41325c.ipynb",
      "provenance": [],
      "collapsed_sections": [],
      "include_colab_link": true
    },
    "kernelspec": {
      "display_name": "Python 3",
      "name": "python3"
    },
    "language_info": {
      "name": "python"
    },
    "widgets": {
      "application/vnd.jupyter.widget-state+json": {
        "e806b620db184296aca1ed0b79dbe013": {
          "model_module": "@jupyter-widgets/controls",
          "model_name": "HBoxModel",
          "model_module_version": "1.5.0",
          "state": {
            "_dom_classes": [],
            "_model_module": "@jupyter-widgets/controls",
            "_model_module_version": "1.5.0",
            "_model_name": "HBoxModel",
            "_view_count": null,
            "_view_module": "@jupyter-widgets/controls",
            "_view_module_version": "1.5.0",
            "_view_name": "HBoxView",
            "box_style": "",
            "children": [
              "IPY_MODEL_65ad41559b514f38b71db36c380a4972",
              "IPY_MODEL_4e63468bb165410daaf120b80e537ce5",
              "IPY_MODEL_ea62c9b4a6c943ee858cec72a4e08689"
            ],
            "layout": "IPY_MODEL_cc38a1f90a2a48e7a3af4f01103d4afd"
          }
        },
        "65ad41559b514f38b71db36c380a4972": {
          "model_module": "@jupyter-widgets/controls",
          "model_name": "HTMLModel",
          "model_module_version": "1.5.0",
          "state": {
            "_dom_classes": [],
            "_model_module": "@jupyter-widgets/controls",
            "_model_module_version": "1.5.0",
            "_model_name": "HTMLModel",
            "_view_count": null,
            "_view_module": "@jupyter-widgets/controls",
            "_view_module_version": "1.5.0",
            "_view_name": "HTMLView",
            "description": "",
            "description_tooltip": null,
            "layout": "IPY_MODEL_e675ec6fdfd84894b94d61da45d08d1e",
            "placeholder": "​",
            "style": "IPY_MODEL_db66c10bc3a549749b3efa0cc195fc8f",
            "value": "Downloading builder script: "
          }
        },
        "4e63468bb165410daaf120b80e537ce5": {
          "model_module": "@jupyter-widgets/controls",
          "model_name": "FloatProgressModel",
          "model_module_version": "1.5.0",
          "state": {
            "_dom_classes": [],
            "_model_module": "@jupyter-widgets/controls",
            "_model_module_version": "1.5.0",
            "_model_name": "FloatProgressModel",
            "_view_count": null,
            "_view_module": "@jupyter-widgets/controls",
            "_view_module_version": "1.5.0",
            "_view_name": "ProgressView",
            "bar_style": "success",
            "description": "",
            "description_tooltip": null,
            "layout": "IPY_MODEL_dc46cc57345e40f4a709ef906516a4fe",
            "max": 1416,
            "min": 0,
            "orientation": "horizontal",
            "style": "IPY_MODEL_9ff132d7ef9e42b889891d8d739b76ad",
            "value": 1416
          }
        },
        "ea62c9b4a6c943ee858cec72a4e08689": {
          "model_module": "@jupyter-widgets/controls",
          "model_name": "HTMLModel",
          "model_module_version": "1.5.0",
          "state": {
            "_dom_classes": [],
            "_model_module": "@jupyter-widgets/controls",
            "_model_module_version": "1.5.0",
            "_model_name": "HTMLModel",
            "_view_count": null,
            "_view_module": "@jupyter-widgets/controls",
            "_view_module_version": "1.5.0",
            "_view_name": "HTMLView",
            "description": "",
            "description_tooltip": null,
            "layout": "IPY_MODEL_0b0101a243704abea7fc701f2e3590b5",
            "placeholder": "​",
            "style": "IPY_MODEL_eb52297209c8443b9ecae522e5da730c",
            "value": " 3.39k/? [00:00&lt;00:00, 70.8kB/s]"
          }
        },
        "cc38a1f90a2a48e7a3af4f01103d4afd": {
          "model_module": "@jupyter-widgets/base",
          "model_name": "LayoutModel",
          "model_module_version": "1.2.0",
          "state": {
            "_model_module": "@jupyter-widgets/base",
            "_model_module_version": "1.2.0",
            "_model_name": "LayoutModel",
            "_view_count": null,
            "_view_module": "@jupyter-widgets/base",
            "_view_module_version": "1.2.0",
            "_view_name": "LayoutView",
            "align_content": null,
            "align_items": null,
            "align_self": null,
            "border": null,
            "bottom": null,
            "display": null,
            "flex": null,
            "flex_flow": null,
            "grid_area": null,
            "grid_auto_columns": null,
            "grid_auto_flow": null,
            "grid_auto_rows": null,
            "grid_column": null,
            "grid_gap": null,
            "grid_row": null,
            "grid_template_areas": null,
            "grid_template_columns": null,
            "grid_template_rows": null,
            "height": null,
            "justify_content": null,
            "justify_items": null,
            "left": null,
            "margin": null,
            "max_height": null,
            "max_width": null,
            "min_height": null,
            "min_width": null,
            "object_fit": null,
            "object_position": null,
            "order": null,
            "overflow": null,
            "overflow_x": null,
            "overflow_y": null,
            "padding": null,
            "right": null,
            "top": null,
            "visibility": null,
            "width": null
          }
        },
        "e675ec6fdfd84894b94d61da45d08d1e": {
          "model_module": "@jupyter-widgets/base",
          "model_name": "LayoutModel",
          "model_module_version": "1.2.0",
          "state": {
            "_model_module": "@jupyter-widgets/base",
            "_model_module_version": "1.2.0",
            "_model_name": "LayoutModel",
            "_view_count": null,
            "_view_module": "@jupyter-widgets/base",
            "_view_module_version": "1.2.0",
            "_view_name": "LayoutView",
            "align_content": null,
            "align_items": null,
            "align_self": null,
            "border": null,
            "bottom": null,
            "display": null,
            "flex": null,
            "flex_flow": null,
            "grid_area": null,
            "grid_auto_columns": null,
            "grid_auto_flow": null,
            "grid_auto_rows": null,
            "grid_column": null,
            "grid_gap": null,
            "grid_row": null,
            "grid_template_areas": null,
            "grid_template_columns": null,
            "grid_template_rows": null,
            "height": null,
            "justify_content": null,
            "justify_items": null,
            "left": null,
            "margin": null,
            "max_height": null,
            "max_width": null,
            "min_height": null,
            "min_width": null,
            "object_fit": null,
            "object_position": null,
            "order": null,
            "overflow": null,
            "overflow_x": null,
            "overflow_y": null,
            "padding": null,
            "right": null,
            "top": null,
            "visibility": null,
            "width": null
          }
        },
        "db66c10bc3a549749b3efa0cc195fc8f": {
          "model_module": "@jupyter-widgets/controls",
          "model_name": "DescriptionStyleModel",
          "model_module_version": "1.5.0",
          "state": {
            "_model_module": "@jupyter-widgets/controls",
            "_model_module_version": "1.5.0",
            "_model_name": "DescriptionStyleModel",
            "_view_count": null,
            "_view_module": "@jupyter-widgets/base",
            "_view_module_version": "1.2.0",
            "_view_name": "StyleView",
            "description_width": ""
          }
        },
        "dc46cc57345e40f4a709ef906516a4fe": {
          "model_module": "@jupyter-widgets/base",
          "model_name": "LayoutModel",
          "model_module_version": "1.2.0",
          "state": {
            "_model_module": "@jupyter-widgets/base",
            "_model_module_version": "1.2.0",
            "_model_name": "LayoutModel",
            "_view_count": null,
            "_view_module": "@jupyter-widgets/base",
            "_view_module_version": "1.2.0",
            "_view_name": "LayoutView",
            "align_content": null,
            "align_items": null,
            "align_self": null,
            "border": null,
            "bottom": null,
            "display": null,
            "flex": null,
            "flex_flow": null,
            "grid_area": null,
            "grid_auto_columns": null,
            "grid_auto_flow": null,
            "grid_auto_rows": null,
            "grid_column": null,
            "grid_gap": null,
            "grid_row": null,
            "grid_template_areas": null,
            "grid_template_columns": null,
            "grid_template_rows": null,
            "height": null,
            "justify_content": null,
            "justify_items": null,
            "left": null,
            "margin": null,
            "max_height": null,
            "max_width": null,
            "min_height": null,
            "min_width": null,
            "object_fit": null,
            "object_position": null,
            "order": null,
            "overflow": null,
            "overflow_x": null,
            "overflow_y": null,
            "padding": null,
            "right": null,
            "top": null,
            "visibility": null,
            "width": null
          }
        },
        "9ff132d7ef9e42b889891d8d739b76ad": {
          "model_module": "@jupyter-widgets/controls",
          "model_name": "ProgressStyleModel",
          "model_module_version": "1.5.0",
          "state": {
            "_model_module": "@jupyter-widgets/controls",
            "_model_module_version": "1.5.0",
            "_model_name": "ProgressStyleModel",
            "_view_count": null,
            "_view_module": "@jupyter-widgets/base",
            "_view_module_version": "1.2.0",
            "_view_name": "StyleView",
            "bar_color": null,
            "description_width": ""
          }
        },
        "0b0101a243704abea7fc701f2e3590b5": {
          "model_module": "@jupyter-widgets/base",
          "model_name": "LayoutModel",
          "model_module_version": "1.2.0",
          "state": {
            "_model_module": "@jupyter-widgets/base",
            "_model_module_version": "1.2.0",
            "_model_name": "LayoutModel",
            "_view_count": null,
            "_view_module": "@jupyter-widgets/base",
            "_view_module_version": "1.2.0",
            "_view_name": "LayoutView",
            "align_content": null,
            "align_items": null,
            "align_self": null,
            "border": null,
            "bottom": null,
            "display": null,
            "flex": null,
            "flex_flow": null,
            "grid_area": null,
            "grid_auto_columns": null,
            "grid_auto_flow": null,
            "grid_auto_rows": null,
            "grid_column": null,
            "grid_gap": null,
            "grid_row": null,
            "grid_template_areas": null,
            "grid_template_columns": null,
            "grid_template_rows": null,
            "height": null,
            "justify_content": null,
            "justify_items": null,
            "left": null,
            "margin": null,
            "max_height": null,
            "max_width": null,
            "min_height": null,
            "min_width": null,
            "object_fit": null,
            "object_position": null,
            "order": null,
            "overflow": null,
            "overflow_x": null,
            "overflow_y": null,
            "padding": null,
            "right": null,
            "top": null,
            "visibility": null,
            "width": null
          }
        },
        "eb52297209c8443b9ecae522e5da730c": {
          "model_module": "@jupyter-widgets/controls",
          "model_name": "DescriptionStyleModel",
          "model_module_version": "1.5.0",
          "state": {
            "_model_module": "@jupyter-widgets/controls",
            "_model_module_version": "1.5.0",
            "_model_name": "DescriptionStyleModel",
            "_view_count": null,
            "_view_module": "@jupyter-widgets/base",
            "_view_module_version": "1.2.0",
            "_view_name": "StyleView",
            "description_width": ""
          }
        },
        "9c5448df0afd4145a1b17b737a410613": {
          "model_module": "@jupyter-widgets/controls",
          "model_name": "HBoxModel",
          "model_module_version": "1.5.0",
          "state": {
            "_dom_classes": [],
            "_model_module": "@jupyter-widgets/controls",
            "_model_module_version": "1.5.0",
            "_model_name": "HBoxModel",
            "_view_count": null,
            "_view_module": "@jupyter-widgets/controls",
            "_view_module_version": "1.5.0",
            "_view_name": "HBoxView",
            "box_style": "",
            "children": [
              "IPY_MODEL_4b17250cd4854754b33b6b3d231666d1",
              "IPY_MODEL_258136afe679410789ab23794ad8b0d0",
              "IPY_MODEL_a310428ff484462c921480484d085042"
            ],
            "layout": "IPY_MODEL_9aca84ac885f44269d5efcbfbd692fac"
          }
        },
        "4b17250cd4854754b33b6b3d231666d1": {
          "model_module": "@jupyter-widgets/controls",
          "model_name": "HTMLModel",
          "model_module_version": "1.5.0",
          "state": {
            "_dom_classes": [],
            "_model_module": "@jupyter-widgets/controls",
            "_model_module_version": "1.5.0",
            "_model_name": "HTMLModel",
            "_view_count": null,
            "_view_module": "@jupyter-widgets/controls",
            "_view_module_version": "1.5.0",
            "_view_name": "HTMLView",
            "description": "",
            "description_tooltip": null,
            "layout": "IPY_MODEL_5640ef0549ef49e28cad72f5e5897cc0",
            "placeholder": "​",
            "style": "IPY_MODEL_7b8da0fd8557472db2f679c18e9e14d1",
            "value": "Downloading metadata: "
          }
        },
        "258136afe679410789ab23794ad8b0d0": {
          "model_module": "@jupyter-widgets/controls",
          "model_name": "FloatProgressModel",
          "model_module_version": "1.5.0",
          "state": {
            "_dom_classes": [],
            "_model_module": "@jupyter-widgets/controls",
            "_model_module_version": "1.5.0",
            "_model_name": "FloatProgressModel",
            "_view_count": null,
            "_view_module": "@jupyter-widgets/controls",
            "_view_module_version": "1.5.0",
            "_view_name": "ProgressView",
            "bar_style": "success",
            "description": "",
            "description_tooltip": null,
            "layout": "IPY_MODEL_20cef391093c42579ee7ff8270f35281",
            "max": 867,
            "min": 0,
            "orientation": "horizontal",
            "style": "IPY_MODEL_091014ab651e4a3dbc492b53738ed28e",
            "value": 867
          }
        },
        "a310428ff484462c921480484d085042": {
          "model_module": "@jupyter-widgets/controls",
          "model_name": "HTMLModel",
          "model_module_version": "1.5.0",
          "state": {
            "_dom_classes": [],
            "_model_module": "@jupyter-widgets/controls",
            "_model_module_version": "1.5.0",
            "_model_name": "HTMLModel",
            "_view_count": null,
            "_view_module": "@jupyter-widgets/controls",
            "_view_module_version": "1.5.0",
            "_view_name": "HTMLView",
            "description": "",
            "description_tooltip": null,
            "layout": "IPY_MODEL_e3953c679d8043da9154a4b39fc351b4",
            "placeholder": "​",
            "style": "IPY_MODEL_3c6863f5ddd3432294f5afc4396dfc0c",
            "value": " 1.89k/? [00:00&lt;00:00, 47.8kB/s]"
          }
        },
        "9aca84ac885f44269d5efcbfbd692fac": {
          "model_module": "@jupyter-widgets/base",
          "model_name": "LayoutModel",
          "model_module_version": "1.2.0",
          "state": {
            "_model_module": "@jupyter-widgets/base",
            "_model_module_version": "1.2.0",
            "_model_name": "LayoutModel",
            "_view_count": null,
            "_view_module": "@jupyter-widgets/base",
            "_view_module_version": "1.2.0",
            "_view_name": "LayoutView",
            "align_content": null,
            "align_items": null,
            "align_self": null,
            "border": null,
            "bottom": null,
            "display": null,
            "flex": null,
            "flex_flow": null,
            "grid_area": null,
            "grid_auto_columns": null,
            "grid_auto_flow": null,
            "grid_auto_rows": null,
            "grid_column": null,
            "grid_gap": null,
            "grid_row": null,
            "grid_template_areas": null,
            "grid_template_columns": null,
            "grid_template_rows": null,
            "height": null,
            "justify_content": null,
            "justify_items": null,
            "left": null,
            "margin": null,
            "max_height": null,
            "max_width": null,
            "min_height": null,
            "min_width": null,
            "object_fit": null,
            "object_position": null,
            "order": null,
            "overflow": null,
            "overflow_x": null,
            "overflow_y": null,
            "padding": null,
            "right": null,
            "top": null,
            "visibility": null,
            "width": null
          }
        },
        "5640ef0549ef49e28cad72f5e5897cc0": {
          "model_module": "@jupyter-widgets/base",
          "model_name": "LayoutModel",
          "model_module_version": "1.2.0",
          "state": {
            "_model_module": "@jupyter-widgets/base",
            "_model_module_version": "1.2.0",
            "_model_name": "LayoutModel",
            "_view_count": null,
            "_view_module": "@jupyter-widgets/base",
            "_view_module_version": "1.2.0",
            "_view_name": "LayoutView",
            "align_content": null,
            "align_items": null,
            "align_self": null,
            "border": null,
            "bottom": null,
            "display": null,
            "flex": null,
            "flex_flow": null,
            "grid_area": null,
            "grid_auto_columns": null,
            "grid_auto_flow": null,
            "grid_auto_rows": null,
            "grid_column": null,
            "grid_gap": null,
            "grid_row": null,
            "grid_template_areas": null,
            "grid_template_columns": null,
            "grid_template_rows": null,
            "height": null,
            "justify_content": null,
            "justify_items": null,
            "left": null,
            "margin": null,
            "max_height": null,
            "max_width": null,
            "min_height": null,
            "min_width": null,
            "object_fit": null,
            "object_position": null,
            "order": null,
            "overflow": null,
            "overflow_x": null,
            "overflow_y": null,
            "padding": null,
            "right": null,
            "top": null,
            "visibility": null,
            "width": null
          }
        },
        "7b8da0fd8557472db2f679c18e9e14d1": {
          "model_module": "@jupyter-widgets/controls",
          "model_name": "DescriptionStyleModel",
          "model_module_version": "1.5.0",
          "state": {
            "_model_module": "@jupyter-widgets/controls",
            "_model_module_version": "1.5.0",
            "_model_name": "DescriptionStyleModel",
            "_view_count": null,
            "_view_module": "@jupyter-widgets/base",
            "_view_module_version": "1.2.0",
            "_view_name": "StyleView",
            "description_width": ""
          }
        },
        "20cef391093c42579ee7ff8270f35281": {
          "model_module": "@jupyter-widgets/base",
          "model_name": "LayoutModel",
          "model_module_version": "1.2.0",
          "state": {
            "_model_module": "@jupyter-widgets/base",
            "_model_module_version": "1.2.0",
            "_model_name": "LayoutModel",
            "_view_count": null,
            "_view_module": "@jupyter-widgets/base",
            "_view_module_version": "1.2.0",
            "_view_name": "LayoutView",
            "align_content": null,
            "align_items": null,
            "align_self": null,
            "border": null,
            "bottom": null,
            "display": null,
            "flex": null,
            "flex_flow": null,
            "grid_area": null,
            "grid_auto_columns": null,
            "grid_auto_flow": null,
            "grid_auto_rows": null,
            "grid_column": null,
            "grid_gap": null,
            "grid_row": null,
            "grid_template_areas": null,
            "grid_template_columns": null,
            "grid_template_rows": null,
            "height": null,
            "justify_content": null,
            "justify_items": null,
            "left": null,
            "margin": null,
            "max_height": null,
            "max_width": null,
            "min_height": null,
            "min_width": null,
            "object_fit": null,
            "object_position": null,
            "order": null,
            "overflow": null,
            "overflow_x": null,
            "overflow_y": null,
            "padding": null,
            "right": null,
            "top": null,
            "visibility": null,
            "width": null
          }
        },
        "091014ab651e4a3dbc492b53738ed28e": {
          "model_module": "@jupyter-widgets/controls",
          "model_name": "ProgressStyleModel",
          "model_module_version": "1.5.0",
          "state": {
            "_model_module": "@jupyter-widgets/controls",
            "_model_module_version": "1.5.0",
            "_model_name": "ProgressStyleModel",
            "_view_count": null,
            "_view_module": "@jupyter-widgets/base",
            "_view_module_version": "1.2.0",
            "_view_name": "StyleView",
            "bar_color": null,
            "description_width": ""
          }
        },
        "e3953c679d8043da9154a4b39fc351b4": {
          "model_module": "@jupyter-widgets/base",
          "model_name": "LayoutModel",
          "model_module_version": "1.2.0",
          "state": {
            "_model_module": "@jupyter-widgets/base",
            "_model_module_version": "1.2.0",
            "_model_name": "LayoutModel",
            "_view_count": null,
            "_view_module": "@jupyter-widgets/base",
            "_view_module_version": "1.2.0",
            "_view_name": "LayoutView",
            "align_content": null,
            "align_items": null,
            "align_self": null,
            "border": null,
            "bottom": null,
            "display": null,
            "flex": null,
            "flex_flow": null,
            "grid_area": null,
            "grid_auto_columns": null,
            "grid_auto_flow": null,
            "grid_auto_rows": null,
            "grid_column": null,
            "grid_gap": null,
            "grid_row": null,
            "grid_template_areas": null,
            "grid_template_columns": null,
            "grid_template_rows": null,
            "height": null,
            "justify_content": null,
            "justify_items": null,
            "left": null,
            "margin": null,
            "max_height": null,
            "max_width": null,
            "min_height": null,
            "min_width": null,
            "object_fit": null,
            "object_position": null,
            "order": null,
            "overflow": null,
            "overflow_x": null,
            "overflow_y": null,
            "padding": null,
            "right": null,
            "top": null,
            "visibility": null,
            "width": null
          }
        },
        "3c6863f5ddd3432294f5afc4396dfc0c": {
          "model_module": "@jupyter-widgets/controls",
          "model_name": "DescriptionStyleModel",
          "model_module_version": "1.5.0",
          "state": {
            "_model_module": "@jupyter-widgets/controls",
            "_model_module_version": "1.5.0",
            "_model_name": "DescriptionStyleModel",
            "_view_count": null,
            "_view_module": "@jupyter-widgets/base",
            "_view_module_version": "1.2.0",
            "_view_name": "StyleView",
            "description_width": ""
          }
        },
        "848f2db9bd0a4bb4ab7b12c1516f59f6": {
          "model_module": "@jupyter-widgets/controls",
          "model_name": "HBoxModel",
          "model_module_version": "1.5.0",
          "state": {
            "_dom_classes": [],
            "_model_module": "@jupyter-widgets/controls",
            "_model_module_version": "1.5.0",
            "_model_name": "HBoxModel",
            "_view_count": null,
            "_view_module": "@jupyter-widgets/controls",
            "_view_module_version": "1.5.0",
            "_view_name": "HBoxView",
            "box_style": "",
            "children": [
              "IPY_MODEL_f2a8681c84c649989b1e6a992bd7b1a0",
              "IPY_MODEL_9969af70edac4dc599d12f6811b106b6",
              "IPY_MODEL_73d5597403b14e86875046f790ad2aed"
            ],
            "layout": "IPY_MODEL_abdddef7c4554272a3945cce54a99922"
          }
        },
        "f2a8681c84c649989b1e6a992bd7b1a0": {
          "model_module": "@jupyter-widgets/controls",
          "model_name": "HTMLModel",
          "model_module_version": "1.5.0",
          "state": {
            "_dom_classes": [],
            "_model_module": "@jupyter-widgets/controls",
            "_model_module_version": "1.5.0",
            "_model_name": "HTMLModel",
            "_view_count": null,
            "_view_module": "@jupyter-widgets/controls",
            "_view_module_version": "1.5.0",
            "_view_name": "HTMLView",
            "description": "",
            "description_tooltip": null,
            "layout": "IPY_MODEL_b164b0c8cd344852abb24946b7be3da6",
            "placeholder": "​",
            "style": "IPY_MODEL_8ef39e5ea34c4aa69691d00851f1600b",
            "value": "Downloading data: 100%"
          }
        },
        "9969af70edac4dc599d12f6811b106b6": {
          "model_module": "@jupyter-widgets/controls",
          "model_name": "FloatProgressModel",
          "model_module_version": "1.5.0",
          "state": {
            "_dom_classes": [],
            "_model_module": "@jupyter-widgets/controls",
            "_model_module_version": "1.5.0",
            "_model_name": "FloatProgressModel",
            "_view_count": null,
            "_view_module": "@jupyter-widgets/controls",
            "_view_module_version": "1.5.0",
            "_view_name": "ProgressView",
            "bar_style": "success",
            "description": "",
            "description_tooltip": null,
            "layout": "IPY_MODEL_39bd0c8d955948b485c28c6bbdd3cac1",
            "max": 319476309,
            "min": 0,
            "orientation": "horizontal",
            "style": "IPY_MODEL_cd0af8f96cdc4e2abe3aa33ecd87b42d",
            "value": 319476309
          }
        },
        "73d5597403b14e86875046f790ad2aed": {
          "model_module": "@jupyter-widgets/controls",
          "model_name": "HTMLModel",
          "model_module_version": "1.5.0",
          "state": {
            "_dom_classes": [],
            "_model_module": "@jupyter-widgets/controls",
            "_model_module_version": "1.5.0",
            "_model_name": "HTMLModel",
            "_view_count": null,
            "_view_module": "@jupyter-widgets/controls",
            "_view_module_version": "1.5.0",
            "_view_name": "HTMLView",
            "description": "",
            "description_tooltip": null,
            "layout": "IPY_MODEL_bdc3ff469ec744ba9809c82796b2daad",
            "placeholder": "​",
            "style": "IPY_MODEL_1efc3bbf1e634a8eb029903b041b2199",
            "value": " 319M/319M [00:11&lt;00:00, 12.1MB/s]"
          }
        },
        "abdddef7c4554272a3945cce54a99922": {
          "model_module": "@jupyter-widgets/base",
          "model_name": "LayoutModel",
          "model_module_version": "1.2.0",
          "state": {
            "_model_module": "@jupyter-widgets/base",
            "_model_module_version": "1.2.0",
            "_model_name": "LayoutModel",
            "_view_count": null,
            "_view_module": "@jupyter-widgets/base",
            "_view_module_version": "1.2.0",
            "_view_name": "LayoutView",
            "align_content": null,
            "align_items": null,
            "align_self": null,
            "border": null,
            "bottom": null,
            "display": null,
            "flex": null,
            "flex_flow": null,
            "grid_area": null,
            "grid_auto_columns": null,
            "grid_auto_flow": null,
            "grid_auto_rows": null,
            "grid_column": null,
            "grid_gap": null,
            "grid_row": null,
            "grid_template_areas": null,
            "grid_template_columns": null,
            "grid_template_rows": null,
            "height": null,
            "justify_content": null,
            "justify_items": null,
            "left": null,
            "margin": null,
            "max_height": null,
            "max_width": null,
            "min_height": null,
            "min_width": null,
            "object_fit": null,
            "object_position": null,
            "order": null,
            "overflow": null,
            "overflow_x": null,
            "overflow_y": null,
            "padding": null,
            "right": null,
            "top": null,
            "visibility": null,
            "width": null
          }
        },
        "b164b0c8cd344852abb24946b7be3da6": {
          "model_module": "@jupyter-widgets/base",
          "model_name": "LayoutModel",
          "model_module_version": "1.2.0",
          "state": {
            "_model_module": "@jupyter-widgets/base",
            "_model_module_version": "1.2.0",
            "_model_name": "LayoutModel",
            "_view_count": null,
            "_view_module": "@jupyter-widgets/base",
            "_view_module_version": "1.2.0",
            "_view_name": "LayoutView",
            "align_content": null,
            "align_items": null,
            "align_self": null,
            "border": null,
            "bottom": null,
            "display": null,
            "flex": null,
            "flex_flow": null,
            "grid_area": null,
            "grid_auto_columns": null,
            "grid_auto_flow": null,
            "grid_auto_rows": null,
            "grid_column": null,
            "grid_gap": null,
            "grid_row": null,
            "grid_template_areas": null,
            "grid_template_columns": null,
            "grid_template_rows": null,
            "height": null,
            "justify_content": null,
            "justify_items": null,
            "left": null,
            "margin": null,
            "max_height": null,
            "max_width": null,
            "min_height": null,
            "min_width": null,
            "object_fit": null,
            "object_position": null,
            "order": null,
            "overflow": null,
            "overflow_x": null,
            "overflow_y": null,
            "padding": null,
            "right": null,
            "top": null,
            "visibility": null,
            "width": null
          }
        },
        "8ef39e5ea34c4aa69691d00851f1600b": {
          "model_module": "@jupyter-widgets/controls",
          "model_name": "DescriptionStyleModel",
          "model_module_version": "1.5.0",
          "state": {
            "_model_module": "@jupyter-widgets/controls",
            "_model_module_version": "1.5.0",
            "_model_name": "DescriptionStyleModel",
            "_view_count": null,
            "_view_module": "@jupyter-widgets/base",
            "_view_module_version": "1.2.0",
            "_view_name": "StyleView",
            "description_width": ""
          }
        },
        "39bd0c8d955948b485c28c6bbdd3cac1": {
          "model_module": "@jupyter-widgets/base",
          "model_name": "LayoutModel",
          "model_module_version": "1.2.0",
          "state": {
            "_model_module": "@jupyter-widgets/base",
            "_model_module_version": "1.2.0",
            "_model_name": "LayoutModel",
            "_view_count": null,
            "_view_module": "@jupyter-widgets/base",
            "_view_module_version": "1.2.0",
            "_view_name": "LayoutView",
            "align_content": null,
            "align_items": null,
            "align_self": null,
            "border": null,
            "bottom": null,
            "display": null,
            "flex": null,
            "flex_flow": null,
            "grid_area": null,
            "grid_auto_columns": null,
            "grid_auto_flow": null,
            "grid_auto_rows": null,
            "grid_column": null,
            "grid_gap": null,
            "grid_row": null,
            "grid_template_areas": null,
            "grid_template_columns": null,
            "grid_template_rows": null,
            "height": null,
            "justify_content": null,
            "justify_items": null,
            "left": null,
            "margin": null,
            "max_height": null,
            "max_width": null,
            "min_height": null,
            "min_width": null,
            "object_fit": null,
            "object_position": null,
            "order": null,
            "overflow": null,
            "overflow_x": null,
            "overflow_y": null,
            "padding": null,
            "right": null,
            "top": null,
            "visibility": null,
            "width": null
          }
        },
        "cd0af8f96cdc4e2abe3aa33ecd87b42d": {
          "model_module": "@jupyter-widgets/controls",
          "model_name": "ProgressStyleModel",
          "model_module_version": "1.5.0",
          "state": {
            "_model_module": "@jupyter-widgets/controls",
            "_model_module_version": "1.5.0",
            "_model_name": "ProgressStyleModel",
            "_view_count": null,
            "_view_module": "@jupyter-widgets/base",
            "_view_module_version": "1.2.0",
            "_view_name": "StyleView",
            "bar_color": null,
            "description_width": ""
          }
        },
        "bdc3ff469ec744ba9809c82796b2daad": {
          "model_module": "@jupyter-widgets/base",
          "model_name": "LayoutModel",
          "model_module_version": "1.2.0",
          "state": {
            "_model_module": "@jupyter-widgets/base",
            "_model_module_version": "1.2.0",
            "_model_name": "LayoutModel",
            "_view_count": null,
            "_view_module": "@jupyter-widgets/base",
            "_view_module_version": "1.2.0",
            "_view_name": "LayoutView",
            "align_content": null,
            "align_items": null,
            "align_self": null,
            "border": null,
            "bottom": null,
            "display": null,
            "flex": null,
            "flex_flow": null,
            "grid_area": null,
            "grid_auto_columns": null,
            "grid_auto_flow": null,
            "grid_auto_rows": null,
            "grid_column": null,
            "grid_gap": null,
            "grid_row": null,
            "grid_template_areas": null,
            "grid_template_columns": null,
            "grid_template_rows": null,
            "height": null,
            "justify_content": null,
            "justify_items": null,
            "left": null,
            "margin": null,
            "max_height": null,
            "max_width": null,
            "min_height": null,
            "min_width": null,
            "object_fit": null,
            "object_position": null,
            "order": null,
            "overflow": null,
            "overflow_x": null,
            "overflow_y": null,
            "padding": null,
            "right": null,
            "top": null,
            "visibility": null,
            "width": null
          }
        },
        "1efc3bbf1e634a8eb029903b041b2199": {
          "model_module": "@jupyter-widgets/controls",
          "model_name": "DescriptionStyleModel",
          "model_module_version": "1.5.0",
          "state": {
            "_model_module": "@jupyter-widgets/controls",
            "_model_module_version": "1.5.0",
            "_model_name": "DescriptionStyleModel",
            "_view_count": null,
            "_view_module": "@jupyter-widgets/base",
            "_view_module_version": "1.2.0",
            "_view_name": "StyleView",
            "description_width": ""
          }
        },
        "11977289225747bf828518855371a880": {
          "model_module": "@jupyter-widgets/controls",
          "model_name": "HBoxModel",
          "model_module_version": "1.5.0",
          "state": {
            "_dom_classes": [],
            "_model_module": "@jupyter-widgets/controls",
            "_model_module_version": "1.5.0",
            "_model_name": "HBoxModel",
            "_view_count": null,
            "_view_module": "@jupyter-widgets/controls",
            "_view_module_version": "1.5.0",
            "_view_name": "HBoxView",
            "box_style": "",
            "children": [
              "IPY_MODEL_9310db454def43508a2098b15566559f",
              "IPY_MODEL_af4fd5a2be9a44f1b1895fd5f30b8d87",
              "IPY_MODEL_7e14cd26b19c4d30a6a462dc223bb0c4"
            ],
            "layout": "IPY_MODEL_0a1c1ad306e04c47acc3d271844b12b4"
          }
        },
        "9310db454def43508a2098b15566559f": {
          "model_module": "@jupyter-widgets/controls",
          "model_name": "HTMLModel",
          "model_module_version": "1.5.0",
          "state": {
            "_dom_classes": [],
            "_model_module": "@jupyter-widgets/controls",
            "_model_module_version": "1.5.0",
            "_model_name": "HTMLModel",
            "_view_count": null,
            "_view_module": "@jupyter-widgets/controls",
            "_view_module_version": "1.5.0",
            "_view_name": "HTMLView",
            "description": "",
            "description_tooltip": null,
            "layout": "IPY_MODEL_6378e2dc134b4827afc3f5fa7841019c",
            "placeholder": "​",
            "style": "IPY_MODEL_0f2073e3ef97458a8deb6dd7c96fada6",
            "value": "Generating train split: 100%"
          }
        },
        "af4fd5a2be9a44f1b1895fd5f30b8d87": {
          "model_module": "@jupyter-widgets/controls",
          "model_name": "FloatProgressModel",
          "model_module_version": "1.5.0",
          "state": {
            "_dom_classes": [],
            "_model_module": "@jupyter-widgets/controls",
            "_model_module_version": "1.5.0",
            "_model_name": "FloatProgressModel",
            "_view_count": null,
            "_view_module": "@jupyter-widgets/controls",
            "_view_module_version": "1.5.0",
            "_view_name": "ProgressView",
            "bar_style": "",
            "description": "",
            "description_tooltip": null,
            "layout": "IPY_MODEL_875c6c4379ae45a687dbd87543e1b720",
            "max": 1400000,
            "min": 0,
            "orientation": "horizontal",
            "style": "IPY_MODEL_fc5596adc4494408b27261cdd09d2584",
            "value": 1400000
          }
        },
        "7e14cd26b19c4d30a6a462dc223bb0c4": {
          "model_module": "@jupyter-widgets/controls",
          "model_name": "HTMLModel",
          "model_module_version": "1.5.0",
          "state": {
            "_dom_classes": [],
            "_model_module": "@jupyter-widgets/controls",
            "_model_module_version": "1.5.0",
            "_model_name": "HTMLModel",
            "_view_count": null,
            "_view_module": "@jupyter-widgets/controls",
            "_view_module_version": "1.5.0",
            "_view_name": "HTMLView",
            "description": "",
            "description_tooltip": null,
            "layout": "IPY_MODEL_7c52c33739474d25ae4d68c92f0f2908",
            "placeholder": "​",
            "style": "IPY_MODEL_a094937646254b60828eedf246f38e96",
            "value": " 1399533/1400000 [01:42&lt;00:00, 13629.98 examples/s]"
          }
        },
        "0a1c1ad306e04c47acc3d271844b12b4": {
          "model_module": "@jupyter-widgets/base",
          "model_name": "LayoutModel",
          "model_module_version": "1.2.0",
          "state": {
            "_model_module": "@jupyter-widgets/base",
            "_model_module_version": "1.2.0",
            "_model_name": "LayoutModel",
            "_view_count": null,
            "_view_module": "@jupyter-widgets/base",
            "_view_module_version": "1.2.0",
            "_view_name": "LayoutView",
            "align_content": null,
            "align_items": null,
            "align_self": null,
            "border": null,
            "bottom": null,
            "display": null,
            "flex": null,
            "flex_flow": null,
            "grid_area": null,
            "grid_auto_columns": null,
            "grid_auto_flow": null,
            "grid_auto_rows": null,
            "grid_column": null,
            "grid_gap": null,
            "grid_row": null,
            "grid_template_areas": null,
            "grid_template_columns": null,
            "grid_template_rows": null,
            "height": null,
            "justify_content": null,
            "justify_items": null,
            "left": null,
            "margin": null,
            "max_height": null,
            "max_width": null,
            "min_height": null,
            "min_width": null,
            "object_fit": null,
            "object_position": null,
            "order": null,
            "overflow": null,
            "overflow_x": null,
            "overflow_y": null,
            "padding": null,
            "right": null,
            "top": null,
            "visibility": null,
            "width": null
          }
        },
        "6378e2dc134b4827afc3f5fa7841019c": {
          "model_module": "@jupyter-widgets/base",
          "model_name": "LayoutModel",
          "model_module_version": "1.2.0",
          "state": {
            "_model_module": "@jupyter-widgets/base",
            "_model_module_version": "1.2.0",
            "_model_name": "LayoutModel",
            "_view_count": null,
            "_view_module": "@jupyter-widgets/base",
            "_view_module_version": "1.2.0",
            "_view_name": "LayoutView",
            "align_content": null,
            "align_items": null,
            "align_self": null,
            "border": null,
            "bottom": null,
            "display": null,
            "flex": null,
            "flex_flow": null,
            "grid_area": null,
            "grid_auto_columns": null,
            "grid_auto_flow": null,
            "grid_auto_rows": null,
            "grid_column": null,
            "grid_gap": null,
            "grid_row": null,
            "grid_template_areas": null,
            "grid_template_columns": null,
            "grid_template_rows": null,
            "height": null,
            "justify_content": null,
            "justify_items": null,
            "left": null,
            "margin": null,
            "max_height": null,
            "max_width": null,
            "min_height": null,
            "min_width": null,
            "object_fit": null,
            "object_position": null,
            "order": null,
            "overflow": null,
            "overflow_x": null,
            "overflow_y": null,
            "padding": null,
            "right": null,
            "top": null,
            "visibility": null,
            "width": null
          }
        },
        "0f2073e3ef97458a8deb6dd7c96fada6": {
          "model_module": "@jupyter-widgets/controls",
          "model_name": "DescriptionStyleModel",
          "model_module_version": "1.5.0",
          "state": {
            "_model_module": "@jupyter-widgets/controls",
            "_model_module_version": "1.5.0",
            "_model_name": "DescriptionStyleModel",
            "_view_count": null,
            "_view_module": "@jupyter-widgets/base",
            "_view_module_version": "1.2.0",
            "_view_name": "StyleView",
            "description_width": ""
          }
        },
        "875c6c4379ae45a687dbd87543e1b720": {
          "model_module": "@jupyter-widgets/base",
          "model_name": "LayoutModel",
          "model_module_version": "1.2.0",
          "state": {
            "_model_module": "@jupyter-widgets/base",
            "_model_module_version": "1.2.0",
            "_model_name": "LayoutModel",
            "_view_count": null,
            "_view_module": "@jupyter-widgets/base",
            "_view_module_version": "1.2.0",
            "_view_name": "LayoutView",
            "align_content": null,
            "align_items": null,
            "align_self": null,
            "border": null,
            "bottom": null,
            "display": null,
            "flex": null,
            "flex_flow": null,
            "grid_area": null,
            "grid_auto_columns": null,
            "grid_auto_flow": null,
            "grid_auto_rows": null,
            "grid_column": null,
            "grid_gap": null,
            "grid_row": null,
            "grid_template_areas": null,
            "grid_template_columns": null,
            "grid_template_rows": null,
            "height": null,
            "justify_content": null,
            "justify_items": null,
            "left": null,
            "margin": null,
            "max_height": null,
            "max_width": null,
            "min_height": null,
            "min_width": null,
            "object_fit": null,
            "object_position": null,
            "order": null,
            "overflow": null,
            "overflow_x": null,
            "overflow_y": null,
            "padding": null,
            "right": null,
            "top": null,
            "visibility": null,
            "width": null
          }
        },
        "fc5596adc4494408b27261cdd09d2584": {
          "model_module": "@jupyter-widgets/controls",
          "model_name": "ProgressStyleModel",
          "model_module_version": "1.5.0",
          "state": {
            "_model_module": "@jupyter-widgets/controls",
            "_model_module_version": "1.5.0",
            "_model_name": "ProgressStyleModel",
            "_view_count": null,
            "_view_module": "@jupyter-widgets/base",
            "_view_module_version": "1.2.0",
            "_view_name": "StyleView",
            "bar_color": null,
            "description_width": ""
          }
        },
        "7c52c33739474d25ae4d68c92f0f2908": {
          "model_module": "@jupyter-widgets/base",
          "model_name": "LayoutModel",
          "model_module_version": "1.2.0",
          "state": {
            "_model_module": "@jupyter-widgets/base",
            "_model_module_version": "1.2.0",
            "_model_name": "LayoutModel",
            "_view_count": null,
            "_view_module": "@jupyter-widgets/base",
            "_view_module_version": "1.2.0",
            "_view_name": "LayoutView",
            "align_content": null,
            "align_items": null,
            "align_self": null,
            "border": null,
            "bottom": null,
            "display": null,
            "flex": null,
            "flex_flow": null,
            "grid_area": null,
            "grid_auto_columns": null,
            "grid_auto_flow": null,
            "grid_auto_rows": null,
            "grid_column": null,
            "grid_gap": null,
            "grid_row": null,
            "grid_template_areas": null,
            "grid_template_columns": null,
            "grid_template_rows": null,
            "height": null,
            "justify_content": null,
            "justify_items": null,
            "left": null,
            "margin": null,
            "max_height": null,
            "max_width": null,
            "min_height": null,
            "min_width": null,
            "object_fit": null,
            "object_position": null,
            "order": null,
            "overflow": null,
            "overflow_x": null,
            "overflow_y": null,
            "padding": null,
            "right": null,
            "top": null,
            "visibility": null,
            "width": null
          }
        },
        "a094937646254b60828eedf246f38e96": {
          "model_module": "@jupyter-widgets/controls",
          "model_name": "DescriptionStyleModel",
          "model_module_version": "1.5.0",
          "state": {
            "_model_module": "@jupyter-widgets/controls",
            "_model_module_version": "1.5.0",
            "_model_name": "DescriptionStyleModel",
            "_view_count": null,
            "_view_module": "@jupyter-widgets/base",
            "_view_module_version": "1.2.0",
            "_view_name": "StyleView",
            "description_width": ""
          }
        },
        "2e812cb379be42fe82b3e9809239edf6": {
          "model_module": "@jupyter-widgets/controls",
          "model_name": "HBoxModel",
          "model_module_version": "1.5.0",
          "state": {
            "_dom_classes": [],
            "_model_module": "@jupyter-widgets/controls",
            "_model_module_version": "1.5.0",
            "_model_name": "HBoxModel",
            "_view_count": null,
            "_view_module": "@jupyter-widgets/controls",
            "_view_module_version": "1.5.0",
            "_view_name": "HBoxView",
            "box_style": "",
            "children": [
              "IPY_MODEL_e60b37532f364145be2dcdc0bfb62721",
              "IPY_MODEL_fda58dc59fa74266860bf673d6636823",
              "IPY_MODEL_91cca2557a984bb8a7dc5dfa7e352baa"
            ],
            "layout": "IPY_MODEL_8e24f873806c44d2be199f8ad7949285"
          }
        },
        "e60b37532f364145be2dcdc0bfb62721": {
          "model_module": "@jupyter-widgets/controls",
          "model_name": "HTMLModel",
          "model_module_version": "1.5.0",
          "state": {
            "_dom_classes": [],
            "_model_module": "@jupyter-widgets/controls",
            "_model_module_version": "1.5.0",
            "_model_name": "HTMLModel",
            "_view_count": null,
            "_view_module": "@jupyter-widgets/controls",
            "_view_module_version": "1.5.0",
            "_view_name": "HTMLView",
            "description": "",
            "description_tooltip": null,
            "layout": "IPY_MODEL_843df471dd6743749584ece6995b2700",
            "placeholder": "​",
            "style": "IPY_MODEL_a56060eafa49451b932d08761c69caea",
            "value": "Generating test split:  99%"
          }
        },
        "fda58dc59fa74266860bf673d6636823": {
          "model_module": "@jupyter-widgets/controls",
          "model_name": "FloatProgressModel",
          "model_module_version": "1.5.0",
          "state": {
            "_dom_classes": [],
            "_model_module": "@jupyter-widgets/controls",
            "_model_module_version": "1.5.0",
            "_model_name": "FloatProgressModel",
            "_view_count": null,
            "_view_module": "@jupyter-widgets/controls",
            "_view_module_version": "1.5.0",
            "_view_name": "ProgressView",
            "bar_style": "",
            "description": "",
            "description_tooltip": null,
            "layout": "IPY_MODEL_bb84ecaed5df4013bdb569aaed1c9d4d",
            "max": 60000,
            "min": 0,
            "orientation": "horizontal",
            "style": "IPY_MODEL_11165efd8fa64f859bad3dc127714c9d",
            "value": 60000
          }
        },
        "91cca2557a984bb8a7dc5dfa7e352baa": {
          "model_module": "@jupyter-widgets/controls",
          "model_name": "HTMLModel",
          "model_module_version": "1.5.0",
          "state": {
            "_dom_classes": [],
            "_model_module": "@jupyter-widgets/controls",
            "_model_module_version": "1.5.0",
            "_model_name": "HTMLModel",
            "_view_count": null,
            "_view_module": "@jupyter-widgets/controls",
            "_view_module_version": "1.5.0",
            "_view_name": "HTMLView",
            "description": "",
            "description_tooltip": null,
            "layout": "IPY_MODEL_9ca4d6e68348450690066f9e25fc5a7d",
            "placeholder": "​",
            "style": "IPY_MODEL_6c0bbd46af9a4a97804e7b63e67c997f",
            "value": " 59550/60000 [00:04&lt;00:00, 12913.39 examples/s]"
          }
        },
        "8e24f873806c44d2be199f8ad7949285": {
          "model_module": "@jupyter-widgets/base",
          "model_name": "LayoutModel",
          "model_module_version": "1.2.0",
          "state": {
            "_model_module": "@jupyter-widgets/base",
            "_model_module_version": "1.2.0",
            "_model_name": "LayoutModel",
            "_view_count": null,
            "_view_module": "@jupyter-widgets/base",
            "_view_module_version": "1.2.0",
            "_view_name": "LayoutView",
            "align_content": null,
            "align_items": null,
            "align_self": null,
            "border": null,
            "bottom": null,
            "display": null,
            "flex": null,
            "flex_flow": null,
            "grid_area": null,
            "grid_auto_columns": null,
            "grid_auto_flow": null,
            "grid_auto_rows": null,
            "grid_column": null,
            "grid_gap": null,
            "grid_row": null,
            "grid_template_areas": null,
            "grid_template_columns": null,
            "grid_template_rows": null,
            "height": null,
            "justify_content": null,
            "justify_items": null,
            "left": null,
            "margin": null,
            "max_height": null,
            "max_width": null,
            "min_height": null,
            "min_width": null,
            "object_fit": null,
            "object_position": null,
            "order": null,
            "overflow": null,
            "overflow_x": null,
            "overflow_y": null,
            "padding": null,
            "right": null,
            "top": null,
            "visibility": null,
            "width": null
          }
        },
        "843df471dd6743749584ece6995b2700": {
          "model_module": "@jupyter-widgets/base",
          "model_name": "LayoutModel",
          "model_module_version": "1.2.0",
          "state": {
            "_model_module": "@jupyter-widgets/base",
            "_model_module_version": "1.2.0",
            "_model_name": "LayoutModel",
            "_view_count": null,
            "_view_module": "@jupyter-widgets/base",
            "_view_module_version": "1.2.0",
            "_view_name": "LayoutView",
            "align_content": null,
            "align_items": null,
            "align_self": null,
            "border": null,
            "bottom": null,
            "display": null,
            "flex": null,
            "flex_flow": null,
            "grid_area": null,
            "grid_auto_columns": null,
            "grid_auto_flow": null,
            "grid_auto_rows": null,
            "grid_column": null,
            "grid_gap": null,
            "grid_row": null,
            "grid_template_areas": null,
            "grid_template_columns": null,
            "grid_template_rows": null,
            "height": null,
            "justify_content": null,
            "justify_items": null,
            "left": null,
            "margin": null,
            "max_height": null,
            "max_width": null,
            "min_height": null,
            "min_width": null,
            "object_fit": null,
            "object_position": null,
            "order": null,
            "overflow": null,
            "overflow_x": null,
            "overflow_y": null,
            "padding": null,
            "right": null,
            "top": null,
            "visibility": null,
            "width": null
          }
        },
        "a56060eafa49451b932d08761c69caea": {
          "model_module": "@jupyter-widgets/controls",
          "model_name": "DescriptionStyleModel",
          "model_module_version": "1.5.0",
          "state": {
            "_model_module": "@jupyter-widgets/controls",
            "_model_module_version": "1.5.0",
            "_model_name": "DescriptionStyleModel",
            "_view_count": null,
            "_view_module": "@jupyter-widgets/base",
            "_view_module_version": "1.2.0",
            "_view_name": "StyleView",
            "description_width": ""
          }
        },
        "bb84ecaed5df4013bdb569aaed1c9d4d": {
          "model_module": "@jupyter-widgets/base",
          "model_name": "LayoutModel",
          "model_module_version": "1.2.0",
          "state": {
            "_model_module": "@jupyter-widgets/base",
            "_model_module_version": "1.2.0",
            "_model_name": "LayoutModel",
            "_view_count": null,
            "_view_module": "@jupyter-widgets/base",
            "_view_module_version": "1.2.0",
            "_view_name": "LayoutView",
            "align_content": null,
            "align_items": null,
            "align_self": null,
            "border": null,
            "bottom": null,
            "display": null,
            "flex": null,
            "flex_flow": null,
            "grid_area": null,
            "grid_auto_columns": null,
            "grid_auto_flow": null,
            "grid_auto_rows": null,
            "grid_column": null,
            "grid_gap": null,
            "grid_row": null,
            "grid_template_areas": null,
            "grid_template_columns": null,
            "grid_template_rows": null,
            "height": null,
            "justify_content": null,
            "justify_items": null,
            "left": null,
            "margin": null,
            "max_height": null,
            "max_width": null,
            "min_height": null,
            "min_width": null,
            "object_fit": null,
            "object_position": null,
            "order": null,
            "overflow": null,
            "overflow_x": null,
            "overflow_y": null,
            "padding": null,
            "right": null,
            "top": null,
            "visibility": null,
            "width": null
          }
        },
        "11165efd8fa64f859bad3dc127714c9d": {
          "model_module": "@jupyter-widgets/controls",
          "model_name": "ProgressStyleModel",
          "model_module_version": "1.5.0",
          "state": {
            "_model_module": "@jupyter-widgets/controls",
            "_model_module_version": "1.5.0",
            "_model_name": "ProgressStyleModel",
            "_view_count": null,
            "_view_module": "@jupyter-widgets/base",
            "_view_module_version": "1.2.0",
            "_view_name": "StyleView",
            "bar_color": null,
            "description_width": ""
          }
        },
        "9ca4d6e68348450690066f9e25fc5a7d": {
          "model_module": "@jupyter-widgets/base",
          "model_name": "LayoutModel",
          "model_module_version": "1.2.0",
          "state": {
            "_model_module": "@jupyter-widgets/base",
            "_model_module_version": "1.2.0",
            "_model_name": "LayoutModel",
            "_view_count": null,
            "_view_module": "@jupyter-widgets/base",
            "_view_module_version": "1.2.0",
            "_view_name": "LayoutView",
            "align_content": null,
            "align_items": null,
            "align_self": null,
            "border": null,
            "bottom": null,
            "display": null,
            "flex": null,
            "flex_flow": null,
            "grid_area": null,
            "grid_auto_columns": null,
            "grid_auto_flow": null,
            "grid_auto_rows": null,
            "grid_column": null,
            "grid_gap": null,
            "grid_row": null,
            "grid_template_areas": null,
            "grid_template_columns": null,
            "grid_template_rows": null,
            "height": null,
            "justify_content": null,
            "justify_items": null,
            "left": null,
            "margin": null,
            "max_height": null,
            "max_width": null,
            "min_height": null,
            "min_width": null,
            "object_fit": null,
            "object_position": null,
            "order": null,
            "overflow": null,
            "overflow_x": null,
            "overflow_y": null,
            "padding": null,
            "right": null,
            "top": null,
            "visibility": null,
            "width": null
          }
        },
        "6c0bbd46af9a4a97804e7b63e67c997f": {
          "model_module": "@jupyter-widgets/controls",
          "model_name": "DescriptionStyleModel",
          "model_module_version": "1.5.0",
          "state": {
            "_model_module": "@jupyter-widgets/controls",
            "_model_module_version": "1.5.0",
            "_model_name": "DescriptionStyleModel",
            "_view_count": null,
            "_view_module": "@jupyter-widgets/base",
            "_view_module_version": "1.2.0",
            "_view_name": "StyleView",
            "description_width": ""
          }
        },
        "feeed0af39104afab248c4cfd353c686": {
          "model_module": "@jupyter-widgets/controls",
          "model_name": "HBoxModel",
          "model_module_version": "1.5.0",
          "state": {
            "_dom_classes": [],
            "_model_module": "@jupyter-widgets/controls",
            "_model_module_version": "1.5.0",
            "_model_name": "HBoxModel",
            "_view_count": null,
            "_view_module": "@jupyter-widgets/controls",
            "_view_module_version": "1.5.0",
            "_view_name": "HBoxView",
            "box_style": "",
            "children": [
              "IPY_MODEL_6dab7e41dd9f4e588c2f2c3ed7d42ed2",
              "IPY_MODEL_2fe7df2b66a84eaa8585983f3f1025d5",
              "IPY_MODEL_f21c81a345094412a86997faf39f53f7"
            ],
            "layout": "IPY_MODEL_fac287129bf8428ea254c7be0cd6e126"
          }
        },
        "6dab7e41dd9f4e588c2f2c3ed7d42ed2": {
          "model_module": "@jupyter-widgets/controls",
          "model_name": "HTMLModel",
          "model_module_version": "1.5.0",
          "state": {
            "_dom_classes": [],
            "_model_module": "@jupyter-widgets/controls",
            "_model_module_version": "1.5.0",
            "_model_name": "HTMLModel",
            "_view_count": null,
            "_view_module": "@jupyter-widgets/controls",
            "_view_module_version": "1.5.0",
            "_view_name": "HTMLView",
            "description": "",
            "description_tooltip": null,
            "layout": "IPY_MODEL_7c062a70477748d3a76a2601a7401926",
            "placeholder": "​",
            "style": "IPY_MODEL_2dd12c2c215f44b3b41a54291874a581",
            "value": "100%"
          }
        },
        "2fe7df2b66a84eaa8585983f3f1025d5": {
          "model_module": "@jupyter-widgets/controls",
          "model_name": "FloatProgressModel",
          "model_module_version": "1.5.0",
          "state": {
            "_dom_classes": [],
            "_model_module": "@jupyter-widgets/controls",
            "_model_module_version": "1.5.0",
            "_model_name": "FloatProgressModel",
            "_view_count": null,
            "_view_module": "@jupyter-widgets/controls",
            "_view_module_version": "1.5.0",
            "_view_name": "ProgressView",
            "bar_style": "success",
            "description": "",
            "description_tooltip": null,
            "layout": "IPY_MODEL_718ce860dff0469dab627afbfe6e43c5",
            "max": 2,
            "min": 0,
            "orientation": "horizontal",
            "style": "IPY_MODEL_38b32390712d4adf86b6ed72e32b6b41",
            "value": 2
          }
        },
        "f21c81a345094412a86997faf39f53f7": {
          "model_module": "@jupyter-widgets/controls",
          "model_name": "HTMLModel",
          "model_module_version": "1.5.0",
          "state": {
            "_dom_classes": [],
            "_model_module": "@jupyter-widgets/controls",
            "_model_module_version": "1.5.0",
            "_model_name": "HTMLModel",
            "_view_count": null,
            "_view_module": "@jupyter-widgets/controls",
            "_view_module_version": "1.5.0",
            "_view_name": "HTMLView",
            "description": "",
            "description_tooltip": null,
            "layout": "IPY_MODEL_a843227c05b841b897f278d94c89435f",
            "placeholder": "​",
            "style": "IPY_MODEL_c04c1c6aa3f6453b8c96846906ed183e",
            "value": " 2/2 [00:00&lt;00:00, 34.10it/s]"
          }
        },
        "fac287129bf8428ea254c7be0cd6e126": {
          "model_module": "@jupyter-widgets/base",
          "model_name": "LayoutModel",
          "model_module_version": "1.2.0",
          "state": {
            "_model_module": "@jupyter-widgets/base",
            "_model_module_version": "1.2.0",
            "_model_name": "LayoutModel",
            "_view_count": null,
            "_view_module": "@jupyter-widgets/base",
            "_view_module_version": "1.2.0",
            "_view_name": "LayoutView",
            "align_content": null,
            "align_items": null,
            "align_self": null,
            "border": null,
            "bottom": null,
            "display": null,
            "flex": null,
            "flex_flow": null,
            "grid_area": null,
            "grid_auto_columns": null,
            "grid_auto_flow": null,
            "grid_auto_rows": null,
            "grid_column": null,
            "grid_gap": null,
            "grid_row": null,
            "grid_template_areas": null,
            "grid_template_columns": null,
            "grid_template_rows": null,
            "height": null,
            "justify_content": null,
            "justify_items": null,
            "left": null,
            "margin": null,
            "max_height": null,
            "max_width": null,
            "min_height": null,
            "min_width": null,
            "object_fit": null,
            "object_position": null,
            "order": null,
            "overflow": null,
            "overflow_x": null,
            "overflow_y": null,
            "padding": null,
            "right": null,
            "top": null,
            "visibility": null,
            "width": null
          }
        },
        "7c062a70477748d3a76a2601a7401926": {
          "model_module": "@jupyter-widgets/base",
          "model_name": "LayoutModel",
          "model_module_version": "1.2.0",
          "state": {
            "_model_module": "@jupyter-widgets/base",
            "_model_module_version": "1.2.0",
            "_model_name": "LayoutModel",
            "_view_count": null,
            "_view_module": "@jupyter-widgets/base",
            "_view_module_version": "1.2.0",
            "_view_name": "LayoutView",
            "align_content": null,
            "align_items": null,
            "align_self": null,
            "border": null,
            "bottom": null,
            "display": null,
            "flex": null,
            "flex_flow": null,
            "grid_area": null,
            "grid_auto_columns": null,
            "grid_auto_flow": null,
            "grid_auto_rows": null,
            "grid_column": null,
            "grid_gap": null,
            "grid_row": null,
            "grid_template_areas": null,
            "grid_template_columns": null,
            "grid_template_rows": null,
            "height": null,
            "justify_content": null,
            "justify_items": null,
            "left": null,
            "margin": null,
            "max_height": null,
            "max_width": null,
            "min_height": null,
            "min_width": null,
            "object_fit": null,
            "object_position": null,
            "order": null,
            "overflow": null,
            "overflow_x": null,
            "overflow_y": null,
            "padding": null,
            "right": null,
            "top": null,
            "visibility": null,
            "width": null
          }
        },
        "2dd12c2c215f44b3b41a54291874a581": {
          "model_module": "@jupyter-widgets/controls",
          "model_name": "DescriptionStyleModel",
          "model_module_version": "1.5.0",
          "state": {
            "_model_module": "@jupyter-widgets/controls",
            "_model_module_version": "1.5.0",
            "_model_name": "DescriptionStyleModel",
            "_view_count": null,
            "_view_module": "@jupyter-widgets/base",
            "_view_module_version": "1.2.0",
            "_view_name": "StyleView",
            "description_width": ""
          }
        },
        "718ce860dff0469dab627afbfe6e43c5": {
          "model_module": "@jupyter-widgets/base",
          "model_name": "LayoutModel",
          "model_module_version": "1.2.0",
          "state": {
            "_model_module": "@jupyter-widgets/base",
            "_model_module_version": "1.2.0",
            "_model_name": "LayoutModel",
            "_view_count": null,
            "_view_module": "@jupyter-widgets/base",
            "_view_module_version": "1.2.0",
            "_view_name": "LayoutView",
            "align_content": null,
            "align_items": null,
            "align_self": null,
            "border": null,
            "bottom": null,
            "display": null,
            "flex": null,
            "flex_flow": null,
            "grid_area": null,
            "grid_auto_columns": null,
            "grid_auto_flow": null,
            "grid_auto_rows": null,
            "grid_column": null,
            "grid_gap": null,
            "grid_row": null,
            "grid_template_areas": null,
            "grid_template_columns": null,
            "grid_template_rows": null,
            "height": null,
            "justify_content": null,
            "justify_items": null,
            "left": null,
            "margin": null,
            "max_height": null,
            "max_width": null,
            "min_height": null,
            "min_width": null,
            "object_fit": null,
            "object_position": null,
            "order": null,
            "overflow": null,
            "overflow_x": null,
            "overflow_y": null,
            "padding": null,
            "right": null,
            "top": null,
            "visibility": null,
            "width": null
          }
        },
        "38b32390712d4adf86b6ed72e32b6b41": {
          "model_module": "@jupyter-widgets/controls",
          "model_name": "ProgressStyleModel",
          "model_module_version": "1.5.0",
          "state": {
            "_model_module": "@jupyter-widgets/controls",
            "_model_module_version": "1.5.0",
            "_model_name": "ProgressStyleModel",
            "_view_count": null,
            "_view_module": "@jupyter-widgets/base",
            "_view_module_version": "1.2.0",
            "_view_name": "StyleView",
            "bar_color": null,
            "description_width": ""
          }
        },
        "a843227c05b841b897f278d94c89435f": {
          "model_module": "@jupyter-widgets/base",
          "model_name": "LayoutModel",
          "model_module_version": "1.2.0",
          "state": {
            "_model_module": "@jupyter-widgets/base",
            "_model_module_version": "1.2.0",
            "_model_name": "LayoutModel",
            "_view_count": null,
            "_view_module": "@jupyter-widgets/base",
            "_view_module_version": "1.2.0",
            "_view_name": "LayoutView",
            "align_content": null,
            "align_items": null,
            "align_self": null,
            "border": null,
            "bottom": null,
            "display": null,
            "flex": null,
            "flex_flow": null,
            "grid_area": null,
            "grid_auto_columns": null,
            "grid_auto_flow": null,
            "grid_auto_rows": null,
            "grid_column": null,
            "grid_gap": null,
            "grid_row": null,
            "grid_template_areas": null,
            "grid_template_columns": null,
            "grid_template_rows": null,
            "height": null,
            "justify_content": null,
            "justify_items": null,
            "left": null,
            "margin": null,
            "max_height": null,
            "max_width": null,
            "min_height": null,
            "min_width": null,
            "object_fit": null,
            "object_position": null,
            "order": null,
            "overflow": null,
            "overflow_x": null,
            "overflow_y": null,
            "padding": null,
            "right": null,
            "top": null,
            "visibility": null,
            "width": null
          }
        },
        "c04c1c6aa3f6453b8c96846906ed183e": {
          "model_module": "@jupyter-widgets/controls",
          "model_name": "DescriptionStyleModel",
          "model_module_version": "1.5.0",
          "state": {
            "_model_module": "@jupyter-widgets/controls",
            "_model_module_version": "1.5.0",
            "_model_name": "DescriptionStyleModel",
            "_view_count": null,
            "_view_module": "@jupyter-widgets/base",
            "_view_module_version": "1.2.0",
            "_view_name": "StyleView",
            "description_width": ""
          }
        },
        "5bb4c5543d3446e99ad62a4390cc0e3f": {
          "model_module": "@jupyter-widgets/controls",
          "model_name": "HBoxModel",
          "model_module_version": "1.5.0",
          "state": {
            "_dom_classes": [],
            "_model_module": "@jupyter-widgets/controls",
            "_model_module_version": "1.5.0",
            "_model_name": "HBoxModel",
            "_view_count": null,
            "_view_module": "@jupyter-widgets/controls",
            "_view_module_version": "1.5.0",
            "_view_name": "HBoxView",
            "box_style": "",
            "children": [
              "IPY_MODEL_8022966422544a308ee606c125e97091",
              "IPY_MODEL_e485c4d7c6fb45bda828242e47cdda9a",
              "IPY_MODEL_245a29bae35c4f4989391e89d901d856"
            ],
            "layout": "IPY_MODEL_826d90b9750b4db7a3c02152a5031b60"
          }
        },
        "8022966422544a308ee606c125e97091": {
          "model_module": "@jupyter-widgets/controls",
          "model_name": "HTMLModel",
          "model_module_version": "1.5.0",
          "state": {
            "_dom_classes": [],
            "_model_module": "@jupyter-widgets/controls",
            "_model_module_version": "1.5.0",
            "_model_name": "HTMLModel",
            "_view_count": null,
            "_view_module": "@jupyter-widgets/controls",
            "_view_module_version": "1.5.0",
            "_view_name": "HTMLView",
            "description": "",
            "description_tooltip": null,
            "layout": "IPY_MODEL_f2b0cf8a991b42c98816401aa1183a5b",
            "placeholder": "​",
            "style": "IPY_MODEL_cb13a5bd50e943438d022bd5093dc929",
            "value": "Downloading: 100%"
          }
        },
        "e485c4d7c6fb45bda828242e47cdda9a": {
          "model_module": "@jupyter-widgets/controls",
          "model_name": "FloatProgressModel",
          "model_module_version": "1.5.0",
          "state": {
            "_dom_classes": [],
            "_model_module": "@jupyter-widgets/controls",
            "_model_module_version": "1.5.0",
            "_model_name": "FloatProgressModel",
            "_view_count": null,
            "_view_module": "@jupyter-widgets/controls",
            "_view_module_version": "1.5.0",
            "_view_name": "ProgressView",
            "bar_style": "success",
            "description": "",
            "description_tooltip": null,
            "layout": "IPY_MODEL_0f46423922f74395a1fb78cd8edbce44",
            "max": 231508,
            "min": 0,
            "orientation": "horizontal",
            "style": "IPY_MODEL_9193897cf3b644218a737c838433a520",
            "value": 231508
          }
        },
        "245a29bae35c4f4989391e89d901d856": {
          "model_module": "@jupyter-widgets/controls",
          "model_name": "HTMLModel",
          "model_module_version": "1.5.0",
          "state": {
            "_dom_classes": [],
            "_model_module": "@jupyter-widgets/controls",
            "_model_module_version": "1.5.0",
            "_model_name": "HTMLModel",
            "_view_count": null,
            "_view_module": "@jupyter-widgets/controls",
            "_view_module_version": "1.5.0",
            "_view_name": "HTMLView",
            "description": "",
            "description_tooltip": null,
            "layout": "IPY_MODEL_63b728490054475da2c3630b7f2391c5",
            "placeholder": "​",
            "style": "IPY_MODEL_f1256021f61c41819d848ff69a24d9a6",
            "value": " 226k/226k [00:00&lt;00:00, 2.21MB/s]"
          }
        },
        "826d90b9750b4db7a3c02152a5031b60": {
          "model_module": "@jupyter-widgets/base",
          "model_name": "LayoutModel",
          "model_module_version": "1.2.0",
          "state": {
            "_model_module": "@jupyter-widgets/base",
            "_model_module_version": "1.2.0",
            "_model_name": "LayoutModel",
            "_view_count": null,
            "_view_module": "@jupyter-widgets/base",
            "_view_module_version": "1.2.0",
            "_view_name": "LayoutView",
            "align_content": null,
            "align_items": null,
            "align_self": null,
            "border": null,
            "bottom": null,
            "display": null,
            "flex": null,
            "flex_flow": null,
            "grid_area": null,
            "grid_auto_columns": null,
            "grid_auto_flow": null,
            "grid_auto_rows": null,
            "grid_column": null,
            "grid_gap": null,
            "grid_row": null,
            "grid_template_areas": null,
            "grid_template_columns": null,
            "grid_template_rows": null,
            "height": null,
            "justify_content": null,
            "justify_items": null,
            "left": null,
            "margin": null,
            "max_height": null,
            "max_width": null,
            "min_height": null,
            "min_width": null,
            "object_fit": null,
            "object_position": null,
            "order": null,
            "overflow": null,
            "overflow_x": null,
            "overflow_y": null,
            "padding": null,
            "right": null,
            "top": null,
            "visibility": null,
            "width": null
          }
        },
        "f2b0cf8a991b42c98816401aa1183a5b": {
          "model_module": "@jupyter-widgets/base",
          "model_name": "LayoutModel",
          "model_module_version": "1.2.0",
          "state": {
            "_model_module": "@jupyter-widgets/base",
            "_model_module_version": "1.2.0",
            "_model_name": "LayoutModel",
            "_view_count": null,
            "_view_module": "@jupyter-widgets/base",
            "_view_module_version": "1.2.0",
            "_view_name": "LayoutView",
            "align_content": null,
            "align_items": null,
            "align_self": null,
            "border": null,
            "bottom": null,
            "display": null,
            "flex": null,
            "flex_flow": null,
            "grid_area": null,
            "grid_auto_columns": null,
            "grid_auto_flow": null,
            "grid_auto_rows": null,
            "grid_column": null,
            "grid_gap": null,
            "grid_row": null,
            "grid_template_areas": null,
            "grid_template_columns": null,
            "grid_template_rows": null,
            "height": null,
            "justify_content": null,
            "justify_items": null,
            "left": null,
            "margin": null,
            "max_height": null,
            "max_width": null,
            "min_height": null,
            "min_width": null,
            "object_fit": null,
            "object_position": null,
            "order": null,
            "overflow": null,
            "overflow_x": null,
            "overflow_y": null,
            "padding": null,
            "right": null,
            "top": null,
            "visibility": null,
            "width": null
          }
        },
        "cb13a5bd50e943438d022bd5093dc929": {
          "model_module": "@jupyter-widgets/controls",
          "model_name": "DescriptionStyleModel",
          "model_module_version": "1.5.0",
          "state": {
            "_model_module": "@jupyter-widgets/controls",
            "_model_module_version": "1.5.0",
            "_model_name": "DescriptionStyleModel",
            "_view_count": null,
            "_view_module": "@jupyter-widgets/base",
            "_view_module_version": "1.2.0",
            "_view_name": "StyleView",
            "description_width": ""
          }
        },
        "0f46423922f74395a1fb78cd8edbce44": {
          "model_module": "@jupyter-widgets/base",
          "model_name": "LayoutModel",
          "model_module_version": "1.2.0",
          "state": {
            "_model_module": "@jupyter-widgets/base",
            "_model_module_version": "1.2.0",
            "_model_name": "LayoutModel",
            "_view_count": null,
            "_view_module": "@jupyter-widgets/base",
            "_view_module_version": "1.2.0",
            "_view_name": "LayoutView",
            "align_content": null,
            "align_items": null,
            "align_self": null,
            "border": null,
            "bottom": null,
            "display": null,
            "flex": null,
            "flex_flow": null,
            "grid_area": null,
            "grid_auto_columns": null,
            "grid_auto_flow": null,
            "grid_auto_rows": null,
            "grid_column": null,
            "grid_gap": null,
            "grid_row": null,
            "grid_template_areas": null,
            "grid_template_columns": null,
            "grid_template_rows": null,
            "height": null,
            "justify_content": null,
            "justify_items": null,
            "left": null,
            "margin": null,
            "max_height": null,
            "max_width": null,
            "min_height": null,
            "min_width": null,
            "object_fit": null,
            "object_position": null,
            "order": null,
            "overflow": null,
            "overflow_x": null,
            "overflow_y": null,
            "padding": null,
            "right": null,
            "top": null,
            "visibility": null,
            "width": null
          }
        },
        "9193897cf3b644218a737c838433a520": {
          "model_module": "@jupyter-widgets/controls",
          "model_name": "ProgressStyleModel",
          "model_module_version": "1.5.0",
          "state": {
            "_model_module": "@jupyter-widgets/controls",
            "_model_module_version": "1.5.0",
            "_model_name": "ProgressStyleModel",
            "_view_count": null,
            "_view_module": "@jupyter-widgets/base",
            "_view_module_version": "1.2.0",
            "_view_name": "StyleView",
            "bar_color": null,
            "description_width": ""
          }
        },
        "63b728490054475da2c3630b7f2391c5": {
          "model_module": "@jupyter-widgets/base",
          "model_name": "LayoutModel",
          "model_module_version": "1.2.0",
          "state": {
            "_model_module": "@jupyter-widgets/base",
            "_model_module_version": "1.2.0",
            "_model_name": "LayoutModel",
            "_view_count": null,
            "_view_module": "@jupyter-widgets/base",
            "_view_module_version": "1.2.0",
            "_view_name": "LayoutView",
            "align_content": null,
            "align_items": null,
            "align_self": null,
            "border": null,
            "bottom": null,
            "display": null,
            "flex": null,
            "flex_flow": null,
            "grid_area": null,
            "grid_auto_columns": null,
            "grid_auto_flow": null,
            "grid_auto_rows": null,
            "grid_column": null,
            "grid_gap": null,
            "grid_row": null,
            "grid_template_areas": null,
            "grid_template_columns": null,
            "grid_template_rows": null,
            "height": null,
            "justify_content": null,
            "justify_items": null,
            "left": null,
            "margin": null,
            "max_height": null,
            "max_width": null,
            "min_height": null,
            "min_width": null,
            "object_fit": null,
            "object_position": null,
            "order": null,
            "overflow": null,
            "overflow_x": null,
            "overflow_y": null,
            "padding": null,
            "right": null,
            "top": null,
            "visibility": null,
            "width": null
          }
        },
        "f1256021f61c41819d848ff69a24d9a6": {
          "model_module": "@jupyter-widgets/controls",
          "model_name": "DescriptionStyleModel",
          "model_module_version": "1.5.0",
          "state": {
            "_model_module": "@jupyter-widgets/controls",
            "_model_module_version": "1.5.0",
            "_model_name": "DescriptionStyleModel",
            "_view_count": null,
            "_view_module": "@jupyter-widgets/base",
            "_view_module_version": "1.2.0",
            "_view_name": "StyleView",
            "description_width": ""
          }
        },
        "a541447f0ef340d4a478beef2b2c2d51": {
          "model_module": "@jupyter-widgets/controls",
          "model_name": "HBoxModel",
          "model_module_version": "1.5.0",
          "state": {
            "_dom_classes": [],
            "_model_module": "@jupyter-widgets/controls",
            "_model_module_version": "1.5.0",
            "_model_name": "HBoxModel",
            "_view_count": null,
            "_view_module": "@jupyter-widgets/controls",
            "_view_module_version": "1.5.0",
            "_view_name": "HBoxView",
            "box_style": "",
            "children": [
              "IPY_MODEL_07a40ad49b754973ae52d3ea31a791c6",
              "IPY_MODEL_b077f1d2ffca4c728b5a518bbf9c0ab9",
              "IPY_MODEL_42f5babd972b43d38978a99808a2cd75"
            ],
            "layout": "IPY_MODEL_8619673b5b684be2ab0f9995d649d159"
          }
        },
        "07a40ad49b754973ae52d3ea31a791c6": {
          "model_module": "@jupyter-widgets/controls",
          "model_name": "HTMLModel",
          "model_module_version": "1.5.0",
          "state": {
            "_dom_classes": [],
            "_model_module": "@jupyter-widgets/controls",
            "_model_module_version": "1.5.0",
            "_model_name": "HTMLModel",
            "_view_count": null,
            "_view_module": "@jupyter-widgets/controls",
            "_view_module_version": "1.5.0",
            "_view_name": "HTMLView",
            "description": "",
            "description_tooltip": null,
            "layout": "IPY_MODEL_2d8ce5ed525545d69109a28b980bfe62",
            "placeholder": "​",
            "style": "IPY_MODEL_acaac7c3ba984037a547e23672884123",
            "value": "Downloading: 100%"
          }
        },
        "b077f1d2ffca4c728b5a518bbf9c0ab9": {
          "model_module": "@jupyter-widgets/controls",
          "model_name": "FloatProgressModel",
          "model_module_version": "1.5.0",
          "state": {
            "_dom_classes": [],
            "_model_module": "@jupyter-widgets/controls",
            "_model_module_version": "1.5.0",
            "_model_name": "FloatProgressModel",
            "_view_count": null,
            "_view_module": "@jupyter-widgets/controls",
            "_view_module_version": "1.5.0",
            "_view_name": "ProgressView",
            "bar_style": "success",
            "description": "",
            "description_tooltip": null,
            "layout": "IPY_MODEL_63c1f194912a42a192d52755dd2e8987",
            "max": 29,
            "min": 0,
            "orientation": "horizontal",
            "style": "IPY_MODEL_8db964eb701c4b529ceebdb360e40e2f",
            "value": 29
          }
        },
        "42f5babd972b43d38978a99808a2cd75": {
          "model_module": "@jupyter-widgets/controls",
          "model_name": "HTMLModel",
          "model_module_version": "1.5.0",
          "state": {
            "_dom_classes": [],
            "_model_module": "@jupyter-widgets/controls",
            "_model_module_version": "1.5.0",
            "_model_name": "HTMLModel",
            "_view_count": null,
            "_view_module": "@jupyter-widgets/controls",
            "_view_module_version": "1.5.0",
            "_view_name": "HTMLView",
            "description": "",
            "description_tooltip": null,
            "layout": "IPY_MODEL_6528bf56c4b1441790ebee60fd648ca3",
            "placeholder": "​",
            "style": "IPY_MODEL_51c3da7a0a004ee0b6a2f4db5961d75d",
            "value": " 29.0/29.0 [00:00&lt;00:00, 690B/s]"
          }
        },
        "8619673b5b684be2ab0f9995d649d159": {
          "model_module": "@jupyter-widgets/base",
          "model_name": "LayoutModel",
          "model_module_version": "1.2.0",
          "state": {
            "_model_module": "@jupyter-widgets/base",
            "_model_module_version": "1.2.0",
            "_model_name": "LayoutModel",
            "_view_count": null,
            "_view_module": "@jupyter-widgets/base",
            "_view_module_version": "1.2.0",
            "_view_name": "LayoutView",
            "align_content": null,
            "align_items": null,
            "align_self": null,
            "border": null,
            "bottom": null,
            "display": null,
            "flex": null,
            "flex_flow": null,
            "grid_area": null,
            "grid_auto_columns": null,
            "grid_auto_flow": null,
            "grid_auto_rows": null,
            "grid_column": null,
            "grid_gap": null,
            "grid_row": null,
            "grid_template_areas": null,
            "grid_template_columns": null,
            "grid_template_rows": null,
            "height": null,
            "justify_content": null,
            "justify_items": null,
            "left": null,
            "margin": null,
            "max_height": null,
            "max_width": null,
            "min_height": null,
            "min_width": null,
            "object_fit": null,
            "object_position": null,
            "order": null,
            "overflow": null,
            "overflow_x": null,
            "overflow_y": null,
            "padding": null,
            "right": null,
            "top": null,
            "visibility": null,
            "width": null
          }
        },
        "2d8ce5ed525545d69109a28b980bfe62": {
          "model_module": "@jupyter-widgets/base",
          "model_name": "LayoutModel",
          "model_module_version": "1.2.0",
          "state": {
            "_model_module": "@jupyter-widgets/base",
            "_model_module_version": "1.2.0",
            "_model_name": "LayoutModel",
            "_view_count": null,
            "_view_module": "@jupyter-widgets/base",
            "_view_module_version": "1.2.0",
            "_view_name": "LayoutView",
            "align_content": null,
            "align_items": null,
            "align_self": null,
            "border": null,
            "bottom": null,
            "display": null,
            "flex": null,
            "flex_flow": null,
            "grid_area": null,
            "grid_auto_columns": null,
            "grid_auto_flow": null,
            "grid_auto_rows": null,
            "grid_column": null,
            "grid_gap": null,
            "grid_row": null,
            "grid_template_areas": null,
            "grid_template_columns": null,
            "grid_template_rows": null,
            "height": null,
            "justify_content": null,
            "justify_items": null,
            "left": null,
            "margin": null,
            "max_height": null,
            "max_width": null,
            "min_height": null,
            "min_width": null,
            "object_fit": null,
            "object_position": null,
            "order": null,
            "overflow": null,
            "overflow_x": null,
            "overflow_y": null,
            "padding": null,
            "right": null,
            "top": null,
            "visibility": null,
            "width": null
          }
        },
        "acaac7c3ba984037a547e23672884123": {
          "model_module": "@jupyter-widgets/controls",
          "model_name": "DescriptionStyleModel",
          "model_module_version": "1.5.0",
          "state": {
            "_model_module": "@jupyter-widgets/controls",
            "_model_module_version": "1.5.0",
            "_model_name": "DescriptionStyleModel",
            "_view_count": null,
            "_view_module": "@jupyter-widgets/base",
            "_view_module_version": "1.2.0",
            "_view_name": "StyleView",
            "description_width": ""
          }
        },
        "63c1f194912a42a192d52755dd2e8987": {
          "model_module": "@jupyter-widgets/base",
          "model_name": "LayoutModel",
          "model_module_version": "1.2.0",
          "state": {
            "_model_module": "@jupyter-widgets/base",
            "_model_module_version": "1.2.0",
            "_model_name": "LayoutModel",
            "_view_count": null,
            "_view_module": "@jupyter-widgets/base",
            "_view_module_version": "1.2.0",
            "_view_name": "LayoutView",
            "align_content": null,
            "align_items": null,
            "align_self": null,
            "border": null,
            "bottom": null,
            "display": null,
            "flex": null,
            "flex_flow": null,
            "grid_area": null,
            "grid_auto_columns": null,
            "grid_auto_flow": null,
            "grid_auto_rows": null,
            "grid_column": null,
            "grid_gap": null,
            "grid_row": null,
            "grid_template_areas": null,
            "grid_template_columns": null,
            "grid_template_rows": null,
            "height": null,
            "justify_content": null,
            "justify_items": null,
            "left": null,
            "margin": null,
            "max_height": null,
            "max_width": null,
            "min_height": null,
            "min_width": null,
            "object_fit": null,
            "object_position": null,
            "order": null,
            "overflow": null,
            "overflow_x": null,
            "overflow_y": null,
            "padding": null,
            "right": null,
            "top": null,
            "visibility": null,
            "width": null
          }
        },
        "8db964eb701c4b529ceebdb360e40e2f": {
          "model_module": "@jupyter-widgets/controls",
          "model_name": "ProgressStyleModel",
          "model_module_version": "1.5.0",
          "state": {
            "_model_module": "@jupyter-widgets/controls",
            "_model_module_version": "1.5.0",
            "_model_name": "ProgressStyleModel",
            "_view_count": null,
            "_view_module": "@jupyter-widgets/base",
            "_view_module_version": "1.2.0",
            "_view_name": "StyleView",
            "bar_color": null,
            "description_width": ""
          }
        },
        "6528bf56c4b1441790ebee60fd648ca3": {
          "model_module": "@jupyter-widgets/base",
          "model_name": "LayoutModel",
          "model_module_version": "1.2.0",
          "state": {
            "_model_module": "@jupyter-widgets/base",
            "_model_module_version": "1.2.0",
            "_model_name": "LayoutModel",
            "_view_count": null,
            "_view_module": "@jupyter-widgets/base",
            "_view_module_version": "1.2.0",
            "_view_name": "LayoutView",
            "align_content": null,
            "align_items": null,
            "align_self": null,
            "border": null,
            "bottom": null,
            "display": null,
            "flex": null,
            "flex_flow": null,
            "grid_area": null,
            "grid_auto_columns": null,
            "grid_auto_flow": null,
            "grid_auto_rows": null,
            "grid_column": null,
            "grid_gap": null,
            "grid_row": null,
            "grid_template_areas": null,
            "grid_template_columns": null,
            "grid_template_rows": null,
            "height": null,
            "justify_content": null,
            "justify_items": null,
            "left": null,
            "margin": null,
            "max_height": null,
            "max_width": null,
            "min_height": null,
            "min_width": null,
            "object_fit": null,
            "object_position": null,
            "order": null,
            "overflow": null,
            "overflow_x": null,
            "overflow_y": null,
            "padding": null,
            "right": null,
            "top": null,
            "visibility": null,
            "width": null
          }
        },
        "51c3da7a0a004ee0b6a2f4db5961d75d": {
          "model_module": "@jupyter-widgets/controls",
          "model_name": "DescriptionStyleModel",
          "model_module_version": "1.5.0",
          "state": {
            "_model_module": "@jupyter-widgets/controls",
            "_model_module_version": "1.5.0",
            "_model_name": "DescriptionStyleModel",
            "_view_count": null,
            "_view_module": "@jupyter-widgets/base",
            "_view_module_version": "1.2.0",
            "_view_name": "StyleView",
            "description_width": ""
          }
        },
        "ebeed28f746e43cd9c15e575076f63cf": {
          "model_module": "@jupyter-widgets/controls",
          "model_name": "HBoxModel",
          "model_module_version": "1.5.0",
          "state": {
            "_dom_classes": [],
            "_model_module": "@jupyter-widgets/controls",
            "_model_module_version": "1.5.0",
            "_model_name": "HBoxModel",
            "_view_count": null,
            "_view_module": "@jupyter-widgets/controls",
            "_view_module_version": "1.5.0",
            "_view_name": "HBoxView",
            "box_style": "",
            "children": [
              "IPY_MODEL_293b83f8e948463483dcff15b7407353",
              "IPY_MODEL_210f8de6f3e949529aa27f3afa83eb54",
              "IPY_MODEL_9530eb663af44abe87d82de3a153d210"
            ],
            "layout": "IPY_MODEL_c3365e0ac4ed4f35ad4b20613f1ecbbf"
          }
        },
        "293b83f8e948463483dcff15b7407353": {
          "model_module": "@jupyter-widgets/controls",
          "model_name": "HTMLModel",
          "model_module_version": "1.5.0",
          "state": {
            "_dom_classes": [],
            "_model_module": "@jupyter-widgets/controls",
            "_model_module_version": "1.5.0",
            "_model_name": "HTMLModel",
            "_view_count": null,
            "_view_module": "@jupyter-widgets/controls",
            "_view_module_version": "1.5.0",
            "_view_name": "HTMLView",
            "description": "",
            "description_tooltip": null,
            "layout": "IPY_MODEL_ae084a93101a446ba5d284724100c1c5",
            "placeholder": "​",
            "style": "IPY_MODEL_e5d6886c389443a4ae5f048f16a37a22",
            "value": "Downloading: 100%"
          }
        },
        "210f8de6f3e949529aa27f3afa83eb54": {
          "model_module": "@jupyter-widgets/controls",
          "model_name": "FloatProgressModel",
          "model_module_version": "1.5.0",
          "state": {
            "_dom_classes": [],
            "_model_module": "@jupyter-widgets/controls",
            "_model_module_version": "1.5.0",
            "_model_name": "FloatProgressModel",
            "_view_count": null,
            "_view_module": "@jupyter-widgets/controls",
            "_view_module_version": "1.5.0",
            "_view_name": "ProgressView",
            "bar_style": "success",
            "description": "",
            "description_tooltip": null,
            "layout": "IPY_MODEL_d333b99430e94e53b6278118093805c1",
            "max": 662,
            "min": 0,
            "orientation": "horizontal",
            "style": "IPY_MODEL_f26b8f4ed22c403da6d806b63bd8074f",
            "value": 662
          }
        },
        "9530eb663af44abe87d82de3a153d210": {
          "model_module": "@jupyter-widgets/controls",
          "model_name": "HTMLModel",
          "model_module_version": "1.5.0",
          "state": {
            "_dom_classes": [],
            "_model_module": "@jupyter-widgets/controls",
            "_model_module_version": "1.5.0",
            "_model_name": "HTMLModel",
            "_view_count": null,
            "_view_module": "@jupyter-widgets/controls",
            "_view_module_version": "1.5.0",
            "_view_name": "HTMLView",
            "description": "",
            "description_tooltip": null,
            "layout": "IPY_MODEL_47dc2188848441cda0b402339b7f9670",
            "placeholder": "​",
            "style": "IPY_MODEL_c6dd445be38540609213578663dd3a8a",
            "value": " 662/662 [00:00&lt;00:00, 16.3kB/s]"
          }
        },
        "c3365e0ac4ed4f35ad4b20613f1ecbbf": {
          "model_module": "@jupyter-widgets/base",
          "model_name": "LayoutModel",
          "model_module_version": "1.2.0",
          "state": {
            "_model_module": "@jupyter-widgets/base",
            "_model_module_version": "1.2.0",
            "_model_name": "LayoutModel",
            "_view_count": null,
            "_view_module": "@jupyter-widgets/base",
            "_view_module_version": "1.2.0",
            "_view_name": "LayoutView",
            "align_content": null,
            "align_items": null,
            "align_self": null,
            "border": null,
            "bottom": null,
            "display": null,
            "flex": null,
            "flex_flow": null,
            "grid_area": null,
            "grid_auto_columns": null,
            "grid_auto_flow": null,
            "grid_auto_rows": null,
            "grid_column": null,
            "grid_gap": null,
            "grid_row": null,
            "grid_template_areas": null,
            "grid_template_columns": null,
            "grid_template_rows": null,
            "height": null,
            "justify_content": null,
            "justify_items": null,
            "left": null,
            "margin": null,
            "max_height": null,
            "max_width": null,
            "min_height": null,
            "min_width": null,
            "object_fit": null,
            "object_position": null,
            "order": null,
            "overflow": null,
            "overflow_x": null,
            "overflow_y": null,
            "padding": null,
            "right": null,
            "top": null,
            "visibility": null,
            "width": null
          }
        },
        "ae084a93101a446ba5d284724100c1c5": {
          "model_module": "@jupyter-widgets/base",
          "model_name": "LayoutModel",
          "model_module_version": "1.2.0",
          "state": {
            "_model_module": "@jupyter-widgets/base",
            "_model_module_version": "1.2.0",
            "_model_name": "LayoutModel",
            "_view_count": null,
            "_view_module": "@jupyter-widgets/base",
            "_view_module_version": "1.2.0",
            "_view_name": "LayoutView",
            "align_content": null,
            "align_items": null,
            "align_self": null,
            "border": null,
            "bottom": null,
            "display": null,
            "flex": null,
            "flex_flow": null,
            "grid_area": null,
            "grid_auto_columns": null,
            "grid_auto_flow": null,
            "grid_auto_rows": null,
            "grid_column": null,
            "grid_gap": null,
            "grid_row": null,
            "grid_template_areas": null,
            "grid_template_columns": null,
            "grid_template_rows": null,
            "height": null,
            "justify_content": null,
            "justify_items": null,
            "left": null,
            "margin": null,
            "max_height": null,
            "max_width": null,
            "min_height": null,
            "min_width": null,
            "object_fit": null,
            "object_position": null,
            "order": null,
            "overflow": null,
            "overflow_x": null,
            "overflow_y": null,
            "padding": null,
            "right": null,
            "top": null,
            "visibility": null,
            "width": null
          }
        },
        "e5d6886c389443a4ae5f048f16a37a22": {
          "model_module": "@jupyter-widgets/controls",
          "model_name": "DescriptionStyleModel",
          "model_module_version": "1.5.0",
          "state": {
            "_model_module": "@jupyter-widgets/controls",
            "_model_module_version": "1.5.0",
            "_model_name": "DescriptionStyleModel",
            "_view_count": null,
            "_view_module": "@jupyter-widgets/base",
            "_view_module_version": "1.2.0",
            "_view_name": "StyleView",
            "description_width": ""
          }
        },
        "d333b99430e94e53b6278118093805c1": {
          "model_module": "@jupyter-widgets/base",
          "model_name": "LayoutModel",
          "model_module_version": "1.2.0",
          "state": {
            "_model_module": "@jupyter-widgets/base",
            "_model_module_version": "1.2.0",
            "_model_name": "LayoutModel",
            "_view_count": null,
            "_view_module": "@jupyter-widgets/base",
            "_view_module_version": "1.2.0",
            "_view_name": "LayoutView",
            "align_content": null,
            "align_items": null,
            "align_self": null,
            "border": null,
            "bottom": null,
            "display": null,
            "flex": null,
            "flex_flow": null,
            "grid_area": null,
            "grid_auto_columns": null,
            "grid_auto_flow": null,
            "grid_auto_rows": null,
            "grid_column": null,
            "grid_gap": null,
            "grid_row": null,
            "grid_template_areas": null,
            "grid_template_columns": null,
            "grid_template_rows": null,
            "height": null,
            "justify_content": null,
            "justify_items": null,
            "left": null,
            "margin": null,
            "max_height": null,
            "max_width": null,
            "min_height": null,
            "min_width": null,
            "object_fit": null,
            "object_position": null,
            "order": null,
            "overflow": null,
            "overflow_x": null,
            "overflow_y": null,
            "padding": null,
            "right": null,
            "top": null,
            "visibility": null,
            "width": null
          }
        },
        "f26b8f4ed22c403da6d806b63bd8074f": {
          "model_module": "@jupyter-widgets/controls",
          "model_name": "ProgressStyleModel",
          "model_module_version": "1.5.0",
          "state": {
            "_model_module": "@jupyter-widgets/controls",
            "_model_module_version": "1.5.0",
            "_model_name": "ProgressStyleModel",
            "_view_count": null,
            "_view_module": "@jupyter-widgets/base",
            "_view_module_version": "1.2.0",
            "_view_name": "StyleView",
            "bar_color": null,
            "description_width": ""
          }
        },
        "47dc2188848441cda0b402339b7f9670": {
          "model_module": "@jupyter-widgets/base",
          "model_name": "LayoutModel",
          "model_module_version": "1.2.0",
          "state": {
            "_model_module": "@jupyter-widgets/base",
            "_model_module_version": "1.2.0",
            "_model_name": "LayoutModel",
            "_view_count": null,
            "_view_module": "@jupyter-widgets/base",
            "_view_module_version": "1.2.0",
            "_view_name": "LayoutView",
            "align_content": null,
            "align_items": null,
            "align_self": null,
            "border": null,
            "bottom": null,
            "display": null,
            "flex": null,
            "flex_flow": null,
            "grid_area": null,
            "grid_auto_columns": null,
            "grid_auto_flow": null,
            "grid_auto_rows": null,
            "grid_column": null,
            "grid_gap": null,
            "grid_row": null,
            "grid_template_areas": null,
            "grid_template_columns": null,
            "grid_template_rows": null,
            "height": null,
            "justify_content": null,
            "justify_items": null,
            "left": null,
            "margin": null,
            "max_height": null,
            "max_width": null,
            "min_height": null,
            "min_width": null,
            "object_fit": null,
            "object_position": null,
            "order": null,
            "overflow": null,
            "overflow_x": null,
            "overflow_y": null,
            "padding": null,
            "right": null,
            "top": null,
            "visibility": null,
            "width": null
          }
        },
        "c6dd445be38540609213578663dd3a8a": {
          "model_module": "@jupyter-widgets/controls",
          "model_name": "DescriptionStyleModel",
          "model_module_version": "1.5.0",
          "state": {
            "_model_module": "@jupyter-widgets/controls",
            "_model_module_version": "1.5.0",
            "_model_name": "DescriptionStyleModel",
            "_view_count": null,
            "_view_module": "@jupyter-widgets/base",
            "_view_module_version": "1.2.0",
            "_view_name": "StyleView",
            "description_width": ""
          }
        },
        "449bcdfc2028463396eb21d207fc7575": {
          "model_module": "@jupyter-widgets/controls",
          "model_name": "HBoxModel",
          "model_module_version": "1.5.0",
          "state": {
            "_dom_classes": [],
            "_model_module": "@jupyter-widgets/controls",
            "_model_module_version": "1.5.0",
            "_model_name": "HBoxModel",
            "_view_count": null,
            "_view_module": "@jupyter-widgets/controls",
            "_view_module_version": "1.5.0",
            "_view_name": "HBoxView",
            "box_style": "",
            "children": [
              "IPY_MODEL_4269147aaea64137b2b213f1e0c1c296",
              "IPY_MODEL_517bfad2769e4edbbed8d1e1b2c38121",
              "IPY_MODEL_95c22b2b1ac54059a599b13e99bec57e"
            ],
            "layout": "IPY_MODEL_9542542545bd4fcd82ac2986e7b0f0de"
          }
        },
        "4269147aaea64137b2b213f1e0c1c296": {
          "model_module": "@jupyter-widgets/controls",
          "model_name": "HTMLModel",
          "model_module_version": "1.5.0",
          "state": {
            "_dom_classes": [],
            "_model_module": "@jupyter-widgets/controls",
            "_model_module_version": "1.5.0",
            "_model_name": "HTMLModel",
            "_view_count": null,
            "_view_module": "@jupyter-widgets/controls",
            "_view_module_version": "1.5.0",
            "_view_name": "HTMLView",
            "description": "",
            "description_tooltip": null,
            "layout": "IPY_MODEL_f613ee3d25834f6a831c23538c1a1018",
            "placeholder": "​",
            "style": "IPY_MODEL_41625ba0be79451f899f3f7eeca1c00a",
            "value": "Downloading: 100%"
          }
        },
        "517bfad2769e4edbbed8d1e1b2c38121": {
          "model_module": "@jupyter-widgets/controls",
          "model_name": "FloatProgressModel",
          "model_module_version": "1.5.0",
          "state": {
            "_dom_classes": [],
            "_model_module": "@jupyter-widgets/controls",
            "_model_module_version": "1.5.0",
            "_model_name": "FloatProgressModel",
            "_view_count": null,
            "_view_module": "@jupyter-widgets/controls",
            "_view_module_version": "1.5.0",
            "_view_name": "ProgressView",
            "bar_style": "success",
            "description": "",
            "description_tooltip": null,
            "layout": "IPY_MODEL_e2cfdb6eaa3c468e871fadbf9425e846",
            "max": 54236116,
            "min": 0,
            "orientation": "horizontal",
            "style": "IPY_MODEL_018b2a00c3f844e3bd23042996edd91d",
            "value": 54236116
          }
        },
        "95c22b2b1ac54059a599b13e99bec57e": {
          "model_module": "@jupyter-widgets/controls",
          "model_name": "HTMLModel",
          "model_module_version": "1.5.0",
          "state": {
            "_dom_classes": [],
            "_model_module": "@jupyter-widgets/controls",
            "_model_module_version": "1.5.0",
            "_model_name": "HTMLModel",
            "_view_count": null,
            "_view_module": "@jupyter-widgets/controls",
            "_view_module_version": "1.5.0",
            "_view_name": "HTMLView",
            "description": "",
            "description_tooltip": null,
            "layout": "IPY_MODEL_ae3d6794a407453597458cf474d49408",
            "placeholder": "​",
            "style": "IPY_MODEL_e7054216f2e04019a59b45b1e5a4df34",
            "value": " 51.7M/51.7M [00:01&lt;00:00, 32.4MB/s]"
          }
        },
        "9542542545bd4fcd82ac2986e7b0f0de": {
          "model_module": "@jupyter-widgets/base",
          "model_name": "LayoutModel",
          "model_module_version": "1.2.0",
          "state": {
            "_model_module": "@jupyter-widgets/base",
            "_model_module_version": "1.2.0",
            "_model_name": "LayoutModel",
            "_view_count": null,
            "_view_module": "@jupyter-widgets/base",
            "_view_module_version": "1.2.0",
            "_view_name": "LayoutView",
            "align_content": null,
            "align_items": null,
            "align_self": null,
            "border": null,
            "bottom": null,
            "display": null,
            "flex": null,
            "flex_flow": null,
            "grid_area": null,
            "grid_auto_columns": null,
            "grid_auto_flow": null,
            "grid_auto_rows": null,
            "grid_column": null,
            "grid_gap": null,
            "grid_row": null,
            "grid_template_areas": null,
            "grid_template_columns": null,
            "grid_template_rows": null,
            "height": null,
            "justify_content": null,
            "justify_items": null,
            "left": null,
            "margin": null,
            "max_height": null,
            "max_width": null,
            "min_height": null,
            "min_width": null,
            "object_fit": null,
            "object_position": null,
            "order": null,
            "overflow": null,
            "overflow_x": null,
            "overflow_y": null,
            "padding": null,
            "right": null,
            "top": null,
            "visibility": null,
            "width": null
          }
        },
        "f613ee3d25834f6a831c23538c1a1018": {
          "model_module": "@jupyter-widgets/base",
          "model_name": "LayoutModel",
          "model_module_version": "1.2.0",
          "state": {
            "_model_module": "@jupyter-widgets/base",
            "_model_module_version": "1.2.0",
            "_model_name": "LayoutModel",
            "_view_count": null,
            "_view_module": "@jupyter-widgets/base",
            "_view_module_version": "1.2.0",
            "_view_name": "LayoutView",
            "align_content": null,
            "align_items": null,
            "align_self": null,
            "border": null,
            "bottom": null,
            "display": null,
            "flex": null,
            "flex_flow": null,
            "grid_area": null,
            "grid_auto_columns": null,
            "grid_auto_flow": null,
            "grid_auto_rows": null,
            "grid_column": null,
            "grid_gap": null,
            "grid_row": null,
            "grid_template_areas": null,
            "grid_template_columns": null,
            "grid_template_rows": null,
            "height": null,
            "justify_content": null,
            "justify_items": null,
            "left": null,
            "margin": null,
            "max_height": null,
            "max_width": null,
            "min_height": null,
            "min_width": null,
            "object_fit": null,
            "object_position": null,
            "order": null,
            "overflow": null,
            "overflow_x": null,
            "overflow_y": null,
            "padding": null,
            "right": null,
            "top": null,
            "visibility": null,
            "width": null
          }
        },
        "41625ba0be79451f899f3f7eeca1c00a": {
          "model_module": "@jupyter-widgets/controls",
          "model_name": "DescriptionStyleModel",
          "model_module_version": "1.5.0",
          "state": {
            "_model_module": "@jupyter-widgets/controls",
            "_model_module_version": "1.5.0",
            "_model_name": "DescriptionStyleModel",
            "_view_count": null,
            "_view_module": "@jupyter-widgets/base",
            "_view_module_version": "1.2.0",
            "_view_name": "StyleView",
            "description_width": ""
          }
        },
        "e2cfdb6eaa3c468e871fadbf9425e846": {
          "model_module": "@jupyter-widgets/base",
          "model_name": "LayoutModel",
          "model_module_version": "1.2.0",
          "state": {
            "_model_module": "@jupyter-widgets/base",
            "_model_module_version": "1.2.0",
            "_model_name": "LayoutModel",
            "_view_count": null,
            "_view_module": "@jupyter-widgets/base",
            "_view_module_version": "1.2.0",
            "_view_name": "LayoutView",
            "align_content": null,
            "align_items": null,
            "align_self": null,
            "border": null,
            "bottom": null,
            "display": null,
            "flex": null,
            "flex_flow": null,
            "grid_area": null,
            "grid_auto_columns": null,
            "grid_auto_flow": null,
            "grid_auto_rows": null,
            "grid_column": null,
            "grid_gap": null,
            "grid_row": null,
            "grid_template_areas": null,
            "grid_template_columns": null,
            "grid_template_rows": null,
            "height": null,
            "justify_content": null,
            "justify_items": null,
            "left": null,
            "margin": null,
            "max_height": null,
            "max_width": null,
            "min_height": null,
            "min_width": null,
            "object_fit": null,
            "object_position": null,
            "order": null,
            "overflow": null,
            "overflow_x": null,
            "overflow_y": null,
            "padding": null,
            "right": null,
            "top": null,
            "visibility": null,
            "width": null
          }
        },
        "018b2a00c3f844e3bd23042996edd91d": {
          "model_module": "@jupyter-widgets/controls",
          "model_name": "ProgressStyleModel",
          "model_module_version": "1.5.0",
          "state": {
            "_model_module": "@jupyter-widgets/controls",
            "_model_module_version": "1.5.0",
            "_model_name": "ProgressStyleModel",
            "_view_count": null,
            "_view_module": "@jupyter-widgets/base",
            "_view_module_version": "1.2.0",
            "_view_name": "StyleView",
            "bar_color": null,
            "description_width": ""
          }
        },
        "ae3d6794a407453597458cf474d49408": {
          "model_module": "@jupyter-widgets/base",
          "model_name": "LayoutModel",
          "model_module_version": "1.2.0",
          "state": {
            "_model_module": "@jupyter-widgets/base",
            "_model_module_version": "1.2.0",
            "_model_name": "LayoutModel",
            "_view_count": null,
            "_view_module": "@jupyter-widgets/base",
            "_view_module_version": "1.2.0",
            "_view_name": "LayoutView",
            "align_content": null,
            "align_items": null,
            "align_self": null,
            "border": null,
            "bottom": null,
            "display": null,
            "flex": null,
            "flex_flow": null,
            "grid_area": null,
            "grid_auto_columns": null,
            "grid_auto_flow": null,
            "grid_auto_rows": null,
            "grid_column": null,
            "grid_gap": null,
            "grid_row": null,
            "grid_template_areas": null,
            "grid_template_columns": null,
            "grid_template_rows": null,
            "height": null,
            "justify_content": null,
            "justify_items": null,
            "left": null,
            "margin": null,
            "max_height": null,
            "max_width": null,
            "min_height": null,
            "min_width": null,
            "object_fit": null,
            "object_position": null,
            "order": null,
            "overflow": null,
            "overflow_x": null,
            "overflow_y": null,
            "padding": null,
            "right": null,
            "top": null,
            "visibility": null,
            "width": null
          }
        },
        "e7054216f2e04019a59b45b1e5a4df34": {
          "model_module": "@jupyter-widgets/controls",
          "model_name": "DescriptionStyleModel",
          "model_module_version": "1.5.0",
          "state": {
            "_model_module": "@jupyter-widgets/controls",
            "_model_module_version": "1.5.0",
            "_model_name": "DescriptionStyleModel",
            "_view_count": null,
            "_view_module": "@jupyter-widgets/base",
            "_view_module_version": "1.2.0",
            "_view_name": "StyleView",
            "description_width": ""
          }
        },
        "085da6e31d6645329a318edf2b39ada5": {
          "model_module": "@jupyter-widgets/controls",
          "model_name": "HBoxModel",
          "model_module_version": "1.5.0",
          "state": {
            "_dom_classes": [],
            "_model_module": "@jupyter-widgets/controls",
            "_model_module_version": "1.5.0",
            "_model_name": "HBoxModel",
            "_view_count": null,
            "_view_module": "@jupyter-widgets/controls",
            "_view_module_version": "1.5.0",
            "_view_name": "HBoxView",
            "box_style": "",
            "children": [
              "IPY_MODEL_bfeb91701091426aaa6b33f3f724c163",
              "IPY_MODEL_a934f3858f7f4cb48ef20e9ad7f868b9",
              "IPY_MODEL_739b35937b8a4642882be33b642d4e2a"
            ],
            "layout": "IPY_MODEL_4a398037afc34fa89950cf23e5cb5ab3"
          }
        },
        "bfeb91701091426aaa6b33f3f724c163": {
          "model_module": "@jupyter-widgets/controls",
          "model_name": "HTMLModel",
          "model_module_version": "1.5.0",
          "state": {
            "_dom_classes": [],
            "_model_module": "@jupyter-widgets/controls",
            "_model_module_version": "1.5.0",
            "_model_name": "HTMLModel",
            "_view_count": null,
            "_view_module": "@jupyter-widgets/controls",
            "_view_module_version": "1.5.0",
            "_view_name": "HTMLView",
            "description": "",
            "description_tooltip": null,
            "layout": "IPY_MODEL_dc27d18789484b23b7d8c8d211bd054b",
            "placeholder": "​",
            "style": "IPY_MODEL_46caa0c3f7c34668968b58437221e67d",
            "value": "100%"
          }
        },
        "a934f3858f7f4cb48ef20e9ad7f868b9": {
          "model_module": "@jupyter-widgets/controls",
          "model_name": "FloatProgressModel",
          "model_module_version": "1.5.0",
          "state": {
            "_dom_classes": [],
            "_model_module": "@jupyter-widgets/controls",
            "_model_module_version": "1.5.0",
            "_model_name": "FloatProgressModel",
            "_view_count": null,
            "_view_module": "@jupyter-widgets/controls",
            "_view_module_version": "1.5.0",
            "_view_name": "ProgressView",
            "bar_style": "success",
            "description": "",
            "description_tooltip": null,
            "layout": "IPY_MODEL_f5973534744f40e5af4578b932704344",
            "max": 5,
            "min": 0,
            "orientation": "horizontal",
            "style": "IPY_MODEL_14579b3d54534c1dafb8db2153761994",
            "value": 5
          }
        },
        "739b35937b8a4642882be33b642d4e2a": {
          "model_module": "@jupyter-widgets/controls",
          "model_name": "HTMLModel",
          "model_module_version": "1.5.0",
          "state": {
            "_dom_classes": [],
            "_model_module": "@jupyter-widgets/controls",
            "_model_module_version": "1.5.0",
            "_model_name": "HTMLModel",
            "_view_count": null,
            "_view_module": "@jupyter-widgets/controls",
            "_view_module_version": "1.5.0",
            "_view_name": "HTMLView",
            "description": "",
            "description_tooltip": null,
            "layout": "IPY_MODEL_39080746a9d4499783994a947ecbbaf4",
            "placeholder": "​",
            "style": "IPY_MODEL_f0dda234272247959b0c91e1b3f26c4c",
            "value": " 5/5 [00:12&lt;00:00,  2.51s/ba]"
          }
        },
        "4a398037afc34fa89950cf23e5cb5ab3": {
          "model_module": "@jupyter-widgets/base",
          "model_name": "LayoutModel",
          "model_module_version": "1.2.0",
          "state": {
            "_model_module": "@jupyter-widgets/base",
            "_model_module_version": "1.2.0",
            "_model_name": "LayoutModel",
            "_view_count": null,
            "_view_module": "@jupyter-widgets/base",
            "_view_module_version": "1.2.0",
            "_view_name": "LayoutView",
            "align_content": null,
            "align_items": null,
            "align_self": null,
            "border": null,
            "bottom": null,
            "display": null,
            "flex": null,
            "flex_flow": null,
            "grid_area": null,
            "grid_auto_columns": null,
            "grid_auto_flow": null,
            "grid_auto_rows": null,
            "grid_column": null,
            "grid_gap": null,
            "grid_row": null,
            "grid_template_areas": null,
            "grid_template_columns": null,
            "grid_template_rows": null,
            "height": null,
            "justify_content": null,
            "justify_items": null,
            "left": null,
            "margin": null,
            "max_height": null,
            "max_width": null,
            "min_height": null,
            "min_width": null,
            "object_fit": null,
            "object_position": null,
            "order": null,
            "overflow": null,
            "overflow_x": null,
            "overflow_y": null,
            "padding": null,
            "right": null,
            "top": null,
            "visibility": null,
            "width": null
          }
        },
        "dc27d18789484b23b7d8c8d211bd054b": {
          "model_module": "@jupyter-widgets/base",
          "model_name": "LayoutModel",
          "model_module_version": "1.2.0",
          "state": {
            "_model_module": "@jupyter-widgets/base",
            "_model_module_version": "1.2.0",
            "_model_name": "LayoutModel",
            "_view_count": null,
            "_view_module": "@jupyter-widgets/base",
            "_view_module_version": "1.2.0",
            "_view_name": "LayoutView",
            "align_content": null,
            "align_items": null,
            "align_self": null,
            "border": null,
            "bottom": null,
            "display": null,
            "flex": null,
            "flex_flow": null,
            "grid_area": null,
            "grid_auto_columns": null,
            "grid_auto_flow": null,
            "grid_auto_rows": null,
            "grid_column": null,
            "grid_gap": null,
            "grid_row": null,
            "grid_template_areas": null,
            "grid_template_columns": null,
            "grid_template_rows": null,
            "height": null,
            "justify_content": null,
            "justify_items": null,
            "left": null,
            "margin": null,
            "max_height": null,
            "max_width": null,
            "min_height": null,
            "min_width": null,
            "object_fit": null,
            "object_position": null,
            "order": null,
            "overflow": null,
            "overflow_x": null,
            "overflow_y": null,
            "padding": null,
            "right": null,
            "top": null,
            "visibility": null,
            "width": null
          }
        },
        "46caa0c3f7c34668968b58437221e67d": {
          "model_module": "@jupyter-widgets/controls",
          "model_name": "DescriptionStyleModel",
          "model_module_version": "1.5.0",
          "state": {
            "_model_module": "@jupyter-widgets/controls",
            "_model_module_version": "1.5.0",
            "_model_name": "DescriptionStyleModel",
            "_view_count": null,
            "_view_module": "@jupyter-widgets/base",
            "_view_module_version": "1.2.0",
            "_view_name": "StyleView",
            "description_width": ""
          }
        },
        "f5973534744f40e5af4578b932704344": {
          "model_module": "@jupyter-widgets/base",
          "model_name": "LayoutModel",
          "model_module_version": "1.2.0",
          "state": {
            "_model_module": "@jupyter-widgets/base",
            "_model_module_version": "1.2.0",
            "_model_name": "LayoutModel",
            "_view_count": null,
            "_view_module": "@jupyter-widgets/base",
            "_view_module_version": "1.2.0",
            "_view_name": "LayoutView",
            "align_content": null,
            "align_items": null,
            "align_self": null,
            "border": null,
            "bottom": null,
            "display": null,
            "flex": null,
            "flex_flow": null,
            "grid_area": null,
            "grid_auto_columns": null,
            "grid_auto_flow": null,
            "grid_auto_rows": null,
            "grid_column": null,
            "grid_gap": null,
            "grid_row": null,
            "grid_template_areas": null,
            "grid_template_columns": null,
            "grid_template_rows": null,
            "height": null,
            "justify_content": null,
            "justify_items": null,
            "left": null,
            "margin": null,
            "max_height": null,
            "max_width": null,
            "min_height": null,
            "min_width": null,
            "object_fit": null,
            "object_position": null,
            "order": null,
            "overflow": null,
            "overflow_x": null,
            "overflow_y": null,
            "padding": null,
            "right": null,
            "top": null,
            "visibility": null,
            "width": null
          }
        },
        "14579b3d54534c1dafb8db2153761994": {
          "model_module": "@jupyter-widgets/controls",
          "model_name": "ProgressStyleModel",
          "model_module_version": "1.5.0",
          "state": {
            "_model_module": "@jupyter-widgets/controls",
            "_model_module_version": "1.5.0",
            "_model_name": "ProgressStyleModel",
            "_view_count": null,
            "_view_module": "@jupyter-widgets/base",
            "_view_module_version": "1.2.0",
            "_view_name": "StyleView",
            "bar_color": null,
            "description_width": ""
          }
        },
        "39080746a9d4499783994a947ecbbaf4": {
          "model_module": "@jupyter-widgets/base",
          "model_name": "LayoutModel",
          "model_module_version": "1.2.0",
          "state": {
            "_model_module": "@jupyter-widgets/base",
            "_model_module_version": "1.2.0",
            "_model_name": "LayoutModel",
            "_view_count": null,
            "_view_module": "@jupyter-widgets/base",
            "_view_module_version": "1.2.0",
            "_view_name": "LayoutView",
            "align_content": null,
            "align_items": null,
            "align_self": null,
            "border": null,
            "bottom": null,
            "display": null,
            "flex": null,
            "flex_flow": null,
            "grid_area": null,
            "grid_auto_columns": null,
            "grid_auto_flow": null,
            "grid_auto_rows": null,
            "grid_column": null,
            "grid_gap": null,
            "grid_row": null,
            "grid_template_areas": null,
            "grid_template_columns": null,
            "grid_template_rows": null,
            "height": null,
            "justify_content": null,
            "justify_items": null,
            "left": null,
            "margin": null,
            "max_height": null,
            "max_width": null,
            "min_height": null,
            "min_width": null,
            "object_fit": null,
            "object_position": null,
            "order": null,
            "overflow": null,
            "overflow_x": null,
            "overflow_y": null,
            "padding": null,
            "right": null,
            "top": null,
            "visibility": null,
            "width": null
          }
        },
        "f0dda234272247959b0c91e1b3f26c4c": {
          "model_module": "@jupyter-widgets/controls",
          "model_name": "DescriptionStyleModel",
          "model_module_version": "1.5.0",
          "state": {
            "_model_module": "@jupyter-widgets/controls",
            "_model_module_version": "1.5.0",
            "_model_name": "DescriptionStyleModel",
            "_view_count": null,
            "_view_module": "@jupyter-widgets/base",
            "_view_module_version": "1.2.0",
            "_view_name": "StyleView",
            "description_width": ""
          }
        },
        "6042ecfa43824ea7866d6f815b61e1d1": {
          "model_module": "@jupyter-widgets/controls",
          "model_name": "HBoxModel",
          "model_module_version": "1.5.0",
          "state": {
            "_dom_classes": [],
            "_model_module": "@jupyter-widgets/controls",
            "_model_module_version": "1.5.0",
            "_model_name": "HBoxModel",
            "_view_count": null,
            "_view_module": "@jupyter-widgets/controls",
            "_view_module_version": "1.5.0",
            "_view_name": "HBoxView",
            "box_style": "",
            "children": [
              "IPY_MODEL_d8a0138b0f9b43f186bba0b189cd7a4b",
              "IPY_MODEL_94ba0f4d626a4172a200054495efea7b",
              "IPY_MODEL_e4db7ed465d541d5b540854c91c2e896"
            ],
            "layout": "IPY_MODEL_8dfc72b7c8354b7b9e996d46c448f4ea"
          }
        },
        "d8a0138b0f9b43f186bba0b189cd7a4b": {
          "model_module": "@jupyter-widgets/controls",
          "model_name": "HTMLModel",
          "model_module_version": "1.5.0",
          "state": {
            "_dom_classes": [],
            "_model_module": "@jupyter-widgets/controls",
            "_model_module_version": "1.5.0",
            "_model_name": "HTMLModel",
            "_view_count": null,
            "_view_module": "@jupyter-widgets/controls",
            "_view_module_version": "1.5.0",
            "_view_name": "HTMLView",
            "description": "",
            "description_tooltip": null,
            "layout": "IPY_MODEL_b0bccf6716994454b6b3031ab4d660c4",
            "placeholder": "​",
            "style": "IPY_MODEL_65c0be52d4c942f49a01fa326b8c2f2c",
            "value": "100%"
          }
        },
        "94ba0f4d626a4172a200054495efea7b": {
          "model_module": "@jupyter-widgets/controls",
          "model_name": "FloatProgressModel",
          "model_module_version": "1.5.0",
          "state": {
            "_dom_classes": [],
            "_model_module": "@jupyter-widgets/controls",
            "_model_module_version": "1.5.0",
            "_model_name": "FloatProgressModel",
            "_view_count": null,
            "_view_module": "@jupyter-widgets/controls",
            "_view_module_version": "1.5.0",
            "_view_name": "ProgressView",
            "bar_style": "success",
            "description": "",
            "description_tooltip": null,
            "layout": "IPY_MODEL_85b2c104d8ad4e9caf8031b7fd665401",
            "max": 4,
            "min": 0,
            "orientation": "horizontal",
            "style": "IPY_MODEL_4a15ccf6085947349d9fdeb04c249cc6",
            "value": 4
          }
        },
        "e4db7ed465d541d5b540854c91c2e896": {
          "model_module": "@jupyter-widgets/controls",
          "model_name": "HTMLModel",
          "model_module_version": "1.5.0",
          "state": {
            "_dom_classes": [],
            "_model_module": "@jupyter-widgets/controls",
            "_model_module_version": "1.5.0",
            "_model_name": "HTMLModel",
            "_view_count": null,
            "_view_module": "@jupyter-widgets/controls",
            "_view_module_version": "1.5.0",
            "_view_name": "HTMLView",
            "description": "",
            "description_tooltip": null,
            "layout": "IPY_MODEL_8522f65b8bb1439fbc7a1471b08a02f2",
            "placeholder": "​",
            "style": "IPY_MODEL_80bd7ba189284361bb23a2bf9bde1b7b",
            "value": " 4/4 [00:07&lt;00:00,  1.71s/ba]"
          }
        },
        "8dfc72b7c8354b7b9e996d46c448f4ea": {
          "model_module": "@jupyter-widgets/base",
          "model_name": "LayoutModel",
          "model_module_version": "1.2.0",
          "state": {
            "_model_module": "@jupyter-widgets/base",
            "_model_module_version": "1.2.0",
            "_model_name": "LayoutModel",
            "_view_count": null,
            "_view_module": "@jupyter-widgets/base",
            "_view_module_version": "1.2.0",
            "_view_name": "LayoutView",
            "align_content": null,
            "align_items": null,
            "align_self": null,
            "border": null,
            "bottom": null,
            "display": null,
            "flex": null,
            "flex_flow": null,
            "grid_area": null,
            "grid_auto_columns": null,
            "grid_auto_flow": null,
            "grid_auto_rows": null,
            "grid_column": null,
            "grid_gap": null,
            "grid_row": null,
            "grid_template_areas": null,
            "grid_template_columns": null,
            "grid_template_rows": null,
            "height": null,
            "justify_content": null,
            "justify_items": null,
            "left": null,
            "margin": null,
            "max_height": null,
            "max_width": null,
            "min_height": null,
            "min_width": null,
            "object_fit": null,
            "object_position": null,
            "order": null,
            "overflow": null,
            "overflow_x": null,
            "overflow_y": null,
            "padding": null,
            "right": null,
            "top": null,
            "visibility": null,
            "width": null
          }
        },
        "b0bccf6716994454b6b3031ab4d660c4": {
          "model_module": "@jupyter-widgets/base",
          "model_name": "LayoutModel",
          "model_module_version": "1.2.0",
          "state": {
            "_model_module": "@jupyter-widgets/base",
            "_model_module_version": "1.2.0",
            "_model_name": "LayoutModel",
            "_view_count": null,
            "_view_module": "@jupyter-widgets/base",
            "_view_module_version": "1.2.0",
            "_view_name": "LayoutView",
            "align_content": null,
            "align_items": null,
            "align_self": null,
            "border": null,
            "bottom": null,
            "display": null,
            "flex": null,
            "flex_flow": null,
            "grid_area": null,
            "grid_auto_columns": null,
            "grid_auto_flow": null,
            "grid_auto_rows": null,
            "grid_column": null,
            "grid_gap": null,
            "grid_row": null,
            "grid_template_areas": null,
            "grid_template_columns": null,
            "grid_template_rows": null,
            "height": null,
            "justify_content": null,
            "justify_items": null,
            "left": null,
            "margin": null,
            "max_height": null,
            "max_width": null,
            "min_height": null,
            "min_width": null,
            "object_fit": null,
            "object_position": null,
            "order": null,
            "overflow": null,
            "overflow_x": null,
            "overflow_y": null,
            "padding": null,
            "right": null,
            "top": null,
            "visibility": null,
            "width": null
          }
        },
        "65c0be52d4c942f49a01fa326b8c2f2c": {
          "model_module": "@jupyter-widgets/controls",
          "model_name": "DescriptionStyleModel",
          "model_module_version": "1.5.0",
          "state": {
            "_model_module": "@jupyter-widgets/controls",
            "_model_module_version": "1.5.0",
            "_model_name": "DescriptionStyleModel",
            "_view_count": null,
            "_view_module": "@jupyter-widgets/base",
            "_view_module_version": "1.2.0",
            "_view_name": "StyleView",
            "description_width": ""
          }
        },
        "85b2c104d8ad4e9caf8031b7fd665401": {
          "model_module": "@jupyter-widgets/base",
          "model_name": "LayoutModel",
          "model_module_version": "1.2.0",
          "state": {
            "_model_module": "@jupyter-widgets/base",
            "_model_module_version": "1.2.0",
            "_model_name": "LayoutModel",
            "_view_count": null,
            "_view_module": "@jupyter-widgets/base",
            "_view_module_version": "1.2.0",
            "_view_name": "LayoutView",
            "align_content": null,
            "align_items": null,
            "align_self": null,
            "border": null,
            "bottom": null,
            "display": null,
            "flex": null,
            "flex_flow": null,
            "grid_area": null,
            "grid_auto_columns": null,
            "grid_auto_flow": null,
            "grid_auto_rows": null,
            "grid_column": null,
            "grid_gap": null,
            "grid_row": null,
            "grid_template_areas": null,
            "grid_template_columns": null,
            "grid_template_rows": null,
            "height": null,
            "justify_content": null,
            "justify_items": null,
            "left": null,
            "margin": null,
            "max_height": null,
            "max_width": null,
            "min_height": null,
            "min_width": null,
            "object_fit": null,
            "object_position": null,
            "order": null,
            "overflow": null,
            "overflow_x": null,
            "overflow_y": null,
            "padding": null,
            "right": null,
            "top": null,
            "visibility": null,
            "width": null
          }
        },
        "4a15ccf6085947349d9fdeb04c249cc6": {
          "model_module": "@jupyter-widgets/controls",
          "model_name": "ProgressStyleModel",
          "model_module_version": "1.5.0",
          "state": {
            "_model_module": "@jupyter-widgets/controls",
            "_model_module_version": "1.5.0",
            "_model_name": "ProgressStyleModel",
            "_view_count": null,
            "_view_module": "@jupyter-widgets/base",
            "_view_module_version": "1.2.0",
            "_view_name": "StyleView",
            "bar_color": null,
            "description_width": ""
          }
        },
        "8522f65b8bb1439fbc7a1471b08a02f2": {
          "model_module": "@jupyter-widgets/base",
          "model_name": "LayoutModel",
          "model_module_version": "1.2.0",
          "state": {
            "_model_module": "@jupyter-widgets/base",
            "_model_module_version": "1.2.0",
            "_model_name": "LayoutModel",
            "_view_count": null,
            "_view_module": "@jupyter-widgets/base",
            "_view_module_version": "1.2.0",
            "_view_name": "LayoutView",
            "align_content": null,
            "align_items": null,
            "align_self": null,
            "border": null,
            "bottom": null,
            "display": null,
            "flex": null,
            "flex_flow": null,
            "grid_area": null,
            "grid_auto_columns": null,
            "grid_auto_flow": null,
            "grid_auto_rows": null,
            "grid_column": null,
            "grid_gap": null,
            "grid_row": null,
            "grid_template_areas": null,
            "grid_template_columns": null,
            "grid_template_rows": null,
            "height": null,
            "justify_content": null,
            "justify_items": null,
            "left": null,
            "margin": null,
            "max_height": null,
            "max_width": null,
            "min_height": null,
            "min_width": null,
            "object_fit": null,
            "object_position": null,
            "order": null,
            "overflow": null,
            "overflow_x": null,
            "overflow_y": null,
            "padding": null,
            "right": null,
            "top": null,
            "visibility": null,
            "width": null
          }
        },
        "80bd7ba189284361bb23a2bf9bde1b7b": {
          "model_module": "@jupyter-widgets/controls",
          "model_name": "DescriptionStyleModel",
          "model_module_version": "1.5.0",
          "state": {
            "_model_module": "@jupyter-widgets/controls",
            "_model_module_version": "1.5.0",
            "_model_name": "DescriptionStyleModel",
            "_view_count": null,
            "_view_module": "@jupyter-widgets/base",
            "_view_module_version": "1.2.0",
            "_view_name": "StyleView",
            "description_width": ""
          }
        }
      }
    },
    "accelerator": "GPU"
  },
  "cells": [
    {
      "cell_type": "markdown",
      "metadata": {
        "id": "view-in-github",
        "colab_type": "text"
      },
      "source": [
        "<a href=\"https://colab.research.google.com/github/alex-mat-s/NLP_ITMO/blob/master/ANLP_lab4_Alexandra_Matveeva_J41325c.ipynb\" target=\"_parent\"><img src=\"https://colab.research.google.com/assets/colab-badge.svg\" alt=\"Open In Colab\"/></a>"
      ]
    },
    {
      "cell_type": "markdown",
      "source": [
        "Soft deadline: `30.03.2022 23:59`"
      ],
      "metadata": {
        "id": "nXpkXz1QJmhJ"
      }
    },
    {
      "cell_type": "markdown",
      "metadata": {
        "id": "yxy7euTpCbGp"
      },
      "source": [
        "In this homework you will understand the fine-tuning procedure and get acquainted with Huggingface Datasets library"
      ]
    },
    {
      "cell_type": "code",
      "metadata": {
        "id": "_1MXcMymXeCx",
        "colab": {
          "base_uri": "https://localhost:8080/"
        },
        "outputId": "2bfec9d1-fbe8-4ebf-ea10-6b664a4587f5"
      },
      "source": [
        "! pip install datasets\n",
        "! pip install transformers"
      ],
      "execution_count": 2,
      "outputs": [
        {
          "output_type": "stream",
          "name": "stdout",
          "text": [
            "Collecting datasets\n",
            "  Downloading datasets-2.0.0-py3-none-any.whl (325 kB)\n",
            "\u001b[K     |████████████████████████████████| 325 kB 5.5 MB/s \n",
            "\u001b[?25hRequirement already satisfied: dill in /usr/local/lib/python3.7/dist-packages (from datasets) (0.3.4)\n",
            "Collecting huggingface-hub<1.0.0,>=0.1.0\n",
            "  Downloading huggingface_hub-0.4.0-py3-none-any.whl (67 kB)\n",
            "\u001b[K     |████████████████████████████████| 67 kB 5.3 MB/s \n",
            "\u001b[?25hRequirement already satisfied: pandas in /usr/local/lib/python3.7/dist-packages (from datasets) (1.3.5)\n",
            "Requirement already satisfied: multiprocess in /usr/local/lib/python3.7/dist-packages (from datasets) (0.70.12.2)\n",
            "Collecting xxhash\n",
            "  Downloading xxhash-3.0.0-cp37-cp37m-manylinux_2_17_x86_64.manylinux2014_x86_64.whl (212 kB)\n",
            "\u001b[K     |████████████████████████████████| 212 kB 48.0 MB/s \n",
            "\u001b[?25hRequirement already satisfied: packaging in /usr/local/lib/python3.7/dist-packages (from datasets) (21.3)\n",
            "Collecting fsspec[http]>=2021.05.0\n",
            "  Downloading fsspec-2022.2.0-py3-none-any.whl (134 kB)\n",
            "\u001b[K     |████████████████████████████████| 134 kB 46.8 MB/s \n",
            "\u001b[?25hRequirement already satisfied: requests>=2.19.0 in /usr/local/lib/python3.7/dist-packages (from datasets) (2.23.0)\n",
            "Collecting aiohttp\n",
            "  Downloading aiohttp-3.8.1-cp37-cp37m-manylinux_2_5_x86_64.manylinux1_x86_64.manylinux_2_12_x86_64.manylinux2010_x86_64.whl (1.1 MB)\n",
            "\u001b[K     |████████████████████████████████| 1.1 MB 42.5 MB/s \n",
            "\u001b[?25hRequirement already satisfied: pyarrow>=5.0.0 in /usr/local/lib/python3.7/dist-packages (from datasets) (6.0.1)\n",
            "Requirement already satisfied: tqdm>=4.62.1 in /usr/local/lib/python3.7/dist-packages (from datasets) (4.63.0)\n",
            "Collecting responses<0.19\n",
            "  Downloading responses-0.18.0-py3-none-any.whl (38 kB)\n",
            "Requirement already satisfied: importlib-metadata in /usr/local/lib/python3.7/dist-packages (from datasets) (4.11.3)\n",
            "Requirement already satisfied: numpy>=1.17 in /usr/local/lib/python3.7/dist-packages (from datasets) (1.21.5)\n",
            "Requirement already satisfied: typing-extensions>=3.7.4.3 in /usr/local/lib/python3.7/dist-packages (from huggingface-hub<1.0.0,>=0.1.0->datasets) (3.10.0.2)\n",
            "Requirement already satisfied: filelock in /usr/local/lib/python3.7/dist-packages (from huggingface-hub<1.0.0,>=0.1.0->datasets) (3.6.0)\n",
            "Requirement already satisfied: pyyaml in /usr/local/lib/python3.7/dist-packages (from huggingface-hub<1.0.0,>=0.1.0->datasets) (3.13)\n",
            "Requirement already satisfied: pyparsing!=3.0.5,>=2.0.2 in /usr/local/lib/python3.7/dist-packages (from packaging->datasets) (3.0.7)\n",
            "Requirement already satisfied: idna<3,>=2.5 in /usr/local/lib/python3.7/dist-packages (from requests>=2.19.0->datasets) (2.10)\n",
            "Requirement already satisfied: urllib3!=1.25.0,!=1.25.1,<1.26,>=1.21.1 in /usr/local/lib/python3.7/dist-packages (from requests>=2.19.0->datasets) (1.24.3)\n",
            "Requirement already satisfied: certifi>=2017.4.17 in /usr/local/lib/python3.7/dist-packages (from requests>=2.19.0->datasets) (2021.10.8)\n",
            "Requirement already satisfied: chardet<4,>=3.0.2 in /usr/local/lib/python3.7/dist-packages (from requests>=2.19.0->datasets) (3.0.4)\n",
            "Collecting urllib3!=1.25.0,!=1.25.1,<1.26,>=1.21.1\n",
            "  Downloading urllib3-1.25.11-py2.py3-none-any.whl (127 kB)\n",
            "\u001b[K     |████████████████████████████████| 127 kB 48.0 MB/s \n",
            "\u001b[?25hCollecting frozenlist>=1.1.1\n",
            "  Downloading frozenlist-1.3.0-cp37-cp37m-manylinux_2_5_x86_64.manylinux1_x86_64.manylinux_2_17_x86_64.manylinux2014_x86_64.whl (144 kB)\n",
            "\u001b[K     |████████████████████████████████| 144 kB 42.5 MB/s \n",
            "\u001b[?25hCollecting asynctest==0.13.0\n",
            "  Downloading asynctest-0.13.0-py3-none-any.whl (26 kB)\n",
            "Requirement already satisfied: charset-normalizer<3.0,>=2.0 in /usr/local/lib/python3.7/dist-packages (from aiohttp->datasets) (2.0.12)\n",
            "Requirement already satisfied: attrs>=17.3.0 in /usr/local/lib/python3.7/dist-packages (from aiohttp->datasets) (21.4.0)\n",
            "Collecting aiosignal>=1.1.2\n",
            "  Downloading aiosignal-1.2.0-py3-none-any.whl (8.2 kB)\n",
            "Collecting yarl<2.0,>=1.0\n",
            "  Downloading yarl-1.7.2-cp37-cp37m-manylinux_2_5_x86_64.manylinux1_x86_64.manylinux_2_12_x86_64.manylinux2010_x86_64.whl (271 kB)\n",
            "\u001b[K     |████████████████████████████████| 271 kB 22.1 MB/s \n",
            "\u001b[?25hCollecting multidict<7.0,>=4.5\n",
            "  Downloading multidict-6.0.2-cp37-cp37m-manylinux_2_17_x86_64.manylinux2014_x86_64.whl (94 kB)\n",
            "\u001b[K     |████████████████████████████████| 94 kB 3.6 MB/s \n",
            "\u001b[?25hCollecting async-timeout<5.0,>=4.0.0a3\n",
            "  Downloading async_timeout-4.0.2-py3-none-any.whl (5.8 kB)\n",
            "Requirement already satisfied: zipp>=0.5 in /usr/local/lib/python3.7/dist-packages (from importlib-metadata->datasets) (3.7.0)\n",
            "Requirement already satisfied: pytz>=2017.3 in /usr/local/lib/python3.7/dist-packages (from pandas->datasets) (2018.9)\n",
            "Requirement already satisfied: python-dateutil>=2.7.3 in /usr/local/lib/python3.7/dist-packages (from pandas->datasets) (2.8.2)\n",
            "Requirement already satisfied: six>=1.5 in /usr/local/lib/python3.7/dist-packages (from python-dateutil>=2.7.3->pandas->datasets) (1.15.0)\n",
            "Installing collected packages: multidict, frozenlist, yarl, urllib3, asynctest, async-timeout, aiosignal, fsspec, aiohttp, xxhash, responses, huggingface-hub, datasets\n",
            "  Attempting uninstall: urllib3\n",
            "    Found existing installation: urllib3 1.24.3\n",
            "    Uninstalling urllib3-1.24.3:\n",
            "      Successfully uninstalled urllib3-1.24.3\n",
            "\u001b[31mERROR: pip's dependency resolver does not currently take into account all the packages that are installed. This behaviour is the source of the following dependency conflicts.\n",
            "datascience 0.10.6 requires folium==0.2.1, but you have folium 0.8.3 which is incompatible.\u001b[0m\n",
            "Successfully installed aiohttp-3.8.1 aiosignal-1.2.0 async-timeout-4.0.2 asynctest-0.13.0 datasets-2.0.0 frozenlist-1.3.0 fsspec-2022.2.0 huggingface-hub-0.4.0 multidict-6.0.2 responses-0.18.0 urllib3-1.25.11 xxhash-3.0.0 yarl-1.7.2\n",
            "Collecting transformers\n",
            "  Downloading transformers-4.17.0-py3-none-any.whl (3.8 MB)\n",
            "\u001b[K     |████████████████████████████████| 3.8 MB 4.8 MB/s \n",
            "\u001b[?25hRequirement already satisfied: tqdm>=4.27 in /usr/local/lib/python3.7/dist-packages (from transformers) (4.63.0)\n",
            "Requirement already satisfied: requests in /usr/local/lib/python3.7/dist-packages (from transformers) (2.23.0)\n",
            "Requirement already satisfied: filelock in /usr/local/lib/python3.7/dist-packages (from transformers) (3.6.0)\n",
            "Requirement already satisfied: importlib-metadata in /usr/local/lib/python3.7/dist-packages (from transformers) (4.11.3)\n",
            "Requirement already satisfied: regex!=2019.12.17 in /usr/local/lib/python3.7/dist-packages (from transformers) (2019.12.20)\n",
            "Requirement already satisfied: numpy>=1.17 in /usr/local/lib/python3.7/dist-packages (from transformers) (1.21.5)\n",
            "Collecting pyyaml>=5.1\n",
            "  Downloading PyYAML-6.0-cp37-cp37m-manylinux_2_5_x86_64.manylinux1_x86_64.manylinux_2_12_x86_64.manylinux2010_x86_64.whl (596 kB)\n",
            "\u001b[K     |████████████████████████████████| 596 kB 41.5 MB/s \n",
            "\u001b[?25hCollecting tokenizers!=0.11.3,>=0.11.1\n",
            "  Downloading tokenizers-0.12.0-cp37-cp37m-manylinux_2_12_x86_64.manylinux2010_x86_64.whl (6.6 MB)\n",
            "\u001b[K     |████████████████████████████████| 6.6 MB 35.8 MB/s \n",
            "\u001b[?25hRequirement already satisfied: huggingface-hub<1.0,>=0.1.0 in /usr/local/lib/python3.7/dist-packages (from transformers) (0.4.0)\n",
            "Requirement already satisfied: packaging>=20.0 in /usr/local/lib/python3.7/dist-packages (from transformers) (21.3)\n",
            "Collecting sacremoses\n",
            "  Downloading sacremoses-0.0.49-py3-none-any.whl (895 kB)\n",
            "\u001b[K     |████████████████████████████████| 895 kB 36.0 MB/s \n",
            "\u001b[?25hRequirement already satisfied: typing-extensions>=3.7.4.3 in /usr/local/lib/python3.7/dist-packages (from huggingface-hub<1.0,>=0.1.0->transformers) (3.10.0.2)\n",
            "Requirement already satisfied: pyparsing!=3.0.5,>=2.0.2 in /usr/local/lib/python3.7/dist-packages (from packaging>=20.0->transformers) (3.0.7)\n",
            "Requirement already satisfied: zipp>=0.5 in /usr/local/lib/python3.7/dist-packages (from importlib-metadata->transformers) (3.7.0)\n",
            "Requirement already satisfied: certifi>=2017.4.17 in /usr/local/lib/python3.7/dist-packages (from requests->transformers) (2021.10.8)\n",
            "Requirement already satisfied: chardet<4,>=3.0.2 in /usr/local/lib/python3.7/dist-packages (from requests->transformers) (3.0.4)\n",
            "Requirement already satisfied: urllib3!=1.25.0,!=1.25.1,<1.26,>=1.21.1 in /usr/local/lib/python3.7/dist-packages (from requests->transformers) (1.25.11)\n",
            "Requirement already satisfied: idna<3,>=2.5 in /usr/local/lib/python3.7/dist-packages (from requests->transformers) (2.10)\n",
            "Requirement already satisfied: click in /usr/local/lib/python3.7/dist-packages (from sacremoses->transformers) (7.1.2)\n",
            "Requirement already satisfied: six in /usr/local/lib/python3.7/dist-packages (from sacremoses->transformers) (1.15.0)\n",
            "Requirement already satisfied: joblib in /usr/local/lib/python3.7/dist-packages (from sacremoses->transformers) (1.1.0)\n",
            "Installing collected packages: pyyaml, tokenizers, sacremoses, transformers\n",
            "  Attempting uninstall: pyyaml\n",
            "    Found existing installation: PyYAML 3.13\n",
            "    Uninstalling PyYAML-3.13:\n",
            "      Successfully uninstalled PyYAML-3.13\n",
            "Successfully installed pyyaml-6.0 sacremoses-0.0.49 tokenizers-0.12.0 transformers-4.17.0\n"
          ]
        }
      ]
    },
    {
      "cell_type": "markdown",
      "metadata": {
        "id": "FykUK-TFXf-2"
      },
      "source": [
        "For our goals we will use [Datasets](https://huggingface.co/docs/datasets/) library and take `yahoo_answers_topics` dataset - the task of this dataset is to divide documents on 10 topic categories. More detiled information can be found on the dataset [page](https://huggingface.co/datasets/viewer/).\n"
      ]
    },
    {
      "cell_type": "code",
      "metadata": {
        "id": "ebsFAQsgXNB0"
      },
      "source": [
        "from datasets import load_dataset"
      ],
      "execution_count": 3,
      "outputs": []
    },
    {
      "cell_type": "code",
      "metadata": {
        "id": "UbzxZi42XOUG",
        "colab": {
          "base_uri": "https://localhost:8080/",
          "height": 200,
          "referenced_widgets": [
            "e806b620db184296aca1ed0b79dbe013",
            "65ad41559b514f38b71db36c380a4972",
            "4e63468bb165410daaf120b80e537ce5",
            "ea62c9b4a6c943ee858cec72a4e08689",
            "cc38a1f90a2a48e7a3af4f01103d4afd",
            "e675ec6fdfd84894b94d61da45d08d1e",
            "db66c10bc3a549749b3efa0cc195fc8f",
            "dc46cc57345e40f4a709ef906516a4fe",
            "9ff132d7ef9e42b889891d8d739b76ad",
            "0b0101a243704abea7fc701f2e3590b5",
            "eb52297209c8443b9ecae522e5da730c",
            "9c5448df0afd4145a1b17b737a410613",
            "4b17250cd4854754b33b6b3d231666d1",
            "258136afe679410789ab23794ad8b0d0",
            "a310428ff484462c921480484d085042",
            "9aca84ac885f44269d5efcbfbd692fac",
            "5640ef0549ef49e28cad72f5e5897cc0",
            "7b8da0fd8557472db2f679c18e9e14d1",
            "20cef391093c42579ee7ff8270f35281",
            "091014ab651e4a3dbc492b53738ed28e",
            "e3953c679d8043da9154a4b39fc351b4",
            "3c6863f5ddd3432294f5afc4396dfc0c",
            "848f2db9bd0a4bb4ab7b12c1516f59f6",
            "f2a8681c84c649989b1e6a992bd7b1a0",
            "9969af70edac4dc599d12f6811b106b6",
            "73d5597403b14e86875046f790ad2aed",
            "abdddef7c4554272a3945cce54a99922",
            "b164b0c8cd344852abb24946b7be3da6",
            "8ef39e5ea34c4aa69691d00851f1600b",
            "39bd0c8d955948b485c28c6bbdd3cac1",
            "cd0af8f96cdc4e2abe3aa33ecd87b42d",
            "bdc3ff469ec744ba9809c82796b2daad",
            "1efc3bbf1e634a8eb029903b041b2199",
            "11977289225747bf828518855371a880",
            "9310db454def43508a2098b15566559f",
            "af4fd5a2be9a44f1b1895fd5f30b8d87",
            "7e14cd26b19c4d30a6a462dc223bb0c4",
            "0a1c1ad306e04c47acc3d271844b12b4",
            "6378e2dc134b4827afc3f5fa7841019c",
            "0f2073e3ef97458a8deb6dd7c96fada6",
            "875c6c4379ae45a687dbd87543e1b720",
            "fc5596adc4494408b27261cdd09d2584",
            "7c52c33739474d25ae4d68c92f0f2908",
            "a094937646254b60828eedf246f38e96",
            "2e812cb379be42fe82b3e9809239edf6",
            "e60b37532f364145be2dcdc0bfb62721",
            "fda58dc59fa74266860bf673d6636823",
            "91cca2557a984bb8a7dc5dfa7e352baa",
            "8e24f873806c44d2be199f8ad7949285",
            "843df471dd6743749584ece6995b2700",
            "a56060eafa49451b932d08761c69caea",
            "bb84ecaed5df4013bdb569aaed1c9d4d",
            "11165efd8fa64f859bad3dc127714c9d",
            "9ca4d6e68348450690066f9e25fc5a7d",
            "6c0bbd46af9a4a97804e7b63e67c997f",
            "feeed0af39104afab248c4cfd353c686",
            "6dab7e41dd9f4e588c2f2c3ed7d42ed2",
            "2fe7df2b66a84eaa8585983f3f1025d5",
            "f21c81a345094412a86997faf39f53f7",
            "fac287129bf8428ea254c7be0cd6e126",
            "7c062a70477748d3a76a2601a7401926",
            "2dd12c2c215f44b3b41a54291874a581",
            "718ce860dff0469dab627afbfe6e43c5",
            "38b32390712d4adf86b6ed72e32b6b41",
            "a843227c05b841b897f278d94c89435f",
            "c04c1c6aa3f6453b8c96846906ed183e"
          ]
        },
        "outputId": "56a0639a-310b-4b0f-9024-15009b8c3f97"
      },
      "source": [
        "dataset = load_dataset('yahoo_answers_topics') # the result is a dataset dictionary of train and test splits in this case"
      ],
      "execution_count": 4,
      "outputs": [
        {
          "data": {
            "application/vnd.jupyter.widget-view+json": {
              "model_id": "e806b620db184296aca1ed0b79dbe013",
              "version_major": 2,
              "version_minor": 0
            },
            "text/plain": [
              "Downloading builder script:   0%|          | 0.00/1.42k [00:00<?, ?B/s]"
            ]
          },
          "metadata": {},
          "output_type": "display_data"
        },
        {
          "data": {
            "application/vnd.jupyter.widget-view+json": {
              "model_id": "9c5448df0afd4145a1b17b737a410613",
              "version_major": 2,
              "version_minor": 0
            },
            "text/plain": [
              "Downloading metadata:   0%|          | 0.00/867 [00:00<?, ?B/s]"
            ]
          },
          "metadata": {},
          "output_type": "display_data"
        },
        {
          "metadata": {
            "tags": null
          },
          "name": "stdout",
          "output_type": "stream",
          "text": [
            "Downloading and preparing dataset yahoo_answers_topics/yahoo_answers_topics (download: 304.68 MiB, generated: 756.21 MiB, post-processed: Unknown size, total: 1.04 GiB) to /root/.cache/huggingface/datasets/yahoo_answers_topics/yahoo_answers_topics/1.0.0/b2712a72fde278f1d6e96cc4f485fd89ed2f79ecb231441e13645b53da021902...\n"
          ]
        },
        {
          "data": {
            "application/vnd.jupyter.widget-view+json": {
              "model_id": "848f2db9bd0a4bb4ab7b12c1516f59f6",
              "version_major": 2,
              "version_minor": 0
            },
            "text/plain": [
              "Downloading data:   0%|          | 0.00/319M [00:00<?, ?B/s]"
            ]
          },
          "metadata": {},
          "output_type": "display_data"
        },
        {
          "data": {
            "application/vnd.jupyter.widget-view+json": {
              "model_id": "11977289225747bf828518855371a880",
              "version_major": 2,
              "version_minor": 0
            },
            "text/plain": [
              "Generating train split:   0%|          | 0/1400000 [00:00<?, ? examples/s]"
            ]
          },
          "metadata": {},
          "output_type": "display_data"
        },
        {
          "output_type": "display_data",
          "data": {
            "text/plain": [
              "Generating test split:   0%|          | 0/60000 [00:00<?, ? examples/s]"
            ],
            "application/vnd.jupyter.widget-view+json": {
              "version_major": 2,
              "version_minor": 0,
              "model_id": "2e812cb379be42fe82b3e9809239edf6"
            }
          },
          "metadata": {}
        },
        {
          "output_type": "stream",
          "name": "stdout",
          "text": [
            "Dataset yahoo_answers_topics downloaded and prepared to /root/.cache/huggingface/datasets/yahoo_answers_topics/yahoo_answers_topics/1.0.0/b2712a72fde278f1d6e96cc4f485fd89ed2f79ecb231441e13645b53da021902. Subsequent calls will reuse this data.\n"
          ]
        },
        {
          "output_type": "display_data",
          "data": {
            "text/plain": [
              "  0%|          | 0/2 [00:00<?, ?it/s]"
            ],
            "application/vnd.jupyter.widget-view+json": {
              "version_major": 2,
              "version_minor": 0,
              "model_id": "feeed0af39104afab248c4cfd353c686"
            }
          },
          "metadata": {}
        }
      ]
    },
    {
      "cell_type": "code",
      "source": [
        "data = dataset.data\n",
        "data"
      ],
      "metadata": {
        "colab": {
          "base_uri": "https://localhost:8080/"
        },
        "id": "FEa54Q0n6PRx",
        "outputId": "66ceb143-5cd7-4ed5-bc79-727a79faba81"
      },
      "execution_count": 5,
      "outputs": [
        {
          "output_type": "execute_result",
          "data": {
            "text/plain": [
              "{'test': MemoryMappedTable\n",
              " id: int32\n",
              " topic: int64\n",
              " question_title: string\n",
              " question_content: string\n",
              " best_answer: string\n",
              " ----\n",
              " id: [[0,1,2,3,4,5,6,7,8,9,...,9990,9991,9992,9993,9994,9995,9996,9997,9998,9999],[10000,10001,10002,10003,10004,10005,10006,10007,10008,10009,...,19990,19991,19992,19993,19994,19995,19996,19997,19998,19999],[20000,20001,20002,20003,20004,20005,20006,20007,20008,20009,...,29990,29991,29992,29993,29994,29995,29996,29997,29998,29999],[30000,30001,30002,30003,30004,30005,30006,30007,30008,30009,...,39990,39991,39992,39993,39994,39995,39996,39997,39998,39999],[40000,40001,40002,40003,40004,40005,40006,40007,40008,40009,...,49990,49991,49992,49993,49994,49995,49996,49997,49998,49999],[50000,50001,50002,50003,50004,50005,50006,50007,50008,50009,...,59990,59991,59992,59993,59994,59995,59996,59997,59998,59999]]\n",
              " topic: [[8,1,3,3,2,2,4,2,3,7,...,4,2,5,3,6,2,5,6,9,3],[8,4,8,6,6,6,6,8,9,7,...,5,0,0,4,3,0,7,4,8,3],[3,9,0,3,8,5,2,4,7,8,...,4,4,5,3,9,9,0,1,0,9],[1,4,4,9,4,8,7,9,9,4,...,5,4,2,5,2,7,3,8,5,9],[1,2,1,0,6,5,6,9,5,4,...,7,9,1,9,8,4,5,5,2,7],[8,5,9,4,8,8,1,7,9,6,...,0,9,5,9,8,8,7,2,5,4]]\n",
              " question_title: [[\"What makes friendship click?\",\"Why does Zebras have stripes?\",\"What did the itsy bitsy sipder climb up?\",\"What is the difference between a Bachelors and a Masters degree?\",\"Why do women get PMS?\",\"If your co-worker is guilty of unsanitary hygiene would it be right to tell him/her?\",\"what is the best podcast to subscribe to?\",\"What are the risks of alternative medicine?\",\"What sea creature sleeps with one eye open?\",\"What was the first Disney animated character to appear in color?\",...,\"Does anyone know of an easy to use desktop publishing to pdf and web app?\",\"how can i aviod a yeast infection?\",\"WHEN LARRY HUGES COMEs TO THE CAVS DO YOU THINK THEY WILL PLAY BETTER AND GO TO SEMIS OR FINALS?\",\"I need a autobiography of dave pelzer?\",\"where do you think the US dollar is heading against the Euro???\",\"I need to know the statistics of African american children with Autism in the city of st. louis?\",\"is jesse harms the punter for the coast guard academy the sixth ranked punter in the nation or his division?\",\"women , any situation you ever involved and wished if you were a man ?\",\"Do you think the government henders or helps the US. and why?\",\"How do I become a licensed substance abuse councelor and life coach?\"],[\"how soon is too soon to get married?\",\"What are the best blog sites out there?\",\"how do i find calgary girls on here for free?\",\"i might see him this weekend!?\",\"what are the settings  for a wards signature sewing machine?\",\"i losse my temper fast and teetroy my best things i have , i hear music i like im ok again ?? what is with me?\",\"what natural stone built structures are their in rain ham?\",\"my bf like sex?\",\"South Africa. Mandella.?\",\"What kis the name of this song?\",...,\"when is it warm enough to go skiing and stuff on the lake..?\",\"Why do so many people believe that homosexuality is a psychological disease?\",\"What is the Most stupid Ohio law that you know of?\",\"my computer have a virus all it does is start up over and over again i can not get in not even in safe mode is\",\"Is there works cited in College?\",\"Would you sacrifice your life or life of your loved ones for a good cause?\",\"when will naruto the move come out in the U.S.A?\",\"i changed my password on my yahoo account how do i make my wi fi router work.?\",\"What a girl wants in a guy?\",\"Whats a corndog doing under the ocean?\"],[\"Who is the strongest person in the world ? (not physically)?\",\"Should Vicente Fox be indicted by the UN for human rights violations against immigrants in Mexico.?\",\"can you please?\",\"What makes great teachers great?\",\"should I do it again?\",\"What is the best vacation package for the 2006 World Cup?\",\"i would like to meet and talk with other alcholics in or out of aa i have almost 4 years of continous sobriety\",\"How do I remove a program on my computer?\",\"Is Paul Wall two diffrent races?\",\"what can i talk about in the phone with my gf?\",...,\"What happened to Yahoo Email Time Capsule?\",\"i want to add yahoo search shorcut in my inbox ex (my photo) how can add this option ?\",\"Is Oswaldo Sanchez married?\",\"How do you find a good addition & subtraction lesson plan?\",\"What is ORC: 2923.161 4?\",\"What is an Andreson plea?\",\"What is the sign of authority that a woman is supposed to have, spoken about in 1 Corinthians 11 vs 10?\",\"specific rotation of S-BENZOYLVALINE ANILIDE?\",\"A question about the last days?\",\"Are there people stupid enough to think that America is in Iraq for a good cause?\"],[\"How do you write a hypothesis for reflecting light?\",\"what is the meaning of administator account?\",\"What is Staging.Notifier.Altbill.com all about?\",\"Would you vote for Hillary Clinton for president  of the U.S.?\",\"i see ghost in my dreams and they hurt me?\",\"girls only!!!!!! wat do u find most attractive n a guy?and wat r sum turn-offs 2 girls?\",\"Does anybody know if the band  Aneiki (with Jennifer Waite and Grant Willis) are still recording?\",\"who do you notify about suspicous email from another country?\",\"When will people have to have pass ports to got to Canada?\",\"Need Some Help With This One?\",...,\"Who is the best looking South African cricketer? Please show me his photo.?\",\"I want to make an xtra copy of a kids's dvd I have that is all scratched, but can't cause of copyright-how?\",\"the most famous hospital in singapore?\",\"Should Bill Cowher get Fired?\",\"help Me...!!!!?\",\"Coronation Street Fans:?\",\"democracy is boon or bane?\",\"Simple question?\",\"should Boise st. be #2 even with a weak schedule?\",\"1700's history,  what power did the house of rep have that was different from the senate and why?\"],[\"2 Equivalents questions.?\",\"How can i learn to adapt to only using my left hand since I broke my right wrist?\",\"if mass was created by two higher dimensional branes colliding, what caused the higher dimensional branes?\",\"Are latino and black men more foward than white guys?\",\"How much life insurance?\",\"Any results in the ufc fights in sacremento?\",\"what site can i place a job ad to get hired  the place i looking for would have to be a free place to go?\",\"Has anyone else noticed how honorable Republicans have taken their loss?\",\"The difference between a 1999 and 2003 front wheel for an HD FLSTC?\",\"Why doesn't internet explorer like to cooperate?\",...,\"Harry Potter fans... what do you 'ship?\",\"Why do some MEXICANS say \"pinche wey\" to their friends all the time?\",\"Simplify the formula. Rt=1over 1/R1+1/R2How do I simplify this problem.?\",\"Can I bring a BBQ grill onto the beach in Chicago? How would I look up the relevant laws, rules, etc.?\",\"should i tell my exboyfriend whos sendin me mixed signals that i dont want him or risk another chance with him\",\"Can I change my voice from Male to Female, etc?\",\"Are France going out?\",\"OH. Ronaldo  is  back?\",\"is it true that women have one rib less than men?\",\"I need a good female name?\"],[\"What do you do when you have nothing in common with people your own age?\",\"WHat happens if the goalkeeper gets a red card?\",\"Collecting a RICO judgment?\",\"Why is inter-network transferring so slow? Is there a way to speed things up?\",\"I am looking for honest woman, what can I do ?\",\"If a guys really interested in you will he definitely ask you out?\",\"What is the difference between cycles and strokes of an internal combustion engine?\",\"want to here a stupid law?\",\"definition of the house of representatives?\",\"how do i get a good job in finance?\",...,\"Is Adam in heaven or hell for commiting original sin?\",\"Why do the conservatives want us to stay and pay in Iraq?\",\"Who else thinks that ref(uru) should be reprimanded!?!?!?\",\"first black president of the united states?\",\"guys only pleez?\",\"if you could be any fantasy figure, who would U B & why.don't B shy,let your imagination run wild.?\",\"Tell me something about life most people don't know.......?\",\"Why are men always thinking of sex?\",\"est ce que DOMENECH est un entraineur: 1: de football, 2:de un truc, 3: de rien?\",\"No sound or low sound?\"]]\n",
              " question_content: [[\"How does the spark keep going?\",\"What is the purpose or those stripes? Who do they serve the Zebras in the wild life?\",\"\",\"\",\"\",\"\",\"\",\"\",\"\",\"\",...,\"I am preparing a 50 page \"Partner Kit\" which is comprised of 50 individual word documents.\\n\\nMy goal is to be able to edit this as one document w/ pages, a master header and footer. I'd then like to be able to just print this one document, instead of having to print 50 (as it is currently). I guess this is \"Desktop Publishing\". I then want to make it a PDF w/ active links as part of our website.\\n\\nI want to automate as much as possible and only have to edit once. \\n\\nWhat is my best bet?\\n\\nRich\",\"\",\"THEY WILL HAVE LARRY LEBRON FLIP MURRY GREAT PLAYER AND DREW AND Z ALSO GREAT PLAYER I THINK THEY HAVE A CHANCE OF WINNING WHAT YOU GUYST THINK U THINK THEY PLAY BETTER?\",\"\",\"\",\"this is for my Public speaking class. I'm doing research on African American children with Autism.\",\"\",\"\",\"Be honest!\",\"I would also like to have some type of degree in business without it taking 100 years to accomplish. Are there any schools that have all 3 of these courses? What schools do you recommend and are there any Christian schools that have these programs as well?\"],[\"my boyfriend and i have been going out for two months and he is dropping hints about starting a family (5 kids and two dogs!!) and about getting married. hes got the wedding and everything planned out down to the caterer.   my heart is saying yes to everything because i believe he is my soul mate but the logical part of my brain is saying hes only doing it because he scared of going through another tough breakup (previous relationship)......I NEED HELP!!!\",\"I'm currently using the Friendster Blogs but I don't really like them. I'm thinking of changing to another site, but I don't know which one is good? Preferably one that has HTML editing, and let's everybody comment regardless of whether they are a member of the site or not. Blogger? Blogspot?\",\"\",\"i might see my ex bf this weekend and after him saying he dont even want to be friends any more should i try to talk to him or what/ because i have been try ing to get back with him for a long time now cuz i love him!!\",\"no,265C\",\"\",\"\",\"each time is less busy i vist him he will want us to have sex does that make him love me\",\"I have to write an esay on Mandella. Can somebody tell me in detail ? What, when , How, reason for the ex president been discriminated against. Pleason also mention some other people he spent time with in jail\",\"You bring your knees in tight. \\nBut it's the pelvic thrust \\nThat really drives you insane. \\nLet's do the time-warp again. \\nLet's do the time-warp again.\",...,\"\",\"It was removed from the American Psychiatric Association's list in 1973. So why do people consider it a mental disease?\",\"\",\"\",\"All I do in High School is Works Cited & Parenthetical documentation. Is there a lot of that in college?\",\"\",\"\",\"i dont know where in my computer i go to change my password\",\"\",\"\"],[\"\",\"He seems to think its ok to rob, imprison or kill immigrants in Mexico while demanding mexican illegals be granted citizenship in other countries.\",\"pray for my dad. He has prostate cancer. He goes in sugery july 7 and this year he was dignossed with parkinsons too. Please . His name is Don. Thanks so much..\",\"\",\"ok., heres da thing: i REALLY like this guy named Cavin Wrzesinski. I think he likes me, 2, but im not sure. Ive already asked him out like four months ago, but he just slowly shook his head, in a gesture of saying no. Im really shy around him, but really loose and calm, 2. He ALWAYS makes me laugh, and we hav SOOOOOOOOOOOOO much in common. All my friends say I shud ask him out again, and that he likes me, bacause he always compliments me like when we were at a track meet, i got third in hurdles, and he sed i was SOOOOOoo good and I did REALLY good, and that he thought i was gonna win. But, i need sum advice from sum1 who doesnt no either of us. HELP????????!!!!!!!!!!\",\"\",\"i go to meetins anywhere from 1 to 5 times a week but would like to meet and talk to other aa'ers\",\"I tried to open a file and my computer could not open it. I found out I needed a program on my computer to open it, so I downloaded one from the internet. Big mistake. The stupid program I downloaded is a pain in the ass and it's affecting my computer. It's called 'PC Mighty Max' and it continually tells me there is something wrong with my computer and I have to get it to repair it. When this happens I can not do anything with my computer while it's up, and it happens every half an hour. If I tell it to fix the problems, it then says I have to pay money for it to do that. It was on a short cut on my computer and I tried to just delete it, but it said I need another program to delete it. It went off the short cuts, but I have it's little symbol down near the clock and there is no way to get rid of it. That's the bit that keeps interfering with my computer. I really need help. Does anyone know how to get this off my computer?\",\"\",\"i have problems talking in the phone sh edosent seem interested on what i say sometimes how can i improve my conversations on the phone\",...,\"Time Capsule- write an email now to be sent later. I sent one last fall and now I can't figure out how to send any more! Does anyone know what happened to that feature?\",\"\",\"\",\"\",\"\",\"Can you please let me know if it is used in Illinois? Also, what are cons and pros of it, and what are the types of cases that is mostly used on?\",\"1 Corinthians 11:10, For this reason, and because of the angels, the woman ought to have a sign of authority on her head.\",\"\",\"Supposedly Nosradamus (I think thats spelt right?!) predicted the end of the world on 06/06/06 my mums a born again christian and says that no-one knows when this will be, only God.\\nWhat do you reackon?\",\"Are there really such stupid and dumb people who believe that American soldiers are in Iraq to free the people? to make things better? LOL! Since when did an American president care too much about a nation that he wanted to spread democracy in it? In Africa, there're PLENTY of countries ruled by dictators who slays the people and America does nothing but selling weapons to them (the movie Lord of War is not fictional)! And Saddam allowed many times investigators to check if there are weapons of mass destruction in Iraq and they found nothing, yet the invasion happened and Halliburton is prospering from the oil.\\n\\nSo, the question again... are there people SO DAMN STUPID to believe that soldiers are sent there for a good cause?\"],[\"\",\"\",\"I know they have something to do with that scam outfit:\\nMOVIEPASS.TV formerly known as MOVIELAND.   It's an automatic\\ndownload gimmick.  Once they latch on to your p/c I.D.# you\\nwill recieve pop ups telling you to buy their license to view\\nor listen.\",\"\",\"when i sleep and i have my dreams i cant breath.. its been happening to me these last 3 weeks... in one of my dreams i get trown and i see a old woman getting a box out of a cabinet geting a black box out... and i get draged to the chair and i feel like its sucking me down.. then im at my room again and i strugl to wake up..\",\"wat do girls think the most attractive thing n a guy is?\",\"most famous song - Pleased To Meet You\",\"I received an email from an attorney in maylasia saying he needs a relative for his client who passed away to avoid forfeiting 6 million dollars . Sounds very shaky to me . Who should I notify.\",\"\",\"Why is 6 afraid of 7?\",...,\"\",\"I need to copy a copyrighted dvd which I already own-how can i do this?\",\"\",\"\",\"i need to know whats happens to u before ur period\",\"What did Tracey say to her parents & Gran with regards to Amy while she is living with Charlie.\\nThe phone rang and I missed it.................\",\"\",\"With all the bull i read on here, i'm just quickly wondering if we are not the norm or the majority anymore.\\nAre you married?  In love with the person you are married to?\\nHave relations only with the person you are married to?\\nHow long have you been married?\\nHappy Holidays to you and your families.\",\"\",\"\"],[\"Show how you came up with the answers please?\\n\\n#1. How many moles is 3.00 equiv of Al3+? \\nThe atomic mass of Al is 27.0 g/mol. \\na. 3.00 mol \\n\\n b. 1.00 mol \\n\\n c. 9.00 mol  I'm almost positive the answer to #1 is 9.00 moles\\n\\n d. 81.0 mol \\n----------------------------------------------------------\\n#2 How many equivalents is 0.100 mol of Ca2+? \\nThe atomic mass of Ca is 40.0 g/mol. \\n\\n a. 0.200 equiv \\n\\n b. 0.0500 equiv \\n\\n c. 20.0 equiv \\n\\n d. 80.0 equiv\",\"Im right-handed. how can i learn to write left-handed? I NEED TO KNOW QUICK\",\"to exist?\",\"I'm not trying to start trouble but this is what I seen so far in my neighborhood. When a black or latino guy apporaches a girl they are usally very foward and they say stuff like \"Dam shorty/mami, u got a nice body, I'm trying to get those digits.\" But when white guys try to talk to a girl they seem to have a differen type of confidence and seem to be more shy. Is this cultural? I could be wrong, I used to live in a Italian neighborhood and they would always call me \"bella\" and \"mami\".\",\"Married, no kids, will buy a house next year, anuual income = about 80K\\n\\nOptions:\\n\\n1x annual salary - free\\n2 x - $9.44/month\\n3 x - $18.88/moth\\n4 x $8.32/month\\n5 x $37.76/month\\n\\nAlso, should I bother w/spouse insurance (about $5/month?)\",\"any fights  would be nice to know about any updates\",\"\",\"I haven't heard anyone whine about it in the least. Is this just another way in which Republicans act like realist adults instead of idealist cry babies?\",\"\",\"Hi, when I play stand-alone online games and chat online, sometimes my internet explorer stops working - I can still chat on aim and sometimes continue my online game (but if I try to switch servers, it doesn't work until I get my internet explorer to be able to connect to a website) If I keep opening and closing internet explorer eventually it connects, but sometimes it just won't budge until I restart my computer; is there a reason for this?  Thank you.\",...,\"I was wondering... what is your NUMBER ONE relationship pairing?  It doesn't have to be written into the books (like James/Lily), it can be anything you want (like Sirius/Remus).\\n\\nPlease list only your Number One pairing... not two, not three.\\n\\nMine is Harry/Hermione.  I know it's not canon (in the books), and never will be, but I love it - always have and always will.  (I accept other ships, though).\\n\\nPS. NO BASHING OTHER SHIPS, please.  I'll have to report abuse if you do.  Be nice.\",\"If I said cuse words at my friends, they would probably get  pissed off.\",\"The combined resistance of two resistors R1 and R2 in a\\nparallel circuit is given by the formula\",\"My friends and I want to party on the beach on the 4th of July but we don't want to get arrested for it if there's some little known law about bringing BBQ grills or booze or something! Thanks all!\",\"ok i wanna know should i tell him imtired of playin games and risk being with him again knowing that i really am fallin 4 him? but he is playin 2 many games with my emotions he makes me feel like im not good enuff 4 him.he tells me he likes me still one minute the next minute he dosent giva ratz ass about me. i really need 2  know should i leave it alone\",\"I've tried every program out there. MorphVOX, VCS Diamond, Blaze Audio's voice cloak, they're all bunk. Is there an actual program out there that will create a beleivable voice gender translation?\",\"\",\"\",\"\",\"I just wrote a lyric and I wanna use a female name for the song title but I want a good name to use somethying that has an air of mystery around it. One that grabs attention\\n\\nPicture this \\n\\nYou meet this girl you hit it off ok one night she shows up late at your house \\nshe devours you wrecks you wrecks your bed making love to her is like dancing every cell inj your body comes alive\\nthen she's gone never to return again. Her leaving kills you but it is the sweetest pain you've ever felt and you don't want it to go away\\nWhat would a girl like that be named?\"],[\"\",\"\",\"My friend who I am working with has been attempting to collect on a default judgment in Federal Court. The Judge is stonewalling the entire case claiming that he 'closed' the case. He is trying to block a legal conclusion to the case. The 6th Circuit has been no help after we filed a Mandamus in which the judge defaulted and never answered, he only sent in a certified copy of the docket sheet pertaining to the case, the Sixth Circuit still ruled in favor of the district Judge. No one wants to go by the Rules of Civil Procedure or even recognise that its law. The case law we argued to defend our position went uncontested. I am hoping an attorney might be interested in giving advice or even taking this case on.\",\"\",\"\",\"This guy I know has flirted with me sometimes, was mean a couple of times.  But now he's been really nice to me lately.  But just in a really friendly way not flirty.  Sometimes he makes eye contact and sometimes he doesn't even acknowlege I'm there.  He's 23 and I'm 33 do you think this could have something to do with it?  I feel he's giving me mixed signals but maybe he just likes me as a friend.\",\"\",\"in TX it is illegal to take 3 sips of beerat a time while standing up\",\"\",\"i am a student in lakeland fl. with 2.8 gpa (3.0 in majors -accting and finance) i am to graduate in dec but can't get anything close to what i want to do.  i can't get an internship, parttime or anything.\",...,\"\",\"Cant they see we will just keep losing troops. Lives are valuable and nothing is about to change\",\"Can you believe that guy???? Red card, red card, yellow card, no wait, RED CARD!!!!! And then in the last half he totally shuts up!!!!\",\"\",\"is their anyone out their 4 me who are 13to15 and want to talk to me but dont just want sex\",\"\",\"Do you know anything about life, or words of wisdom, maybe something scientific?  Please Share\",\"\",\"\",\"I have my volume turned up all the way and have the same on the video. But I can barely hear any sound. What can I do to get me sound back fully? My yahoo music is real hard to hear to.\"]]\n",
              " best_answer: [[\"good communication is what does it.  Can you move beyond small talk and say what's really on your mind.  If you start doing this, my expereince is that potentially good friends will respond or shun you.  Then you know who the really good friends are.\",\"this provides camouflage - predator vision is such that it is usually difficult for them to see complex patterns\",\"waterspout\",\"One difference between a Bachelors and a Masters degree are the requirements. To gain eligibility for a Bachelors, you must have at least a GED and have scored well enough on the SAT. To be eligible for a Masters Degree, you must have completed a Bachelors degree program, and adequate scores on the GRE.\\n\\nIn addition, as a Bachelors degree student, your first year or two focuses on the acquisition of general knowledge and the last few years become more specialized, focusing primarily on classes for your major/minor area. \\n\\nIn contrast, the Master's degree program takes usually only 2 years to complete and the student is only focused on learning one speciality area during that time. In addition, a Masters program requires the student to be more of an independent learner, with classes requiring much more research and independent thought.\",\"Premenstrual syndrome (PMS) is a group of symptoms related to the menstrual cycle. PMS is linked to changes in the endocrine system, which produces hormones that control the menstrual cycle. Medical experts don't fully understand the chain of events that causes premenstrual symptoms to be severe in some women and not in others. The one direct cause that is known to affect some women is genetic: Many women with PMS have a close family member with a history of PMS.\",\"Yes, it is your obligation. Especially if it is just wrong.\",\"This Week in Tech is a great podcast.  It's hosted by Leo Laport (of TechTV fame) and features several guests each week, usually other ex-TechTV people and John Devorak.  It's basically a discussion of tech news stories from the week.  It's been the top podcast for some time now, probably because of the well known, intelligent hosts as well as the professional production quality.\\n\\nBrowsing the podcasts available on iTunes can be a good way to easily sample some podcasts on topics you're interested in.\",\"That's a gigantic question -- these days, \"alternative medicine\" seems to run the gamut from \"anything your insurance doesn't cover\" to snake oil & superstition.\\n\\nThe only risk that holds true for the entire range, I suppose, is that your insurance company probably won't cover it.  Some do, though, which has been nice to see.\",\"Dolphins.\",\"Donald Duck was the first major Disney character to appear in color, in his debut cartoon, \"The Wise Little Hen\" in 1934.\\n\\nFYI: Mickey Mouse made his color debut in the 1935 'toon, \"The Band Concert,\" and the first color 'toon from Disney was \"Flowers and Trees,\" in 1932.\",...,\"Try OpenOffice: you can save your document as HTML and export it to PDF file.\",\"Here are some things you can do: \\nConsider taking a daily supplement designed to help prevent the recurrence of a yeast infection \\nKeep you vaginal area clean, being sure to wash the area when you shower \\nAfter a shower or bath, make sure your vaginal area is completely dry before getting dressed \\nWear cotton underpants and pantyhose with a cotton crotch \\nAfter using the toilet, always wipe from front to back \\nAvoid sharing towels and washcloths \\nWash your under garments in hot water and skip the fabric softener in the dryer \\nAvoid clothing that is tight in the crotch \\nAlways change out of your exercise clothes or swimsuit immediately after working out or swimming \\nChange your sanitary pads or tampons frequently and avoid using ones that are scented \\nAvoid using heavily scented soaps, perfumes and talcum powder \\nAvoid douching \\nUse antibiotics only when necessary \\nEat a diet high in vegetables, protein and grains as well as consuming yogurt that has live acidophilus bacteria; avoid processed foods, sugars and alcohol \\nAlways use a water soluble lubricating jell during sex \\nConsider using a condom if you are having sex and have a yeast infection \\nMake sure you vagina is well lubricated during sex; avoid sex if it feels painful \\nIf you are experiencing chronic yeast infections and are using hormonal contraceptives, like the birth control pill, consider changing your birth control method\",\"yes I think they will win finals i am 98% sure they will lebron james is better than kobe bryant and micheal jordan go lebron james i cant wait till lary huges comes back\",\"Type in \"Dave Pelzer autobiography\" Yahoo Search.  Gives several book sites to chose from.  Any book store or library could help you also.\",\"down.  Someone told me that is the reason the us government is no longer going to announce how much  money is held by foreigners is because oil is going to cost euros not US dollars.  That will make $$ go down because it won't be in demand.\",\"you should contact St. Louis City Government services, Possibly Health department.\\n\\nhttp://stlouis.missouri.org/citygov/health/\",\"http://www.cgasports.com/teams/fall/fbl/fblhome.htm\\nOn this site, it says that Sophomore punter Jesse Harms also earned first-team All-conference honors for the second straight season. Harms led the league with a 42.1 average which ranked him sixth in the nation\",\"Noooooooooooooooooooooooooooo... lol\",\"Right now they are helping me to work and be broke. But at least I have running water and electricity, some people don't have that here? why?\",\"I've found the web courses offered are pretty good, on your time schedule and inexpensive if you are disciplined.\\n\\nFor coaching I've done The Coach Training Institute.\\n\\nCan't help you on the substance abuse because I believe that's a therapy issue and outside of the scope of coaching.\\n\\nYou could specialize in post-substance abuse coaching without an issue.\\n\\nI'd be happy to answer any other questions you may have.\"],[\"Girl u are crazy if u get married after two months! Trust me--give it time. There is no way on this earth that you know enough about this person in order to marry them. Me and my boyfriend have been together for almost 2 years and we still learn new things about each other everyday. Just wait a while and find ways to really learn about each other. You are still in that lust, crazy about each other, wanna kiss all day phase. Although it is fun, it will eventually fade, but the true love will last if it is meant to be. Just give it time, dont rush it. Good luck\",\"wordpress.com is the best free blog site that I have ever seen. It alows you to easily make customizable weblogs.\\n\\nhttp://shanegfowler.wordpress.com/\",\"WWW.members.yahoo.ca then go to directory then go to members then go to advanced search.\",\"How can you love someone who said that to you?  He doesn't even want to be your friend.  What kind of relationship would that be?  It certainly wouldn't be very good for you.  He would use you for your love.\\n\\nYour feelings are hard to get over.  I've been there.  Trust me, they will go away in time.  Just keep yourself busy with other friends and activities.\\n\\nIf you can't avoid seeing him, and I strongly suggest you do until you get over your feelings, just be calm and polite.  Don't initiate conversation other than \"Hi\", and if he asks you questions, answer simply.  As far as he knows, you are doing just fine without him.  That will make him hurt, just a little.  Don't throw yourself at him, because that will just make him run.\",\"I found a bunch of manuals...some you can download, some you have to order hard copies.  I didn't see that exact model but you may find some of the others helpful.\\n\\nClick link below to see what I found:\",\"buy a walkman\",\"stone build a structure...no...uhh..natural stone builing buildings...uhh...\\n\\nWHAT???\",\"Sex and love are not the same thing. Sex is not an extension of love. Sex is sex and love is love. When the two come together then its great but sex without love satisfies for a brief moment only.\\n\\nAnd... no having sex with you doesnt mean he loves you.\",\"Go to: www.findarticles.com\\nEnter: nelson mandela and prison\\nDoing this search, I came up with more than 900 articles.\",\"Its the Time Warp from the Rocky Horror Picture Show\",...,\"By skiing I assume you mean water skiing, right?  If this is the case, i usually start soon after I get my boat in the water (mid-late May).  However, I live in southern New England, so depending on your location you might want to start sooner or later.  I know my answer is sort of vague, but I hope it helps.\",\"Because people are close-minded and can't believe that some people are born loving people of the same sex, just like themselves are born loving people of the opposite sex.  It is shown throughout the animal kingdom that homosexuality is not just a human thing, but something that many animals partake in.\\nI don't see why it matters to so many people anyway.  I mean, why do they care if loving someone of the same sex makes someone else happy.  Worry about your own happiness.\\nTo each his/her own.\\n:)\",\"Women are prohibited from wearing patent leather shoes in public. \\n\\n\\nIt is illegal to get a fish drunk. \\n\\n\\nThe Ohio driver's education manual states that you must honk the horn whenever you pass another car. \\n\\n\\nNo one may be arrested on Sunday or on the Fourth of July.\\n\\n\\nParticipating or conducting a duel is prohibited. \\n\\n\\nBreast feeding is not allowed in public. \\n\\n\\nIn Ohio, if you ignore an orator on Decoration day to such an extent as to publicly play croquet or pitch horseshoes within one mile of the speaker's stand, you can be fined $25.00. \\n\\n\\nIt is illegal for more than five women to live in a house. \\n\\n\\nBay Village \\nIt is illegal to walk a cow down Lake Road. \\n\\n\\nBexley \\nOrdinance number 223, of 09/09/19 prohibits the installation and usage of slot machines in outhouses. \\n\\n\\nClinton County \\nAny person who leans against a public building will be subject to fines. \\n\\n\\nCleveland \\nIt's illegal to catch mice without a hunting license! \\n\\n\\nWomen are forbidden from wearing patent leather shoes, lest men see reflections of their underwear. \\n\\n\\nColumbus \\nIt is illegal for stores to sell corn flakes on Sunday. \\n\\n\\nFairview Park \\nIt's against the law to honk your horn \"excessively\". A grandmother was fined for honking her horn twice at her neighbor. \\n\\n\\nItems left on a tree lawn become city property. A young man was fined for removing an item from a tree lawn even though he had the owner's permission. \\n\\n\\nIronton \\nCross-dressing is against the law. \\n\\n\\nLima \\nAny map that does not have Lima clearly stated on the map cannot be sold. \\n\\n\\nLowell \\nIt is unlawful to run a horse over five miles per hour. \\n\\n\\nMarion \\nYou cannot eat a doughnut and walk backwards on a city street. \\n\\n\\nNorth Canton \\nIt is against the law to roller skate without notifying the police. \\n\\n\\nMcDonald \\nYour goose may not paraded down Main Street. \\n\\n\\nOxford \\nIt's illegal for a woman to strip off her clothing while standing in front of a man's picture. \\n\\n\\nPaulding \\nA policeman may bite a dog to quiet him. \\n\\n\\nToledo \\nThrowing a snake at anyone is illegal. \\n\\n\\nStrongsville \\nCatch 22 is banned. \\n\\n\\nYoungstown \\nRiding on the roof of a taxi cab is not allowed. \\n\\n\\nYou may not run out of gas.\",\"Yep, if you can't boot up to safe mode there is not much you can do except for change your bios to boot to a CD ROM first, insert a Windows disk, and reload it.\\nGet antivirus installed right away next time.\",\"You get used to it.  It gets easier over time and eventually you don't mind it.  Or am I just a freak (Steve, 2006).\",\"yes, but i don't believe there are any good causes\",\"Yes, it will, but, it'll have to be voiced-over. And maybe even subbed.\",\"type the default ip address in the browser\\nand change the password there\\nbut i couldnot understand ur question\\nhow is yahoo account realted to wifi??\",\"Honesty, time, understanding, and friendship. It would be easy to say cute, but no one is cute to everyone. I wanted and found a MAN who is caring, loving, listens to me, understands me, spends time with me doing things we both enjoy. I know what we don't want in a guy....drunk trying to be cool for your friends, cheaters, a big ego. Or any guy with (sps) small penis syndrome!!! What is sps = when a guy puts women down to make himself feel better about his lack of penis size.\\n Hope all this helps!!!\\nNudelyweds\",\"living in a yellow submarine\"],[\"The one who has strongest will power.\",\"yes he should he is failing his people ,and all the mexicans protesting the AMERICAN PEOPLE  instead of mexico are cheating their own people\",\"I will pray for your dad. Is your dad a Christian? I hope he is aware of the wonderful gift that Jesus Christ gave us all when he died on the cross for us. If he is aware, then he knows that in heaven, they'll be no more pain. I'm sure that gives you some comfort also. \\nDear Lord, Please be with your child Don as he goes through this terrible ordeal. Be with his family, and keep them strong and give them the loving comfort that only you can give. In Jesus' name I pray. Amen.      Best Wishes\",\"Great Teachers:\\n1.  Don't ever stop learning.  They always are finding ways to help their students through professional development and personal research.\\n2.  Don't look at teaching as a job, but as a calling.\\n3.  Don't make students feel dumb, but instead empower them.\\n\\nGreat Teachers DO:\\n1.  Get to know students at a personal level.\\n2.  Take time to know parents and be available to them.\\n3.  Make curriculum accesible at many levels because no class is going to have all students at exactly the same place.\",\"he likes you more than just friends but maybe he doesnt want to lose the friendship if you guys go out or something!\",\"A free pass only includes free airfare,free pass into any stadiums to watch any matches,can take any seats as you wish,free full breakfast,free all you can eat lunch,free Ala-cart dinner with only one bottle of wine or liquors,free limousine service 24 hours a day,free one hour laundry service,free escort service from 7 am to 9 pm,free local or long distance to around the whole world.\",\"I have been sober too. I did like going to the meetings initially, but then now I dont. But I've managed to be sober. It was a wonderful experience, but there were some aspects that bothered me...\\n\\nanyway, congrats on being strong and keeping urself sober for 4 years !!\",\"Start.. settings...control panel.. add/remove.. delete said program\",\"who the hell he is . . . and I don't think so . . . he is 100% human . . . unless you think he is part fish. . .\",\"let her pik a topic the guy NEVER piks the topic its one of the things ive found thru xperience but whatever topic she piks go with it and be honest\",...,\"I found this: \"On Nov. 30, 2005, we sealed the time capsule, and copies of the application and data are now saved at Yahoo! and at Codefix Consulting.\"\",\"hummmmm.. am not very clear with what ur saying but if its what am thinking try dragging it to ur main screennnnnnnn...\",\"yes and 2 girls (twins)\",\"For what age?\\n\\nFor the younger ones keep it concrete. For the older ones make it relevant.\\n\\nI love Mathsphere for worksheet resources, but I use National Numeracy unit plans for my teaching (UK - primary).\\n\\nTry looking up the 'National Whiteboard Network' for lesson ideas, plans and resources that use interactive whiteboards.\",\"Ohio Revised Code.  Instead of putting it in here, try putting it in your browser and watch what comes up.\",\"Try wikipedia.com, good luck\",\"Typically a covering over the hair. Think of Orthodox Jewish women and you will get the picture. The practice in Paul's day for Jewish women to cover their hair was about the same as it is today. It is a sign of the power of God over their lives, just as the yarmulke (kippah / skullcap) is a sign of God's authority over men. It is a sign of respect.\\n\\nYes it is a sign of authority, but not in the way the church would normally take it.  A careful reading shows that a man doesn't have any authority above him except for Messiah. There is not supposed to be a \"covering\" over him like a pastor, bishop, archbishop, cardinal, pope, priest or rabbi.  All of these are unneeded. The concept of a hierarchy that the church has established over people is unbiblical.  Each of us are to be independant thinkers!\\n\\nMessiah is the head over the Body. He has authority over the Bride. Similarly the husband is to excercise the same sort of loving authority over his household. Messiah is not a tyrant and the husband is not to be a tyrant over his household either.  Way too many men over the years have gotten that wrong.  They look upon their wives and families as slaves, servants, etc, instead of as helpers and advisors. The person answer above who claimed that women didn't get respect is incorrect. Read Proverbs 31:10-31 about how the virtuous woman was viewed. There is no disrespect there. She make decisions to purchase property on her own, she is a good business woman. This passage, called Aishyt Chayl is read by the husband to the wife every week at the beginning of the Sabbath in a Jewish home.\\n\\nMany Christians dispensationalize this passage and say that it was for the culture of Paul or Corinth but is not for our culture today.  But the verse which you cite doesn't speak of human culture, rather it speaks of angels. To dismiss the command in this way is to claim that the \"culture\" of the angels has changed.  So my own belief is that the command is still in effect.\\n\\nThe second way in which this command is dismissed by many Christians is to say that the covering is a woman's long hair. This is based on their understanding of verse 15.  However, verse 6 would appear to deny that since it says if she doesn't wear the covering she should have her head shaved. So a woman who doesn't have long hair should have her head shaved until she gets long hair? No, of course not. Rather it is a scarf that she wears over her hair, and if she doesn't wear the scarf, she is to shave her head as well.\\n\\nSome will claim that the command is only to a married woman. But I will point out that verse 5 says \"every woman\", not \"every wife\". It is a general command and is not specifically for married women. The scarf is a symbol of the power and authority she has in Messiah, whether she has an earthly husband or not.\\n\\nThe fact that women cover their hair is also attested to in Numbers 5:18. The fact that women always covered their hair is widely attested to in regards to the women of Israel. Paul was speaking to the formerly pagan women of Corinth and giving them general instruction in the reason why this was done amoung the women of Israel.\\n\\nAs to whether you choose to start wearing a scarf, that is between you and God. Hopefully this will help you to arrive at the correct understanding of the passage.\",\"Good luck.  Go onto SciFinder and get a literature reference, and then hope that it's reported.\\nProbably easier to just make it and measure it.\",\"God does tell his through his word that \"no man knows the day nor the hour.\"  Because of this, we should live our life as if Jesus were to return today.  Even if Jesus doesn't return today, you never know when he may call you home.  Life is taken to much for granted, it can be taken away in a blink of an eye.  If that were to happen, are you ready?\",\"Yes there are people stupid enough. Americans get brainwashed in school, so they think war is good and necessary to overthrow other countries that think different then the USA. I think they just attack countries that have things that they want (e.g. Oil) or strategical need. They place people there that work in their interest. And then declare it as war on terrorism while I think they are the biggest Terrorists themselves. Between I really think that the US, Britain and all their other partners are being controlled by the same group anyway.\"],[\"I believe that if i shine (light source) into a (refelcting decive) that it will do (what you think it will do)\\n* the () are what u put in duh\",\"It means U can install things that require registry modifications. Registry are little modules refered to the operating system if u erase 1 4 mistake ur Operating System might fall.\\nto see if u have admin privilegies go to control panel and choose accounts.\",\"The Moviepass software package includes a file which causes pop-up style windows to appear on your computer demanding payment and threatening to impair your credit rating or take legal action.  The file has different names but always includes notify, notifier so it sounds like this is the file you're referring to.\\n\\nIf it's only just appeared on your computer then it's safe to say that unless you cancel your account (or submit payment) you're going to start getting demands for payment within the next 3 days.\\n\\nGo to this website... http://profend.com/answers/moviepass which tells you all about Moviepass, how to remove it from your computer, how to cancel your account etc.\",\"No, I don't trust the bitch\",\"stop watching scary movies.. but if we will translate ur dreams, ghost means past or something from the past. black signifies isolation or maybe transistion from good to bad. box signifies something that u wanted to keep safe, treasure.. if u will put them together, maybe its something like a friend (persons close to u, person u like/love/treasure) from the past which u will have a problem with (relationships)\\n\\njust pray that this will never happen\",\"i like some one dangerous (in a good way) but not afraid to show a sensitive side some1 to make me laugh and some1 i can trust some1 who accepts me for who i really am\\n\\ni dont like ppl who pretend to b some1 else coz they dont lke who dey r or bys that r full of em selves and also the opposite of the above\\n\\nwhy you ask any way??\",\"currently their website is gone and all the news i can find is dated in '02 or such. pretty safe bet that they're inactive right now\\n\\ntoo bad, i liked them too.\",\"Forward the email to 'spam@uce.gov'. They work with the Federal Trade Commission and they will stop that person emailing you. Be consistent, report them all.\",\"January 2007, I am getting my passport next week :) but for the other direction (Canada to the US)\",\"because 7 ate 9.\",...,\"Makhaya?\",\"\",\"(m)\\n\\nAlexandra Hospital\\nRaffles Hospital \\nSingapore General Hospital (SGH)\\nKK Children's Hospital \\nNational University Hospital\\nAlexandra Hospital \\nChangi General Hospital \\nEast Shore Hospital and Medical Centre \\nGleneagles Hospital and Medical Centre \\nInstitute of Mental Health \\nKandang Kerbau Women's and Children's Hospital \\nMount Alvernia Hospital and Medical Centre \\nMount Elizabeth Hospital \\nNational Cancer Centre \\nNational Dental Centre \\nNational Heart Centre \\nNational Skin Centre \\nNational University Hospital \\nSingapore General Hospital \\nSingapore National Eye Centre \\nTan Tock Seng Hospital \\nThomson Medical Centre \\nView Road Hospital\",\"While the Steelers are playing below their potential, and a lot of that can be blamed on the coach, you absolutely can't fire Cowher.  Think of what he's done long term, playoff appearances, division titiles, Super Bowls.  The man clearly knows how to run a football team (even if that hasn't been clear this year) and is entitiled to continue coaching because of what he has done and can contiue to bring to the franchise.  He's better than anyone that would replace him anyways.  Why would anyone, especially someone as classy and loyal as Rooney, fire someone so accomplished just because of one unfortunate year?  If you want to blame someone, blame the offense and special teams for turning the ball over so much.  That's the real reason we're 2-5 and not 4-3 or 5-2.\\n\\n\\nBesides, he's going to retire in a year or two anyway.\",\"Everyone is different..for me nothing happens...but for when i am pregnant..for the first period i miss i get cramps..but for when i am not pregnant i feel nothing..i just realize that i started my period when it happens\",\"I am!  :)  She said that she is leaving Amy there and if they don't let her stay then that's there problem. Tracy is very inconsiderate.\",\"Boon!\\n\\nUnless I've been wrong all my life and the Burlin Wall was built to keep people out.\\n\\nOne point is that often people stay in power by doing what will get them back into power rather than what is needed for the greater benifit of the nation.\",\"You are probably right, we are not in the norm. Yes I am married and I love my husband more than I thought was ever possible to love another human being. We are true and faithful to each other and we have been married for 19 years this past August and have 2 wonderful teens. We love telling people how long we've been married when asked and  hope to have many many more years together. Thanks for asking and I hope you are happy and in love as well. Love is a very precious and wonderful thing, if you have it you are truly blessed!\\n\\nHope you have a Happy Holiday Season as well!!!\",\"Are you kidding?\\n\\nA whole lot of teams would have gone undefeated with their schedule.\",\"the right to levy taxes\"],[\"In each case, the atomic mass is unimportant...the Normality of a soln is Molarity x valence...N=VM\\n\\n#1...b. 3.00=3M, so M=1.00mol\\n#2...a. N=0.100x2, so N=0.200 equiv\\n\\nYou can visualize eg that HCl has only one H to ionize, whereas H2SO4 has two...so only takes half as much to do the job. \\n\\nHCl + NaOH ---> NaCl + H2O...but\\nH2SO4 + 2NaOH ---> Na2SO4 + 2H2O\",\"Sorry, but practice makes perfect.....\",\"i'll show you the \"big bang\"\",\"I don't think this statement of yours is not true. Let me tell you why: I've dated Blacks, White and Latinos. White men can be just as aggressive as a Black man or a Latino man. The only shy white men that I've encountered are white collar men (business suit wearing men). Blue collar white men such as construction workers, electricians, plumbers, mechanics, all handy men, there is nothing shy about these guys. I've dated them, I know! They are just as romantic and funny and sensitive as any other cultured man. I've dated only 2 business men and they are more reserved because they have so much swirling around in their heads. Such as the almighty dollar bill. So don't get it twisted sweetie. A man is a man the private parts are just a different color! Take it from someone that has dated a lot of different nationalities. Haven't dated an Asian yet! But some of them are quite cute as well. Things that make you go emmm!\",\"Well, just go through this with your advisor, imagine if you were to die/become totally and permanently disabled now, how much do you think it would cost to sustain your living/lifestyle? \\n\\ne.g if you think that $36k is enough to cover for a year of expenses, then take this amount and multiply by how long you think you will need it for. \\n\\nHow long depends on how long you want to live, the mortgage loan term and if you have children e.g. You will need this insurance payout to last you for at least 20 years(usually). \\nTherefore, $36k *20=$720k\\nThat calculates the amount of coverage that you would need.\\nTake into considerate, if any, the assets you intend to liqidate in case of death/TPD. That could include existing investments and assets like car, house, gold. \\n\\nYou would be looking at the sum that you need after deducting the assets. That is the amount you ought to be insured for.  \\n\\nSpousal insurance is bought when the spouse has economic value, ie contributing to the household income. It's best to buy if you don't want to be burdened by heavy financial responsibilities on your own.\",\"Josh Shockman vs. Jake O'Brien (Pictures)\\nRound 1\\nThe first frame is all O'Brien. Jake scored three takedowns in the round and scored with some ground and pound. Sherdog.com scores it 10-9 for O'Brien. \\n\\nRound 2\\nMore of the same in the second round. O'Brien scored with several takedowns, followed more standups from referee Steve Mazzagatti. The crowd grew restless and showered the arena with boos as the pace remained slow. Sherdog.com scores the uneventful round 10-9 for O'Brien. \\n\\nRound 3\\nDifferent round, same story. More takedowns from O'Brien followed by ref standups due to lack of action. Sherdog.com and the three judges' score the fight 3-27 for Jake O'Brien. \\n\\nJames Irvin (Pictures) vs. Hector Ramirez (Pictures)\\nRound 1\\nRamirez charging forward with hard strikes early in the round. Irivn lands some crisp kicks to Ramirez's leg. Ramirez scores a single leg and quickly takes Irvin's back. Irvin escapes. Irvin launches a wild spinning back fist that misses. Both fighters trade punches. Ramirez scores another takedown just as the horn sounds to end the opening stanza. Sherdog.com scores it 10-9 for Ramirez. \\n\\nRound 2\\nIrvin continues to score with the low kicks. Irivn lands a superman punch. Ramirez throws a sloppy looping punch that is countered by an Irvin straight right directly on the button. Irvin finished with a kick to the body and some some elbows to the back of his downed opponent's head. Irvin wins by TKO (Strikes) 2:36 R2. \\n\\nSherman Pendergarst vs. Antoni Hardonk\\nRound 1\\nPendergarst scores a quick takedown. Sherman working hard with lots of punches from Hardonk's guard. The referee restarts the action to standing. Pendergarst is totally gassed out from the ground and pound he executed early in the round. Hardonk scores with a few kicks to the leg. Hardonk lands a straight left then a hard lowkick that end the fight. Hardonk wins via KO at 3:15 of the first. \\n\\nNick Diaz (Pictures) vs. Gleison Tibau\\nRound 1\\nTibau stuffed an early Diaz shot and muscled the fight to the canvas. Tibau working his ground and pound from Diaz's guard. Diaz turtled and Tibau tried to take his back, but Diaz reversed the postion. Tibau then worked for an ompalata and a tight Kimura. with 1:20 left in the frame, Diaz swept and landed some nice ground and pound of his own. Sherdog.com scores the close first round 10-9 for Diaz, who stole the round in the last minute. \\n\\nRound 2\\nTibau pushed Diaz to the cage and worked unsuccessfully for a takedown for about 60 seconds. A visably fatigued Tibau flooped to guard. Diaz moved to knee on belly against the cage and pounded the Brazilian out. Diaz wins via TKO at 2:27 of the second round. \\n\\nJoe Stevenson (Pictures) vs. Dokonjonosuke Mishima (Pictures)\\nRound 1\\nMishima quickly throws Stevenson to the mat. Stevenson locks up a very tight guillotine but Mishima escapes. Mishima moves to side-control but Stevenson works back to guard. Stevenson locks up another guillotine but this time forces a tap. Stevenson wins via submission at 2:07 in the first round. \\n\\nBrandon Vera (Pictures) vs. Frank Mir (Pictures)\\nRound 1\\nVera with a left hook. Vera lands a straight right and a vicious knee that rocks Mir. The former champion shoots but Vera stuffs and drags him to the canvas. Vera striking from side-control. Mir is in huge trouble. The referee halts the action at the 1:09 mark. \\n\\nAlessio Sakara (Pictures) vs. Andrew McFedries\\nRound 1\\nRight hand lands for McFedries. Sakara lands a knee from the clinch. McFedries lands a punch that briefly stuns Sakara. Sakara lands a few body punches then a straight right that ejects McFedries mouthpiece. McFedries takes the fight to the canvas after eating a Sakara right hand. Sakara starting to tee off with punches from short and long range. McFedries lands a right uppercut that drops Sakara. The American then finishes with a few punches before the referee stops the action at the 4:07 of th\",\"hotjobs.com, monster.com, careerbuilder.com, ...  if you're a job seeker are free\\n\\nIf you are an employer, go to www.craigslist.com to post for free.\",\"Wow, what a wonderful question.  I am a republican and am proud of my fellow Reps, we have not pressed lawsuits, whined, complained or anything.  Simply looked forward.  Simply analyzed what a Dem win meant, and considered the good and the bad.  Yet we did not cry fraud, or complain.  We simply looked at what happened, and how we can continue to progress America.\",\"The 2003 is not much better than the 1999.\",\"\",...,\"Personally, I enjoy the Snape/Me relationship in my mind.\",\"cause they are idiots\",\"First: 1/R1 +1/R2 = (R2+R1) / (R1xR2)\\n\\nRt = inverse of this =  R1xR2/(R1+R2)\",\"May I grill in the parks?\\n\\nGrilling must be confined to enclosed metal containers and may only take place within dedicated grilling areas. Hot coals must be doused with water, and ashes and coals must be properly disposed of in red used-coal receptacles. For more information, contact the applicable region office.\",\"\",\"duh...... just try to make your voice a little high pitched than usual.\",\"I certainly hope so!!!\",\"Yes.Ronaldo finally recieved a ball that he didn't have to either move towards or drop half his pizza to score with.\",\"Both men and women has 24 ribs.\",\"Violet\\nVelvet\\nVeronica\\nMadelyn\\nMercy\\nMaggie\\nMirabelle\\nMystery\\nSophia\\nSarina\\nSadie\\nSamantha\"],[\"i know what you mean. It could be that you are more mature than them or either just not into the things that they are.\\nThis has always happened to me so I ended up being a loner because I'd rather do my own thing. It is lonely at times but it is also best because \"friends\" can get you in a lot of trouble.\\n\\nIm not saying dont speak to other people, but still do your own thing.\",\"If there are any substitutions left then another goal keeper will take his place.If there aren't any left then a player from the same team has to take his place.\",\"The Internet is an excellent venue for your quest for justice.\",\"If you want to transfer files fast by FTP there is filezilla\\n\\nhttp://filezilla.sourceforge.net/\\n\\nIf you want to download fast you have leechget\\n\\nhttp://www.leechget.net/\\n\\nIf you need to Browse fast or download fast on a browser use the best browser in the galaxy Mozilla Firefox.\\n\\nhttp://www.mozilla.com/firefox/\",\"\",\"Guys who are secure and confident in themselves will ask out girls they are truely attracted too. So the answer is not, definitely, yes. If he hasn't asked you out, he may just want to be your friend but, more likely, he might really be interested in you but not sure enough of himself to ask you out. If he wants too but doesn't, then you don't want him anyway. He sounds afraid, confused and frustrated to me because he is sending you mixed signals. This would suggest that he want's to ask you out but doesn't know how to, or is afraid of rejection. He probably is intimidated by your age. Sounds like an infatuation and he's trying different approaches to feel out the best way to grab your attention. I could be wrong but he doesn't sound very mature or experienced.\",\"I think you read about a 6 cylnder  4stroke eng.You can`t have 6 cycles the eng will not run no way possible.You can have a 2cycle eng  when everything happens in 2 strokes (1) intake and compression.(2) power and exhaust.On a 4cycle eng it`s (1)intake (2) compression (3)power or ingition (4) exhaust\",\"http://www.justafreak.com/law/northcarolina.shtml\\n\\nI like that elephants may not plow cotton fields.  I suspect that *could* be counterproductive.\",\"The place that you drop off your bribery money to get things done\",\"are you willing to move and get paid a little in order to gain experience? i would recommend experience over more school (MBA). keep looking. look at clubs/professional organizations, trade magazines in the field you are seeking. remember you can't start at the CEO or senior VP.\",...,\"First Adam may not even be a real name but a representation.  The word really means dirt or dust (adama).\\n\\nTaking him as a person, all of us are like Adam.  Sometimes we are selfish.  Sometimes we help one another.  We strive to move toward doing things for one another that make the world better.\\n\\nThe words heaven, hell and original and sin are church words that try to explain things we really know nothing about in the first place.  What is important is to live our lives to the full.\",\"George Bush illegally and unconstitutionally invaded another sovereign nation for only two resons: 1) He wanted to 'get even' with Saddam Husseing for humiliating his daddy during Desert Storm, and 2) Big Dick Cheney wants oil that oil that' swimming underneath Iraq's sands. Until he has a rock-solid, iron-clad arrangements in place, NO TROOPS WILL BE WITHDRAWN FROM IRAQ. After all, Cheney's buddies at Halliburton and Exxon-Mobil need to get richer and richer and richer.\\n\\nBush, Cheney and Rumsfeld are the most evil, corrupt, and incompetent morons ever to occupy the White House. The current U.S. Congress is the most evil, corrupt and incompetent body ever to occupy the Capitol Building.\\n\\nThese people all deserve to be impeached or tried for high treason. If convicted, tehy deserve to face a public firing squad.\\n\\nCheck out the new blog - BUSHWACKER!\\nwww.blogger.com\\nhttp://al-aback.blogspot.com\\n\\nCertainly Satan has reserved a special oil-soaked corner of Hell for Bush, Cheny and Rumsfeld where they can spend their eternal damnation blaming each other for destroying the Earth.\\nBush has not done ONE productive thing since he stole the last two elections. However, he has:\\n\\n1. Massacred tens of thousands of Iraq's citizens and 2,500 U.S. soldiers;\\n2. Turned America into a police state where his billion-dollar boondoggle, Homeland Security, considers everyone guilty until proven innocent;\\n3. Tarnished America's reputation as a global leader and worldwide peacekeeper;\\n4. Contributed to the demise of the Earth through failed environmental and ecological policies;\\n5. Virtually eliminated the American middle class to a point where, within a generation, the U.S. will be a two-tiered society like Haiti and the Dominican Republic: there will be the very, very rich (Bush's buddies) and (the rest of us) the very, very poor;\\n6. Put the USA trillions of dollars into debt, which will take generations to pay off (if it ever can);\\n7. Neglected the poor, the sick, the aged, the disabled, the hungry and the disadvantaged in America;\\n8. Greedily played \"Robin Hood in Reverse\" by taking from the poor and giving to his rich friends, special interest groups, lobbyists, and mega-corporations who in turn make generous (if not illegal) campaign contributions to the GOP;\\n9. Given every other country in the world reason to fear us and a motivation to build their own nuclear weapons with which to protect themselves from the new \"evil empire\", the USA;\\n10. Tortured \"prisoners\", most of whom are being held without legitimate charges, and most of whom are being tortured outside of the rules of the Geneva Convention.\\n\\nThomas Jefferson once said: 'The tree of liberty must be refreshed from time to time with the blood of patriots and tyrants.\" That time is way past due. It's time for a new American Revolution that will completely demolish the Republican and Democratic parties and eliminate the stranglehold these wicked power brokers have on American politics.\",\"What about the obvious handball?  The ref should be in jail!\",\"Gerald,\\n\\nThat's easy.  You!\",\"omg i love that in a girrl\\nim not looking for sex\\nbut want a relationship\\nso message me sometime\\n;)\",\"The invisible man, I'd be straight into the girls changing room!!!\",\"That there is a hell and everyone thinks their not going there but most of the world is going there if they dont turn to God. You will all understand once judgement comes for all of us.\",\"It's wired in our brain\",\"de foot mais pas pour être sélectionneur d'une équipe nationale plutôt d'une petite ville et encore certainement qu'ils y en a de meilleure !!!\",\"As an old techie, I tend to look at the hardware, or more specifically the connections.\\n\\nIf your connections are in an area that has gotten dusty over time, clean it out with appropriate dusting measures or canned air.  Unplug your computer, unplug your speakers from the computer, whiz out the connector with canned air, clean both ends with alcohol on a cotton swab, whiz out with canned air again, make sure you have a secure connection (if loose, tape steady in the squarely-in position), and then restart the computer and see if your problem is resolved (suggest you clean all other connections while you're back there).\\n\\nBest wishes! :)\"]],\n",
              " 'train': MemoryMappedTable\n",
              " id: int32\n",
              " topic: int64\n",
              " question_title: string\n",
              " question_content: string\n",
              " best_answer: string\n",
              " ----\n",
              " id: [[0,1,2,3,4,5,6,7,8,9,...,9990,9991,9992,9993,9994,9995,9996,9997,9998,9999],[10000,10001,10002,10003,10004,10005,10006,10007,10008,10009,...,19990,19991,19992,19993,19994,19995,19996,19997,19998,19999],[20000,20001,20002,20003,20004,20005,20006,20007,20008,20009,...,29990,29991,29992,29993,29994,29995,29996,29997,29998,29999],[30000,30001,30002,30003,30004,30005,30006,30007,30008,30009,...,39990,39991,39992,39993,39994,39995,39996,39997,39998,39999],[40000,40001,40002,40003,40004,40005,40006,40007,40008,40009,...,49990,49991,49992,49993,49994,49995,49996,49997,49998,49999],[50000,50001,50002,50003,50004,50005,50006,50007,50008,50009,...,59990,59991,59992,59993,59994,59995,59996,59997,59998,59999],[60000,60001,60002,60003,60004,60005,60006,60007,60008,60009,...,69990,69991,69992,69993,69994,69995,69996,69997,69998,69999],[70000,70001,70002,70003,70004,70005,70006,70007,70008,70009,...,79990,79991,79992,79993,79994,79995,79996,79997,79998,79999],[80000,80001,80002,80003,80004,80005,80006,80007,80008,80009,...,89990,89991,89992,89993,89994,89995,89996,89997,89998,89999],[90000,90001,90002,90003,90004,90005,90006,90007,90008,90009,...,99990,99991,99992,99993,99994,99995,99996,99997,99998,99999],...[1300000,1300001,1300002,1300003,1300004,1300005,1300006,1300007,1300008,1300009,...,1309990,1309991,1309992,1309993,1309994,1309995,1309996,1309997,1309998,1309999],[1310000,1310001,1310002,1310003,1310004,1310005,1310006,1310007,1310008,1310009,...,1319990,1319991,1319992,1319993,1319994,1319995,1319996,1319997,1319998,1319999],[1320000,1320001,1320002,1320003,1320004,1320005,1320006,1320007,1320008,1320009,...,1329990,1329991,1329992,1329993,1329994,1329995,1329996,1329997,1329998,1329999],[1330000,1330001,1330002,1330003,1330004,1330005,1330006,1330007,1330008,1330009,...,1339990,1339991,1339992,1339993,1339994,1339995,1339996,1339997,1339998,1339999],[1340000,1340001,1340002,1340003,1340004,1340005,1340006,1340007,1340008,1340009,...,1349990,1349991,1349992,1349993,1349994,1349995,1349996,1349997,1349998,1349999],[1350000,1350001,1350002,1350003,1350004,1350005,1350006,1350007,1350008,1350009,...,1359990,1359991,1359992,1359993,1359994,1359995,1359996,1359997,1359998,1359999],[1360000,1360001,1360002,1360003,1360004,1360005,1360006,1360007,1360008,1360009,...,1369990,1369991,1369992,1369993,1369994,1369995,1369996,1369997,1369998,1369999],[1370000,1370001,1370002,1370003,1370004,1370005,1370006,1370007,1370008,1370009,...,1379990,1379991,1379992,1379993,1379994,1379995,1379996,1379997,1379998,1379999],[1380000,1380001,1380002,1380003,1380004,1380005,1380006,1380007,1380008,1380009,...,1389990,1389991,1389992,1389993,1389994,1389995,1389996,1389997,1389998,1389999],[1390000,1390001,1390002,1390003,1390004,1390005,1390006,1390007,1390008,1390009,...,1399990,1399991,1399992,1399993,1399994,1399995,1399996,1399997,1399998,1399999]]\n",
              " topic: [[4,5,2,6,6,4,1,7,4,1,...,5,1,1,3,7,6,1,6,6,0],[1,4,1,6,6,6,5,6,6,1,...,6,3,4,1,8,4,6,3,3,5],[2,1,4,7,6,7,3,6,9,6,...,5,6,7,6,2,3,6,6,0,3],[0,8,6,6,0,7,8,6,7,6,...,0,0,3,6,2,8,1,2,6,6],[1,5,7,2,7,5,0,6,9,4,...,8,4,5,6,6,4,7,6,7,1],[1,6,7,6,6,4,6,3,1,0,...,3,2,7,6,4,7,6,6,3,3],[7,9,6,4,9,1,4,9,4,6,...,1,1,8,7,1,9,7,1,4,6],[6,3,1,9,4,9,6,6,6,3,...,6,3,4,4,2,6,6,1,5,8],[8,6,8,3,6,1,1,6,3,8,...,6,6,2,6,1,3,3,0,6,2],[3,6,6,1,4,4,0,1,4,0,...,6,6,1,5,6,1,8,6,9,1],...[8,2,1,2,1,4,7,1,7,9,...,2,7,3,0,7,2,8,0,6,9],[4,0,8,9,1,5,9,2,3,8,...,7,9,9,6,4,7,3,3,2,1],[9,0,9,0,2,6,1,3,8,1,...,6,7,6,5,3,5,8,7,4,7],[4,5,3,7,8,0,2,0,8,8,...,8,7,4,4,3,7,5,1,2,8],[5,6,3,8,7,5,8,7,4,5,...,5,4,0,5,4,6,0,9,2,0],[8,5,3,7,1,7,4,9,0,8,...,1,4,6,7,9,5,8,3,8,7],[6,9,5,2,7,7,0,8,1,6,...,9,8,9,4,7,4,5,7,0,1],[3,9,0,6,7,3,7,2,8,0,...,4,1,9,0,6,5,2,6,8,2],[3,9,0,6,8,1,0,0,4,5,...,3,4,1,3,7,5,3,5,0,2],[7,8,8,0,6,8,7,4,6,9,...,7,0,3,9,2,2,6,2,0,4]]\n",
              " question_title: [[\"why doesn't an optical mouse work on a glass table?\",\"What is the best off-road motorcycle trail ?\",\"What is Trans Fat? How to reduce that?\",\"How many planes Fedex has?\",\"In the san francisco bay area, does it make sense to rent or buy ?\",\"What's the best way to clean a keyboard?\",\"Why do people blush when they are embarrassed?\",\"Is Lin Qingxia (aka Brigitte Lin) \"the most beautiful woman in Chinese cinema?\"\",\"What is the origin of \"foobar\"?\",\"How the human species evolved?\",...,\"what store should i go to to find Oakland Raiders items?\",\"does a high frequency current have more energy than a low frequency one at the same voltage?\",\"how does intestine length equate with tropic level?\",\"I need to know the technical details of night vision goggles. i am a school teacher and today my students ask?\",\"what are the next winning PowerBall Lottery numbers??????\",\"what items can be sent to inmates in jail?\",\"Is there any device to measure pain?\",\"i am looking for an old friend from new jersey named kristen ann mueller?\",\"how should i feel motivated in this company?\",\"how to face the death of someone who is most lovable for you.?\"],[\"the addition of NaOH makes alkaline?\",\"My system's \"D\" drive continually opens & closes automatically -  is this a virus or computer problem? Thx\",\"When people will stay in moon?\",\"Does your company/school/work place gift you on new year? :)?\",\"Who should be allowed to make the decision of mercy killing a patient ifHe cannot make thatDecision by himself\",\"How do I find companies that would be willing to subcontract welding jobs my small welding business?\",\"why are cheerleader underwear called spankies?\",\"if 5 birds were fighting over a worm who would get it?\",\"Can I say I'm a librarian?\",\"prob that a man will be alive in 25yrs=3/5, woman=2/3 whats prob at least one will be alive in 25 yrs?\",...,\"what exactly does a political science major entail? types of courses taken? type of work required?\",\"GIVE THE ROLE OF OSMOTIC PRESSURE AND OSMOSIS IN CONTROLLING THE MOVEMENT OF WATER ACROSS THE CELL MEMBRANE?\",\"when i scan my cookies, how do i know what to remove and what to keep?\",\"the life blood of human existence is based on the use of fossil fuels, can we pass through this period of?\",\"I love my husband but I yearn the touch of a women, how can I get this out of my system?\",\"which desktop search  engine is the best?\",\"What is the best type of index card? Lines or no lines?\",\"What popular expression is sometimes said to derive from President Martin Van Buren's hometown of Old Kinderho\",\"what is the population of Brewster, New York?\",\"Is William,The Fridge,Perry dead or alive?\"],[\"Where I can found about diabet medical information?\",\"why does the moon turn orange?\",\"how do I put video files on a cd-r/rw disc and have them play on a player other than my computer ?\",\"Is Ciara and Bow wow engaged?\",\"whom my Boy friend make a millioner?\",\"what is up with tara reid's voice?\",\"how many people died in world war one?\",\"Which is the world's biggest brand?\",\"if your lawyer gives your settlement check to someone upon your request,?\",\"how do I get my childs last name changed without an attorney?\",...,\"how to become a billiard expert?\",\"Will lightsabers ever be able to be created. In the next 100 years?\",\"There is a song on the Tide commercial, with what sounds like India Arie. What song is that?\",\"what are the exceptions to howmowners loans in louisiana?\",\"How i know if am i crazy ?\",\"when stating you want a career in Clinical Psychology, should Clinical Psychology be capitalized?\",\"GOOGLE wants how much money !!??\",\"custody battle. need help please?\",\"did adam and eve have belly buttons?\",\"What day did the twelve days of Christmas really begin on?\"],[\"When did Standard Amnerican English evolve?\",\"whay sex importent for live  for man  and woman?\",\"how do I cancel Yahoo! Answers?\",\"what do you call a female mule?\",\"How common is it for regular American guys (20s ,30s) to sleep with prostitutes?\",\"my question is who writes and why?\",\"Why do people like smiles ?\",\"Does being on Section 8 mess up your creditbility in the future?\",\"What is your favorite movie?\",\"Hello i am looking  jobs from home can u help me?\",...,\"What is it that 62% of CanadianWomen have done?\",\"Regarding Katrina...?\",\"How can i get 100% at my exams ?\",\"How do I find peninusla park apartments at 4855 W.Fuqua web site?\",\"Why does my heart hurt!?\",\"hey old do U HAVE TO BE TO CHAT WITH A OLDER GUY?\",\"darwin's evolutionary theory( i.e.man has been evolved from monkey)is failed or not?\",\"I am 46.not sleeping good at night.get warm at times.no period in three months. menapause?what to watch for?\",\"where is himalaya mountians?\",\"how can i be an actress??\"],[\"I have removed mothballs from my home.  Is the left over odor dangerous?\",\"How badly will the steelers beat the seabirds?\",\"who considers tupac to be the best rapper of all time?\",\"pads or tampons?\",\"movie times and listings in miami florida?\",\"Who was Army's Famous Mr. Inside and Mr. Outside?\",\"What proof do the ethiopian jews have that they are jewish?\",\"How do I find out my Yahoo Bill pay account number? It's not listed anywhere in or around my account.?\",\"Is common sense an excuse to break the law?\",\"When you have a window open on computer with the songs you have lets say in folder.how can you print a list?\",...,\"Is it just me or are bisexual girls and girl on girl kissing becoming more and more common?\",\"I visited a website that I don't want to appear in my \"address\" section again. What can I do to erase?\",\"we know who is favored ,but who is going to win the super bowl?\",\"What are the differences between a man and a woman?\",\"Do people with no hair get dandruff?\",\"pdp rpc server by device guys - what is it???\",\"does anybody knows if 2006 will be a good year for pisces?\",\"Is sex good or bad before playing any sports game?\",\"the song is from the 80's i believe. if you see me walking by and tears are in my eyes look away baby look awa\",\"What causes people to blush?\"],[\"when you talk about the volume of a gas are you refering to the volume of the molecules themselves?\",\"benefits of combining financial and process auditing in one department?\",\"What Ivy League universities did the lovers of Love Story attended?\",\"Ancient Olympics help?\",\"my search results say 1-1000 out of 80,000.. how do I get beyond the 1000, to the 80,000 ??\",\"Where can u get, good ,spam free and nice online games.?\",\"how do you get pictures and info on inmates in mississippi?\",\"Is it true that one of the definitions of commerce is sexual intercourse?\",\"why are all the plantets round?\",\"are ghost real, or are they a simply a manifestation of your subconcious/concious thoughts?\",...,\"Hi Yall, I need to know where the birthplace is of the only US president born in Texas? A trivia question???\",\"What can be done to prevent or delay the onset of Parkinson's?\",\"Your favorite love songs?\",\"Im extremely sad!. I really like this one guy but he doesnt like me in the sameway. What should i do?\",\"which is the best free online photo album?\",\"What is you Favorite Rock Band?\",\"fear of long words?\",\"English Riddle?\",\"I need information on University of Texas at Austin. Any of you from there, been there?\",\"What is 1 fourth of 19?\"],[\"do you know of a way to get a eminem cd without your parents finding out.?\",\"Why are we still fighting over abortion?\",\"can i declare my charitable contributions if i take the standard deduction?\",\"My Verizon Yahoo DSL installation CD says I need a Network Interface Card?  What is it and where do I get it?\",\"how do i search for a pending lawsuit on the internet,in san mateo county ?\",\"In this Galaxy where would be East of Earth?\",\"apache php fileupload post data lost?\",\"what is populism?\",\"Javascript in Textarea?\",\"what would you dress up as to make someone laugh?\",...,\"what is centioles?\",\"who invented the nucluar bomb?\",\"when is wedding season?\",\"whats the best country song ever?\",\"why does earth have greater gravity than the moon?\",\"the  political of greece in the year 530 B.C?\",\"how do i become an actress?\",\"Is there more than one solar system?\",\"Is there any webcam software out there that will allow more than 2 people to chat and webcam at a time?\",\"Riddle: U r stuck in a ball inside u have a calendar a piano and a locked door what will u eat and escape with\"],[\"is it gud to hate ur parents?\",\"why do people like to keep their memories in pictures and on videos?\",\"why do men have nipples?\",\"What happened in the case of Penry vs. Lynaugh; in 1989?'?\",\"How to find companies using mainframe in US?\",\"who was the first president of the Ethiopia?\",\"In shopping for a bank, what questions should I ask?\",\"how do you know when a girls reaches orgasm?\",\"where can anyone buy welcome back kotter dvds?\",\"what is the only word in the english language in which 1 letter occurs once, 2 letters occur twice and 3 lette\",...,\"When writing a formal letter, when should you use \"Yours Sincerely\", \"Yours Truly\" and \"Yours Faithfully\"?\",\"Do your PSAT scores and SAT scores really affect how your life will turn out (disregarding college)?\",\"Is Windows XP going to be running on the new Intel Macs soon ?\",\"how do I network my brother hl1440 printer with my two home computers?\",\"What makes you angry? and why? and how do you cope with it without expressing it as violent way?\",\"How to get stock exchange to carry your stock?\",\"Does cement have any effect on the growth of fish?\",\"What was the first tree planted on the Earth?\",\"Who wins this weekends playoff games?\",\"Please Help Me Out!!!?\"],[\"So do you think the age 13 is to young to date? Even if we are out with a group of friends?why or why not?\",\"Hi.When you consider a new job, how do you check the credibility of the firm/company before you commit/join?\",\"What do you get a guy for valentines day?\",\"What do you understand by Globalization?\",\"how can i get free satillite pictures of my house and to see stuff in my back yard?\",\"An ice after the accumulation of heat melts, what will you do to delay the melting of ice?\",\"what organisms are susceptible to uv light?\",\"Why don't my questions get answers?\",\"When writing the word\"Please\"in english & spanish can anyone help me in writing in French, Itailian & others\",\"I would like to find on the internet a place where I can find Latin men in my area, PA or MD.?\",...,\"do you think harry potter 7 will be the last of its series?\",\"how can i become rich in a week?\",\"Which are good ways for increasin the amount of calcium we ingest daily?\",\"Is there ant relation between John Adams and John Quincy Adams?\",\"Another Physics Question.?\",\"where did the term 'raining cats & dogs' originate?\",\"what was Elvis' impact on american culture?\",\"Where can you go to learn spanish?\",\"Is there an online company that will send a check on my behalf?\",\"i want to jump down when standing on very high things. what is that symptom name?\"],[\"what is the percentage of homeless in the nation?\",\"Is the water that goes down the drain forever wasted?\",\"Do you know any good music sites?? mine has problems??\",\"WILL YOU ANSWER THIS QUESTION? SHOW WORK! THANK YOU?\",\"Is Yahoo! cooler than Google?\",\"does anyone play runescape?\",\"Who goes to Heaven?\",\"What are cations/anions? Are metals usually cations or anions?\",\"how do i get my website at the top of the search results list?\",\"Why is it that the taliban doesn't want to educate their people.?\",...,\"Why humans love babys of other humans also but that is not the case in animals?\",\"does anyone have the greek name sigma phi gamma?\",\"which comes first: chicken or chicken egg?\",\"Why did jeff alm commit suicide?\",\"I think this government grant program is worth the time?\",\"History of the discovery of DNA was discovered by who?\",\"Im seeing guy online for 2 months and he tells me he hurt himself, say cant talk to me 4 3 weeks what do u thk\",\"What do you do when someone is talking crap on you and you want to beat the heck out of them?\",\"how long do you have to be a police officer before your can join SWAT.?\",\"We are searching for an easy science experiment for an 8yr old to do for a demonstration.  Any ideas?\"],...[\"why when your the best friend and a boy gets a girlfriend are you pushed to the side?\",\"my left ankle is very weak?\",\"how  to figure out if the snake is poisonous?\",\"Are there any kind of foods helps when you're depressed?\",\"Algebra Information needed?\",\"how to get money in one day?\",\"how many think sharon should be slapped for her actions?\",\"What does it means rodete in spanish?\",\"only for strong hearted adults!!!!!!!!!!?\",\"Does anyone view the U.S. soldiers on the internet who lost their lives in Iraq?\",...,\"HI why do I get puffy eyes and rinkles under them?\",\"What's really a women's best friend?\",\"Headteacher's (personal) dislike to me forced me to drop my final practice for QTS!?\",\"΅Anybody on line in Κιπσελι,. Athens near Φοκιανος Νεγρις.?\",\"How do I get rid of this buzzing?\",\"There are lots of advertisement but, Is it possible to make penis enlarge and thick?\",\"I need help from all women!!!!!!!!!?\",\"how to leave this planet earth for we are alliens to this planet earth and suffering till death how to easily?\",\"what about sensex on tomorrow.?\",\"Have animal activists really gone into malls and ruined articles of clothing made from fur?\"],[\"For some reason My cousin and I can't use are yahoo or sbcglobal passwords on her computer, what can I do!\",\"What will happen to the Non Christians when they die?\",\"just wana know y love hurts that bad? y cant the one we love just understand us?\",\"Why is it when we vote for the lesser of the two evils, the great wins?\",\"How can I prove that the derivative of e^x is e^x?\",\"Best and Worst Wrestlemania?\",\"Why are modern conservatives not fiscally conservative?\",\"What are the Nursing and Medical Management of Diaphragmatic Hernia?\",\"praxis 2 10011 20012  can i find a study guide on the web?\",\"what is true love.and when do you know you have it with a person.what is lust.how do you know if it's love .\",...,\"what s sammie new song nd whats omarion new song???\",\"What % of people would only look out for themselves in a huge disaster and what % of folks would help others?\",\"Was it really a Boeing crashing into Pentagon???\",\"Does anybody know some website or place thats does free advertising?\",\"Is there a service on the web where you can type in an address and see a picture of the house at that address?\",\"Does anyone know where I can find info on Darwin's Waiting Room's first CD?\",\"Please help :(?\",\"Meaning for a word or translate a word.?\",\"I want to know side effects of methandriol dipropionate ??\",\"what makes light travel so fast?\"],[\"do you like iran have a nuclear bomb?\",\"GOD is in  TROUBLE ?\",\"What is outcome Learning ?\",\"Are Christians' fears of Homosexuality really just fears of Modernity?\",\"Why Oz girls  are appaling and off-putting?\",\"What is a good web site for daily effective interest rates on bonds of all maturities?\",\"what do mean by hybridization?\",\"Add 37.03, 11.5627, 3.4005, 3423 and 1.141.?\",\"what if your bestfriend is in-love with you?\",\"How to make a simple spectroscope for a school project?\",...,\"What tips/secrets do you have for saving money while living in NYC?\",\"What gets bigger the more you take away?\",\"who is Bruce Sattley?\",\"what website will tell you all the facts about golf like what everything means?\",\"What do you think of a LONELY WEDDING?\",\"Vengeance..who'll win??\",\"my step brother will never shut up while i am trying to watch tv or go to sleep what do i do?\",\"Hey can i get jennifer anistons email id? if anyones havin it plzz give me.?\",\"Auto -complete (windows?\",\"Celebrities adopting...?\"],[\"why does my picture folder no longer open?\",\"any one else here shocked that big ben was sent home from the hospital already?\",\"Cofee or Milk?\",\"Can You Play An Instrument?\",\"My parents want to come stay with me and my wife for a month, how can I say no without hurting their feelings?\",\"are we all gonna die on 6/6/06?\",\"Gaining weight?\",\"how do you tell if a boy likes you or not?\",\"My girl friend consistantly insisting to have sex. What should I do?\",\"to ask a girl on a date do you have to know her wel or can you go to a girl you think you may like and ask her\",...,\"i want a job right now to have stable in life and have a good groth in life so where can i go for it plz tel?\",\"How would you get out of this?\",\"Has anyone else gotten any viruses from www.ebaumsworld.com or is it just me?\",\"web addresses for chat rooms?\",\"i want to know abt english grammer?\",\"\"good bye my lover\" or \"your beautiful\" (by james blunt)?\",\"Quelle autre chaine tv que tf1 retransmet france-espagne?(cable,chaine etrangères?)?\",\"information on kola nut, side effects etc.,?\",\"Does Apple Orthodontix have color choices for braces?\",\"need to know if someone is divorse?\"],[\"If u can see can any two players play one on one who would it be?\",\"if anybody knows, where can i find online if the company is really licensed and registered?\",\"Does IIT offers postgraduate course in computer applications i.e. MCA (master of computer application) ?\",\"Are you ticklish over every inch of your body?\",\"Does anyone know who Donita Sparks is?\",\"how do you text to 52208 from cell fone to vote for man of match?\",\"WHy do your friends ignore you on your last day togeather ?\",\"Rap Fans Only?\",\"how do you password protect xp files?\",\"how does the world cup work? how were these 40 teams chosen as finalists among the worlds best teams?\",...,\"Is Willie T. Ribbs the greatest african-american racer of all time?\",\"how do I close a yahoo e-mail act. ? which I opened on my personal aol.com account ? (for a friend ?)?\",\"Is it normal to have no friends but enemies? Is it a disease? Does it have a cure?\",\"why is freddy adu not playing in the world cup?\",\"What please is a web address for a current, factual well written site for medical facts, articles etc. Thanks?\",\"My brother & I bought a home together.I pay 1/2 of all costs.How do we add my name to the title?Thx (Calif.)?\",\"Isn't MySpace just a sad concoction for people with low self esteem to toot their own horns?\",\"why don't racist Anglos return to Europe , they would fit right in ?\",\"how long will it take to lose 15 lbs?\",\"How does mental fatigue relate to safe behavior?\"],[\"Who likes being a guy? If so why? Who like being a girl? If so why?\",\"How come there is no women world cup soccer?!!?\",\"Please help...........................?\",\"please any information..??\",\"what reasons are there to prove dalton's atomic theory are not relatively all true?\",\"Star Trek Next Generation wedding proposal?\",\"Some shadow is coming around my eyes, creams does nothing to clear it.?\",\"Should the English language dominate? Does it piss you off...?\",\"Who tells you who your enemies are?\",\"Do you believe in Love at First Sight?Does it really exist?\",...,\"What is the chandrasek limit?\",\"How can I find the smtp port!!?\",\"What would be your ideal realistic job?\",\"anyone think wentworth miller - from prison break is hot?\",\"What is your view on abortion?\",\"Since Tiger Woods missed the cut, don't you think that will hurt the ratings of the U.S. Open?\",\"Kids or Man?\",\"Has anyone felt a difference between circumcised and uncircumcised guys sex? Which was better for you?\",\"where can I find public birth indexes?\",\"Does anyone know where The Fast and The Furious Tokyo drift will be playing for the zip code 14701?\"],[\"Are there any restrictions against using word \"University\" in a company name?\",\"I trying to become a  citizen of the cherokee nation?\",\"would any(besides me) like to see don king dead?\",\"what constitute an ideal breakfast for diabetics? can give me some examples pls? thanks. (:?\",\"What actor starred in Pocket Money, The Color of Money and Where the Money Is?\",\"I am looking for the name of a movie. Guys glowed and one caught a bullet with teeth?\",\"18 years old and CREDIT??\",\"I'm still in love with my ex wife.?\",\"Question on Trigonometry?\",\"How to prepare attractive notice to rent out a room?\",...,\"Compare Iraq to Nam?\",\"why we have to make sacrifices for the one we love?\",\"What does everyone think of those chcikenshit cowards that protest at Military funerals?\",\"Anyone know of a good HTML editor for windows (free)? BBEdit works well, but is only MAC software.?\",\"Does Karl Urban die in the movie ghost ship?\",\"where can I chat without installing anything and without being stopped by the office firewall?\",\"What happens in 9 ball (world standard rules)?\",\"i might like you better if we slept together?\",\"this racism issuse needs to be resolved right?\",\"do you know any folkstories about the formation of the earth?\"],[\"interpret ratios and porportion?\",\"People like anothny and other raciest come here and if you think jesus is white?\",\"Where are all the Christian Democrats???\",\"Does anyone here know a real work at home company for a New Jersey woman?\",\"Lyrics quiz #3?\",\"What came first the chicken or the egg?\",\"The First Person to answer correctly wins!?\",\"What is anorexia?Can someone with anorexia get better?\",\"When you are in a dark room with a boy and you like and he likes you too but each other doesn't know it, whatt\",\"Did anyone know that sola scriptura is unscriptural?\",...,\"Where can I buy a cheap IMAC G4 online???\",\"How do you re-dye plastic that's already been colored and formed, aka LEGO?\",\"if a broke a law when i was 16 and didn't appear in court when i turn 18 will it still follow me?\",\"Okay, so I have no need to be scared of God, right?\",\"How do I report a possible illegal scam offer I received in my email?\",\"why don't tennis judges use hawkeye - Is it because it would be abused by constant bickering over line calls?\",\"clinical questions to ask international occupational therapy students?\",\"Real Estate Soft Landing?\",\"how do i get back my baby daddy the love of my life to accept me back from everything we been through?\",\"tell me about the sex?\"],[\"Are there scholarships offered to International students studying in the U.S.?\",\"small car  accident .. dont know what to do..?\",\"What are some ways people lose their religion ;-)?\",\"does anyone know how old the CEO (Tiller) of Polaris is?\",\"Hey guys!  Do you find \"baby talk\" between a man & woman to be cute/sexy?\",\"what causes auroras?\",\"If you knew you were gonna die in a year, what would you do?\",\"How do people expect to find a decent job, when they can't spell?\",\"I have a product i am going to sell, and i am also going to set up an affiliate program for it..?\",\"how much horse power does the yamaha raptor 700r produce?\",...,\"Sample of student comment to lecturer.?\",\"I want to design  Flash XML.. .what program should i be getting??\",\"If heat rises, shouldnt hell be cold?\",\"How do you get your shildren into the college of their dreams?\",\"You are at a Wedding....what's the music to get you on the dancefloor for a bop????\",\"Will the result of the world cup be like this?\",\"What is the difference in any way between \"dislike\" and \"be averse to\"?\",\"How much coverage is the World Cup getting in America?\",\"why is there cheese in my pants?\",\"what is the true and best way for men masturbate?\"],[\"R all Libras cheaters?\",\"who Will go out with me I'm not telling  my age you have to tell me yours firstXD?\",\"Understand him? HOW????? GUYS HELP?\",\"What mythological figure would you most like to be, and why?\",\"what is ecoturism?\",\"hey does anybody in rich hill,mo know how i can get a copy of the elementary schools last 4 years yearbooks?\",\"can somone tell me my destiny?\",\"what is mini tower?\",\"where can I find a leather dealer for my business?\",\"how much is the attorney fee?\",...,\"Have you tried to play the lottery with 'the numbers' from LOST?\",\"Why believe in such hopelessness?\",\"where can i get a horse's skeletal and muscular systems on a web print-out?\",\"In a quest to promote racial equality does the government/media actually drive ethnic groups further apart?\",\"what is the purpose of your pancreas?\",\"do all these ads on tv of yoko etc regarding height increase are of any use?\",\"Ways to sell your video games?\",\"is it normal to have nots in your breast or boobs??\",\"Who can speak Hindi??\",\"where can i find websites  were i can have a virtual pet??\"]]\n",
              " question_content: [[\"or even on some surfaces?\",\"long-distance trail throughout CA\",\"I heard that tras fat is bad for the body.  Why is that? Where can we find it in our daily food?\",\"I heard that it is the largest airline in the world\",\"the prices of rent and the price of buying does not make sense to me, mostly the rent will not cover the mortgage . Is it better to rent a house or to buy?\",\"I have very small stuff stuck under my keyboard and it prevents it to from working. What will be the be\\nst way to clean it?\",\"Why do people blush when they are embarrassed?\",\"This is according to Stephen Chow (http://www.hkentreview.com/2005/features/kfh/kfhprem.html). Is it true? Who is the best-looking male star? Did they make any movies together?\",\"I want to know the meaning of the word and how to explain to my friends.\",\"How the human species evolved?\",...,\"Ineed jackets shirts coats anything Raiders for my husband\",\"how do inverters work?\",\"\",\"\",\"i will share the winning pot with you ---\",\"\",\"I mean physical pain like a cut, burn etc\",\"she lived in morristown\",\"\",\"\"],[\"\",\"\",\"\",\"\",\"The Doctor?\\nRelatives? \\nMother?\\nSpouse?\\nNo one?\",\"\",\"\",\"\",\"My dictionary told me that 'librarian' means the chief manager of a library.  I'm just a staff member of the library.  Can I say I'm a 'librarian'?\",\"\",...,\"\",\"\",\"\",\"dwindling natural supplies of fossil fuels or is this truly a sign that we are seeing the decline of humankinds ability to exist on this earth?\",\"\",\"\",\"What looks more professional?\",\"\",\"\",\"\"],[\"\",\"\",\"\",\"\",\"he is very poor & have no any way to earn millions in very quik time\",\"am i the only one who thinks it's soooooo annoying??\",\"\",\"IBM, Microsoft, Google, Yahoo etc\",\"if the money is not given to me can the lawyer be sued for putting the check in the other persons name without permission\",\"my ex signed off all custody of our child. he pays no support, has no visitation. i want to change her last name to my maiden name before she gets any older and remembers the last name she was originally given. i dont want her to go looking for him when she is older. how do i do this with limited funds in LaPorte, Indiana. I cant afford a lawyer to do it for me. thank you.\",...,\"\",\"Like Star wars woluld it be possible to ever create a lightsaber.\",\"\",\"\",\"\",\"\",\"GOOGLE's counterpart for Yahoo! Answers requires people to pay to get their questions answered. Who thinks that GOOGLE is over their heads on trying to capitalize on all these internet features, that should be FREE? Their stock price is already at $400 a share, how selfish are they?\",\"\",\"\",\"\"],[\"When did \"American English\" become the standard? What \"English\" did the Founding Fathers speak? (British, American, a mixture?)\",\"\",\"I signed up by mistake and wish to cancel\",\"\",\"\",\"what is the purpose of the riddle\",\"\",\"\",\"\",\"i want work with my computer\",...,\"\",\"Liberals say the governemnt let us down during Katrina. Isnt that proof that we need to not lean on government so much but learn to take care of and be repsonsible for ourselves?  Not to count on the governement to take care of us?\",\"\",\"\",\"i get this weird pain in my heart i have had it for over a year now but why is this could this be to do with my drinking problem also ?\\n\\nim also against exercise. i dont like doing exercise!! ill just go out when i got a bitta money in my pocket but will stay on the computer when i aint!\",\"\",\"some people say that its failed others believe in it.which is it?\",\"\",\"\",\"\"],[\"\",\"\",\"\",\"\",\"\",\"Espn's History of Football\",\"They claim the Queen of Sheba had an affair with King Solomon and they are the offspring..nothing in the bible says this happened...by jewish tradition...you are jewish if your mother is jewish...so how are these people jewish..?  Even if the story were true, only the father was jewish, not the mother....\",\"\",\"Imagine being in front of a stoplight that hasn't changed in a long time. There are no cars coming from the left or right. Should you just run the red light carefully, reasoning that the light might be faulty? \\nIf you get pulled over right after, is the officer being unreasonable for enforcing the law?\",\"\",...,\"I read AOL and Yahoo profiles and more girls are looking for girls then there are girls looking for guys.  Also, bisexual female activity has been bred into almost every TV show from Buffy the Vampire Slayer to Roseanne.  Girls are kissing girls at the MTV music awards and one of the most popular groups is Tatu, a lesbian couple who make out with one another during their concerts.  Even Madonna is kissing girls sucsh as Britney Spears on national TV.  I like this trend but am I the only one that sees it?\",\"My computer tries to anticipate addresses when I type in an address, by displaying places I have been before, which is OK when I'm using my computer, but not OK when my kids are.\",\"refer to my  question i asked you\",\"On all aspects...\",\"\",\"blocked by Windows\",\"\",\"\",\"\",\"Why do people blush, it must have some purpose? I know we blush when we get embarassed, but why?\"],[\"explain?\",\"we have departments (financial auditing and operation auditing) and we want to combine them into one internal auditing department.\",\"\",\"I need help with the ancient olympics, Please Help.\\n\\nWhy were they held?\\nWhat was in them, What games did they play?\\n\\nI will rate the best answer to  whoever answers those two questions.\",\"\",\"\",\"\",\"I have never heard that one until now. Any comments? See link.\\n\\nhttp://en.wiktionary.org/wiki/commerce\",\"\",\"\",...,\"Hi Yall, we have the most difficult trivia contest (Texas trivia that is) to complete so I am lookin for a little help... Any help would be greatly appreciated!!!\\n\\nBye Yall !!\",\"My father had it.  It came to him at about my age, 67.  I've started to have trouble with my balance and my right hand shakes when I'm tired and stressed.\",\"List as many as you like.\",\"\",\"any recommendations? thanks!\",\"\",\"\",\"What is the missing letter in this series and why? \\n\\nB C D E I K O X\",\"How is the place, and how is the university itself? I mean general atmosphere, graduate student financial support, international students,etc. and how is Austin? Thanks a lot.\",\"\"],[\"My parents go looking around my room when i am not home but i do have a mp3 so i need to know how do i get his cd n my mp3 without my parents knowing.\",\"\",\"\",\"\",\"\",\"\",\"im trying to use php and an html form (method=post) to do file uploads. it works fine for files under 1k , but anything larger causes all of the post data to be lost. I have checked the php.ini file , the maxUploadFileSize and maxPostSize, they are fine.... Im thinking maybe there is aome configuration conflict in apache that is fliping out when the post data is larger than about 1k... does anyone have an answer or guess?\",\"\",\"<script language=\"javascript\">\\n     alert(\"Javascript\");\\n</script>\",\"we want to make our friend laugh really hard\",...,\"\",\"\",\"the time of year\",\"\",\"why does earth have greater gravity than the moon\",\"\",\"\",\"I heard that there's more than one solar system. Is it true? If possible, please name one other solar system besides \"The Solar System.\"\",\"I have 2 daughters and we would love to webcam all togther.  One big problem: One has WIN98SE and so far can't find a suitable webcam communication software that supports both WINXP and WIN98SE.\",\"Student in the seventh @ St. Eugene School\"],[\"i hate my parents a lot i dont want to live with them. i just feel like running away from them. they dont treat me as there daughter. just to show off i am there daughter. if my bro makes a mistake they would scold me.i mean my bro has cultivated bad habits( smoking & drinking) they cant scold him so they scold me. there r so many problems like this but i cant sayall those things . plz suggest wht to do?\",\"this is a psychology question, i need it answered by tuesday.\",\"\",\"I'm doing a paper on this case for my Law and Society class and it's been extremely hard for me to find any information on this case. Any help would be greatly appriciated. Thanks you\",\"Not software development companies.\",\"\",\"\",\"\",\"\",\"what is the only word in the english language in which 1 letter occurs once, 2 letters occur twice, and 3 letters occur three times???\",...,\"\",\"I got in the 77% percentile (169) on my PSATs this year. Does it affect your life after college at all? Or is just for colleges to see? Will anyone ever ask me what I got on my SATs after college?\",\"how close are we to getting XP hacked/patched to run on the new intel Macs ?\",\"the two computers are connected through a router for the internet ability on each, now how can I hook up the brother hl1440 to print from both?\",\"\",\"We have a company we would like to get on the exchange\",\"Fish farming techniques\",\"\",\"Pats at Denver\\nSteelers at Indy\\nRedskins at Seattle\\nPanthers at Chicago\",\"Hi,\\nI am 14 and have liked this absolutely amazing girl for 2 years now. I wrote her a love letter, at the beginning of this school year, which brought tears to her eyes! (as she read it to everyone) She has a boyfriend that knows all about me (we were/are actually pretty good friends) I am in love with her but need to get to know her a little better, we are friends but not that close yet. I am a little nervous when I am around her… do you have any tips to help fix that? Also can you give my ways to get her to like me more and go out with me (what should I say, conversation starters…) Thanks for your help, I truly appreciate it!\"],[\"\",\"Its just that am looking for a job change. Am currently working for an MNC, but the new firm where i have been accepted is a really small time company, but its offering me the kind of job i have been looking for, something that i've been waiting for..\",\"\",\"do you think is fair?   would you support it?   what are its ups and what are its downs....\",\"\",\"\",\"\",\"I get an answer or two on about half of my questions.  Do I share interests with no one here on Yahoo! Answers BETA???\",\"\",\"I love Latin men but have been unsuccessful finding a free website or photo personals on the internet.  I am looking in PA or MD.\",...,\"pls answer\",\"\",\"\",\"\",\"An ice skater, whose moment of inertia is I = 4 kgm^2, is spinning at 2 rad/sec. She changes her moment of inertia to 2 kgm^2. Her 1)angular momentum remains the same 2)angular velocity increases 3)kinetic energy increases 4) all of above 5)none of the above.\",\"\",\"\",\"\",\"I would like to pay with a credit card, and have a check mailed directly to a person.  They are not near a Western Union and do not have PayPal, and I do not want to send a check myself.\",\"when I saw someone cutting something with any sharp tools, it would pictures in my mind for a long time, and  \\nthe object is me who get cut like the things i saw.\"],[\"\",\"\",\"I am really wanting to listen to music but I cant find ant sites that you dont halft to download or pay for. can any one help me out here? I cant afford to buy alot of cd's! SO TELL ME!!\",\"A SHOPPER BOUGHT $52.10 WORTH OF GROCERIES AND MUST PAY 8% TAX ON THE PURCHASE. WHICH IS THE BEST ESTIMATE OF THE TAXES SHE WILL PAY?\\n\\nA. $40.00\\n\\nB. $20.00\\n\\nC. $8.00\\n\\nD. $4.00\",\"It would seem that Yahoo have really made a great effort to create (and in some cases buy) some killer websites and services. Sure, Google does great stuff too, but my hat is tipped to Yahoo for making such a valued contribution to the Social Web. Nice work!\\n\\nhttp://en.wikipedia.org/wiki/Social_Web\",\"\",\"What is your personal opinion?\",\"\",\"i have a website and when i search for my type of business, i want my site to be on the top 10 list.  how do I get this to happen?\",\"is it because by being illiterate they are easier to control?\",...,\"\",\"because I'm looking for a greek name\",\"\",\"\",\"but do you?\\n  http://www.swapselltrade.com/govgrants.htm\",\"\",\"\",\"\",\"\",\"\"],...[\"My bestfriend who ive known for 6 years pushes me aside everytime he gets a girlfriend. And i have to become her friend to really hang with him.\",\"my ankle easily gives way like when i`m climbing the stairs,going for a walk,any movement really.anyone have the same problem and how to fix it please?\",\"whether the particular snake is poisonous? just by seeing it!!\",\"i've read that some kind of foods really helps to lift the spirits up when  you are depressed.if you know about it plz tell what kind of food helps to overcome depression?\",\"I'm about to finish my AA degree and elementary Algebra is needed.  I never took it in grade school, so I need a good website that can start me from the beginning.  Any suggestion will be helpful, but I need this to finish my last six credits.  Please help me somebody!  Make sure its free too, I am strapped w/student loans already.\",\"\",\"i will be glad when they get caught,\",\"is a part of a centrifugal pump\",\"if after ur death ur given 3 options 1)go to HEAVEN and become a slave there 2)go to HELL and become a king or queen  3)stay on EARTH but as a horse.       what will u choose?\",\"The #'s are rising, and I'm worried to death my fiance' will have to go over there. What's the best way to support our partners?\",...,\"\",\"Diamonds, guys, pillows, vibrators, shower massager or you fill in the\",\"I feel utterly betrayed by the system in allowing this to happen! Despite reporting the situation and asking countless times for support. How is it fair that I have had to finish my education degree without QTS, due to this woman! The problem being I have a disability, and was told that I should have to choose between my health and my career. Seeing as my disability will never leave me, i was informed that teaching was obviously not meant for me! She then refused to discuss it further (no two guesses why) and asked the university to remove me from placement. As it was my final year, I had to drop the QTS if i wished to graduate this year! I feel seriously dissappointed about this, I had the support from the teachers i worked with regarding this situation, however when i came to make my complaint about it, no-one stepped forward to verify the unfair treatment i had recieved. Headteacher Vs Student.... No-one listened and I missed out on QTS! Its very wrong!\",\"A broad street with lots of outdoor cafes and shops.  Fun to \\nvisit night or day.\",\"\",\"\",\"Women baffle me. (Duh!!!!)  But I'm determined to better my relationships with them.  I don't know why just yet....  (Moving on)   Can I get some \"detailed\" pointers.   Some good example's I've come across that were eye openers:  Women really don't care about how something works, even if they look like they're paying attention while you're talking (Hours of wasted explanations on my part!!!  Thanks estrogen).  also, Never correct a woman's misspellings, they take it differently than a man would.      Thanks for any help you can give.  And try not to be vague please.... Example:  treat them nice.\",\"\",\"\",\"This image of animal activists is the one I see portrayed in popular culture a lot. Usually the activist would inconspicuosly walk into a mall, ask where the furs are, and then proceed to yell out \"Fur is murder!\" while branding the words onto the coat/wrap/etc. with spray paint.\\n\\nBut I seriously cannot see activists in real life doing this because of the flawed logic (or so it seems to me). Wouldn't the act just make the retailer ask for more fur from their suppliers, therefore increasing the killing of animals? They would be hurting their own cause, and I imagine that people so passionate about their cause would be more careful about endeavouring into something of that nature.\"],[\"Are passwords work everwhere else and on everyone else computer but not her's what can I do to fix this issue.  I was on the phone with SBC for 7 hours and they still could not help me.\",\"I often hear that if you know of Jesus and ignore the truth, you'll burn in hell for eternity.  But what about Muslims, Jews, Hindus, Bhuddists, or non-religious people who have never heard \"the good news\" of Christ?\",\"\",\"\",\"\",\"What's your favourite and least favourite Wrestlamania?\\n\\nMy favourite by far is Wrestlemania 17, the card from top to bottom was amazing, Jericho and Regal kicking things off was sweet, Angle and Benoit putting on a wrestling clinic, TLC II was jaw-dropping especially the last spot with Matt and Bubba going through all those tables, then Taker and Triple H was a pretty decent slug-fest with a cool ending, and finally an off the chart match between The Rock and Stone Cold to finish it off, the crowd absolutely loved that match, the thing that keeps it from being a perfect Wrestlemania was the ending with Austin joining McMahon, in my opinion this Wrestlemania was the climax of the Attitude Era, unfortunately it was all downhill from there.\\n\\nThe worst Wrestlemania for me was Wrestlemania 13only highlight was the Austin vs Bret classic, the rest were absolute rubbish, especially the Main Event, where Sid Vicious supposedly had an accident in his pants, which is quite fitting = crap\",\"I thought that was the whole reason to vote republican. Bush loves pork so much his arteries are clogged.\",\"\",\"\",\"I want to know the meaning of ture love.what's the diffrent bettween love and lust.how can you tell if your mate love you for real are is it just a game.\",...,\"where can u find them for i  can listen 2 the songs at??????.....please help me out\",\"My view of humans is less and less optimistic. I would like to say that they are not self serving but I cannot lie to myself. Soldiers actually have to be programmed into thinking that their fellow soldier is their brother and they should under no circumstances leave them behind to die. It is sad that something like that should have to be taught.\",\"Watch http://www.pentagonstrike.co.uk/flash.htm#Preloader\\nbefore trying to answer.....\",\"\",\"\",\"They had a CD out before Orphan.  It was self-titled.  I'm looking for a track listing and any other I can find.\",\"Does anyone know any website that will let my read a book (such as: a glorious age in africa) on the internet?\",\"Where can I use a website other than using Google Translate or Altavista Babel to find a word from other language. For example if I enter a word star, I may get other word from other language such as astro, stella.\\nThe disadvantage of using Google Translate and Babel is that it only provide only several languages.\",\"methandriol dipropionate is a hormon and I use it for bodybuilding\",\"\"],[\"iran maybe will have nuclear bomb ? what is your idea\",\"many unwanted thing happening on earth so some people questioning if god is there why all this happening do you think all this unwanted thing happening due to god is in trouble because many people on earth praying to him keeping him very busy and making him tired and bored  thus causing him trouble and due to this he is unable to act.\",\"This Film is a MUST SEE for any parent who loves there Child !!\\nhttp://opposingdigits.com/vlog/?p=207\",\"Much of Christian fundamentalism appears directed very specifically against various aspects of modernity: modern science, modern social institutions, modern gender roles, etc. Modern gender roles, though, seem to be the most important. \\n\\nThe traditional gender roles supported by Christian fundamentalists are more detrimental than helpful to society; in the long run, America will be far better off the more equal the involvement of both men and women in society can be.\",\"\",\"Not just the 1 year, 3 year, 5 year, 10 year maturities, but also all the dates in between.\",\"\",\"A 3476.1342\\nB 3500\\nC 3524.4322\\nD 3424.1342\\nE 3452.4852\",\"\",\"Please make it simple\",...,\"\",\"\",\"\",\"like when they have vegative or positive numbers and all that stuff mostly on the scoring of it\",\"No family, no friends, just the priest to marry the man and the woman. Ever heard of a wedding like this? Would you like it?\",\"who will win?\\n1. Edge or RVD\\n2. Cena or Sabu\\n3. Foley or Flair\\n4. DX or S.S\\n5. Umaga or Eugene\\n6. Bengamin, Nitro or Carlito\\n7. Angle or Orton\\n8. Kane or \"Imposter Kane\"\\n\\nanswer soon\\n5.\",\"\",\"\",\"does anyone know how to clear the auto-complete on search engines etc..i have tried deleting cookies, deleted the history, and the files..\",\"Do you think celebrities adopting children is just a fad and that they are doing it for publicity? \\nOr it is because they don't want to go through what it takes to actually have children i.e. pregnancy etc? \\nOr is it that they genuinely do care about these children?\"],[\"I have two picture folders as subfolders on my computer, and they no longer open. all the other folders open but those two folders. I can't even Explore or Search these particular folders either. What do i do? Whats wrong?\",\"just goes to show you cant keep a buckeye down  we all have hard heads\",\"Who runs the risk of getting fat, a person who has breckfast with ONE biscuit and one cup of cofee or a person who has breckfast with ONE biscuit and one glass of milk?\",\"What instrument can you play?\",\"Last time they did this, and we said \"yes\".. they stayed for almost 6 months...and it got bad because they never paid for anything... pretty expensive having two grown \"children\".. Have to pay for more food, more gasoline, more electricity...   They don't even say thanks when they leave!! and if they do...it's sort of a \"thanks..but it was your obligation anyway\"...  I'm tired of it..\",\"\",\"I am about 5'0, 5'1 and 102lbs i would like to gain 10lbs. Any advice on what to eat or how to work out?\",\"from a boys point of view\",\"\",\"help please!\",...,\"hi \\n i want a jo immedataly\",\"Your hands are cuffed behind you, you are in the back of a child locked car. The driver, a crazy man, gets out of the car leaving you alone. What would you do? Best answer gets 10 points!\",\"I have gotten a virus each 3 time's I've downloaded from this website. It is www.ebaumsword.com each time I download something from it I get a virus.\",\"i am late 30s and great fun a good listener and a good friend. i want as many chatroom assresses as possible wana check them all out\",\"\",\"\",\"\",\"i need to know how it metabolizes in the body, does it effect the heart, thyroid, diabetes, hypertension, dopamine etc.,\",\"\",\"\"],[\"\",\"i have registration number!\",\"\",\"\",\"\",\"ya know, that text number that's provided on ESPN's U.S. telecasts of World Cup inside the 75th minute of every match, so viewers can vote for their man of the match\",\"Today is my last day in school and i am  on the computer typing thjis and they are all playing \"base-ball\" with a yardstick and a tennis ball ..... nosw they are going outside and leaving me.....what should  i do???? i want to leave them on a good mote but how am i to do that if their not around me??? I need advice FAST! thanks 4 all the help from alll of you that answer me...\",\"What is ur favorite rap song this summer?Mine are Snap Yo Fingers, Ridin (remix), and Its Goin Down.\",\"\",\"how many games did these teams play in order to qualify for the world cup? how many teams were actually eleminated? Is there a broad range of ability and skill among the 40 teams of the world cup?\",...,\"\",\"need to close the yahoo e-mail act. , as this person and I have moved on to different relationships. Thank-you , I'm new to computer stuff and this my first, yahoo e-mail or (question)\",\"\",\"\",\"I write a weekly medical article and need current, interessting facts, I always have to search for hours looking thru advertisments and come ons, getting 1/8 fact and 9/8 fluff.\\n\\nLike to get the medical word on the street here.  Thank you.\",\"\",\"\",\"this so called country was built on grenocide , plunder , invasion , theft , fraud , slavery , oppression, exploitation , shame , dishonor , and without scruples,  etc. \\nthe hate comes in because we remind them that they are the invaders. their ancestors committed genocide with our grandparents. stole our country forced us out. \\nplaced us in reservation ( American concentration camps ) place others in federal prison ( the Apache and our great leader Geronimo ) , boarding schools ( cultural castration schools ) \\nthen they still have the audacity to call our land theirs.\\nThey are shameless because they like the benefits of what they acquired but they don't want the blame for it.\\nthey cant have it both ways though , without being exposed \\nfor who they really. our genocide of 100 million people plus is not even taught in schools.let me add this no brown or red person is illegal to any part of these continents , thats something europeans invented.\\nSource(s):\\n\"A LITTLE MATTER OF GENOCIDE ''\",\"my sister is 5'6 and 136 (and .16) . she wants to lose 15 for life. she is gonna eat start eating healthy and do atleast 40 minutes of cardio 5 times a week. plus she might get up early and run before summer school for 20 minutes 3 times a week, but this is a maybe.\\n\\nhow long will it take her if she does run in the morning? how long will it take her if she doesnt? \\nor how long wil it take her to vtleast start looking really good?\\n\\nim looking for amounts of time not \"make sure she eats this\" and \"drink lots of water\" and all of that (we already know.) just amount of times\",\"\"],[\"\",\"\",\"What is A.S.A.P. mean\",\"does anyone here knows any site where i can  listen to whatever music i want..????plz tell me...\\nthanks in advance.!!\",\"1. Every element consists of tiny, indivisible, indestructible particles called atoms.\\n2. All atoms of a particular element have the same size, mass, and chemical behavior.\\n3. Differences in properties of elements result from differences in the atoms of the elements.\\n4. The atoms of the elements combines in a compound are combined in a definite ratio.\\n5 .A chemical reaction is the result of rearrangement, combination, or separation of atoms.\\nThese are the 5 theories of john dalton\",\"In which episode (name, number and season) did Will propose?  I think it was on the holo-deck!\\n\\nCan anyone help?\",\"I am a born Indian, presently working in Riyadh, Saudi Arabia for last 9 years.  Day by day the shadow around eyes is getting increased.  Can it be removed?\",\"I'm a liberal, accepting and loving person of all races, religions, etc. Maybe it's just me but, if I were to uproot my family and my life to move to a different country where it would be better for me, I would take it upon myself to learn their language. It offends me and really pisses me off that in an engilsh speaking country, the best one on earth, has to start adding spanish words to our public signs and private lives to adapt. I've even met immigrants who REFUSE to speak english! I live in Michigan for Christs sakes! If you're going to travel, move your whole life and the lives of your children, go through the process to become legal, or risk being here illegally, why the fuck is it NOT improtant to learn the ways of life here?!? I understand that it's they're heritage and they're proud, that's fine but, THEY made this choice!\",\"Who defines for you what group of people are enemies and how you should deal with them?\",\"How is it possible to feel so much for a stranger, a passerby?\",...,\"\",\"I've to finish a test with this multiple question!!\\na.start>run>ipconfig\\nb.start>run>msconfig\\nc.start>run>telnet>open\\nd.start>run>nslookup\\nCould you tell me the answer!?\\nThanks for your reading!\",\"Let's face it, you're not going to be president and you're not going to play in the NBA.  But if you could get the education you needed, or financing you needed, or move to whatever geographic location you needed, what would you choose to be your profession?\",\"\",\"Of course I only asked the question so that I could force feed my opinion. :)  I believe that life is precious so abortion should be illegal because we have methods of protection available, ie contraceptives.   I also believe, however, that certain circumstances can arise such as rape and incest in which cases abortion should be allowed.  What is your opinion on why we cant get common sense back into the government?\",\"I can only imagine what the advertisers of the U.S. Open must be going through without Tiger there. It has to mean a lot fewer viewers!\",\"Who should come first in a merrital relationship? Should a woman put her kids above all others? Or should a woman put her husband above all others? Is there a chain of commmand that should be fallowed or can a woman pick and chose who she puts first?\",\"\",\"In wisconsin, or other states, how do you find birthdates, or birth indexes?\",\"I looked online and I can't find any place in my area that will have Tokyo drift.  My area code is 14701 which is Jamestown, NY.  If you find anything please tell me what theatre and what site you found it on.\"],[\"This is a company that offers series of courses -- if there are benefits of calling the company ___ University, please include that too.  thx\",\"I am trying to find out what restitiution I will get from the government. Also any other benifits come with being a cherokee citizen.\",\"\",\"\",\"\",\"I keep thinking that it is a Bruce Lee movie but, i am not sure. Anyway Basically There is two guys good and bad. the bad can glow first and near the end of the move the good glows and catches a bullet with his teeth. Any help would be appriciated!!!!!!!\",\"so im 18 years old and i pulled all three of my credit reports. i notice my scrore was low. i have nothing on my credit report. so i was on the yahoo website and saw on the home page about the orchard bank credit card. i applied and was not approved. how can i raise my credit score im only 18...why does it start out so low?\",\"In May of 2005 my wife told me she no longer loved me. She said she felt like a single mom because I had a very demanding job. She said she could take care of herself and didn't need me anymore. She chose her friends over her husband. She was all gung-ho when she found out she could get money from the state as a single mother to go back to school on and collect child support and live with her parents plus collect half of my 401K. We were high school sweethearts and got married after she graduated high school. We were together for 13 years and married 9 of those years. We have a 7 year old daughter together named Megan. I was crushed and put divorce off hoping to work things out. It got crazy in September so with advice from family I filed for divorce on 9-9-05. She was upset because the newspaper showed me filing against her. I was torn apart and became like a hermit with alot of unanswered questions. I took friends advice and started dating again.\",\"(sin(x+h) - sin x )/h I know the answer is cos x but i just can't get to it. Can you please help me.\",\"I'm trying to rent my small room. I need to prepare a notice that can attract people to come and take a look at it and rent it (of coz).What sort of items do I need to list in the notice?I would like to have a sample of that sort of notice.\\n\\nHELP NEEDED URGENTLY\",...,\"I was in Nam 1966, 1967. \\nThe problem we had then was our politics same as is going on right now cept now have found out how to make big money from it like Johnson did.\\nPeople take this politics out of this and let the Military take care of it.\\nIf so we will not loose all those poor men I have been hearing about.\\nThose poor men are just that people they are men and they do know what they are fighting for. So let them do it there way and shut up with the bleeding heart thing.\\nI made this statement for our men over there, Because i know what they are going though with all this polictical stuff.\\nSo just wondered if there were any Nam people here that know what i know?\",\"\",\"These people that go to the fallen soldiers funerals to protest. Where was that zipperhead Sheehan or fatass Micheal Moore. My opinion is let the people around them decide their fate. Me I would shoot everyone of one of gutless baitches.\",\"I'm fine hard-coding in Notepad, but an application would make this so much easier. Thanks.\",\"\",\"\",\"Your opponent is shooting at the 2 ball. He shoots the cueball hard, and miscues, the cueball jumps up on the rail, rolls over the side pocket, hits the corner pocket, bounces back on the table, and hits the 2, which hits the 5, which goes into the other side pocket.\\n\\nWhat do you do?\",\"maybe thats never, never say never.....\\ndo you like the song?\",\"i don't understand why the world is so racist.i just don't understand can someone explain to e why .is it jelousy or is it just because the color of our skin.i just don't understaand because in second grade i saw a skooter and i touched it and some kid came up to me and said no brown girls alloed to touch my bike i'm eighteen but i still remember that day because i cried really hard.that's why i'm asking this question.\",\"plz send me sources\"],[\"The ratio of the number of boys to the number of girls in an algebra class is 4 to 5. If there are 45 students in the class, how many are girls\",\"Do you think jesus is black after you read this article \\n\\n\\nCNSNews.com) - One day before it debuts in theaters, a black activist group is protesting the Mel Gibson-written, directed and produced \"The Passion of the Christ\" film, not because of the film's violent depiction of Jesus Christ's final hours. Instead, they say the film is historically inaccurate because Jesus is portrayed as a white man, not a black man.\\n\\n\"Strangely absent from the debate is one very basic inaccuracy which has been long promoted in order to bolster white supremacy and maintain a revisionist history that is beneficial to only people of European descent,\" said Malik Z. Shabazz, national chairman of the New Black Panther Party in a statement Tuesday.\\n\\n\"This purposely omitted fact is that Jesus was not a European white man. Jesus Christ was a black man - a dark skinned Hebrew Israelite from Northern Africa and even the only Biblical physical description confirms this (Rev. 13:20),\" said Shabazz in a statement..\\n\\nChapter 13 of the Book of Revelations only ends with verse 18. After CNSNews.com contacted the New Black Panther Party to clarify the Bible verse they referenced, Imam Akbar, national minister for the New Black Panther Party, explained that the original reference was a typo on their original press release.\\n\\nAkbar instead, pointed to Revelations 1:14 and 1:15 as well as Daniel 10:6.\\n\\n\"His head and his hairs were white like wool, as white as snow; and his eyes were as a flame of fire; 15 And his feet like unto fine brass, as if they burned in a furnace; and his voice as the sound of many waters.\" (Rev. 1:14 and 1:15)\\n\\n\"His body also was like the beryl, and his face as the appearance of lightning, and his eyes as lamps of fire, and his arms and his feet like in colour to polished brass, and the voice of his words like the voice of a multitude.\" (Daniel 10:6)\\n\\n\"Not only does this film wrongfully depict Christ as white but all the disciples and Israelites are people of European descent, which presents a historical and physical impossibility,\" Shabazz added.\\n\\nThe New Black Panther Party and other black activists plan to stage protests nationwide over the controversy. Not only does the group claim the movie is \"false,\" but also \"harmful and racist.\"\\n\\nThe Anti-Defamation League recently expressed to Gibson its concern that the film would drum up anti-Semetism. Shabazz said his group disagrees with the ADL's claims that the film is \"anti-semetic\" and challenged the ADL to \"deny the historical accuracy of the Jews' attack on Christ.\"\\n\\nBut Shabazz says, the \"true controversy\" surrounding the film \"lies in the maligned history of African people through the world and the continual inaccuracies presented in every Hollywood production to date of any Biblical story from the 10 Commandments to the Christmas Story.\"\\n\\n\"These false images presented are 'anti-black' and these false images and interpretations only seek to further the racist and white supremist idea that God and Jesus Christ 'The Messiah' or 'Savior' is European and white,\" he added.\\n\\n\"This is clearly one more example of how black people in this country are treated unfairly. Black/African history has and continues to be misrepresented, black people worldwide are subjected to the psychologically abusive images of white supremacy and have no collective voice to defend or promote a Black agenda,\" Shabazz concluded.\\n\\nMovie 'not racist,' says black conservative\\n\\nBut Rev. Jesse Peterson, president of the black conservative group, B.O.N.D. (Brotherhood Organization of a New Destiny) said claims that Jesus is black takes away from the overall message.\\n\\nPeterson said he saw the movie last weekend and \"there's nothing in this movie that is racist at all.\"\\n\\n\"It was inspiring \",\"Why do Liberals and Democrats think ony Conservatives and Republicans are Christians. Can you be a Democrat and still be a Christian?\",\"\",\"Woohoo lyrics quiz!! Song title and artist first wins.\\n\\n\"His life is under the gun/He's got to hold every day\"\",\"Explain briefly your theory of creation and how it came to be.\",\"The First Person to answer correctly wins 10 pts. but to get the points you'll have to get all 5 correct.\\nIn which movies they said this 5 things:\\n\\n1. We do not sell our bodies, we sell our skills.\\n\\n2.Eureka, this year christmas will be ours.\\n\\n3.They say that you're a homeschooled jungle freak and a less hot version of me\\n\\n4.I didn't go past second base, which means nothing below the waist... my waist not his.\\n\\n5.I don't want to own anything until I find a place where me and things go together.  I'm not sure where that is, but I know what it's like.  It's like Tiffany's.\\n\\n\\nGOOD LUCK!\",\"\",\"Laura, asking for my friend!\",\"Many Christians believe in the Bible alone, that it is the only authorithy for the Christian faith. Shouldn't the Bible say that? There is no verse in the entire Bible that supports it. How ironic! Sola Scriptura goes against the Bible!\",...,\"or would it be cheaper to get an IBook?\",\"\",\"what i want to know is it true when you turn 18 everything you did when you were a minor goes away\",\"Despite how He has punished people in the past and continues to punish us in different ways for stuff we had no part in (such as the Garden of Eden).  Or how God can allow stuff to happen that troubles us.\\nI am Christian, but hey, everyone wonders about certain things, right?  In fact, at one time I was so scared of God that if the thought of Him being there with me came across my mind, I would get rather uneasy.\",\"I got an email from some guy in Johannasburg stating he has access to $36,000,000 in an account that belonged to someone who is now deceased and if I will open an account and give him the info he will give 25% of the money.  NO!!! I'm not considering doing this as I am sure it's a scam.  What I'm wondering is if it's also illegal and if so, who do I report/forward this email to?\",\"\",\"\",\"How much % we are looking to drop or up as far as house price by end of 2008? \\nLike for example a house cost 500,000 would be sell for 400,000 by end of 2008 or for 600,000 (that is 20% drop or up)? Let me know your guess...\",\"me an my baby daddy have been through alot of shit. and we broke up about 2 weeks ago. i got to see him an be with him. he tells me he loves me and everything. but yet he tells me he does not wanna go back out with me. i told his secret his most kept secret that is horrible to be telling everyone, but instead i got mad at him one day an now we are not together although we act like it!\",\"what is sex how can we satisfied the husband .\"],[\"\",\"Can someone help me out?\\n\\n a month ago, my friend borrowed my car, and got into a small accident. The man decided to follow my friend to my house since it was on the next block this had happened.\\nHe seemed to be very friendly, admited it was his fault, and said he was i a hurry to drive his wife to the airport she was a flight attendant and didnt want to be late. He said he left his insurance card in his other car..I thought to myself, it happens, accidents do happen, so he gave me his drivers license, i wrote down all the information, he gave me his home telephone number.\\nSo I called him back a few days later, he told me he was on the phone and couldnt talk, i was like oookkk. so i called him back 2 minutes later and asked him for his insurance policy number. \\nHe said that since it was such a small dent, then he would pay me cash.so i went ahead, and got n estimate on the damage, $1,200.\\nMy husband called him 2 weeks ago and left a message and told him the estimate. He never cal\",\"\",\"I was looking at the 2005 Annual Report for Polaris Industries. I saw the picture of the CEO - Thomas C Tiller - and thought he looked pretty young to be the CEO of a $1Billion corp. Anyone know his age?\",\"Now, I don't mean, like, super-sugary-sweet baby talk.  Just here and there (when appropriate)?\",\"\",\"\",\"I can't believe the atrocious spelling here!\",\"The question is, do i need to make the affiliate members fill out a tax form? fill out tax id?\",\"\",...,\"End of tearm evaluation\",\"I am learning how to design Flash XML but i have no Program to run it with. I don't know which program is easiest to use.. please help!! thanks in advance\",\"\",\"\",\"Mine would be.....Kool & The Gang.....Celebration.....what a sad sack I am.......\",\"Argentina vs. Germany (Germany)\\nItaly vs. Ukraine (Italy)\\nBrasil vs. France (Brasil)\\nEngland vs. Portugal (Portugal)\\nSemifinals\\nItaly vs. Germany (Italy)\\nBrasil vs. Portugal (Brasil)\\nFinals\\nItaly vs. Brasil (Italy)\\nThe Italians will win the world cup for the 4th time.\",\"While talking with others in English, we  find the person sometimes prefers the choice of \"verbs\",  and some other times he prefers the the phrase of \"be+adjiective+preposition\".What I am not sure is the difference or in others words, which one is better to express himself or stronger?\",\"Here in England, everyone is going World Cup crazy! I was just wondering how the tournament is being covered in the USA? I know that it's considered a 'lesser' sport over there, but I'd like to know if people are being 'converted' so to speak into soccer fans.\",\"\",\"how can i have masturbate?\"],[\"\",\"no buts  i want to find great love\",\"Ive been with my guy for about 3 years... And in these 3 years even tho weve had our great moments... we hardly have arguments.... its all good... But there is one thing that really bugs me.... And thats when something bugs him he never opens up to me? I duno what to say and it really gets annoying now because i try so hard to understand him and all he says is ''It doesnt matter\" or \"its not important\" or he says something that really hurts me because i try real hard to know his feelings...Is there any way i can make him to talk to me openly...I know things bug him but why isnt he lettin me know? SHould i try to act more like a friend towards him? I duno what to DO ! LOL i tried everything i could ! but at the end of the day all i hear is... I dun  need anyone to UNDERSTAND ME... when he gets mad its just... Sad i dun understand him....keeps things to himself but also takes the anger out on me... UGHHH HELP!!!!!!!!!!!!!!\",\"Let's eliminate comic book figures, please.\",\"in iran\",\"I really need a copy of the last 4 years of school yearbooks  from rich hill elementary school for sentimental reasons\",\"what is my destiny?\",\"\",\"I have searched the net for weeks buy I can't find anything of any use because everyone is charging way too much\",\"my brother was charge for shoplifting in macys ...how much does a lawer would charge to represent him in municipal court.\\n\\nps: just a figure.\",...,\"\",\"Why believe in a religion, or lack there of, that is so hopeless?\\n\\nI have a few ideas, maybe uneducated, or even parents who mistreated you.\\n\\nI can only imagine that a life spent thinking you are going to just die a hopeless death, and just stop living could only mean that your life right now is just as hopeless!\\n\\nI mean what is it?  What is the harm in actually hoping?  \\n\\nGod Loves YOU\\nHeather :)\",\"mainly for a Breyer horse:Anatomy in Motion\",\"For example, by allowing jobs to advertise for ethnic minorities only, or by introducing ethnic minority training schemes, or by introducing free nursery schools for children from ethnic backgrounds. I was particularly shocked by one book, called \"The Angry Black Woman's Guide To Life\" due to it containing a list of phrases a white person might say to a black person and what their sneaky underlying messages are (i.e. \"How many children do you have?\" is translated as \"How many of your children am I supporting with my tax money?\")\\nPlease give other examples of ethnic groups being separated in the name of equality if you can think of them.  And do you think the government are right or wrong to separate racial groups in order to create opportunities according to each group's needs?\",\"\",\"\",\"Like if you want to sell your video games how to sell it.\",\"\",\"If you can write it here!!\",\"\"]]\n",
              " best_answer: [[\"Optical mice use an LED and a camera to rapidly capture images of the surface beneath the mouse.  The infomation from the camera is analyzed by a DSP (Digital Signal Processor) and used to detect imperfections in the underlying surface and determine motion. Some materials, such as glass, mirrors or other very shiny, uniform surfaces interfere with the ability of the DSP to accurately analyze the surface beneath the mouse.  \\nSince glass is transparent and very uniform, the mouse is unable to pick up enough imperfections in the underlying surface to determine motion.  Mirrored surfaces are also a problem, since they constantly reflect back the same image, causing the DSP not to recognize motion properly. When the system is unable to see surface changes associated with movement, the mouse will not work properly.\",\"i hear that the mojave road is amazing!<br />\\nsearch for it online.\",\"Trans fats occur in manufactured foods during the process of partial hydrogenation, when hydrogen gas is bubbled through vegetable oil to increase shelf life and stabilize the original polyunsatured oil. The resulting fat is similar to saturated fat, which raises \"bad\" LDL cholesterol and can lead to clogged arteries and heart disease. \\nUntil very recently, food labels were not required to list trans fats, and this health risk remained hidden to consumers. In early July, FDA regulations changed, and food labels will soon begin identifying trans fat content in processed foods.\",\"according to the www.fedex.com web site:\\nAir Fleet<br />\\n  <br />\\n670 aircraft, including: <br />\\n47 Airbus A300-600s  17 Boeing DC10-30s  <br />\\n62 Airbus A310-200/300s  36 Boeing MD10-10s  <br />\\n2 ATR 72s  5 Boeing MD10-30s  <br />\\n29 ATR 42s  57 Boeing MD11s  <br />\\n18 Boeing 727-100s  10 Cessna 208As  <br />\\n94 Boeing 727-200s  246 Cessna 208Bs  <br />\\n30 Boeing DC10-10s  17 Fokker F-27s\",\"renting vs buying depends on your goals. <br />\\ngenerally thinking is that buying is better b/c the payments that would go into the rent start building equity in your home. the govt also incentivizes you to buy by making your property tax payments and mortgage interest payments tax deductible.\\nhaving said that current housing status in the bay area is such that housing cost to purchase is relatively high and rental prices (compared to ownership cost) are relatively low (relative to the rest of the country). it makes lese sense to buy vs. other places.\\nbottom line you should base your decision on whether you think the market will keep going up or not. the other numbers tend to even out, the main gain or loss in buying comes from appreciation/depreciation.\",\"There are commercial kits available, but a can of compressed air, a lint-free cloth or wipes, mild dishwashing liquid, and a vacuum cleaner with a soft brush are all you really need for a basic cleaning. \\nAfter turning off your computer and unplugging your keyboard, gently shake the keyboard upside down over some newspaper to dislodge loose crumbs and particles. \\nUse the can of compressed air to blow a stream of air between the keys. \\nDampen a lint-free cloth with a diluted solution of dishwashing liquid and water to wipe down the keys. \\nUse the vacuum cleaner brush attachment to suck away any remaining dirt or debris. <br />\\nIf you have a membrane-type keyboard (it doesn't have a spring under each key) and the keys are truly grungy, you can remove the keys with a small screwdriver and use cotton swabs and 90% isopropyl alcohol to get it sparkling clean. If you are still feeling industrious, next you can tackle cleaning your mouse. \\nOf course, if cleaning your keyboard seems a truly undesirable task, you can always buy a new one for around $20.\",\"from ask yahoo...\\nhttp://ask.yahoo.com/ask/20040113.html\\n<<Blushing is a unique blend of evolutionary and social behavior. It's an involuntary reaction of the sympathetic nervous system, which is responsible for our \"fight or flight\" response, but blushing is solely triggered by social cues. <br />\\nPeople generally blush when they're feeling embarrassed, scared, or stressed. As a result of the \"fight or flight\" response, the capillaries that carry blood to the skin widen, and the increased blood flow lends the face, as well as sometimes the chest, neck, or even the body or legs, a reddened color. \\nExcessive facial blushing, or erythrophobia, is caused by overactivity of the sympathetic nervous system. The condition can cause a lot of psychological duress and has engendered several support groups. \\nIt's common knowledge that animals don't blush. So while there are some evolutionary cues behind blushing, it's also linked to something uniquely human -- moral consciousness.>>\",\"Well.  Everyone has different definition on what 'beauty' is.  I like Lin Qingxia, but I think many girls are prettier than she was. (She is more than 40 years old now). \\nIf \"Lin Qingxia\" is the most beautiful woman in the Chinese cinema, the most handsome man in Chinese cinema should be \"Chin Han\" because they always made movies together.\\nHowever, A male movie star once was asked his girlfriend in real life or the girlfriend in movie is more beautiful.  He gave a very good answer: \"I think my mother is the most beautiful woman in the world.\"  :)\",\"Not sure if this is the origin, but I think it was popularized in the 1989 film \"Tango & Cash\". After Tango, played by Sylvester Stallone, and Cash, portrayed by Kurt Russell, were thrown into jail and setup in a failed jailbreak attempt, the bad guy Yves Perret (Jack Pallance) locked them in the boiler room with a bunch of felons Tango & Cash had put in jail. Prior to unleashing a can of whoop-ass, their conversation was as follows:\\nGabriel Cash: I don't know about you, but I have an aversion to getting F.U.B.A.R...\\nRay Tango: What's F.U.B.A.R.?\\nGabriel Cash: Fucked-Up Beyond All Recognition.\",\"A tough question as it overlaps science and theology. Since you asked \"how the human species evolved?\" I'll assume you're interested in the scientific approach to the answer.\\nThe current theory holds that Homo sapiens evolved from Hominid ancestors over the course of millions of years through a process called natural selection. Natural selection is the weeding and advancement of species variants over time based on the fit in that species' then current environments. The pressures for \"fit\" are competitive (with each other, with other tribes, and with other animals) and environmental (weather, terrain, availability of food, etc.). These factors all contributed to the development of our higher brain, which we now use to evolve as a global collective through communication & technology.\",...,\"check NFL.com and then look up the raiders\\n\\np.s. Hey the raiders could prob. kill ur team\",\"E = hf applies to light, not electricity.\\n\\nThe power consumed by AC current is assessed by the root mean square, which is equivilent to the peak amplitude divided by radical 2.  The frequency doesn't factor into the matter.\",\"If you mean trophic level, not tropic level, many time intestine lengths get relatively shorter as you move up trophic levels. So a lion has a much shorter relative intestinal tract length than a water buffalo would.\",\"If you can't type wikipedia.com, you should not be a teacher.\",\"1234567\",\"That depends on what jail they are in. Every place has different rules and the two best ways to find out are to ask the person you want to send something to or to call the administrative office of the jail and ask them what their mail policies are. Good luck, and if you're asking because you've chosen to stick by someone who is in a jam, Bless you!\",\"As far as I know, no -- since pain is fairly subjective, most pain measurement relies on people's responses to a questionnaire, scale of 1-10, etc.\",\"try friend finder or people finder yellowpages\",\"You should always feel motivated at your job since there is always room to grow and advance inside the company.\",\"Its tough. and its gonna be tough for a week or two. Life will never be the same for you. Its hard but its true. they are up in heaven with god and they will be safe for eternity. And eventually you will be up there with them. but for now just remember them as who they are. and accept there passing.\"],[\"It depends on what you are adding the NaOH to.  If you add NaOH to pure H2O the ideal solution mixture will become more alkaline...i.e. higher pH.  If you add NaOH to a stronger organic base such as an Azide (N3-) the solution will be come more acidic...i.e. lower pH.\",\"It could be both, but the last two times that it has happen to my department at work, all I did was change out the cd unit.  One thing that you may want to do if you can not get a new cd unit at this time is trying to download the driver for it again.  Sometimes that is a fix.  I know a few years ago these type of problems use to happen when there was a virus, but the hackers and people who spread these virus around are not trying to get more of your data and cause more of an overall computer problem, than just a cd opening and closing.  Hope this helps.\",\"I think it'll be a while yet before we see people being able to burrow and live under the moon's surface. Me personally? Well, I'd rather live *in* Uranus. Such a lovely place to visit when the weather is right.\",\"My company NO. However, other companies (clients) I work with do!\",\"You should not mercy kill anyone.  People have come out of comas 20 years later, and stranger recoveries have taken place with brain damaged folks.\\n\\nIf you have a living will, it should indicate your wishes should you become incapicated.\",\"try to talk to friends and ask them if they can help you out...\\n\\nthey may know some people who can help you with your business\",\"Sorry, you've got that wrong.  \\n\\n\"The Spankie is the discreet, reusable 100% stretch cotton sleeve that fits in your wallet and on your penis. It is designed to catch and absorb the mess of male mastubrtaoin.\"\",\"None, the worm get away!\",\"You are a librarian.  The \"chief manager of a library\" is the Library Manager.  That happens to be my job and I work with a staff of librarians.\",\"p(a)= prob of man to alive after 25 years\\np(a')= prob of man to be dead after 25 years =\\n1-p(a).\\np(b)= prob of woman to be alive \\np(b')= prob of woman to be dead = 1- p(b)\\nso to be atleast one lives we have two cases \\n1) man lives and woman dies \\n2) man dies and woman lives \\n\\nso\\np(atleast)= p(a)*p(b')+p(a')*p(b)\\n          = 3/5*1/3+2/5*2/3\\n          = 7/15(answer)\",...,\"Typically political science majors take courses in government, law, lobbying, statistics and history. They also may be required to do internships with a legislator, lobbyist or statistian. By the way the internship is often the best part. You'll learn how things really work and make good contacts.\",\"OSMOSIS IS THE MOVEMENT OF WATER MOLECULES ACROSS THE CELL MEMBRANE.  IF THE OSMOTIC PRESSURE IS HIGH i.e THERE ARE MORE WATER MOLECULES INSIDE THE CELL THEN WATER MOVES OUT TO LESSEN THE PRESSURE.  IF THE OSMOTIC PRESSURE IS VERY LOW THEN WATER MOLECULES MOVE INTO THE CELL TO KEEP THE PRESSURE OUTSIDE AND INSIDE EQUAL.\\n\\n(IT IS RUDE TO WRITE IN ALL CAPITALS)\",\"Use symantec's Norton SystemWorks, It would remove yuour unwanted cookies history missing shortcuts etc.\",\"have faith in humanities willingness to survive, the depletion of fossil fuels is but a bump in the road, we may get a flat tire but surely the wheel will survive. Humanities ingenuity is probably its only saving grace. I would be more worried about the current state of international politics in regaurds to humanities ability to exist anywhere.....\",\"I totally disagree with the previous answerers.  It's not right for women to be with women, although many people experience the attraction.  I don't think it would be a bad idea to pray to God and ask Him to help you to be more satisfied in your marriage and deal with same-sex attraction appropriately.  You could also seek help from a psychologist or counselor, who can possibly help you discover underlying causes.\",\"many  other search engines are now powered by google\\n\\nso this is how powerful google is\\n\\n:) gudhaay ;)\",\"I'd say lined, keeps everything nice, straight & organized.\",\"I suppose you're thinking of okay.  I'll just say that the etymology is debated.\",\"The population in July 2004 was 2,173.  That is the most up-to-date information I can find.\",\"He is alive,and obese!\"],[\"Do you mean diabetic medical information?  \\n\\nIf so, there are millions of books at the library.  the internet is full of info to but be sure to know who is backing the site.  A lot of pharmaceutical companies have there hand in what information you are reading.  TALK to a doctor about whatever information you learn.\",\"The moon can appear orange when it is near the horizon.  The light from the moon (reflected light from the Sun) passes through a much longer path though the Earth atmosphere than when it is overhead.  Light that passes through the atmosphere is scatter by particles in the atmosphere but not in the same way for all wavelengths.  Blue light scatters more easily than red light.  When the near-white light from the moon passes through the atmopshere blue light is scattered away more that red light.  Removing more blue light makes the red light appear stronger.  The combined effect produces a red-orange hue.  This also explain with the sky is blue.  The blue is the scattered light.\",\"I have a cd-r in my dvd player with a movie right now and it works. You must use a file format that is compatable with the dvd player. I got mine from a friend so I don't know which format it's in but it's definitely possible. I promise. Though video is not very good quality. If anybody knows a good (possibly free?) converter w/o spyware I would like to know.\",\"no. it is only a rumored that the are engaged...they are only dating\",\"There are many different ways. Playing the lottery, reading self help books, applying for financial aid and going to college. It just depends on what he wants to do to get it done. There are really no quick ways to do this it takes time and patience so he shouldn't waste his money on those get rich quick schemes because they dont really work.  Or he could go into the real estate business buying cheap houses and cars that have been seized and foreclosed and fix them up and sell them for more so he can make a profit off of it.\",\"The moral of this story: Don't be a chain smoker.\",\"There were approximately 9 million military casualities and 7 million civilian casualities.  That makes a total of 16 million deaths.\",\"This is more in terms of recognition, but afterall isn't that what branding is about?\\n\\nInterestingly enough it looks like in terms of brand recognition it may be Apple followed by Google, then IKEA and Starbucks.\\n\\nCheck this link out from brandchannel.com\\n\\nhttp://www.brandchannel.com/start1.asp?fa_id=248\",\"If, under court ruling, the check is to be issued to you, however, it is issued to another party, then the lawyer is in legal troubles.\\n\\nIf, however, you are a minor, and the check is issued to your name but with a regent name of a guardian, then nope, can't sue.\\n\\nIf you gave permission at the outset of the case that the lawyer can turn the check over to a 3rd party for investment/storage use, then you can't sue.\\n\\nIf you didn't give any permission, and are a major (above the age of 18) and the lawyer signs the check over to someone else, and you have no access to the money, th en yes, that's a crime.\",\"Let's resolve this overdue question by bringing it to a vote.\",...,\"More than practice, you need realistic practice.  I would play games against myself.  What that means is that, while by myself, I would rack and break just like normal.  Then play a game against yourself, alternating taking shots as stripes until a miss, then as solids until a miss.  It really, really helps to have a pool table in the house.  I can now walk into any bar in town and win games for hours.\",\"i don't think so... :(\\nbut it would be SOOOOOOOOOO cool.\",\"According to a user on the Ad Tunes web site, \"the song is titled, \"My Little Man\" and is sung by Christina Saldanha. The song was commissioned specifically for this commercial and so far is not available for purchase.\"\\n\\nI hope that helps.\",\"Hey, just bringing this old question up for a vote. \\n\\nIf you have not found the answer you are looking for, please, feel free to use one of the following links from my personal collection:\\n\\nhttp://www.dogpile.com\\nhttp://www.itools.com/\\nhttp://en.wikipedia.org/wiki/Main_Page\\nhttp://www.dictionary.com\\nhttp://www.thefreedictionary.com/\\nhttp://www.medterms.com/script/main/hp.asp\\nhttp://www.alexa.com\\nhttp://www.searchtools.com/tools/tools.html\\nhttp://www.infopeople.org/search/chart.html\\nhttp://www.brbpub.com/pubrecsites.asp\\nhttp://www.searchsystems.net/\\nhttp://library.albany.edu/internet/choose.html\\nhttp://www.archive.org/\\nhttp://www.publicnoticeads.com/\\nhttp://www.samspade.org\\nhttp://www.free-ed.net/free-ed/ \\nhttp://www.hplearningcenter.com \\nhttp://www.petfinder.com/\\nhttp://www.findlaw.com\\nhttp://www.rxlist.com\\nhttp://www.webmd.com\\nhttp://www.truthorfiction.com\\nhttp://www.salary.com\\nhttp://www.songlyrics.com/\\n\\nMy post is simply to encourage you to pick a \"Best Answer\" or to assist you in finding the answer. \\n\\nThank you!\",\"Yeah, I agree with what someone else said in a previous comment....If you're able to question rather or not you're crazy, chances are - You're Not!...Unfortunately, I had grown up around people that were mentally ill. (my Grandmother, & a cousin) who has been in & out of mental wards all their life...They didn't know they were ill, nor did they know what they were doing, saying, etc...\",\"Whats up? Its been to dang long for this question to be still here. Anyways, If you'd like a real good laugh watch The Daily Show and the Colbert Report!!! HAHAHAHA!!!!\\n\\nI drink whiskey\\nU drink WHine!!!\\nGuess What Ya'll \\nIts Gangsta Time!!!!! *RZ*\\n\\nPS. Pick the Answer Already!!!\",\"Yes it should be free, i'm not paying to get an answer. who guarantees that's gonna be the answer i want.\",\"You need to be more specific when you ask questions.\",\"No they didn't, cause they were created, and not born.  Meaning, if they were born they would have had a philopian tube, and that tube is where we get our belly button.\",\"The Twelve Days of Christmas is probably the most misunderstood part of the church year among Christians who are not part of liturgical church traditions. Contrary to much popular belief, these are not the twelve days before Christmas, but in most of the Western Church are the twelve days from Christmas until the beginning of Epiphany  (January 6th; the 12 days count from December 25th until January 5th). In some traditions, the first day of Christmas begins on the evening of December 25th but the following day is considered the First Day of Christmas (December 26th).\\n\\nThe origin of the Twelve Days is complicated, and is related to differences in calendars, church traditions, and ways to observe this holy day in various cultures (see Christmas).  In the Western church, Epiphany is traditionally celebrated as the time the three Wise Men or Magi arrived to present gifts to the young Jesus (Matt. 2:1-12). In some cultures, especially Hispanic and Latin American culture, January 6th is observed as Three Kings Day, or simply the Day of the Kings (Span: la Fiesta de Reyes, el Dia de los Tres Reyes, or el Dia de los Reyes Magos; Dutch: Driekoningendag).  Even though December 25th is celebrated as Christmas in these cultures, January 6th is often the day for giving gifts. In some places it is traditional to give Christmas gifts for each of the Twelve Days of Christmas. Since Eastern Orthodox traditions use a different religious calendar, they celebrate Christmas on January 7th and observe Epiphany or Theophany on January 19th.\\n\\nBy the 16th century, some European and Scandinavian cultures had combined the Twelve Days of Christmas with (sometimes pagan) festivals celebrating the changing of the year. These were usually associated with driving away evil spirits for the start of the new year. \\n\\nThe Twelfth Night is January 5th, the last day of the Christmas Season before Epiphany (January 6th). In some church traditions, January 5th is considered the eleventh Day of Christmas, while the evening of January 5th is still counted as the Twelfth Night, the beginning of the Twelfth day of Christmas the following day.  Twelfth Night often included feasting along with the removal of Christmas decorations. French and English celebrations of Twelfth Night included a King's Cake, remembering the visit of the Three Magi, and ale or wine (a King's Cake is part of the observance of Mardi Gras in French Catholic culture of the Southern USA).  In some cultures, the King's Cake was part of the celebration of the day of Epiphany.\"],[\"Different dialects of English have different standards.  Standard American English is the standard for many Americans, but British people have a different standard, and so forth.  So American English isn't really the standard for everyone (although it is for many if they have economic or cultural ties to the United States).\\n\\nAs for how the standard evolved, there have always been standards.  In general, the dialect of whoever's in power is considered the standard, because people want to be like that powerful group.  Americans who are trying to speak Standard American English do so because they think it will give them social power.  What's interesting, though, is that Standard American English is just agreed upon as the standard by many Americans even though it doesn't belong to a particular region.\\n\\nThe Founding Fathers spoke a dialect that is different from either American dialects or British dialects today.  They were British, but in the meantime English has evolved in both places.\",\"dear qween\\nthere is an instinct in humankind half sexual desire half love which is called passion.this attracts two people of opposite sexand they starts a friendship.As time passes by they want to figure id the newly started friendship is a love or sex and the only way to figure out the answer is to play the game(sleep withur partner).If you feel love after sex u would get ur friendship was a love type otherwise if u get empty or even disgusted it would be a signpost of sex only relationship.So u see sex is so usefull for distinguishing a real love.\\nbye\\nnima\",\"How to suspend/delete a sub account\\nFor All Applications, All Operating Systems, and All Domains\\n\\nImportant: During the 90 day suspension period, you may reactivate the suspended sub account.\\n\\n \\nAfter 90 days, the suspended sub account will be deleted. Once deleted, a Member ID cannot be reused, and SBC Yahoo! Mail, Address Book, Calendar, etc. associated with this Member ID are permanently deleted.\\n\\n \\n   1. Sign in to your SBC Yahoo! home page.\\n   2. Click on My Account in the top right-hand corner.\\n   3. Verify your password for security.\\n   4. In the Sub Accounts section, select Suspend next to the sub account that you want to suspend.\\n   5. Confirm that you want to suspend the sub account by checking the box at the bottom of the page indicating that you understand the consequences of suspending the sub account as defined on the page.\\n   6. Click the Yes, suspend sub account button to suspend the sub account. \\n\\nNote: If you do not see Suspend next to the sub account, verify that you have completed the registration process for the sub account or have not reached the maximum sub account limit for your master account.\\n\\n \\nVerify Registration\\n \\n   1. Click the link that states Continue Registration next to the sub account.\\n   2. Continue the Registration process. \\n\\nVerify Sub Account Limits\\n\\nYou may have up to 20 sub accounts under your main SBC Yahoo! account (up to 10 active at one time). Once you have 10 active sub-accounts, you must suspend one before you can create a new active sub-account. After 90 days, suspended accounts are deleted.\",\"Mare\",\"They'll all say 'never' - but - most of them will be curious enough to try it a few times... many will try it a LOT of times...\",\"I write because I have a really vivid imagination and every moment of the day ideas of places and characters pop into my head--I'm always making a story even when I don't try to. so I write.\",\"It is the most natural ane easiest way of expresing happiness.\\n\"Smiles are contagious. Be a carrier!\"\\n\"Let a smile be your umbrella on a rainy day.\" - Lawrence Welk \\n\"SMILE and be happy, the day is brand new. This is the day the Lord made for YOU! \\n \"Wear a smile and have friends; wear a scowl and have wrinkles.\" - George Elio \\n\"A Smile is a powerful weapon. You can even break ice with it. \\n\\n\"Don't start to frown, it's never in style...\\njust do your best to smile, smile, smile!\\n(Thank YOU Lauren for this terrific quote!) \\n \\n\"A smile is like looking in a mirror.\\nIf you give a smile you're likely to get one back!\" \\n \\nSMILE.\\nSome people think it's wads of cash that make a life worthwhile.\\nBut what makes this world a better place is a super, smashing SMILE!\\n~ Morgan Falchi\\n \\n\"Smile if it kills you. The physiology of smiling diffuses a lot of anger and angst. It makes your body and soul feel better.\" - Tom Peters\\n \\nBe your own florist: wreathe your face in smiles\\n\\nIt's better to make the world smile at what you say than laugh at what you do. \\n\\nWe all learn from experience: no man wakes up his second baby just to see it smile. \\n\\nYou are not fully dressed until you wear a smile.\\n\\nA smile is a language that even a baby understands. \\n\\nDon't cry because it's over, SMILE because it happened!\\n~ from Ciara, a friend from Ireland \\n\\n\\n\"If you have made another person on this earth smile, your life has been worthwhile.\"\\n~ Sr. Mary Christelle Macaluso \\n\\nGet out of bed forcing a smile. You may not smile because you are cheerful;\\nbut if you will force yourself to smile you'll . . .be cheerful because you smile.\" \\n~ Kenneth Goode \\n\\n\"He who smiles rather than rages is always the stronger.\" ~ Japanese Proverb \\n\\n\"Every time a man smiles, and much more when he laughs, it adds something to his fragment of life.\" ~ Laurence Sterne \\n\\n\"It's easy enough to be pleasant when everything goes like a song, but the man who is worthwhile, is the man who can smile when everything goes dead wrong.\"  - Anonymous \\n\\n\"Of all the things you wear, your expression is the most important.\"  ~ Janet Lane\",\"Your credit is a separate issue from section 8.  If you pay your bills properly, your credit will reflect that.\",\"CHEAPER BY THE DOZEN 2!\",\"Work from home with a computer resources are hard to find. I recently tried Freelance Work and it seems pretty good so far. http://www.tkqlhce.com/click-1794502-10363204\\n\\nThey seem to have five to six new jobs posted Monday thru Friday, weekends are slow. You apply for the jobs online with their form and get an e-Mail from the person hiring in your regular mail account.\",...,\"Had sex with two different guys on the same day.\\n American women weigh in at a whopping 75%.\",\"First, it was a mistake to build below sea level. Why should the Federal Government pay the bill for local government's poor planning? The Libs are quick to blame a Republican run federal government. But from what I have heard, they GAVE them money and the local government divied it up for their pet projects and not on the dike.\\nAnd from what I have seen regarding that hurricane, I don't think ANYTHING could have held up against it. It was aweful!\",\"What you can to get an 100% on your exams is to study them everynight. And that is how you would get an 100% on your exams.\",\"call them and ask them what it is\",\"The question is - why do you think it's a pain in your heart?  It could be a pain coming from your lungs, or any of the other structures in the chest.  In case you're not aware, most pain from heart disease comes from the center of your chest. To get an accurate diagnosis from your symptoms, you'll need to tell the doctor more about the pain: e.g., when does the pain usually come on (when you're walking/running, when you're lying flat, in the middle of the night when you're sleeping, etc.), where in the chest it is, describe the type of pain (sharp, dull ache, pressure-sensation, etc.), does the pain appear to go to any other part of the body (like does it go down your left arm?), do you get short of breath when the pain comes on, and so on and so forth. The more you tell the doctor about the characteristics of the pain, the more likely the doctor will be able to diagnose the pain.\",\"How old is the guy and probably at least 18\",\"Darwin never said man evolved from monkeys.  He said man and monkeys share a common ancestor.\",\"vitamine b-12 helps me alot.  i still mensturate, but the mood swings, night sweats are helped when i take my b-12.  you can go to your doctor and ask for a blood work up to see if you are menopausal or peri- menopausal.\",\"Himalaya is in Tibet\",\"Act. Start acting classes, act in any school plays or town theaters, go to talent agencies, keep doing that as the years go on, network, move on to bigger venues - it is a combination of time, patience, luck, and networking.\"],[\"If they are modern mothballs, you used them according to the instructions, and you are not allergic to the ingredients, the odor is not dangerous.\",\"By one touchdown.  Two good teams and should be a great game.\",\"not me\",\"Tampons rarely break the hymen (an intact hymen is technically what makes you a \"virgin\") so you can use whichever you find more convenient.  I personally use tampons because I think pads feel like diapers.\",\"The best site for movie times, and buying tickets in advance is Fandango.com. Just give them your zip code, and it will show you every movie theatre within 30 miles, what movies are playing, and let you purchase tickets online if you'd like.\",\"Doc Blanchard (outside) Glen Davis (inside)\",\"Yes they had the DNA, but judiasm is not about dna, as anyone can convert to judiasm. The ethiopians had a claim based on the DNA  -- BUT -- upon arrival to israel also underwent conversion\",\"Dude i have no clue whatsoever! Sorry man...\",\"If you can prove the light is faulty then you're alright, If it turns green right after though, you got a problem.\",\"I dont know how you do in gui\\njust go to command prompt\\n type\\ndir yourdirname > afilename.txt\\n\\nnow print the file\",...,\"It's the media and the guys who make them look as if it was a moral thing to do. It wouldn't surprise me if they start teaching that at schools. And, it's not only bi girls who do it. It's also girls who are straight, but since a lot of guys think it's cool and a lot of girl's self-esteem is low, then they do it to attract guys. My bf hates girls kissing on each other. It's just ...not normal, specially if you are not \"naturally\" straight. Being gay isn't bad, but distortioning the concept IS\",\"Naughty, Naughty. On the top of your screen, go into tools then internet options. \\nOnce there, delete cookies and clear history. Some sights have some pretty serious cookies so, good luck. You can also go to internet options and click on contents. There you can disable your auto complete. I hope this helps.\",\"NO question....the STEELERS!!! :)\",\"Reproductive organs, Estrogen and testosterone levels, Chromosones, sugar and spice, puppy dog tails ect.\",\"yup, but it's not called dandruff anymore, it's just scaling skin...or flaking skin or dry skin...whichever name you like.\",\"lmpdpsrv.exe is what it is listed as on our processes and task lists\\n\\nPDP RPC Server DeviceGuys Printer Driver Plus\\n\\nIt is the driver to your printer and windows did not recognize it.  \\n____________________________________________________\\nAccording to the second link that I have below they have been caught monitoring our printer, scanner, and ink usage.\",\"Pisces \\n\\nOne of the things that matters most to you is keeping your promises. That will go double in early 2006, as a friend will undoubtedly rely on you for something quite important. You've reassured them for months now that they have nothing to worry about, but as soon as the year begins, you'll have a chance to prove that your word truly is your bond. \\n\\nAt the same time -- and straight through mid-March -- you'll also find that several high-ranking, influential coworkers and authority figures will be looking to you to follow through on your word. They may even need a bit more of a commitment from you. Not to worry though. The heavens will be more than happy to help you keep on task, and you'll be rewarded for your honesty, integrity and hard work in a very big way. Sit tight, do everything exactly as you know you should and prepare to experience a wonderful feeling: well-earned, justified pride in yourself. \\n\\nObviously, after all that hard work and discipline, you'll be more than ready to have some serious fun -- and the universe has some of that in mind for you too. You'll have all kinds of chances to do some long-distance traveling this year, and if there's any way at all that you can make a reality of one of those trips, don't pass it up. You've probably been itching either to go home for a visit or to return to a place you've always loved. Do it now, and take your favorite travel buddy along. (Just be sure to carry everything you need right on your person, in case of luggage delays or other annoyances.)\\n\\nIf you feel like a relationship is changing -- and not for the worse, so don't worry -- you could well be 100 percent right. Things between you and a certain someone will deepen considerably by the end of the year, if not before. If you don't already have someone in mind, a family member may introduce you to a potential sweetie -- someone they've been telling you is 'just perfect' for you -- around the end of July. You may have to put up with an I-told-you-so after a few weeks, but if things are going along that well, grin and bear it. It will be well worth it when you take a look around you by New Year's and realize that you've got everything you could possibly wish for! \\n\\nYou can read this and see!!!!!!\\nI am a pisces\",\"Sex before sports: Sexual intercourse before an athletic event. A commonly held belief in sports is that athletes should not have intercourse before performing, lest it weaken them. This belief was not always held. In 77 AD, Pliny the Elder wrote to the contrary that: \"Athletes when sluggish are revitalized by lovemaking.\" In fact, sex does not impair an athlete’s performance, as proved by treadmill tests before and after intercourse. And perhaps in keeping with Pliny's observation, lovemaking raises testosterone levels in men. Whether it truly revitalizes them is unproven.\",\"It's \"Look Away\" by Chicago. You can find it on their Greatest Hits 1982-1989 album. This is from the Peter Cetera era. You may remember a little song of his called \"Glory of Love\", from the Karate Kid II soundtrack. (The 80's - shudder. :P)\",\"I am not a doctor, but it must have something to do with societal relationships, ie. how you interact with other people. Did you know that you cannot blush when you are alone? Only when you are with others.\"],[\"No, the volume refers to the total space in which those molecules are found moving around (should be the same as the volume of the container). In any case, atoms and molecules are pretty much all empty space themselves - most of the mass is concentrated in the nucleus, but the electron cloud takes up a lot more space.\",\"You would save on overhead costs from having to pay for equipment, utilties, and upkeep on two separate offices.\",\"He studied law at Harvard; she studied music at Radcliffe\",\"The Ancient Olympics were held in Greece up to the 1st century BC when the Romans banned them. They were held to celebrate Zeus and the Greek Gods and during the Games, an Olympic truce was established. As to what was in those Games, everything from running, to wrestling, to chariot racing\",\"True, Google says:\\n\\n   Sorry, Google does not serve more than 1000 results for any query.\\n\\nBut here is a fast way to get way down in the list.\\n\\nFor example, go to Google and search for \"hecate\".\\n\\nScroll to the bottom of the screen and click on number 2\\n\\nNow the web address in your browser address bar will read:\\n\\nhttp: // www.google.com/ search?q=hecate &hl=en&lr=&safe=off &start=10 &sa=N\\n\\nsimply type \"9\" in front of the \"10\" in the part of the URL which reads \"start=10\"\\n\\nNow it will read \"start=910\", press Enter and ZOOM you are way  down the list!\\n\\n6sj7\",\"Pogo.com\\n\\nand they have free games as well\",\"http://www.mdoc.state.ms.us/InmateTest.asp\\n\\ngood luck\",\"Yerp, go to most English dictionarys and it'll give it as one of the older or less known meanings.  It comes from Latin commercium, meaning merchandise, and remember, prostitution has been called the oldest profession in the world.\",\"Planets seem to be spheres, not cubes or cylinders or oddball rocky shapes.  Some smaller bodies such as asteroids or Mars moons Phobos and Deimos, do have odd shapes, but larger bodies like the nine planets and most of their moons do look like spheres.  That's because of the nature of gravity.  You can think of gravity as a force that points inward toward the center of the planet so that every part of the surface is pulled evenly toward the center, resulting in a spherical shape. \\nOf course, planets are not perfect spheres because mountains and valleys and even skyscrapers are all deviations from the spherical shape.  However, as planets get larger, gravity gets stronger, until eventually large objects on the surface are crushed under their own weight.  That's why we don't have mountains that are 50 miles high or skyscrapers that are 2,000 stories tall.  Planets stay basically spherical because any large deviations get crushed. \\n\\nAlthough gravity keeps planets close to spherical, there are other forces that cause deviations from the basic spherical shape.  For example, the rotation of the earth once every 24 hours, causes an apparent centrifugal force which creates a bulge at the equator.  In fact the earth's diameter at the equator is 7,926 miles while the diameter between the poles is only 7,900.\",\"Is your mind real or are you simply imagining things while you breathe?\\n\\nGhosts are spirits manifested in shapeless translucence to become visible to our earthly eyes...\",...,\"Dwight David Eisenhower \\nBirth Place: Denison, Texas.\\nDate of Birth: October 14, 1890 \\n34th US President from January 20, 1953 – January 20, 1961.\\n\\nLyndon Baines Johnson \\nBirth Place   : Gillespie County, Texas \\nDate of Birth : August 27, 1908 \\n36th US President From November 22, 1963 – January 20, 1969.\",\"There is a study that says that caffeine helps with Parkinson's.  Look at the link for more information.\",\"manyyyyyy\\n\\nage aint nutin but a number-pretty ricky\\ni shoulda cheated-keyshia cole\\nyo(excuse me miss)-chris brown\\nlike you-bow wow n ciara\\ni get you right-pretty ricky\\nshorty will you be mine-pretty ricky\\nlemme hold you-bow wow n omarion\\nwe belong together-mariah carey\\nget your number-mariah carey\\nyou and me-jkwon\\ndont forget about us-mariah carey\\ndont worry-chingy n janet jackson\\n21 questions-50 cent\\nlets get away-T.I.P.\\nspecial-the game n nate dogg\\nis she the reason-destinys child\\ncater 2 u-destinys child\",\"It's better for you to stop thinking about him, and try to think about someone how realy like you\",\"Flickr\",\"The Who\",\"Hippopotomonstrosesquippedaliophobia\",\"H, they are all letters that if flipped vertically, they don't change.\",\"Oh! A question about Texas that I can answer. I have so many friends who go there, and although I don't attend myself, I've been there a time or two. Austin is amazing, it's really such a great town, really up there on the younger-people's places to visit list. Good nightlife and odd places to visit, plus being the capitol of Texas, it's amazingly rife with gung-ho liberals, as well as conservatives, both often times doing what activists do on the capitol building. \\n\\nTHe university itself is great. Of all the Universities in Texas to go to, it is probably, and arguably the best. (You'd have to take that up with their rials A&M) It has some amazing programs, and as long as you can stand the fact that it also holds the most students of any other campus in Texas (40-50000, I think, if not more!) then you've got a great place to go to. \\n\\nFinancial Aid is good, so I hear, many of my friends have recieved some. And international students are always welcomed, every college in Texas is very welcoming of people from out of country, and tend to give them wonderful scholarships (as well as their mother country in most cases), mainly because it makes us look good to have so many people from outside the states. \\n\\nI really would reccomend Austin, of all places, to experience America. The climate is bearable (cold for me is just awful, I love the warmer climate), the people are wonderful, and Texas itself is such a great expanse that it encompasses everything you could want to see on your stay over here. \\n\\nI know I can't be of much help, but I'm sure their website can help you with more details: \\nhttp://www.utexas.edu/\\n\\nI hope you decide to come to Texas! I've loved it this far!\",\"19/4, 4 3/4, 4.75\\n\\nPick one.\"],[\"well i just made my friend get it and i burned it and then burn it and write another name on the cd!! hahaha...\",\"Because some people want it and some people don't.  And none of the politicians who make laws want to get involved.  Too many factors involved.\\n\\nI'm anti abortion, but have no urge to blow anything up to make my point.\",\"No, you have to itemize in order to deduct charitable contributions.\",\"A NIC card has only one bigger jack that looks similar to a telephone jack and usualy has some indicator lights on it.\\nYou can get them at office max, office depot ,circuit city, best buy, wal-mart, Compusa etc.\",\"It appears that the question period has expired.  If you have received an answer that meets your needs, please choose one of those as a 'best answer.'  If you haven't received a good answer for your question, you may want to consider the following,\\n\\n1) Re-post your question.  Newer questions get more activity on Yahoo! Answers than old ones.\\n2) If you do re-post your question, consider why it wasn't answered the first time.  Could it be more specific?  Could it be worded better? Were there grammatical or spelling errors? Was it in the best category?\\n\\nIf it doesn't seem likely that re-posting your question will help you, then here's a listing of my favorite 'answer sites'.  Maybe one of them will help you.\\n\\nAnswers.com http://www.answers.com/\\nBartleby http://www.bartleby.com/\\nYahoo Reference http://education.yahoo.com/reference/\\nHowStuffWorks http://www.howstuffworks.com/\\nWikipedia http://en.wikipedia.org/wiki/Main_Page\\n\\nSince I really haven't answered your question, it is not necessary to give me any points.  Regards.\",\"Your question doesn't make much sense... \"East\" is a notion defined in terms of the Earth's surface, and where \"East\" points relative to _you_ in space rotates once a day as you rotate on the surface of the Earth.\\n\\nIf you give a specific point on Earth, and a specific time, someone could answer this question for you.\",\"Add this inside the <form\\nenctype=\"multipart/form-data\"\\n\\nIt should look like:\\n<form METHOD=POST enctype=\"multipart/form-data\">\\nHope this works.\\nGood Luck\",\"Populism is a political philosophy or rhetorical style that holds that the common person's interests are oppressed or hindered by the elite in society, and that the instruments of the state need to be grasped from this self-serving elite and used for the benefit and advancement of the people as a whole.\",\"Yes, you can use java script in text area. but the result will be display on browser.\",\"A clown!!  I know it sounds really obvious, but imagine if you saw some one who you didn't expect, come walking in with big colored clown hair, huge ears,  big red nose, a pokka dot jumpsuit, and huge shoes.\",...,\"I think you probably mean CENTRIOLES?  These are neat structures within a cell which aid animal cell division by migrating to opposite sides of a cell and dragging replicated chromosomes with them.  Each sister chromosome is attached to a spindle which is attached to its respective centriole.  The cell pinches off in the middle once the chromosomes are at opposite sides, and two cells are created!\\n\\nCentrioles are not present in plant cell division, though a very similar separation occurs in both plants and animals.\",\"there were a multiple scientist on the case for the theorie part: Otto Hahn, Fritz Strassmann, and Lise Meitner\",\"May till August mainly however June is the most common month of all . If you are picking a date try to make it something special to your relationship rather than what everyone else is doing .\",\"He stopped lovin her today\",\"The amount of matter in an object is called its mass. The force of gravity is dependent on the amount of mass a body has. That means that the gravity on the Earth is greater than the gravity on the Moon, since the Earth has much more matter or mass than the Moon.\",\"I think that was before Alexander.  So if it even existed, Greece was probably a Monarchy... I think...\",\"When you find out, let me know!!\",\"Yes, other stars with orbiting planets have been discovered. One is Upsilon Andromedae.\",\"If you download the newest version of yahoo chat, Yahoo chat with voice, it has a feature called conferencing. You can all chat at once and view each others webcams in separate windows. The webcams also move faster when they are in super web cam mode, it is only available if you have high speed internet access.\",\"I have no idea...\"],[\"I'm sorry all these things are happening. But, the answer to your question is: No, it's not good to hate your parents. It's also not good to treat a daughter as they have been treating her. \\n\\nWhat would be good in this case is for you and your parents to go to a family counseling service and get these issues out in the open. I hope they find out how you are feeling before too much more time passes. And, good luck to you.\",\"Mind is Reconstructive:\\nEvents are imperfectly remembered. Many events are not remembered at all. Some events are remembered initially but later gradually forgotten. \\n\\nA trigger (e.g. an article in a newspaper, a photograph of a friend etc) might bring back a recently forgotten memory. However, most events eventually become permanently lost and can never be retrieved. \\n\\nIt is impossible for the brain to store complete details of every event. It simply does not have the storage capacity to hold that amount of data. Rather, only a minimal amount of information is actually stored in the brain. \\n\\nWhen we recall a memory, our mind will automatically \"flesh out\" the recollection by inventing details of the event, based on previous similar experiences. This process is largely unconscious; we are not generally aware of it happening. \\n\\nOne interesting phenomenon can occur when the memory is being recalled as a result of questions by a therapist or interrogator. Their suggestive questions can distort this \"fleshing out\" process. The mind can add new components to the memory that are unrelated to the original event. Even more interestingly, these distortions will later re-enter the client's memory, and will probably emerge during subsequent recalls.\",\"The Straight Dope says, \"To tell you the truth, nobody really knows. The best explanation I've been able to find (and frankly it doesn't explain very much) is that nipples aren't a sex-linked characteristic. In other words, nipples are just one of those sexually neutral pieces of equipment, like arms or brains, that humans get regardless of sex.\" \\n\\nIt's also notable that the fetus starts to develop nipples long before any other sex-linked characteristics.\",\"\"Penry held that the applicaiton of the death penalty to persons who are metnally retarded but not legally insane does not violate the Eighth Amendment against cruel and unusual punishments.\"\\n\\nThis decision was later overturned by Atkins v. Virginia (2002), which ruled that \"Executions of mentally retarded criminals are 'cruel and unusual punnishments' prohibited by the Eighth Amendment.\"\",\"It appears that the question period has expired.  If you have received an answer that meets your needs, please choose a 'best answer.'\\n\\nIf you haven't received a good answer for your question, you may want to consider the following,\\n1) Re-post your question.  Newer questions get more activity on Yahoo! Answers than old ones.\\n2) If you do re-post your question, consider why it wasn't answered the first time.  Could it be more specific?  Could it be worded better? Were there grammatical or spelling errors? Was it in the best category?\\n\\nIf it doesn't seem likely that re-posting your question will help you, then here's a listing of my favorite 'answer sites'.  Maybe one of them will help you.\\n\\nAnswers.com http://www.answers.com/\\nBartleby http://www.bartleby.com/\\nYahoo Reference http://education.yahoo.com/reference/\\nHowStuffWorks http://www.howstuffworks.com/\\nWikipedia http://en.wikipedia.org/wiki/Main_Page\\n\\nRegards.\",\"Mengistu Hailemariam\",\"It all depends on what you need from a bank. You can get more bang for your buck if you choose an individual bank for each banking need. A bank that gives you a good deal on free checking may not be able to give you a good savings rate.\\n\\nMyself, I have a Bank of America checking account ('free' with direct deposit, but I'm very happy with their bill pay program), a savings account with Emigrant Direct (4.25% APY), and I use credit cards from Citibank (excellent cash rewards).\",\"Speaking for myself: I get really wet--alot more so than before I have an O;and I kinda shake (my body). My face feels really hot and the breathing increases. It's more like panting with a couple of unidentifiable words thrown in there. Oh and I clench my fists and \"down there\" gets really tight!!!!\",\"Try going to www.amazon.com and search for DVDS.\",\"banana\",...,\"For a formal letter, I would drop the 'yours'and just put \"sincerely\" Truly and faithully are words reserved more for a friendly letter.\",\"Truthfully, probably not.  The competition to get into prestigous schools is phenomenal and one of the barometers is the SAT.  It obviously consumes a lot of people.\\n\\nOut in the real world, your SAT score won't take you too far, but a college degree certainly will.  Do your best on your SAT's when you take them so you'll have the best choice of colleges available.  You don't have to score 1600 to succeed, despite what you might have heard.\",\"No, because the whole point of Apple is that they run on their own operating system (which I am not fond of). Intel is just a processor, and is in no way related to Windows.\",\"First, I am assuming the printer has either USB or parallel interfaces. \\n\\n1. You need to install its driver into one of your computer.\\n2. After installation, on that computer, share the printer\\n3. Go to the other computer, look up the shared printer and added that as remote printer\\n4. You should be able to print from both computers\\n\\nP.S. If your printer is USB interface, get a printer server (see below link)\",\"There are many things that can make someone angry, each of us is so different, that is why the degree of anger is also different. Some people may tolerate certain indisgressions and some may not.  The degree of tolerance is a very important aspect that can determine how much anger a person can, or may feel, and also may indicate how much control of anger a person can manage.  Maturity, Self-confidence, discipline, psychological and emotional fitness, may establish a person's ability to control his or her anger, and cope with it. Violence is anger without control and without proper logic. It is a pure irrational physical interpretation of one's fear, insecurity and vulnerability. Coping with anger is dependent on the person's abilility to figure things out for himself/herself and resolve his/her anger by using proper logic and discipline in managing ones emotional state. Often we seek advice from trusted acquiantances, just be careful, and think of what advise is being given, because they are mainly opinions of someone who may not really understand what you may be feeling, or angry about in the first place, it is very hard to assume that anyone person can help you with your anger. It is good to share your thoughts about your anger with someone you trust, but you cannot expect them to solve your anger. Only you can exercise proper rationality on your own anger and try to resolve it without violence by having self-confidence, disciplne, mature rationality, knowing what is good to do, and not to do something bad.  By doing so, you can show to everyone that you are a mature and responsible human being, and serve as a good example for everyone to follow.\\n~meow\",\"When your company is ready to go public, you will know where to look for that answer. The fact that you don't know where to look for that answer indicates your company is no where close to being ready to go public.\",\"Concrete can affect the ph of soil and water that it comes in contact with. The larger the body of water, the less potential effect.\",\"First White Tree of Minas Ithil\\nPlanted by Isilur in the Second age\",\"Pats\\nIndy\\nSeattle\\nPanthers\",\"You showed a lot of courage writing a love letter. So, it's clear that you have made your feelings known to her and, since she is still talking to you, you did not totally scare her off. All good things.\\n\\nBut you do say she already has a boyfriend, so you should respect that part of her life. Given the situation, talking to her and being her friend is a great way to find out if your feelings get stronger, weaker, or stay the same as you get to know her better.\\n\\nWhat do the two of you talk about already? I would stick to what you are comfortable with for a while. How did you get to know her in the first place? Talk about the stuff you have in common. Nothing too deep in the beginning. That can come later as the friendship grows. Talk about classes you have together. Ask about how her after-school activities are going if you know what they are. Is she a cheerleader? Head of the math club? A guitar player in a band? Ask her how the stuff she cares about is going. Or maybe you can talk about music or TV you both like. \\n\\nHang in there!\"],[\"Oreos on my pizza, please.\",\"It appears that the question period has expired.  If you have received an answer that meets your needs, please choose one of those as a 'best answer.'  If you haven't received a good answer for your question, you may want to consider the following,\\n\\n1) Re-post your question.  Newer questions get more activity on Yahoo! Answers than old ones.\\n2) If you do re-post your question, consider why it wasn't answered the first time.  Could it be more specific?  Could it be worded better? Were there grammatical or spelling errors? Was it in the best category?\\n\\nIf it doesn't seem likely that re-posting your question will help you, then here's a listing of my favorite 'answer sites'.  Maybe one of them will help you.\\n\\nAnswers.com http://www.answers.com/\\nBartleby http://www.bartleby.com/\\nYahoo Reference http://education.yahoo.com/reference/\\nHowStuffWorks http://www.howstuffworks.com/\\nWikipedia http://en.wikipedia.org/wiki/Main_Page\\n\\nSince I really haven't answered your question, it is not necessary to give me any points.  Regards.\",\"something that he'll like, depends on his personality.\\n\\nI'm giving my guy homemade peanut butter cups & chocolate covered pretzels this year, and a card too...  \\n(he loves chocolate and normally doesn't buy it for himself & he loves that I make it myself, it's much better tasting!)\\n\\nbut here's some ideas:\\nMake him a special dinner, or go out for one to a place he likes (on you).  Take him to a sporting event or something you'd usually not want to go to that HE likes is another idea.  Some guys like jewelry or watches - you could engrave a pocketwatch with a personalized saying.  \\n\\nPerhaps even just a card is enough...  how long have you been dating?\",\"Globalization means integrating our economy with world economy.\",\"Google Earth is fast becoming one of the most popular tools for doing this sort of thing. You can see the entire globe in 3D and a lot of it is in fairly high resolution. See the link below to download it.\",\"Lowering down the temperature can delay the melting of ice or you can add another substance like common salt to it.\",\"UVa is also called actinic. UVb is more actinic. all orgs are affected by light and as the wavelength gets shorter so do the negative affects of the photon packet. no org can live under sustained UV exposure.\",\"There are a lot of people on this board and sometimes a question may get overlooked.  Just keep asking and someone will answer.  Maybe you are not catergorizing your questions right.\",\"go to Google. see the little list on the right side of the query box? click \"language tools.\"\\n\\nthe \"translate\" box is what you're looking for.\",\"try chatting on www.univision.com I am sure you can find something there.\",...,\"I, for one, would like at least on or two books showing what happens to Harry, Hermione and Ron after they get out of school.\\nBut, the author's original concept was to finalize everything at the end of book seven.  She has made her millions and may do whatever she wants.\",\"You already know the answer to your own question. You won't become rich in a week. Those who have made their foutune workded for it. If you are willing to work at it maybe someday you will wake up and be \"rich\".\",\"Take calcium supplements in small doses throughout the day and drink calcium fortified milk. Your body can only take in so much of any nutrient at a time, so it's best to spread out your intake over the day.\",\"JQA is John Adams's son.\",\"4 - at first it seems strange to think that the energy increased, but you have to remember that she had to work against centrifugal forces to pull her arms in.\\n\\nplus, its always \"all of the above\"\",\"\"Raining cats and dogs?\"  That's a sad story.  In the 17th century in England, cats and dogs ran wild.  After a heavy rainstorm, many of them would be found drowned.  Their bodies would float in the rivers, or be swept down the streets by the floodwaters.  People would see the dead animals.  They would look up at the sky.  \"Been rainin' cats and dogs,\" they would finally conclude.\",\"The King created a rock n roll craze in America that changed the face of music forever.  He popularized blue suede shoes, pelvic gyration in dance and the pompadour and that's just the tip of the iceberg.  \\n\\nHe is an icon and is beloved by millions world wide to this day.  I have friends who still observe Elvis's birthday each year.  Also one of my best friends had an Elvis impersonator at their wedding in 2005 and it was fun and great!\\n\\nThe King Lives in all of us!\",\"cerepantes\\nis a officiale place to learn spanish for the spanish embasis in any country.\\nIf you travel to any other county you can continue normaly with the same level\",\"Hey, just bringing this old question up for a vote. \\n\\nIf you have not found the answer you are looking for, please, feel free to use one of the following links from my personal collection:\\n\\nhttp://www.dogpile.com\\nhttp://www.itools.com/\\nhttp://en.wikipedia.org/wiki/Main_Page\\nhttp://www.dictionary.com\\nhttp://www.thefreedictionary.com/\\nhttp://www.medterms.com/script/main/hp.asp\\nhttp://www.alexa.com\\nhttp://www.searchtools.com/tools/tools.html\\nhttp://www.infopeople.org/search/chart.html\\nhttp://www.brbpub.com/pubrecsites.asp\\nhttp://www.searchsystems.net/\\nhttp://library.albany.edu/internet/choose.html\\nhttp://www.archive.org/\\nhttp://www.publicnoticeads.com/\\nhttp://www.samspade.org\\nhttp://www.free-ed.net/free-ed/ \\nhttp://www.hplearningcenter.com \\nhttp://www.petfinder.com/\\n\\nMy post is simply to encourage you to pick a \"Best Answer\" or to assist you in finding the answer. \\n\\nThank you!\",\"dont know aqbout the \"jumping down\" but the fear of high places is called \"vertigo\"\"],[\"Way to high what ever it is!\",\"No. All water on the planet gets recycled by nature. In essence, the bottled water you drank could have been dinosaur urine at one point in history.\\n\\nIn rural areas, the water from the drain is treated in a septic tank and released into a leaching field.\\n\\nIn cities, sanitary sewers bring all the water from the drain to a treatment facility. After the water is treated, it is released into the river where it gets evaporated into the air, released as rain, and back to your faucet.\",\"napster\",\"52.10 X .08 =4.168 thus D is the correct answer\",\"Google is better, sure Yahoo has some similar services but Google has Google Earth, Google Desktop search, the Google Toolbar (which I find superior to the Yahoo Toolbar), Gmail (superior to Yahoo Mail and it works with Outlook for free), Gtalk (the google IM application) and Picasa among many other services.  Plus Google has just released Google Pack which combines their most popular programs into one installer, check it out at http://pack.google.com/\",\"i do i just started level 10\",\"For God so loved the world that He gave His only begotten Son, that whosoever believeth in Him shall not perish but have eternal life. John 3:16\\n\\nIf you want to go to heaven:\\n\\nA. Admit that you are a sinner and that you are in need of God's forgiveness.\\nFor all have sinned and fall short of the glory of God, Romans 3:23\\n\\nB. Believe upon the Lord Jesus Christ. This is not merely saying \"I believe\", rather it is placing the heart's trust in Christ and His finished work at Calvary to save your soul and change your life\\n\\nC- Confess your sins and confess Jesus Christ as your Lord and Savior.\\n\\n\\nIf you have never experienced Salvation in Jesus Christ, let Him come into your heart now and change your life not only for now, but for eternity. If you would like to be saved, pray this prayer or one in your own words with the same meaning:\\n\\n\" Lord Jesus, I know that I am a sinner and I know that without you I am headed for a Christless eternity. I trust you now as my Savior and ask that you forgive me of all of my sins and come into my heart. Thank you for saving me and I ask also that the power of your Holy Spirit will strengthen me to be the best Christian that I can be for you. Amen\"\",\"Cations are particles with a positive charge, while anions are particles with negative charge. Cations are formed when an atom loses electrons, while anions are formed when an atom gains electrons. Among the atoms, the alkali metals (Group 1) and alkaline-earth metals (Group 2) are the most reactive metals, having one and two valence electrons, respectively. Therefore, metals lose that electrons and form cations.\",\"You pay a fee for example to Yahoo and they post it there!\",\"they thought that by teaching modern education they will stray away from islam\",...,\"because they are humans\",\"http://www.monroe.lib.in.us/databases/cominfo/B10016247.html\",\"The first chicken was hatched from an egg of something that was not quite a chicken. That's evolution :-)\",\"too much pressure and stress...\",\"It is hard to find grants to start a business. Unlike the myths that some perpetuate, federal government and even private foundations hardly give grant money for a for-profit business. And yes, grants mean PAPERWORK - lots and lots of it, that is why a cottage industry of grant writers was born.\\n\\nNonetheless, you can go to the Catalog of Federal Domestic Assistance (CFDA) http://www.cfda.gov and Grants.gov http://www.grants.gov - these are two sites created by the federal government to provide transparency and information on grants. Browse through the listings and see if you can find any grant that would support a for-profit venture.\\n\\nEven if you buy books on \"how to get grants\" or list that supposedly has information on grants -- all of them are mere rehash of what CFDA has, albeit packaged differently. But still the info is the same - hardly any grants for starting a for profit business.\\n\\nEven SBA does NOT give out grants. From the SBA website http://www.sba.gov/expanding/grants.html... \\n\\n\"The U.S. Small Business Administration does not offer grants to start or expand small businesses, although it does offer a wide variety of loan programs. (See http://www.sba.gov/financing for more information) While SBA does offer some grant programs, these are generally designed to expand and enhance organizations that provide small business management, technical, or financial assistance. These grants generally support non-profit organizations, intermediary lending institutions, and state and local governments.\"\\n\\nMost of the federal grants are given to specific target groups with specific requirements (e.g. minority business owners involved in transportation related contracts emanating from DOT - Grant#20.905 Disadvantaged Business Enterprises Short Term Lending Program \\n\\nGrants are also often given to non profit groups or organizations involved in training or other similar activities (grant 59.043 Women's Business Ownership Assistance that are given to those who will create women's business center that will train women entrepreneurs \\n\\nFor private grants, you may want to check the Foundation Center's Foundation Grants for Individuals Online. It's a subscription based website ($9.95 per month) but their opening blurb only says that the database is ideal for \"students, artists, academic researchers, libraries and financial aid offices.\" Entrepreneurs are apparently not one of them, so I take it they also don't have listings of private foundations who give grants to would-be entrepreneurs.\",\"Watson and Crick (see link below)\\nhttp://www.pbs.org/wgbh/aso/databank/entries/do53dn.html\",\"Did he tell you this before he said he couldn't talk to you for that amount of time, or he didn't talk to you for that long? Did they sew his mouth shut? Did he break both hands? Does he have any friends who could have called you, or at least emailed you during this time?\\nIt sounds like an excuse to me. Most likely, he found someone else some place and when that didn't work out, he's back online with you. That sucks, but if he were serious about you, he would have thought up a way to contact you. If he couldn't think of a way to contact you, then he's not very smart and you need to find someone who knows how to add two and two and come up with four, not someone who doesn't even understand the question.\",\"cool down - getting upset isn't good for you.  Plus, if you know it's crap, why let it upset you?  Show that you are superior and let them know \"hey, what you are saying just isn't making any sense!\"\",\"You would need to find out the policies of the specific police department.\",\"The old potato powered lightbulb.\"],...[\"screw him, not worth it. he doesn't value your friendship.\",\"Green Perfection™ is a secret blend of 78 natural ingredients known to be vital to life support and body function/regeneration and all resourced in a complementary blend so as to maximize bioavailability.\\n\\n\\nClick the link below for a 30 day Free Trial...\",\"get it to bite you .if you die you know its poisonous\",\"Yes there are a number of things a vitamin therapy of 10000 mg of vitamin A, 3000 mg of vitamin C time released, 5000 mg of sub-lingual B 12, 2000 mg of Omega 3, 1500 mg of no flush niacin and 6 tablets of cal-mag by Schiff brand. At least the first five if you can't do anything else. Here's a list of other foods. There is a better way!\\n\\nFood does affect your mood, and what you eat -- and when -- can impact depression. Sugar and caffeine give you a quick lift -- but can leave you feeling down when their effects wear off. This meal plan reduces sugar and caffeine intake because feelings of depression often improve when their consumption is minimized. Complex carbs act as tranquilizers by increasing your amount of serotonin, the neurotransmitter that calms, in your brain. This meal plan contains lots of fruits and whole-wheat foods to increase your complex carb intake. Turkey contains tryptophan which has a calming affect on the brain. Chamomile, peppermint or goyah tea, for your morning and evening mojo has a calming effect on the brain. Chronic dehydration -- however slight -- can cause feelings of anxiety. That's why this diet includes plenty of water, often with some lemon or lime added to liven it up. Golden raisins are high in vitamin B6 and can be added to an meal or eaten as a snack.\\n \\nEven marginal vitamin deficiencies that don't result in clinical symptoms can negatively affect your mood. This diet, when paired with a daily multivitamin and mineral supplement, will help ensure adequate intake of essential vitamins and minerals (especially the B vitamins and folic acid. Steady blood sugar levels help keep you on an even keel. This meal plan includes complex carbohydrates in every meal and encourages eating small meals spaced evenly throughout the day to help normalize blood sugar levels. ie, vitamin D, magnesium, selenium, and calcium).\\n \\nBREAKFAST\\n\\noption one\\ncalcium-fortified orange juice\\nfiber therapy\\nsoy protein fortified with calcium and vitamin D\\nvitamin therapy\\n\\n\\noption two\\n1/2 cup egg scramble\\nslice of whole-wheat toast\\npeach slices                                                                                                                                                                                               fiber therapy  \\nherbal tea\\nvitamin therapy\\n\\n\\nLUNCH\\noption one\\nspinach and tuna salad\\nherbal tea\\n\\n\\noption two\\nsmoked salmon on whole-wheat bagel with tomato and red onion\\nsliced pear                                                                                                               herbal tea\\n\\n\\noption three\\nblack bean, lentil or vegetable soup\\nmixed green salad\\nherbal tea\\n\\n \\n\\nDINNER\\noption one\\nchicken or turkey salad\\nspinach salad (high in folic acid)\\nwalnuts and dates\\nwater\\n\\n\\noption two\\nsalmon or tuna\\nasparagus\\nanother vegetable from the list\\nherbal tea or water\\n\\n\\noption three\\nvegetable or lentil soup\\nsliced tomatoes\\nherbal tea or water\\n\\n\\nSNACKS (in between meals)\\nChoose two or three each day:\\nwhole-grain crackers with almond butter\\nhandful of fresh nuts and dried fruit\\nsoy protein smoothie\\nsmall fruit\\napple slices and fat-free cheese\\n\\n\\nHealthy Dos and Don'ts \\n\\nHere are a few eating tips to keep in mind when you're dealing with depression. \\n\\nDo:\\nTake a daily multivitamin and mineral supplement see vitamin therapy. \\nGet regular, vigorous exercise daily The endorphins produced make you feel relaxed, plus exercises reduces muscle tension and blood pressure \\nTake a multivitamin supplement that includes B and sublingual B12. Even undetectable malnutrition can lead to feelings of anxiety and depression\\n* Drink plenty of water or other fluids like herb tea\\n\\nDon't:\\nConsume caffeine\\nDrink alcohol\\nLoad up on simple sugars and simple carbohydrates\",\"www.algebrahelp.com\",\"lemonaid stand. or go to imvu become a developer make vitural products and be like me and make 100 bucks in a week by selling your credits to imvupay.com or ask me about a cheat how you can get unlimted credits!@\",\"if your talking about Sharon from the y&r, then yes! she needs to forgive nick and my on.\",\"A rodete consists of a number of curved blades inbetween two metal plates. The water enters by eye of the rodete and is dragged by the blades and sent in radial direction. This acceleration produces an appreciable increase in pressure and kinetic energy.\",\"DU|U - I like the way you think.\\n\\nPersonally, I think I'd rather come back as a pampered pooch!\",\"I check the list from time to time - but I know I'll hear about the people I'm looking for from friends before I see them on the net.\\n\\nBest way to support? Be strong, send care packages, letters, take advantage of video conferencing if your base has a program. My dad and I went in and bought my uncle a spare bullet proof vest, in case he misplaced his - crazy I know, but you never know.\\n\\nLean like hell on your family and troop support groups. Stay busy, don't read to much news. Alot of it is bad news that looks alot worse then it is.\\n\\nKeep the faith.\",...,\"Probably it's because you aren't getting enough sleep, although your not wasting the day away. It may also be a reaction to make up or something in the air allegeries.\",\"Toss Up between Vibrator & Shower Massager \\nPillows go flat\\nVibrators can go as long as the electricity is paid otherwise you need energizer rechargeable batteries\\nShower Massager as long as you have water\\nDiamonds will have you smile until you see another one\",\"You must speak to your union about it - I presume that you were taking a BA with QTS? If so, it's not really much use without the QTS and you need to make this clear. \\n\\nIf the headteacher's objection to your teaching was exclusively down to your disability, your union will be able to fight your cause as the disability was not seen to be a hindrance to a career in teaching by your university when they let you on the course, and so the headteacher's opinion is shaky at best.\\n\\nUnfortunately, don't expect to receive much help from other teachers - this woman keeps them on the pay role remember.\\n\\nIf the union don't want to touch it (which in fairness they shouldn't - sorry I don't know your disability so I don't know whether the headteacher thought that you couldn't reach the QTS standards), then please threaten with legal action. Make sure you keep all your files as evidence of your ability to teach and adhere to the Standards, and you should find that your certificate will come with QTS.\\n\\nTeaching is a profession that isn't really sympathetic to people with disabilities but you should be ok unless:\\n\\nYou failed to declare your disability to your university at the start of your course.\\n\\nYour disability has got worse since you began your degree to the point that you cannot reach the QTS standards\",\"i from turkey .\",\"smack it with  a newspaper\",\"Why not keep what GOD has given you...It's not how large and thick (don't like thick) your penis is...It's how you use it and your parnter enjoys it...Keep what you have,besides i don't think you can enlarge and thicken your penis....\\n  Clowmy\",\"look at their face when you are talking to them, not anywhere else, not down, not on the tv behind them. \\n\\nthe flashy smile and cute lines are nice, but we know a player when we see one.\\n\\njust be honest and be yourself. we hate finding out about lies (just like you do).\",\"You will always come back until you go around the Maya( Illusion) for this is the ultimate challenge...Enlightenment is da way to go otherwise you will always come back until you become a self-realized being(Master). Bonne chance mon ami\",\"OK, I'm out of the loop. What is sensex?\",\"Yes and no; over the short term, it would cause the retailer to have to order more furs, but long term, if activists kept doing it, it could become expensive enough that the retailer would think twice about selling it -- buying merchandise you can't sell isn't good business practice.\\n\\nThe same tactic has also been used against private citizens; activists would wait near big public events where they know that ritzy folks will probably walk through wearin furs and then douse them with either paint or something looking like blood.\"],[\"Yahoo didnt put a ? behind your question.....weird\",\"Our bodies will rot.  That's the only factual statement anyone can make.\",\"\",\"Because we choose to vote for evil.\",\"the best way to appr this problem is to apply the first principle i.e.\\nf'(x)= Lt     [f(x+h)-f(x)]/h\\n       h->0\\nnow putting f(x)=e^x we have\\nf'(x)= Lt    [e^(x+h)-e^x]/h\\n       h->0\\n     =Lt    [e^x(e^h-1)]/h\\n       h->0\\n\\nnow (e^h-1)/h where h tends to 0 is 1\\nhence f'(x) = e^x\\ntherefore the derivative of e^x is e^x\",\"the best wrestlemania -22 the worst none wrestlemanias r always great\",\"Bush's form of conservatism is known as \"compassionate conservatism.\" When he was first elected, the general platform was to be traditional in social issues, and generous in fiscal issues. Tax cuts and social spending are the marks of compassionate conservatism. 9/11 changed all that.  With the idea of terrorism in everybody's mind, especially the idealist Bush's mind, security and defense became priorities. In addition, with his ear turned to Karl Rove, Bush was controlled by the whims of the \"neoconservatives,\" a block of politicians, not even necessarily Republican who believed in the democratization of the Middle East.  Whether inspired by the idea of fully free market oil, or just plain crazy idealism, they considered Israel blameless and wished the remainder of the Middle East was as American.\\nIt was their idea to use terrorism as an excuse to invade Iraq.  \\n\\nWith the want for a large defense budget and the want to be \"compassionate,\" spending is pretty out of control.\\n\\nAlso consider, whenever a party controls the two legislative bodies, they will try to preserve it, and to do that, compromises must be made.  Everyone needs to be happy. Democrats are helpless to stop them. If they take back both bodies in November, expect Bush to start exercising his power of veto often.\",\"Don't eat anything spicy, sleep on an incline, take prilosec.\",\"http://www.praxis-test-coaching.com/\",\"When I separate the person from who they are, i.e. a body part, that person has an incredible bottom, or they are hot, I am separating the person from who they are to how they appear/look. I am also idealizing who they are based on the objectification of their body, i.e., because that person is hot, I would like to get to know them, or somehow they are appealing emotionally mentally because they are hot. As I am objectifying, lust shows itself in fantasy. What would I like, what would I like to do with and to them. So I would say when the idealized picture of this person is replaced with reality, IE., who they really are. You can accept and be willing to see past faults, issues, problems because Love carries no jealousy, love doesn't judge, love don't do anything for self gratitude, love gives unconditionally, love is trust, love is respect, love is truth!\",...,\"Sammie-You Should Be My Girl(for sammie try www.\\nblastro.com.)\",\"60%\",\"Here is the full link\\n\\n http://video.google.com/videoplay?docid=-8260059923762628848&q=loose+change\",\"A few free resources – check out the sources box for links:\\n\\n1) Create a blog pertaining to your field\\n\\n2) Use Yahoo! Local & Yahoo! Groups – Be sure to read the TOS for each one! \\n\\n3) Write articles pertaining to your field and/or expertise.\\n\\n4) Advertise on Craiglist \\n\\nHope that helps! I wish you much success & happiness in all your ventures!\",\"Nassau County, NY has a this feature on the county government webpage.  Tied to real estate taxes\",\"Perhaps in CD stores?\",\"Have a friend to go and get the book for you\",\"Hope these can solve your issue, but in my view atlavista babelfish is good.\\n\\nhttp://www.foreignword.com/\\nhttp://www.word2word.com/\",\"Methandriol dipropionate does not directly convert to estrogen, thus it has a low incidence of estrogen-related side effects, such as gynecomastia, water retention, and fat deposition, which are usually minimal if they occur. As Methandriol dipropionate has an androgenic component, typical androgenic-related side effects are possible: oily skin, acne, increased body hair, and scalp hairloss if prone to male pattern baldness.\",\"The question is too philisophical. We don't know WHY light travels so quickly, we just observe that it does. We can derive such a speed and we can derive the fact that it always travels at this speed no matter what your reference speed is. We have failed to find a situation where the speed of a single photon has not been the accepted speed of light.\\n\\nAlso, contrary to a previous post, light travels at a constant speed, independant of its frequency. This opposed to mechanical waves such as sound and water waves..\"],[\"I think Iraq went to hide there nuclear bombs over in Iran and now Iran has them.\",\"you do know that there is more to punctuation than a period!?\",\"WOW...I watched it all. I really don't like out bound eduction..I feel enlightened...thanks that was very educational..I'm changed..thanks!\",\"The details here wander a bit from the original question.  There is probably some truth to your assertion that many of the things which fundamentalists oppose are \"modern.\"  At the same time, you ought to recognize that there are many social changes/movements which have been marketed as \"progress\" but are just change-for-the-sake-of-change.  (And that kind of \"modernity\" deserves to be opposed.)\\n\\nIt's patently unfair and untrue to say that \"traditional gender roles . . . are more detrimental than helpful to society.\"  Some parts of those roles might be detrimental, but some are quite helpful.  As to the idea of equal involvement, in many respects this is desireable.  But, we probably ought not to ignore that there are real biological, biochemical, and developmental differences between men/women, boys/girls.\\n\\nAs to the original question, you probably know that you've committed the logical fallacy of the \"loaded question.\"  You have offered no proof that fundamentalist Christian opinions about homosexuality are based in fear.  Your question insists that to be a fact and then wants to go forward from there.  But, without any proof of this underlying assumption, your question can't really be addressed.\",\"wot?\",\"http://finance.yahoo.com/bonds\",\"Hybridization, in terms of Chemistry, involves the sharing, or overlapping, of orbitals.  Depending on the energy level where electrons are contained within a molecule, different orbitals will be formed.  These orbitals are really just mathematical representations of where electrons may be found.  The commonly studied orbitals are s, p, d and f.  They are different in shape.  Hybridization occurs when electrons of different orbital types overlap, and combine, forming a new orbital.  Hybridized orbitals tend to be more stable.  You may want to look up Molecular Orbital (MO) diagrams to fully understand how bonding among electrons occurs.\",\"A\",\"\",\"Try this link:\\n\\nhttp://www.scitoys.com/scitoys/scitoys/light/cd_spectroscope/spectroscope.html\\n\\nThe link below shows how to make a spectroscope, too, only at first glance it seemed a whole lot more complicated.\\n\\nhttp://www.uwm.edu/~awschwab/specweb.htm\\n\\nHope it helps! Good luck! :D\",...,\"i highly recommend everyweek you have an automatic amount pulled from your paycheck into a savings account you'll never touch!  even if its only $10 a week, it will add up very fast especailly with compounding.\",\"A hole for a start.\",\"Hey I know who it is \\n\\ni have connected a link in detail \\nhttp://www.google.com/search?hl=en&lr=&q=who+is+Bruce+Sattley%3F&btnG=Search\",\"How about this site?\\n\\nhttp://www.learnaboutgolf.com/index.html\\n\\nHope this is helpful!\",\"It happens in Las Vegas all the time.\",\"RVD\\nCena\\nFoley\\nDX\\nUmaga\\nNitro\\nOrton\\nImpostor Kane\",\"duct tape works wonders\",\"sure! we all carry that e-mail address in our palm pilot's. please believe if i had her e-mail address i'd be selling it on e-bay.\",\"its in tools then internet options then you go to the CONTENT then by personal info there is an auto complete button then you select clear history then you can disable it...damn im too slow at typing, can i get best answer anyway\",\"It's a fad.  \\n\\nI mean I'm sure there's a time they actually wanted to do something nice, like adopt a child but anymore so I think these kids are like pets to them. They get the celebs in the news...then they neglect the kids....\\n\\nI don't think it Jolies case it's a pregnancy case, it think it's an  attention thing. In the meantime, she's neglecting her ethiopeans while trying to save the world. >.<   Why can't we just worry about out own damn country?\"],[\"\",\"The fact that Big Ben  was sent from the hospital is of little surprise to me.It could have been much worse;he could have been sent to the morgue because he chose not to wear a helmet while operating a motorcycle in Pennsylvania.\",\"It would be the person who drinks the milk. \\n \\nWhole milk 1 cup (is not that much) has about 200 calories, where coffee has about 5.\\n2 % is a little better around 150 calories and 1% milk has around 100 calories.  But remember this is a cup.\\n\\nSo say you had a big glass of milk about 2 cups and the biscuit your meal calories would be around 700 calories.  Where is 2 cups of coffee with that biscuit will be around 330 calories.  \\n\\nEating breakfast is good it helps boost your metabolism for the whole day...I think if you rather have the milk just go for 1% or skim with your biscuit.  Personally I love coffee!!!\",\"Yes. Piano, Tenor Sax, Guitar, Bass Guitar, and Djembe(traditionally).\",\"Whether you say it in a nice tone or not, their feelings will get hurt. You are the man of the house, YOUR HOUSE. You need to put your foot down. It's hard having family stay with you, and they are freeloading off you, I know.\\n\\nYou really don't need an explanation because it's your house. Tell them  and if they get upset, oh well. They need to learn how to fend for themselves, and stop interfering with your household.\\n\\nGood Luck.\",\"Some of us are, some of us aren't.  Otherwise, it's Tuesday.\",\"lean protein and lifting weights\",\"He will stare a lot.\\nHe will be nervous around you.\\nWe are pretty obvious.\\nIf he just stares and does not approach you then approach him.\\nGuys are usually shy.\",\"DONT DO IT! IF THATS ALL SHE WANTS! IF SHE LOVES YOU SHE CAN WAIT AND UNDERSTAND!! WAT A SLU+ ( NO OFFENCE) AND YOU CANT HAVE SEX BEFORE MARRIAGE IT IS A MORTAL SIN AND YOU CANNOT ENTER HEAVEN WITHOUT HAVING A TRUE CONFESSION! TRUST ME AND LISTEN TO ME NOT THOSE OTHER IDIOTS OUT THERE!! SPEAK TO HER AND SET A GOOD EXAMPLE FOR OTHER PEOPLE!! PLZ DONT DO IT! NOO SEX!!\\n\\nGOD BLESS YOU AND GOOD LUCK!\",\"As long as you are both single, then I guess it is okay to ask her out, even if you don't know her very well.\",...,\"you have to start your own business so no one can fire you\",\"holler at someone else and have them break the window and unlock the car\",\"I bet you have microsoft? and you are using internet explorer? If so make sure you go to microsofts website and download any updates you need. From time to time, internet explorer or windows will put out updates to their software. They usually do so after some third party, through advertisements or pop-ups, figures out how to exploit a bug or a hole in the code. When this happens, you can get viruses through the holes, even from trusted sites, with lots of advertising.\",\"My favorite chat spot is www.advancedchat.com  it is a java chatroom  without the bots like in yahoo chat!!! Give it a try!!  Ages from teens to adults!! :-)\",\"http://www.edufind.com/english/grammar/\",\"goodbye my lover is way better\",\"il y'a aussi eurosport\",\"Caffeine-containing nut of two evergreen trees (Cola acuminata and C. nitida) of the cocoa family (Sterculiaceae), native to tropical Africa and cultivated extensively in the New World tropics. The trees grow to 60 ft (18.3 m) in height and have oblong leathery leaves, yellow flowers, and star-shaped fruit. The nut has been used in medicines and in soft drinks, though American \"colas\" today instead use synthetic flavorings that mimic its taste. Kola nuts are also used where grown as a medium of exchange or are chewed to diminish sensations of hunger and fatigue, to aid digestion, and to combat intoxication, hangover, and diarrhea. \\n\\nPart Used: Seed kernel.\\nConstituents: Caffeine, with traces of theobromine.\\n\\nKola Nut was said to make ideas become clearer, thoughts flow more easily and clearly, and fatigue and drowsiness disappear. However, too much stimulant effect is said to cause thoughts to scatter. \\n\\nCaution: Do not use when caffeine is contraindicated. If you are pregnant or nursing, consult your health care professional before using Kola Nut. \\n\\nThat is general, from the source below, go to www.erowid.com (maybe two r's) for even more information about metabolization etc.\",\"If the color choices you are thinking of is the color of the rubber bands that go around the brackets on the teeth, yes.  Any orthodontist has color choices.  They also give the choice of traditional metal brackets or the newer (more expensive) porcelian or plastic/resin brackets.  This will differ from orthodontist to orthodontist.\",\"if you want to know if a person is divorced find out where they were married and go to the hall of records in most states its public info\"],[\"Kobe Bryant with Dwyane Wade\",\"Go to the states Better Business Bureau\",\"Tina's answer was about Illinois Insitute of Technology(IIT). I think you are talking about Indian Institute of Technology(IIT).\\n\\nIIT Roorkee offers MCA course. Previously admissions to this course were done through AIMCET. But, 2005 onwards it's through JAM (Joint Admission Test to M.Sc). \\n\\nHere is the link:\\nhttp://jam.iitd.ac.in/\",\"Yes, and if you tickle me in the extra-sensitive places, you'll have me :\\n\\nlaughing-crying-screaming-\\n                                            hyperventilatingly-hysterical!!!\",\"if u wanna know that why don't u google it???\",\"type in the text message erea of your phone put in the name you want and then ok the phone usually asks one time entry or a contact from your phone book use one time entry put in the numbers   52208 and send    there you go  hope it helps\\nbe careful sometime it will automaticly subscribe you to some offer you get charged for on your monthly bill\",\"If you are never going to see them again, they might not want to face that truth. They also might just want to get out of there cause its the weekend or even summer vacation. I am not entirely sure though.\",\"I only like to rap.....Christmas presents........\",\"If it is a word file, when you press save as option, the options are visible to you on right side of the box.\",\"There are actually 32 teams in the World Cup. Teams qualified by playing within their regions for the past three years. Europe, Asia, Africa, South America, North America, Oceania are the regions represented. At the beginning of the qualifying rounds, there were around 200 teams trying to get into the World Cup. \\n\\nThe number of teams from each region allowed into the World Cup varies by region. Regions with more skilled teams get more spots (this year, Europe has 13 teams represented, which is the most, by far).\\n\\nThis article shows how many teams from each region are chosen, along with many other details:\",...,\"I believe he was. In 1977, he went to England when he was a young pup (his words, not mine), `rented' a Formula Ford car and raced against future F1 world driving champion, Nigel Mansell. He won six of 11 races and was crowned series champion. Back in the U.S. he drove a Ralt in the Formula Atlantic series. In 1983, he won five of 12 races in the TransAm series and was crowned rookie of the year. Between 1984 and 1986, he recorded 17 TransAm victories. \\nLater on in his career, he also drove in the IMSA GT series. Unfortunately, through lack of cash/decent sponsorship, all his CART series races were with underfunded teams.\\nBecause he raced in several different racing series and with success, Unquestionably William Theodore Ribbs was the best ever African-American driver; he is the only black driver to win races in different series, in Europe and North America.\",\"yahoo is free email why would it ever be connected to your aol account ? aol and road runner are connected since both are owned by time warner. yahoo does offer a premium mail which is a once a year fee of about 20 dollars and allows access from wireless devices. if you really mean it is aaol.com email then if you are the billed primary account holder just go to manage account and kill that one.\",\"Its a disease but not yours! Alot of my friends are fake and get upset when me or some of the others are doing well for themselves. It really gets to me cos I thought you are supposed to be happy for your friends. They are really competitive and always try to outdo me. I think I annoy them cos Im good at alot of things and have loads of different hobbies. Dont let people wear you down. True friends will stick by you and you WILL find them sometime. People can be sh#t but feck them and know that you are a good person.\",\"He's not good enough... yet. If he doesn't make the US team for South Africa he may never play for them.\",\"Have you checked out www.webmd.com? You prolly have since it's on TV and whatnot, but I can try.\",\"Talk to an attorney to do the paperwork.\",\"Yes, I agree.\\n\\nPeople go on there and talk \\nabout how much of a life they \\nhave and I'm like well if your life\\n is so busy  then why are you \\nwriting a whole novel on your god \\nforsaken myspace?\\n\\nI don't have a myspace, and I don't want one.\\n\\n<3\",\"Yes, its true our government which indoctrinates us since babies, that this is the greatest country in the world, we have so many freedoms, blah blah blah........Its all propaganda, and we accused Russia of this?  \\n\\nYou never read about the horrors that were done to the native American in schools?  never....Its our dirty little secret.  They were of course demonized as killers, savages, they would skin people alive.....It was done to incite fear and hate, so they had to dehumanize them, pretty clever, huh?\\n\\nIf you criticize this country, your told get the hell out, if you don't like it.  What ever happened to questioning your government and being able to openly criticize it without being accused of being a communist...? We dont live in perfect world, in fact this government has MANY defects, just nobody wants to face it....\",\"Probably about 2-3 months.  If it comes off fast, it will usually come back on even faster.  Wait it out.\",\"I do not see the relation. Mental fatigue could be temporary while safe behavior is the product of a learned pattern.\"],[\"In this clip the girl like being girls, the guy doesn't like being a guy.\\n\\nhttp://www.youtube.com/watch?v=1GjkU5tNhG4&search=trample\",\"Actually there is a Women's World Cup but it's always overshadowed by the Men's World Cup.\",\"yeah it mean as soon as possible hope to get 10 pts plz\",\"www.youtube.com\\ni can watch any music video you want.\",\"1) We have broken up atoms in colliders and have \"pictures\" of the explosions\\n2) We have proof of isotopes.\\n3)Hard to disprove that i think\\n4) ditto\\n5) ditto\",\"Second Chances\\nEpisode Number: 150    Season Num: 6    First Aired: Monday May 24, 1993    Prod Code: 250  Stardate: 46915.2 \\n\\n\\nthere were two Riker's and the second one decided his name would be Thomas instead of Will.\",\"You should use a foundation that is slightly lighter than your own skin tone.Basically every woman (especially women of color)have this happen to them as they age.The foundation I mentioned earlier should be used just on the dark spots ,so it can blend in with the dark spots to match your skin tone.\",\"It is Dominate-and the language of the US.\\n\\nThey either are Rude not  trying to learn it--or are Stupid and can't.!!!!!!!!!!!!!!!!!\\n\\nI know lots of older now citizens who have learned enough to pass the simple exam.\\n\\nNew ones it is understandable they need time.\",\"God does. He says I don't have any. And if anybody should become one, He will deal with them.....I don't have to.\",\"I don't think you can truly love someone until you know their soul. First sight is romantic and storybook but that's all. For the people who have been with a person for a long time and say they had love at first sight was luck, that's all. The lord also works in mysterious ways so I could be wrong. Well we are right back where we started.lol\",...,\"The Chandrasekhar limit, is the maximum mass possible for a white dwarf (one of the end stages of stars when they cool down) and is approximately 3 × 1030 kg, around 1.44 times the mass of the Sun. This number is different in various articles, from 1.2 to 1.46 times the mass of the Sun and depends on the chemical composition of the star.\",\"SMTP is port 25. To connect, use a telnet client. Therefore, I would answer C.\",\"I would have my own cheesecake shop near the beach.\",\"Oh he's all that and so much more:)\\nFrom the interviews I've read of him... he often comes across as someone whose funny, bright & humble all very attractive qualities.\\nHe's also got the most mesmerizing pair of eyes the kind that makes you go weak in the knees.\",\"I think abortion is bad! It is a terrible and cruel thing to do, i don't know how some people have the heart to do that! I would never be able to do that to a poor tiny baby who did nothing wrong! \\n\\nThe only time i feel abortion is okay is like you have said when there is rape.  Then i can understand and it must take real guts to get rid of a baby.  That must be difficult and i sympathise for the people who have to go through with that.  \\n\\nThe government should make it illegal to have an abortion under certain circumstances.\",\"THe ratings will certainly suffer since Woods won't be playing. THe ratings will be down by no less than 25%.\",\"Husband first.  Definately.  \\n\\nThe parents should always work as a team- if the team breaks down, the whole system malfunctions.\",\"They're both equally amazing, it's how you use it\",\"Clerk of Court's office for your County - or wherever the births occurred.  The department names are sometimes different, but wherever people get marriage licenses and birth certificates would be the place you could do research.\",\"Sorry dude (or dudette) but i found there is no theater that has that movie. Go to Yahoo Movies and check another theater.\"],[\"nope\",\"Check the Cherokee Nation's official website...\\n\\nGood luck...\\n\\nBTW, my maternal grandmother was a full-blooded member of the Cherokee Nation who enjoyed teaching her neighbors and friends in Monrovia, CA(where she died in 1973) about tribal cultures and traditions unique to the Cherokees...\",\"While I wouldn't wish him dead, it wouldn't break my heart to never see or hear him on tv again. When he does die, I won't dance on his grave  but I won't mourn him either.  He is such a piece of work!  Definitely not a person I care for in the slightest.\",\"Eggs, perhaps an omelet made with some chopped vegetables (spinach, mushroom) and a bit of cheese. Feta cheese and spinach omelets are delicious. Avoid carbs, especially simple ones in white bread products, and I'd avoid fruit in the morning...too much sugar when there's nothing else in your system.\",\"Paul Newman.\",\"How could anyone forget \"Sho 'nuff, The Shogun of Harlem\" he was the bad guy..... great flick, it was called \"The Last Dragon\" Here's more info:\\n\\nhttp://www.kfccinema.com/reviews/kungfu/lastdragon/lastdragon.html\",\"wait for a few more years...ur still a kid\",\"I think yes.. you are..I know someone got divorce and remarried again to his ex wife..\\n\\nThere's no harm for taking another chance of going back to your wife, not only because of the fact that you have a daughter.  Somebody said \"love is sweatier at the second time around.  Talk to your ex wife and discuss things with her.  Try to know if she stills love you.. Intuition will not deny if she still have feelings for you,you will feel it right from the bottom of your heart.  You just have to take time, especially after all what happen you are still friends.. It will not be difficult to bring back the things again.. If this not work, at least you try.. and give yourself a break and focus yourself on your child...\\n\\nThe girl living with you right now, be honest to her.. If you dont really love her, why waste time? or why hurt her?  Honesty is always a pain for everyone, but remember it always brings you peace of mind.  No things in this world greater than having a peace of mind.  Knowing that you are being fair to everyone.\",\"Plug in for h = 0, it should work out.\",\"Please try to hear what I am saying. Your problem is not in writing the notice but screening the people out that you do not want. I have 10+ rentals and you cannot believe the things that people will say and to convince you to rent, and then you run background check and Mr. Hyde reveals himself! A simple notice with your address, phone number, and cost will suffice and be choosy! Wait for the right person, and whatever they tell you, assume it is not true until you can prove it to be otherwise. You haven't experienced grief until you try to evict someone who won't pay, leaves their dog locked inside for a week (imagine the carpet, walls, etc.) and won't remove the trash. It's a major financial, emotional, and health hazard. Have the prospective tenant pay the application fee and apply it toward their rent and have it professionally screened for credit, job history, rental history, criminal history and good luck.\",...,\"Many people have no idea what they are even talking about when it comes to the Vietnam war. They should educate themselves before they go around talking about it.  Anyone who draws a comparison between the Iraqi war and Vietnam doesn't have their facts straight.\\n\\nJust for fun, some stats on Vietnam:\\n91% of Vietnam Veterans say they are glad they served \\n74% said they would serve again even knowing the outcome \\n2/3 of men who served in Vietnam were VOLUNTEERS.\\n58,148 US servicemen died.\\n\\n\\n58,148?? That doesn't even bear comparison to just over 2000 in Iraq.  \\n\\nIt is very easy for people in the U.S. to sit on their couches and critize the war and our president. Keep in mind the men and women fighting for us are the ones that give you the freedom to sit on your couch!!\",\"if you consider the gestures sacrifices-stay single.\",\"OMG it so pisses me off, My hubby is in the navy and i have friends ove in Iraq, I swear if i was ne where close to where these ppl are doing this i would go and woop there asses OMGGGGGGGGG\",\"HTML kit is one of the best with lots of plugins. It also supports some advanced features only found in commercial solutions (e.g. macromedia homesite) such as built in ftp server and server mappings for server sided languages such as asp, aspx, php.\\n\\nIts syntax highlighting engine is descent but not the best. However, this is by far the best free solution you can get.\",\"i believe they all die except for Julianna Margulies who plays Maureen Epps\",\"try using settings in the messenger .... No proxies with Fire walll It should work....\",\"He continues and the 2 ball is on.\",\"never heard it\",\"You're right it should be resolved, but it has been around since people started interacting. There seems to be no solution on this mortal plain. If you be live in the hereafter there color will not matter. Until then just be the best person that you can be, and try to set a positive example for those around you. Change what you can accept what you can't.\",\"norse culture believes the earth was created from a tree of life.  Native american believes our world is the 4th one in existence which is kind of neat.  and buddists don't care where we came from just how to get rid of pain.  And shinto believes the sun spirit or kami is responsable for creating the earth from a bath.  So many different tales out there that aren't christian just do a google search for them.\"],[\"Because you are looking for the number of girls in relationship to the total class, you have to figure out what proportion of the total are girls. Out of every 9 students, 4 are boys and 5 are girls, so 5/9 of the students are girls.\\n\\nG/45=5/9\\n\\nSolve for G.\",\"I'll be honest... putting a quote in the support to your argument where the source admits it was wrong is laughable.  And I'll also admit, I couldn't stay focused on the whole article, but you are aware that nothing in there indicates he was black?  \\n\\nI mean the issue is irrelevant to me, but i really just want to see if you're aware that you failed to make your point.  By raising this issue at all you point out that A) you are racist and B) you really don't get the teachings of Jesus.\\n\\nColor and race were issues that Jesus never would have focused on, but rather loving and understanding each other are.  And I think you'll find that if you don't use quotes from a radical organization with a defined, set agenda to support your case you may win over some people.\",\"I am a Christian Democrat and I am against abortion,same sex marriages and such. I don't know why liberals and democrats think that way. You can be both.\",\"Your own.  That's the best work at home company you will find. Start your own business. Don't just talk about it, make a decision and do it.\\n\\nI found this site helpful and some of the ebooks, articles and information got me started. Now I am seeing results.\\n\\nLearn all you can but make the decision. An idea or thought or goal is worthless without making a decision to act.\\n\\nYou can do this.\",\"the killers-under the gun\",\"Actually this has a real answer. According to the book \"Random Kinds of Factness: 1001 (or so) Absolutely True Tidbits About (mostly) Everything\" by Erin Barrett and Jack Mingo the egg came first.\\n\\nAccording to their research chickens evolved from early Indochina birds called red jungle fowl. Mutations in the jungle fowls eggs produced things more like chickens...these bred with other bird causing more mutations producing todays chicken.\\n\\nSo the eggs have it!\",\"You have way too much free time\",\"YES!!!! i was anorexic and bulimic and I'm fine now. I did have to get help though, so don't think you can do it on your own!\",\"Why the heck would you be in a dark room. unless you two are playing 7 minutes in heaven. But Yubi you are 10 so why are you playing that game????\",\"Of course it's rediculous. The pastors of the different churches have to make some excuse as to why there are over 600,000 different christian denominations though. Those pastors of the churches wanted to be able to \"guide\" what their following believed in. Only by proclaming the bible is perfect, and themsevles, the pastors the most educated (supposedly), were the best ones who could interpret the scriptures to what they \"really meant\". This is why so many christian believes change all the time throught history. Also why those believes are the most popular of the day. If the pastors weren't the sole interpreter of the scriptures they wouldn't be payed so much. \\n\\nIronlicly you'll never find the word \"bible\" in the scriptures either. The word mean a collection of books. \\nMost christians will scite Rev 22:19 to you. They fail to realize that the \"book\" the scriptures is talking about is the book of revelation, not the bible. John (who wrote revelations) hadn't even written the Gospel of John yet when he wrote revelations. According to christian doctrine then the book of John would not be allowed. Of course christians also don't realize that the bible was not put together for several hundred years after the apostles died. \\nThere is a like scripture in Deuteronomy 4:2 \"ye shall not add unto the word which I command you, neither shall ye diminish ought from it, that ye may keep the commandments of the lord your God which I command you\".\\n\\nIf christians interpreted this the same way as they did revelations all books, revelations, everything would end after Moses. Of course they don't interrept it that way, that would be rediculous.\",...,\"on ebay\",\"If it's just a small area, permanent magic markers should work.\",\"it depends on what state you live in...I live in Texas and there is no sealing of juvenile records..\",\"Hi. I often worry about the EXACT same things you do. Maybe this could help...\\n\\nProverbs 9:10 The fear of the Lord is the beginning of wisdom: and the knowledge of the holy is understanding.\\n\\nPsalm 147.11-The LORD taketh pleasure in them that fear him, in those that hope in his mercy.\\n\\nPsalm 103:13-Like as a father pitieth his children, so the LORD pitieth them that fear him.\\n\\nAlso just like you, I didn't understand why God would let things that trouble us happen either. Like... why would something upsetting be His Will? Why would he allow us to be in pain? Mostly why do people always thank God for the good in their life and not curse Him for the bad?  Throughout the years many different people had told me the same thing. They all said that God will only give you what he knows you can handle - good or bad. So if you don't think that you are able to get through a difficult time easily, you need to have faith through him.\",\"marke it as SPAM and delete it!\",\"Hawkeye has been used in some events to challenge line calls, they have put a cap on the number of challenges per set to stop unessecary interuptions.\\n\\nThey might introduce it accross the board eventually, but remember its very expensive due to the number of cameras required and the hardware required to process the data.\",\"whats the question? fire away i'm an OT\",\"I think a 20% drop is not unrealistic, so it might drop to $400,000.\",\"you will have to show him that he can trust you and that sometimes people do things without thinking when they are angry.  Unfortunately, you can't always undo these hurts but, if he see's that even he makes mistakes at times and deserves forgiveness then perhaps he will forgive you and alow you to earn back his trust.  Build on that.\\nGood luck\",\"\"],[\"Please visit:\\n\\nwww.ed.gov\\n\\nwww.about.com\\n\\nCall the college in which you are interested and set up an appointment for the financial aid office and write down a list of questions you have about scholarships and grants for Interantional students.  Ask all the questions you can in that appointment.  There is money available but it is like a BIG secret!!!!\\n\\nGood Luck!!!!\\n\\n\\nTake care\",\"OK, here's your options.  It seems that the guy who hit your car isn't owning up to his responsibilities.  Depending upon where you live you may be able to contact the department of motor vehicles and obtain insurance  & registration information.  However, I suspect that this slime ball was uninsured.  In this case you may have to sue him in small claims court.  To do this, contact your county court and ask for information.  They will tell you what is necessary and may give you information on how to prove your case.  I hope you got his name, address, telephone number and hopefully his driver's license ID number, along with the make, model, year and license plate from his car.   When suing someone in small claims court, come with evidence in hand on the day of your hearing.  Take lots of photos of the car, showing the damage and hopefully you have photos of the car before the accident, showing no damage.  Also, take photos of the accident site, showing if the other guy had a stop sign, red light or the like.  remember that when you take pictures, although you may need some close ups, you must realize that any judge may not know the location and you should have soem \"set up\" pictures to show the general area.  Finally, get more than one estimate and tell the body shop thta you need the estimate \"certified\"  (If this is required in your state, the body shop should know what this means.)  good luck\",\"All religion or just Christianity and Muslim(Allah and Jehovah)\\n\\nEducation,\\nMarijuana.\\nEnlightenment\\nAlien encounter\\nDisappointment\\nNear death experience\\nDiscovery of alternative Truths\\nDisbelief\\nExtensive travel,getting to know different cultures\\nAwakening to reality\\n\\nto name but a few\",\"Thomas C. Tiller          Director since 1998\\nMr. Tiller, 44, is the Chief Executive Officer of the Company and was the President and Chief Executive Officer of the Company from 1999 to April 2005. From July 15, 1998 to May 20, 1999, Mr. Tiller served as the Company’s President and Chief Operating Officer. From 1983 to 1998, Mr. Tiller held a number of design, marketing and plant management positions with General Electric Corporation, most recently as Vice President and General Manager of G.E. Silicones. Mr. Tiller also serves as a director of KTM Power Sports AG. Mr. Tiller is a member of our Technology Committee.\",\"all depends on the girl, sometimes it's just annoying as all-heck in-a-basket, somtimes it's sexier than the lingerie bowl\",\"The phenomenon known as \"aurora borealis\", AKA \"auroras\" or, \"The Northern Lights\", is causes by charged particles entering Earth's atmosphere.\\nThese charged particles follow the magnetic field lines will surround Earth which is why they tend to show up in the higher Northern and lower southern latitudes since the magnetic field lines extent from the magnetic North pole to the magnetic South pole.\\n\\nFor more info,\\nhttp://science.howstuffworks.com/question471.htm\\nhttp://www.exploratorium.edu/learning_studio/auroras/happen.html\",\"Life each day to the fullest potential possible, and spend time with those closest to me.  I would make sure I'm enjoying every meal I eat.  Have some mad, crazy sex.  Do everything I've been too afraid to try in the past.  See as many places that I'm interested in seeing.  Read as many books I have an interest in.  Have more sex.  Go to the best parties!  Start a non-profit.  Pick my nose in public a couple of times.  Smoke a cigaret in a health-food store.  Post nude pictures of myself on the Internet.  Travel around Europe by train (first class with a sleeper, of course) with a shirt that reads:  USA - WE OWN THE WORLD (cafepress sells them).  Learn to play the piano.  Rent a high-class escort for a night - Risky-Business-style.  Visit the 7 wonders of the ancient world.  Pay more than 100 dollars for a pair of sneakers.  Shout \"Fire!\" in a crowded movie theater.  Watch every movie I've ever wanted to see.  Shoot a bolt-action sniper rifle.  Visit the Neverland Ranch.  Travel in the Sahara desert on camel.  Direct a porn flick.  Buy non-discounted clothing.  Drive a Porsche 911.  Stalk Paris Hilton.\",\"Well....they won't get a decent job. They will try to apply for a job beyond the minimum-wage, barely enough to live, never mind raising a family type...and they will fail. Even some of the Grade 12 projects at my school have amazingly easy to spot grammar errors.  I guess they will either learn to spell or stay at their minimum-wage jobs and live with their parents forever.\",\"You can consider joining an Affiliate Network such as Commission Junction or Linkshare.\\n\\nPros: A lot of the nitty gritty stuff like tax forms or tax ID's are handled on their end.  Your product is also placed in front of thousands of affiliates -- Imagine the exposure you get.\\n\\nCons: They take away a small percentage based on a per-sale or per-lead basis.\\n\\nHope that helps.\",\"about 47hp, you could check magaizines and see if theyve dinoed one\",...,\"Hey....... don't I know u from somewhere?\",\"Flash MX 2004 Professional is easy.\\nBut you should get FLASH 8, or FLASH 8 PROFESSIONAL\",\"The source of the heat is from Hell (so generally hell is hot), so when it rises our earth is of moderate temperature for us living things. The heat continues to rise and when it is high up in the atmosphere, pressure reduced, this result in Cold Heaven as well....:p\",\"Find out everything you can about the kind of students the school is recruiting: GPA, test scores, extracurricular activities, special circumstances.  Most of the information is available through the admissions office, but you have to ask (statistical data is always available but rarely publicized).  Find an admissions officer at the dream school whom you can talk to and make an appointment to talk to him/her.  Give him/her the background of your kids, ask for areas of improvement, alternative routes to enter the college, etc.  Maybe a few more AP classes will boost your kids to the front of the line, maybe two years at a community college will do the trick, or maybe a year of Peace Corp will make your kids stand out.  Ask these questions and follow their recommendations.  Ask around to see if anyone you know is an alum of the school, or knows someone on the inside, see if they have any advice (but take everything with a grain of salt, don't blindly follow every advice given).  If you are willing to fork out some money, get a consultation with private/independent college counselors, sometimes they are right on the point and other times they are not.  Get a good referral from others that have used the service and see if it's for you and your kids.\",\"YMCA  just cause it fun.\",\"Almost!\\n\\nThe semi-finals will be\\nArgentina - Italy\\nBrasil - Portugal\\n\\nFinals\\nItaly vs. Brasil (the winner??? hopefully penalty kicks and Italy  will prevail - big revenge on 1994 USA final)\",\"Regular verbs that accurately express one's meaning are stronger than verbs with \"helpers.\"  The construction be + adjective is sometimes unavoidable or else handy, but not a strong form.\\n\\nDislike is not really the same as \"be adverse to.\"  One may dislike something but not be adverse to it, as adverse means \"in opposition\" or \"opposed.\"  Toward the opposite, in essence.\\n\\nBasically, if you want strong sentences and statements, avoid the passive tense, and find words that are fairly straight-forward.  \"I wouldn't be adverse to...\" really means \"I am not against...\"  Of course, people sometimes use circumlocutions [\"a talking around\"] purposely to soften a statement, and some people like to soften their statements.\",\"I don't think the country is being converted, and frankly don't think it will ever be popular than the major American sports. That being said it's popularity has indeed grown lately. ESPN is playing most of the World Cup matches, and the national sports news reports on the scores from the matches. It was not this way a few years ago, so it is gaining at least some popularity.\",\"Because your retarded!\",\"an oven mitt, a bottle of ajax and a national gegraphic...the rest is nature\"],[\"No, I am libra but I NEVER cheat in my whole life. In fact, I am faithful to my husband and I will forever be faithful to him. I am very much committed to my marriage. Adultery is a sin.\",\"\",\"\",\"I would want to be a fairy!! They can fly, (woo, hooo) and they get an endless supply of pixie dust. They are small so they get to see and hear things that we will never get to. They live for just about ever, and they stay youthful for the entire length of their lives.  They live in the forest, making their homes in trees, flowers, mushrooms, and mountain sides. They dont have to brush their hair, it's just naturally beautiful ever morning! They have the option of wearing any flower they like as clothing, or they can just go without clothing and there is nobody that would tell them to put something on! They smell nice! They glow, they sparkle, they shimmer! They have magic powers! They are mischievous, pranksters, jokers, fun, happy, energetic, full of laughter and love!\\n You know, I could go on forever! But that would take.......well, forever!! LOL!\\n Or there is Cleopatra, Queen of the Nile! That is another option!\",\"Tourism that is mindful of the enviornment. It is a more earth-friendly way to see the world without leaving such a large footprint.\",\"Go to the school or call the school and ask for copies. You will probably have to pay for each one and they ain't cheap.\",\"Ahhh, your destiny.  We all long to know our future.  Here goes.\\n\\nFirst Card, (the seeker) Knight of Cups (Water)\\nYou are a young man who has a creative tendency.  You can be lighthearted and desire progress and harmony (even though they may not be compatible). Cups come from the water, of the matter.  You flow in and fill the container of life that holds and supports you.\\n\\nSecond Card, (the present, here and now) Three of Swords (Air)\\nDistraction, isolation, painful insight.  Swords come from the thoughts of the mind and are of Air.  They can cut away clutter, but can also make cutting remarks.\\n\\nThird Card, (Destiny, or the future) Three of Coins (earth)\\nMaster abilities, talent, self-development, power, dignity, work, perfection, art, recognition, promotion, satisfaction.  Coins are of the earth, how we are remunerated for our productivity.\\n\\nGee, clear as mud.  Haven't had my deck out for years.\\nDestiny isn't in the stars, it's in our hearts and what we do.\",\"It's a computer case that is not as tall as regular tower personal computers.\",\"If you are a dominatrix and into bondage...www.lotionsandlace.com\\n\\nIf you are a craftsman...www.craftleatherwarehouse.com\",\"500 bucks , thats just a retainer though.\",...,\"I'm not going to lie, I'm a little afraid to.\",\"Right on!!  I live a sheltered life, honestly... out in the middle of nowhere, where everyone you know goes to your church and everyone in the community is one great big family.  I was shocked to learn of some of the things that people believe, for instance, I didnt know that there was an actual religion called Satanism, and they go to church at the church of satan!  What??!  \\nAfter asking some of my questions on here, I have learned a whole lot.  There are soooooo many people who are lost, and I never realized that until now! (BTW - I'm 20yrs old)\",\"Here's everything you can possibly wanna know....\\nhttp://www.angelfire.com/tx2/horsecorral/horseanatomy.html\",\"Yes.  It also promotes gang culture in minority dominated Ghetto's by feeding the idea that people can't make it because they are part of a minority group.  Fortunately, this attitude is starting to change.  Many members of minority groups (the majority of whom are single mothers) are ignoring the messages that they have been sent all their lives and seeking a better life, by going back to school or job training programs and getting jobs that allow them to move to safer neighborhoods.  Another change is that people living in many of those neighborhoods are banding together and pushing the gangs out. \\n\\nMost people want to eliminate affirmative action right now, but because of the past rulings of the supreme court and the push by certain liberal organizations, it will be difficult to make it go away.\",\"A quick trip to Yahoo! Reference revealed that the pancreas is a small, irregularly shaped organ that resides between your stomach and your spine. The pancreas has two primary purposes: to secrete enzymes into your digestive system that help break down carbohydrates and protein, and to produce hormones that help maintain normal blood sugar levels. \\nThe pancreas is technically part of the endocrine system, though it plays an important role in the digestive system as well. The endocrine system is a collection of glands, including your pituitary, thyroid, and adrenal glands, that secrete hormones to monitor your metabolism and cell growth, among many other things.\",\"I increased my height 2 feet afterwards so yes.\\n\\nOf course I was standing on a chair at the time.\",\"ebay, electronic boutique, babbages or flea markets\",\"It can be normal as long as they are not cancerous but you should have your breasts examined every 6 months just in case.\",\"Main hindi bol sakti hoon.kahiye.\",\"★★ HELP WITH SEARCHING ★★\\n\\n◙ I used to have so much trouble finding what I wanted. That's because I didn't know the best methods for filtering my searches. Now I rarely have trouble finding what I want. Thanks to a great web site called GoogleGuide. Click on the \"Novices Click Here\" button to read about Google's fantastic search syntax. Yahoo has some of these operators too. But not even close to the amount that Google has. Below are a few examples.\\n\\nsite:briefcase.yahoo.com (mp3)\\nintitle:?parent directory? (mpg|avi|wmv|mov) \"strauss\"\\ninurl:forum intitle:recipes intext:cookies\\n\\n☞ http://www.googleguide.com/\\n\\n◙ Some of what you will learn at the GoogleGuide was used to create the following special search tools.\\n\\n☞ http://www.soople.com/\\n\\n◙ Compare Yahoo and Google search results in side-by-side frames here.\\n\\n☞ http://www.gahooyoogle.com/\\n\\n◙ You'll get pretty much the same tutorial as the GoogleGuide has by reading the first few chapters of this book.\\n\\n☞ http://tinyurl.com/6zx2\\n\\n◙ Here are two more great sites to help you.\\n\\n☞ http://tinyurl.com/qey8v\\n☞ http://tinyurl.com/2ywye\\n\\n◙ You shouldn't rely on just one search engine. There are many really good ones and they don't all have the same things in them. One might have links to HTML sites etc. and another might not. There are currently 800,000 search engines. Most of them are specailty search engines. Here are several hundred generalized search engines. Plus a few specialized search engines I threw in for my own use.\\n\\n☞ http://dwight.clickthesky.com/search/\\n\\n◙ Google is the very best full-text search engine. But when you want a much deeper search you should use the number one cluster search engine.\\n\\n☞ http://www.vivisimo.com/\\n\\nIf you are in a really big hurry you can search many search engines at once by using meta search engines. These will give you the top-ten most-relative results of each engine they search.\\n\\n☞ http://www.ask.com/\\n☞ http://www.msn.com/\\n☞ http://www.dogpile.com/\\n☞ http://www.altavista.com/\\n☞ http://www.webcrawler.com/\\n\\n◙ Here is a way to search many different search engines from a single portal. I use this everyday to research your questions before answering them. Select a resource from the dropdown menu, type in your keywords, and click search.\\n\\n☞ http://www.searchalot.com/\"]]}"
            ]
          },
          "metadata": {},
          "execution_count": 5
        }
      ]
    },
    {
      "cell_type": "markdown",
      "metadata": {
        "id": "4U4YUOB5W8uG"
      },
      "source": [
        "# Fine-tuning the model** (20 points)"
      ]
    },
    {
      "cell_type": "code",
      "metadata": {
        "id": "ZDYIq9l7CYBR"
      },
      "source": [
        "from transformers import (ElectraTokenizer, ElectraForSequenceClassification,\n",
        "                          get_scheduler, pipeline, ElectraForMaskedLM, ElectraModel)\n",
        "\n",
        "import random\n",
        "import pandas as pd\n",
        "import torch\n",
        "from torch.utils.data import DataLoader\n",
        "from datasets import load_metric, list_metrics\n",
        "from tqdm import tqdm\n",
        "import matplotlib.pyplot as plt\n",
        "import seaborn as sns\n",
        "from google.colab import drive\n",
        "\n",
        "from IPython.display import display, HTML"
      ],
      "execution_count": 6,
      "outputs": []
    },
    {
      "cell_type": "markdown",
      "metadata": {
        "id": "ElZ6k36rb0VG"
      },
      "source": [
        "Fine-tuning procedure on the end task consists of adding additional layers on the top of the pre-trained model. The resulting model can be tuned fully (passing gradients through the all model) or partially."
      ]
    },
    {
      "cell_type": "markdown",
      "metadata": {
        "id": "pNEmksaPb3Uu"
      },
      "source": [
        "**Task**: \n",
        "- load tokenizer and model\n",
        "- look at the predictions of the model as-is before any fine-tuning\n",
        "\n",
        "\n",
        "```\n",
        "- Why don't you ask [MASK]?\n",
        "- What is [MASK]\n",
        "- Let's talk about [MASK] physics\n",
        "```\n",
        "\n",
        "- convert `best_answer` to the input tokens (supporting function for dataset is provided below) \n",
        "\n",
        "```\n",
        "def tokenize_function(examples):\n",
        "    return tokenizer(examples[\"best_answer\"], padding=\"max_length\", truncation=True)\n",
        "\n",
        "tokenized_datasets = dataset.map(tokenize_function, batched=True)\n",
        "```\n",
        "\n",
        "- define optimizer, sheduler (optional)\n",
        "- fine-tune the model (write the training loop), plot the loss changes and measure results in terms of weighted F1 score\n",
        "- get the masked word prediction (sample sentences above) on the fine-tuned model, why the results as they are and what should be done in order to change that (write down your answer)\n",
        "- Tune the training hyperparameters (and write down your results).\n",
        "\n",
        "**Tips**:\n",
        "- The easiest way to get predictions is to use transformers `pipeline` function \n",
        "- Do not forget to set `num_labels` parameter, when initializing the model\n",
        "- To convert data to batches use `DataLoader`\n",
        "- Even the `small` version of Electra can be long to train, so you can take data sample (>= 5000 and set seed for reproducibility)\n",
        "- You may want to try freezing (do not update the pretrained model weights) all the layers exept the ones for classification, in that case use:\n",
        "\n",
        "\n",
        "```\n",
        "for param in model.electra.parameters():\n",
        "      param.requires_grad = False\n",
        "```\n"
      ]
    },
    {
      "cell_type": "code",
      "source": [
        "# load tokenizer and model"
      ],
      "metadata": {
        "id": "f6TGghJC8j43"
      },
      "execution_count": 7,
      "outputs": []
    },
    {
      "cell_type": "code",
      "metadata": {
        "id": "8yqAAFqZcwbu"
      },
      "source": [
        "MODEL_NAME = \"google/electra-small-generator\"\n",
        "TOKENIZER_NAME = \"google/electra-small-generator\""
      ],
      "execution_count": 8,
      "outputs": []
    },
    {
      "cell_type": "code",
      "source": [
        "tokenizer = ElectraTokenizer.from_pretrained(TOKENIZER_NAME)\n",
        "model = ElectraForMaskedLM.from_pretrained(MODEL_NAME)"
      ],
      "metadata": {
        "colab": {
          "base_uri": "https://localhost:8080/",
          "height": 145,
          "referenced_widgets": [
            "5bb4c5543d3446e99ad62a4390cc0e3f",
            "8022966422544a308ee606c125e97091",
            "e485c4d7c6fb45bda828242e47cdda9a",
            "245a29bae35c4f4989391e89d901d856",
            "826d90b9750b4db7a3c02152a5031b60",
            "f2b0cf8a991b42c98816401aa1183a5b",
            "cb13a5bd50e943438d022bd5093dc929",
            "0f46423922f74395a1fb78cd8edbce44",
            "9193897cf3b644218a737c838433a520",
            "63b728490054475da2c3630b7f2391c5",
            "f1256021f61c41819d848ff69a24d9a6",
            "a541447f0ef340d4a478beef2b2c2d51",
            "07a40ad49b754973ae52d3ea31a791c6",
            "b077f1d2ffca4c728b5a518bbf9c0ab9",
            "42f5babd972b43d38978a99808a2cd75",
            "8619673b5b684be2ab0f9995d649d159",
            "2d8ce5ed525545d69109a28b980bfe62",
            "acaac7c3ba984037a547e23672884123",
            "63c1f194912a42a192d52755dd2e8987",
            "8db964eb701c4b529ceebdb360e40e2f",
            "6528bf56c4b1441790ebee60fd648ca3",
            "51c3da7a0a004ee0b6a2f4db5961d75d",
            "ebeed28f746e43cd9c15e575076f63cf",
            "293b83f8e948463483dcff15b7407353",
            "210f8de6f3e949529aa27f3afa83eb54",
            "9530eb663af44abe87d82de3a153d210",
            "c3365e0ac4ed4f35ad4b20613f1ecbbf",
            "ae084a93101a446ba5d284724100c1c5",
            "e5d6886c389443a4ae5f048f16a37a22",
            "d333b99430e94e53b6278118093805c1",
            "f26b8f4ed22c403da6d806b63bd8074f",
            "47dc2188848441cda0b402339b7f9670",
            "c6dd445be38540609213578663dd3a8a",
            "449bcdfc2028463396eb21d207fc7575",
            "4269147aaea64137b2b213f1e0c1c296",
            "517bfad2769e4edbbed8d1e1b2c38121",
            "95c22b2b1ac54059a599b13e99bec57e",
            "9542542545bd4fcd82ac2986e7b0f0de",
            "f613ee3d25834f6a831c23538c1a1018",
            "41625ba0be79451f899f3f7eeca1c00a",
            "e2cfdb6eaa3c468e871fadbf9425e846",
            "018b2a00c3f844e3bd23042996edd91d",
            "ae3d6794a407453597458cf474d49408",
            "e7054216f2e04019a59b45b1e5a4df34"
          ]
        },
        "id": "GZNr_UH17_7a",
        "outputId": "f509e41b-cf7d-4404-f310-e678615b9a1b"
      },
      "execution_count": 9,
      "outputs": [
        {
          "output_type": "display_data",
          "data": {
            "text/plain": [
              "Downloading:   0%|          | 0.00/226k [00:00<?, ?B/s]"
            ],
            "application/vnd.jupyter.widget-view+json": {
              "version_major": 2,
              "version_minor": 0,
              "model_id": "5bb4c5543d3446e99ad62a4390cc0e3f"
            }
          },
          "metadata": {}
        },
        {
          "output_type": "display_data",
          "data": {
            "text/plain": [
              "Downloading:   0%|          | 0.00/29.0 [00:00<?, ?B/s]"
            ],
            "application/vnd.jupyter.widget-view+json": {
              "version_major": 2,
              "version_minor": 0,
              "model_id": "a541447f0ef340d4a478beef2b2c2d51"
            }
          },
          "metadata": {}
        },
        {
          "output_type": "display_data",
          "data": {
            "text/plain": [
              "Downloading:   0%|          | 0.00/662 [00:00<?, ?B/s]"
            ],
            "application/vnd.jupyter.widget-view+json": {
              "version_major": 2,
              "version_minor": 0,
              "model_id": "ebeed28f746e43cd9c15e575076f63cf"
            }
          },
          "metadata": {}
        },
        {
          "output_type": "display_data",
          "data": {
            "text/plain": [
              "Downloading:   0%|          | 0.00/51.7M [00:00<?, ?B/s]"
            ],
            "application/vnd.jupyter.widget-view+json": {
              "version_major": 2,
              "version_minor": 0,
              "model_id": "449bcdfc2028463396eb21d207fc7575"
            }
          },
          "metadata": {}
        }
      ]
    },
    {
      "cell_type": "code",
      "source": [
        "model"
      ],
      "metadata": {
        "colab": {
          "base_uri": "https://localhost:8080/"
        },
        "id": "Y8NPxrDeUKGx",
        "outputId": "3ca0929a-d143-4e52-9c8e-47aff190c04c"
      },
      "execution_count": 10,
      "outputs": [
        {
          "output_type": "execute_result",
          "data": {
            "text/plain": [
              "ElectraForMaskedLM(\n",
              "  (electra): ElectraModel(\n",
              "    (embeddings): ElectraEmbeddings(\n",
              "      (word_embeddings): Embedding(30522, 128, padding_idx=0)\n",
              "      (position_embeddings): Embedding(512, 128)\n",
              "      (token_type_embeddings): Embedding(2, 128)\n",
              "      (LayerNorm): LayerNorm((128,), eps=1e-12, elementwise_affine=True)\n",
              "      (dropout): Dropout(p=0.1, inplace=False)\n",
              "    )\n",
              "    (embeddings_project): Linear(in_features=128, out_features=256, bias=True)\n",
              "    (encoder): ElectraEncoder(\n",
              "      (layer): ModuleList(\n",
              "        (0): ElectraLayer(\n",
              "          (attention): ElectraAttention(\n",
              "            (self): ElectraSelfAttention(\n",
              "              (query): Linear(in_features=256, out_features=256, bias=True)\n",
              "              (key): Linear(in_features=256, out_features=256, bias=True)\n",
              "              (value): Linear(in_features=256, out_features=256, bias=True)\n",
              "              (dropout): Dropout(p=0.1, inplace=False)\n",
              "            )\n",
              "            (output): ElectraSelfOutput(\n",
              "              (dense): Linear(in_features=256, out_features=256, bias=True)\n",
              "              (LayerNorm): LayerNorm((256,), eps=1e-12, elementwise_affine=True)\n",
              "              (dropout): Dropout(p=0.1, inplace=False)\n",
              "            )\n",
              "          )\n",
              "          (intermediate): ElectraIntermediate(\n",
              "            (dense): Linear(in_features=256, out_features=1024, bias=True)\n",
              "            (intermediate_act_fn): GELUActivation()\n",
              "          )\n",
              "          (output): ElectraOutput(\n",
              "            (dense): Linear(in_features=1024, out_features=256, bias=True)\n",
              "            (LayerNorm): LayerNorm((256,), eps=1e-12, elementwise_affine=True)\n",
              "            (dropout): Dropout(p=0.1, inplace=False)\n",
              "          )\n",
              "        )\n",
              "        (1): ElectraLayer(\n",
              "          (attention): ElectraAttention(\n",
              "            (self): ElectraSelfAttention(\n",
              "              (query): Linear(in_features=256, out_features=256, bias=True)\n",
              "              (key): Linear(in_features=256, out_features=256, bias=True)\n",
              "              (value): Linear(in_features=256, out_features=256, bias=True)\n",
              "              (dropout): Dropout(p=0.1, inplace=False)\n",
              "            )\n",
              "            (output): ElectraSelfOutput(\n",
              "              (dense): Linear(in_features=256, out_features=256, bias=True)\n",
              "              (LayerNorm): LayerNorm((256,), eps=1e-12, elementwise_affine=True)\n",
              "              (dropout): Dropout(p=0.1, inplace=False)\n",
              "            )\n",
              "          )\n",
              "          (intermediate): ElectraIntermediate(\n",
              "            (dense): Linear(in_features=256, out_features=1024, bias=True)\n",
              "            (intermediate_act_fn): GELUActivation()\n",
              "          )\n",
              "          (output): ElectraOutput(\n",
              "            (dense): Linear(in_features=1024, out_features=256, bias=True)\n",
              "            (LayerNorm): LayerNorm((256,), eps=1e-12, elementwise_affine=True)\n",
              "            (dropout): Dropout(p=0.1, inplace=False)\n",
              "          )\n",
              "        )\n",
              "        (2): ElectraLayer(\n",
              "          (attention): ElectraAttention(\n",
              "            (self): ElectraSelfAttention(\n",
              "              (query): Linear(in_features=256, out_features=256, bias=True)\n",
              "              (key): Linear(in_features=256, out_features=256, bias=True)\n",
              "              (value): Linear(in_features=256, out_features=256, bias=True)\n",
              "              (dropout): Dropout(p=0.1, inplace=False)\n",
              "            )\n",
              "            (output): ElectraSelfOutput(\n",
              "              (dense): Linear(in_features=256, out_features=256, bias=True)\n",
              "              (LayerNorm): LayerNorm((256,), eps=1e-12, elementwise_affine=True)\n",
              "              (dropout): Dropout(p=0.1, inplace=False)\n",
              "            )\n",
              "          )\n",
              "          (intermediate): ElectraIntermediate(\n",
              "            (dense): Linear(in_features=256, out_features=1024, bias=True)\n",
              "            (intermediate_act_fn): GELUActivation()\n",
              "          )\n",
              "          (output): ElectraOutput(\n",
              "            (dense): Linear(in_features=1024, out_features=256, bias=True)\n",
              "            (LayerNorm): LayerNorm((256,), eps=1e-12, elementwise_affine=True)\n",
              "            (dropout): Dropout(p=0.1, inplace=False)\n",
              "          )\n",
              "        )\n",
              "        (3): ElectraLayer(\n",
              "          (attention): ElectraAttention(\n",
              "            (self): ElectraSelfAttention(\n",
              "              (query): Linear(in_features=256, out_features=256, bias=True)\n",
              "              (key): Linear(in_features=256, out_features=256, bias=True)\n",
              "              (value): Linear(in_features=256, out_features=256, bias=True)\n",
              "              (dropout): Dropout(p=0.1, inplace=False)\n",
              "            )\n",
              "            (output): ElectraSelfOutput(\n",
              "              (dense): Linear(in_features=256, out_features=256, bias=True)\n",
              "              (LayerNorm): LayerNorm((256,), eps=1e-12, elementwise_affine=True)\n",
              "              (dropout): Dropout(p=0.1, inplace=False)\n",
              "            )\n",
              "          )\n",
              "          (intermediate): ElectraIntermediate(\n",
              "            (dense): Linear(in_features=256, out_features=1024, bias=True)\n",
              "            (intermediate_act_fn): GELUActivation()\n",
              "          )\n",
              "          (output): ElectraOutput(\n",
              "            (dense): Linear(in_features=1024, out_features=256, bias=True)\n",
              "            (LayerNorm): LayerNorm((256,), eps=1e-12, elementwise_affine=True)\n",
              "            (dropout): Dropout(p=0.1, inplace=False)\n",
              "          )\n",
              "        )\n",
              "        (4): ElectraLayer(\n",
              "          (attention): ElectraAttention(\n",
              "            (self): ElectraSelfAttention(\n",
              "              (query): Linear(in_features=256, out_features=256, bias=True)\n",
              "              (key): Linear(in_features=256, out_features=256, bias=True)\n",
              "              (value): Linear(in_features=256, out_features=256, bias=True)\n",
              "              (dropout): Dropout(p=0.1, inplace=False)\n",
              "            )\n",
              "            (output): ElectraSelfOutput(\n",
              "              (dense): Linear(in_features=256, out_features=256, bias=True)\n",
              "              (LayerNorm): LayerNorm((256,), eps=1e-12, elementwise_affine=True)\n",
              "              (dropout): Dropout(p=0.1, inplace=False)\n",
              "            )\n",
              "          )\n",
              "          (intermediate): ElectraIntermediate(\n",
              "            (dense): Linear(in_features=256, out_features=1024, bias=True)\n",
              "            (intermediate_act_fn): GELUActivation()\n",
              "          )\n",
              "          (output): ElectraOutput(\n",
              "            (dense): Linear(in_features=1024, out_features=256, bias=True)\n",
              "            (LayerNorm): LayerNorm((256,), eps=1e-12, elementwise_affine=True)\n",
              "            (dropout): Dropout(p=0.1, inplace=False)\n",
              "          )\n",
              "        )\n",
              "        (5): ElectraLayer(\n",
              "          (attention): ElectraAttention(\n",
              "            (self): ElectraSelfAttention(\n",
              "              (query): Linear(in_features=256, out_features=256, bias=True)\n",
              "              (key): Linear(in_features=256, out_features=256, bias=True)\n",
              "              (value): Linear(in_features=256, out_features=256, bias=True)\n",
              "              (dropout): Dropout(p=0.1, inplace=False)\n",
              "            )\n",
              "            (output): ElectraSelfOutput(\n",
              "              (dense): Linear(in_features=256, out_features=256, bias=True)\n",
              "              (LayerNorm): LayerNorm((256,), eps=1e-12, elementwise_affine=True)\n",
              "              (dropout): Dropout(p=0.1, inplace=False)\n",
              "            )\n",
              "          )\n",
              "          (intermediate): ElectraIntermediate(\n",
              "            (dense): Linear(in_features=256, out_features=1024, bias=True)\n",
              "            (intermediate_act_fn): GELUActivation()\n",
              "          )\n",
              "          (output): ElectraOutput(\n",
              "            (dense): Linear(in_features=1024, out_features=256, bias=True)\n",
              "            (LayerNorm): LayerNorm((256,), eps=1e-12, elementwise_affine=True)\n",
              "            (dropout): Dropout(p=0.1, inplace=False)\n",
              "          )\n",
              "        )\n",
              "        (6): ElectraLayer(\n",
              "          (attention): ElectraAttention(\n",
              "            (self): ElectraSelfAttention(\n",
              "              (query): Linear(in_features=256, out_features=256, bias=True)\n",
              "              (key): Linear(in_features=256, out_features=256, bias=True)\n",
              "              (value): Linear(in_features=256, out_features=256, bias=True)\n",
              "              (dropout): Dropout(p=0.1, inplace=False)\n",
              "            )\n",
              "            (output): ElectraSelfOutput(\n",
              "              (dense): Linear(in_features=256, out_features=256, bias=True)\n",
              "              (LayerNorm): LayerNorm((256,), eps=1e-12, elementwise_affine=True)\n",
              "              (dropout): Dropout(p=0.1, inplace=False)\n",
              "            )\n",
              "          )\n",
              "          (intermediate): ElectraIntermediate(\n",
              "            (dense): Linear(in_features=256, out_features=1024, bias=True)\n",
              "            (intermediate_act_fn): GELUActivation()\n",
              "          )\n",
              "          (output): ElectraOutput(\n",
              "            (dense): Linear(in_features=1024, out_features=256, bias=True)\n",
              "            (LayerNorm): LayerNorm((256,), eps=1e-12, elementwise_affine=True)\n",
              "            (dropout): Dropout(p=0.1, inplace=False)\n",
              "          )\n",
              "        )\n",
              "        (7): ElectraLayer(\n",
              "          (attention): ElectraAttention(\n",
              "            (self): ElectraSelfAttention(\n",
              "              (query): Linear(in_features=256, out_features=256, bias=True)\n",
              "              (key): Linear(in_features=256, out_features=256, bias=True)\n",
              "              (value): Linear(in_features=256, out_features=256, bias=True)\n",
              "              (dropout): Dropout(p=0.1, inplace=False)\n",
              "            )\n",
              "            (output): ElectraSelfOutput(\n",
              "              (dense): Linear(in_features=256, out_features=256, bias=True)\n",
              "              (LayerNorm): LayerNorm((256,), eps=1e-12, elementwise_affine=True)\n",
              "              (dropout): Dropout(p=0.1, inplace=False)\n",
              "            )\n",
              "          )\n",
              "          (intermediate): ElectraIntermediate(\n",
              "            (dense): Linear(in_features=256, out_features=1024, bias=True)\n",
              "            (intermediate_act_fn): GELUActivation()\n",
              "          )\n",
              "          (output): ElectraOutput(\n",
              "            (dense): Linear(in_features=1024, out_features=256, bias=True)\n",
              "            (LayerNorm): LayerNorm((256,), eps=1e-12, elementwise_affine=True)\n",
              "            (dropout): Dropout(p=0.1, inplace=False)\n",
              "          )\n",
              "        )\n",
              "        (8): ElectraLayer(\n",
              "          (attention): ElectraAttention(\n",
              "            (self): ElectraSelfAttention(\n",
              "              (query): Linear(in_features=256, out_features=256, bias=True)\n",
              "              (key): Linear(in_features=256, out_features=256, bias=True)\n",
              "              (value): Linear(in_features=256, out_features=256, bias=True)\n",
              "              (dropout): Dropout(p=0.1, inplace=False)\n",
              "            )\n",
              "            (output): ElectraSelfOutput(\n",
              "              (dense): Linear(in_features=256, out_features=256, bias=True)\n",
              "              (LayerNorm): LayerNorm((256,), eps=1e-12, elementwise_affine=True)\n",
              "              (dropout): Dropout(p=0.1, inplace=False)\n",
              "            )\n",
              "          )\n",
              "          (intermediate): ElectraIntermediate(\n",
              "            (dense): Linear(in_features=256, out_features=1024, bias=True)\n",
              "            (intermediate_act_fn): GELUActivation()\n",
              "          )\n",
              "          (output): ElectraOutput(\n",
              "            (dense): Linear(in_features=1024, out_features=256, bias=True)\n",
              "            (LayerNorm): LayerNorm((256,), eps=1e-12, elementwise_affine=True)\n",
              "            (dropout): Dropout(p=0.1, inplace=False)\n",
              "          )\n",
              "        )\n",
              "        (9): ElectraLayer(\n",
              "          (attention): ElectraAttention(\n",
              "            (self): ElectraSelfAttention(\n",
              "              (query): Linear(in_features=256, out_features=256, bias=True)\n",
              "              (key): Linear(in_features=256, out_features=256, bias=True)\n",
              "              (value): Linear(in_features=256, out_features=256, bias=True)\n",
              "              (dropout): Dropout(p=0.1, inplace=False)\n",
              "            )\n",
              "            (output): ElectraSelfOutput(\n",
              "              (dense): Linear(in_features=256, out_features=256, bias=True)\n",
              "              (LayerNorm): LayerNorm((256,), eps=1e-12, elementwise_affine=True)\n",
              "              (dropout): Dropout(p=0.1, inplace=False)\n",
              "            )\n",
              "          )\n",
              "          (intermediate): ElectraIntermediate(\n",
              "            (dense): Linear(in_features=256, out_features=1024, bias=True)\n",
              "            (intermediate_act_fn): GELUActivation()\n",
              "          )\n",
              "          (output): ElectraOutput(\n",
              "            (dense): Linear(in_features=1024, out_features=256, bias=True)\n",
              "            (LayerNorm): LayerNorm((256,), eps=1e-12, elementwise_affine=True)\n",
              "            (dropout): Dropout(p=0.1, inplace=False)\n",
              "          )\n",
              "        )\n",
              "        (10): ElectraLayer(\n",
              "          (attention): ElectraAttention(\n",
              "            (self): ElectraSelfAttention(\n",
              "              (query): Linear(in_features=256, out_features=256, bias=True)\n",
              "              (key): Linear(in_features=256, out_features=256, bias=True)\n",
              "              (value): Linear(in_features=256, out_features=256, bias=True)\n",
              "              (dropout): Dropout(p=0.1, inplace=False)\n",
              "            )\n",
              "            (output): ElectraSelfOutput(\n",
              "              (dense): Linear(in_features=256, out_features=256, bias=True)\n",
              "              (LayerNorm): LayerNorm((256,), eps=1e-12, elementwise_affine=True)\n",
              "              (dropout): Dropout(p=0.1, inplace=False)\n",
              "            )\n",
              "          )\n",
              "          (intermediate): ElectraIntermediate(\n",
              "            (dense): Linear(in_features=256, out_features=1024, bias=True)\n",
              "            (intermediate_act_fn): GELUActivation()\n",
              "          )\n",
              "          (output): ElectraOutput(\n",
              "            (dense): Linear(in_features=1024, out_features=256, bias=True)\n",
              "            (LayerNorm): LayerNorm((256,), eps=1e-12, elementwise_affine=True)\n",
              "            (dropout): Dropout(p=0.1, inplace=False)\n",
              "          )\n",
              "        )\n",
              "        (11): ElectraLayer(\n",
              "          (attention): ElectraAttention(\n",
              "            (self): ElectraSelfAttention(\n",
              "              (query): Linear(in_features=256, out_features=256, bias=True)\n",
              "              (key): Linear(in_features=256, out_features=256, bias=True)\n",
              "              (value): Linear(in_features=256, out_features=256, bias=True)\n",
              "              (dropout): Dropout(p=0.1, inplace=False)\n",
              "            )\n",
              "            (output): ElectraSelfOutput(\n",
              "              (dense): Linear(in_features=256, out_features=256, bias=True)\n",
              "              (LayerNorm): LayerNorm((256,), eps=1e-12, elementwise_affine=True)\n",
              "              (dropout): Dropout(p=0.1, inplace=False)\n",
              "            )\n",
              "          )\n",
              "          (intermediate): ElectraIntermediate(\n",
              "            (dense): Linear(in_features=256, out_features=1024, bias=True)\n",
              "            (intermediate_act_fn): GELUActivation()\n",
              "          )\n",
              "          (output): ElectraOutput(\n",
              "            (dense): Linear(in_features=1024, out_features=256, bias=True)\n",
              "            (LayerNorm): LayerNorm((256,), eps=1e-12, elementwise_affine=True)\n",
              "            (dropout): Dropout(p=0.1, inplace=False)\n",
              "          )\n",
              "        )\n",
              "      )\n",
              "    )\n",
              "  )\n",
              "  (generator_predictions): ElectraGeneratorPredictions(\n",
              "    (LayerNorm): LayerNorm((128,), eps=1e-12, elementwise_affine=True)\n",
              "    (dense): Linear(in_features=256, out_features=128, bias=True)\n",
              "  )\n",
              "  (generator_lm_head): Linear(in_features=128, out_features=30522, bias=True)\n",
              ")"
            ]
          },
          "metadata": {},
          "execution_count": 10
        }
      ]
    },
    {
      "cell_type": "code",
      "source": [
        "# look at the predictions of the model as-is before any fine-tuning"
      ],
      "metadata": {
        "id": "25tIDfAfpT4u"
      },
      "execution_count": 12,
      "outputs": []
    },
    {
      "cell_type": "code",
      "source": [
        "pipe = pipeline('fill-mask', model=model, tokenizer=tokenizer)"
      ],
      "metadata": {
        "id": "r4hPO3HyRr1l"
      },
      "execution_count": 11,
      "outputs": []
    },
    {
      "cell_type": "code",
      "source": [
        "pipe(\"Why don't you ask [MASK]?\")"
      ],
      "metadata": {
        "colab": {
          "base_uri": "https://localhost:8080/"
        },
        "id": "IwFSO9n9pPdL",
        "outputId": "1e7ce6a1-1a1e-43dc-de96-0789cee07eec"
      },
      "execution_count": 12,
      "outputs": [
        {
          "output_type": "execute_result",
          "data": {
            "text/plain": [
              "[{'score': 0.5342992544174194,\n",
              "  'sequence': \"why don't you ask me?\",\n",
              "  'token': 2033,\n",
              "  'token_str': 'm e'},\n",
              " {'score': 0.08196018636226654,\n",
              "  'sequence': \"why don't you ask questions?\",\n",
              "  'token': 3980,\n",
              "  'token_str': 'q u e s t i o n s'},\n",
              " {'score': 0.04395333677530289,\n",
              "  'sequence': \"why don't you ask them?\",\n",
              "  'token': 2068,\n",
              "  'token_str': 't h e m'},\n",
              " {'score': 0.04017288610339165,\n",
              "  'sequence': \"why don't you ask why?\",\n",
              "  'token': 2339,\n",
              "  'token_str': 'w h y'},\n",
              " {'score': 0.030024440959095955,\n",
              "  'sequence': \"why don't you ask yourself?\",\n",
              "  'token': 4426,\n",
              "  'token_str': 'y o u r s e l f'}]"
            ]
          },
          "metadata": {},
          "execution_count": 12
        }
      ]
    },
    {
      "cell_type": "code",
      "source": [
        "pipe(\"What is [MASK]\")"
      ],
      "metadata": {
        "colab": {
          "base_uri": "https://localhost:8080/"
        },
        "id": "UPg5BdMypQFp",
        "outputId": "42eb7297-6028-4b81-ccda-05d5960f5b5a"
      },
      "execution_count": 13,
      "outputs": [
        {
          "output_type": "execute_result",
          "data": {
            "text/plain": [
              "[{'score': 0.9262322783470154,\n",
              "  'sequence': 'what is?',\n",
              "  'token': 1029,\n",
              "  'token_str': '?'},\n",
              " {'score': 0.05156780779361725,\n",
              "  'sequence': 'what is.',\n",
              "  'token': 1012,\n",
              "  'token_str': '.'},\n",
              " {'score': 0.021510401740670204,\n",
              "  'sequence': 'what is!',\n",
              "  'token': 999,\n",
              "  'token_str': '!'},\n",
              " {'score': 0.0001196492012240924,\n",
              "  'sequence': 'what is -',\n",
              "  'token': 1011,\n",
              "  'token_str': '-'},\n",
              " {'score': 0.00010928419214906171,\n",
              "  'sequence': 'what is \"',\n",
              "  'token': 1000,\n",
              "  'token_str': '\"'}]"
            ]
          },
          "metadata": {},
          "execution_count": 13
        }
      ]
    },
    {
      "cell_type": "code",
      "source": [
        "pipe(\"Let's talk about [MASK] physics\")"
      ],
      "metadata": {
        "colab": {
          "base_uri": "https://localhost:8080/"
        },
        "id": "LNI7cEK0pQWf",
        "outputId": "30ddfbc8-0b01-405e-ae61-674123877af2"
      },
      "execution_count": 14,
      "outputs": [
        {
          "output_type": "execute_result",
          "data": {
            "text/plain": [
              "[{'score': 0.24027501046657562,\n",
              "  'sequence': \"let's talk about quantum physics\",\n",
              "  'token': 8559,\n",
              "  'token_str': 'q u a n t u m'},\n",
              " {'score': 0.21258601546287537,\n",
              "  'sequence': \"let's talk about theoretical physics\",\n",
              "  'token': 9373,\n",
              "  'token_str': 't h e o r e t i c a l'},\n",
              " {'score': 0.056394025683403015,\n",
              "  'sequence': \"let's talk about particle physics\",\n",
              "  'token': 10811,\n",
              "  'token_str': 'p a r t i c l e'},\n",
              " {'score': 0.0332079641520977,\n",
              "  'sequence': \"let's talk about real physics\",\n",
              "  'token': 2613,\n",
              "  'token_str': 'r e a l'},\n",
              " {'score': 0.022627945989370346,\n",
              "  'sequence': \"let's talk about mathematical physics\",\n",
              "  'token': 8045,\n",
              "  'token_str': 'm a t h e m a t i c a l'}]"
            ]
          },
          "metadata": {},
          "execution_count": 14
        }
      ]
    },
    {
      "cell_type": "code",
      "source": [
        "# dataset.set_format(type='torch')\n",
        "\n",
        "train_dataset = dataset['train']\n",
        "test_dataset = dataset['test']"
      ],
      "metadata": {
        "id": "As6Drk94I3q9"
      },
      "execution_count": 15,
      "outputs": []
    },
    {
      "cell_type": "code",
      "source": [
        "len(train_dataset)"
      ],
      "metadata": {
        "colab": {
          "base_uri": "https://localhost:8080/"
        },
        "id": "tX0qZrPdJE4e",
        "outputId": "56392cb5-7149-4a74-9f69-b70a5c411f0f"
      },
      "execution_count": 16,
      "outputs": [
        {
          "output_type": "execute_result",
          "data": {
            "text/plain": [
              "1400000"
            ]
          },
          "metadata": {},
          "execution_count": 16
        }
      ]
    },
    {
      "cell_type": "code",
      "source": [
        "train_dataset = train_dataset.shuffle(seed=42).select(range(5000))\n",
        "test_dataset = test_dataset.shuffle(seed=42).select(range(3500))"
      ],
      "metadata": {
        "id": "sO2cxm-OESUI"
      },
      "execution_count": 17,
      "outputs": []
    },
    {
      "cell_type": "code",
      "source": [
        "len(train_dataset)"
      ],
      "metadata": {
        "colab": {
          "base_uri": "https://localhost:8080/"
        },
        "id": "HH5SUPOyQhKx",
        "outputId": "02af35b4-5f12-4d3b-f80a-f09587c17952"
      },
      "execution_count": 18,
      "outputs": [
        {
          "output_type": "execute_result",
          "data": {
            "text/plain": [
              "5000"
            ]
          },
          "metadata": {},
          "execution_count": 18
        }
      ]
    },
    {
      "cell_type": "code",
      "source": [
        "def display_random_examples(dataset=dataset, num_examples=5):\n",
        "    assert num_examples < len(dataset)\n",
        "    \n",
        "    random_picks = []\n",
        "    for i in range(num_examples):\n",
        "        random_pick = random.randint(0,len(dataset)-1)\n",
        "        random_picks.append(random_pick)\n",
        "    \n",
        "    df = pd.DataFrame(dataset[random_picks])\n",
        "    display(HTML(df.to_html()))\n",
        "        \n",
        "display_random_examples(train_dataset, 3)"
      ],
      "metadata": {
        "colab": {
          "base_uri": "https://localhost:8080/",
          "height": 317
        },
        "id": "xh0JLgA1IUJg",
        "outputId": "e290f327-65c9-4cfb-f2f4-06b2f09d80a8"
      },
      "execution_count": 19,
      "outputs": [
        {
          "output_type": "display_data",
          "data": {
            "text/plain": [
              "<IPython.core.display.HTML object>"
            ],
            "text/html": [
              "<table border=\"1\" class=\"dataframe\">\n",
              "  <thead>\n",
              "    <tr style=\"text-align: right;\">\n",
              "      <th></th>\n",
              "      <th>id</th>\n",
              "      <th>topic</th>\n",
              "      <th>question_title</th>\n",
              "      <th>question_content</th>\n",
              "      <th>best_answer</th>\n",
              "    </tr>\n",
              "  </thead>\n",
              "  <tbody>\n",
              "    <tr>\n",
              "      <th>0</th>\n",
              "      <td>1147630</td>\n",
              "      <td>3</td>\n",
              "      <td>fafsa, loans and college? Which order should it be done?</td>\n",
              "      <td>The college I want to go to has to have $650 enclosed with the application. Should I submit a FAFSA first and get approved by them or does FAFSA require that I already be enrolled for the school. I also need to get a stafford loan so I need some advice on which order I need to do this. I know for sure that I need to be approved by FAFSA before I can get a Stafford loan but do I need to be accepted by the college before or after I do this?</td>\n",
              "      <td>First submit your FAFSA- everyone is \"approved\" by fafsa- the amount you will receive in loans and scholarships is based upon your financial need- and that of your parents if you are not considered an Independent student.  If you qualify as an independent study, (you would have to prove that you supported yourself for one year prior to being admitted into college) you would then qualify for the MOST in subsidized and unsubsidized stafford loans.  Apply for FAFSA online, list the school/schools you are interested in.  *you will need your income tax info for last year from you and your parents.  And NO, you do NOT need to be accepted to a college first-it is better to submit the form before you commit to any college- you will then get EFC-expected family contribution $$$ so you can foresee what colleges you can truly afford to go to--- Good luck- again, google fafsa, there will be many other sites to help look for other scholarships.</td>\n",
              "    </tr>\n",
              "    <tr>\n",
              "      <th>1</th>\n",
              "      <td>237851</td>\n",
              "      <td>9</td>\n",
              "      <td>Rules of bike riding?</td>\n",
              "      <td>If there are no signs prohibiting it, and no bike lane in the road, is it illegal to ride your bike on the sidewalk?\\n\\nAlso, when riding in the road, do you have to obey traffic laws as drivers do?  What about if there is a bike lane?</td>\n",
              "      <td>Check this site about bike laws. They vary by state.</td>\n",
              "    </tr>\n",
              "    <tr>\n",
              "      <th>2</th>\n",
              "      <td>921187</td>\n",
              "      <td>4</td>\n",
              "      <td>how do you sign on aim with your away message on?</td>\n",
              "      <td>i've seen people sign on aim with their away messages on, how di you do that? 10 points if it works!</td>\n",
              "      <td>k heres one way (it might not be the way that ur friends use tho) \\n1. sign on AIM like you normally would\\n2. put the \"hidden eye\" button on. (this means that other people see you as \"signed off\")\\n3. put your away message on\\n4. take off your \"hidden eye\". this will make it appear to others as though u just signed on for the first time (and your away message will still be on)</td>\n",
              "    </tr>\n",
              "  </tbody>\n",
              "</table>"
            ]
          },
          "metadata": {}
        }
      ]
    },
    {
      "cell_type": "code",
      "source": [
        "def tokenize_function(examples):\n",
        "    return tokenizer(examples[\"best_answer\"], padding=\"max_length\", truncation=True)"
      ],
      "metadata": {
        "id": "1bimY7c6ImaR"
      },
      "execution_count": 20,
      "outputs": []
    },
    {
      "cell_type": "code",
      "source": [
        "tokenized_train_dataset = train_dataset.map(tokenize_function, batched=True)\n",
        "tokenized_test_dataset = test_dataset.map(tokenize_function, batched=True)"
      ],
      "metadata": {
        "colab": {
          "base_uri": "https://localhost:8080/",
          "height": 81,
          "referenced_widgets": [
            "085da6e31d6645329a318edf2b39ada5",
            "bfeb91701091426aaa6b33f3f724c163",
            "a934f3858f7f4cb48ef20e9ad7f868b9",
            "739b35937b8a4642882be33b642d4e2a",
            "4a398037afc34fa89950cf23e5cb5ab3",
            "dc27d18789484b23b7d8c8d211bd054b",
            "46caa0c3f7c34668968b58437221e67d",
            "f5973534744f40e5af4578b932704344",
            "14579b3d54534c1dafb8db2153761994",
            "39080746a9d4499783994a947ecbbaf4",
            "f0dda234272247959b0c91e1b3f26c4c",
            "6042ecfa43824ea7866d6f815b61e1d1",
            "d8a0138b0f9b43f186bba0b189cd7a4b",
            "94ba0f4d626a4172a200054495efea7b",
            "e4db7ed465d541d5b540854c91c2e896",
            "8dfc72b7c8354b7b9e996d46c448f4ea",
            "b0bccf6716994454b6b3031ab4d660c4",
            "65c0be52d4c942f49a01fa326b8c2f2c",
            "85b2c104d8ad4e9caf8031b7fd665401",
            "4a15ccf6085947349d9fdeb04c249cc6",
            "8522f65b8bb1439fbc7a1471b08a02f2",
            "80bd7ba189284361bb23a2bf9bde1b7b"
          ]
        },
        "id": "mFIhAm8tRDUJ",
        "outputId": "f9cb5ffc-f778-472f-a3a8-377cae8bc196"
      },
      "execution_count": 21,
      "outputs": [
        {
          "output_type": "display_data",
          "data": {
            "text/plain": [
              "  0%|          | 0/5 [00:00<?, ?ba/s]"
            ],
            "application/vnd.jupyter.widget-view+json": {
              "version_major": 2,
              "version_minor": 0,
              "model_id": "085da6e31d6645329a318edf2b39ada5"
            }
          },
          "metadata": {}
        },
        {
          "output_type": "display_data",
          "data": {
            "text/plain": [
              "  0%|          | 0/4 [00:00<?, ?ba/s]"
            ],
            "application/vnd.jupyter.widget-view+json": {
              "version_major": 2,
              "version_minor": 0,
              "model_id": "6042ecfa43824ea7866d6f815b61e1d1"
            }
          },
          "metadata": {}
        }
      ]
    },
    {
      "cell_type": "code",
      "source": [
        "tokenized_train_dataset.data"
      ],
      "metadata": {
        "colab": {
          "base_uri": "https://localhost:8080/"
        },
        "id": "ljERXKZYSM5r",
        "outputId": "8cbecb0d-03b1-4f14-a2c9-02020c0ca8e5"
      },
      "execution_count": 22,
      "outputs": [
        {
          "output_type": "execute_result",
          "data": {
            "text/plain": [
              "MemoryMappedTable\n",
              "id: int32\n",
              "topic: int64\n",
              "question_title: string\n",
              "question_content: string\n",
              "best_answer: string\n",
              "input_ids: list<item: int32>\n",
              "  child 0, item: int32\n",
              "token_type_ids: list<item: int8>\n",
              "  child 0, item: int8\n",
              "attention_mask: list<item: int8>\n",
              "  child 0, item: int8\n",
              "----\n",
              "id: [[851713,251470,975899,194,918296,1109487,1097581,698707,773051,85215,...,623018,435965,846716,919380,482916,1049029,209315,242253,1134332,1152559],[105892,1384809,646020,306070,1289003,689272,471233,12101,450789,845935,...,244009,280216,247250,631753,1148483,663836,963607,1073399,325347,307614],[869629,1273918,1373967,1274837,101154,1209897,1092716,771953,525692,1117610,...,367046,780081,1214913,1217784,1240132,83552,516509,1335180,1096733,1188192],[1356336,687143,693033,859701,257954,544712,1100812,352133,960011,593925,...,428267,907185,1033286,280281,1275667,1259314,1306275,781894,521045,651102],[417073,755104,371204,335682,795804,1229334,189767,893381,1325835,943589,...,758085,970588,432747,1111814,441620,254293,739464,1292197,72819,582596]]\n",
              "topic: [[9,9,0,4,1,8,0,9,8,6,...,5,8,2,0,5,9,4,3,1,7],[6,8,3,3,7,3,0,6,8,4,...,2,3,6,0,9,5,5,7,2,4],[5,8,6,2,3,1,5,8,2,3,...,3,3,7,9,5,9,5,5,0,5],[3,4,5,9,6,0,5,5,2,1,...,0,9,7,0,9,2,0,2,5,8],[6,8,0,6,4,5,7,7,7,9,...,3,7,0,8,4,6,3,5,0,2]]\n",
              "question_title: [[\"My husband's brother was killed at sea in WWII. How do we find out the name of the ship?\",\"Why Do So Many People Have a High Opinion of Ex-President Adulterer Bill Clinton?\",\"Did Jesus have a rational mind?\",\"Is there a way in MS Excel to have a cell be equal to multiple cells? e.g.= D3 and D5, where d3 & 5 are words?\",\"What is the purpose of Bayesian Inference?\",\"Need advice from Mexican Men/Women?\",\"do you feel like you havent found you God given talent? Like you are useless?\",\"What will Bush do when he's out of the White House?\",\"I have man prombles?\",\"How do you quit a job you just started?\",...,\"pictures of hoops from flava of love?\",\"How do i ask her????\",\"I am very short about 5' and weigh about 156 I need help losing it  any body have advice?\",\"racial question?\",\"Who is going all the way in the mlb to the world series??\",\"Has anyone else notice some people posting on here thumbing their noses at us about illegal immigration?\",\"Is it possable to buy stock in \"Wemade Entetainments\" in the USA?\",\"does living with family reinforce or oppose your goal as a student?\",\"information about robots?\",\"[18+ Answerers ONLY Plz]  If you're under 18, I'm not interested in your opinion.  Have you ever....?\"],[\"do anyone have a copy of the braggs and stratton repair manual/copy for a model 128812 pressure washer engine?\",\"In your opinion what makes a girl a whore? Do you consider strippers whores?\",\"what was the feeling's in the confederate soliders?\",\"what do u do boys if your teacher ( a girl) ask u to put down your clothes to spank u as u did somthing wrong?\",\"diana degarmo?\",\"Is there any Library in DC area where I can borrow  language books?\",\"Why didn't native american indians have beards?\",\"WILL I GET TO MARRY ASHLEY?\",\"help me out here...?\",\"Does anyone know where I can download a free version of CardBox??\",...,\"on workmans comp.I have been asked to get an independent medical exam if it contradicts my doctor what happens\",\"what is the synonym of artimis?\",\"Isit just me, or is my brother weird?\",\"Why do many believers admire and have Jesus as their \"spokesperson\"? I heard he evolved before he died.\",\"What happens if both parties in Senate have the same number of members?\",\"where did football start from?\",\"Why is everyone hating on Floyd?\",\"Coward > You < Hero...What do you do? Pt. 8?\",\"In Hardcore Film how does man take so long to ejaculate ?\",\"get 0000045a error when loading a dll?\"],[\"Why don't the Ravens utilize Todd Heap more in the offense?\",\"thank u all for the input really means alot to me.?\",\"international SEO companies?\",\"If you cried, is it possible that you busted a blood vessel in your lower eyelid if it is red and swollen?\",\"do you think that beowulf is a betta hero than sir gawain?\",\"what makes cigarette smoke dangerous?\",\"who is the highest paid nfl player now?\",\"what are 10 things to bring a marriage back together i need to know as soon as possible?\",\"please hurry,help i  have food poisoning?\",\"Do you think I'm mean?  Why?\",...,\"When looking at your electricty meter, what does one rotation of the big circle thing mean?\",\"has anybody read call of the wild and was it worth  it?\",\"who is the dancing girl in the n*e*r*d video 2SHE WANTS TO MOVE\"?\",\"HOW DARE THE LIBERAL MEDIA TRY TO MAKE RUSH LIMBAUGH LOOK BAd?\",\"Who thinks the MIAMI HEAT will become the 2005-2006 NBA CHAMPIONS TONIGHT?\",\"what's the REAL issue with Bush? (besides all that TOTAL bull they put on tv.)?\",\"Would like listings near albany, oregon about craigslist?\",\"Why are Tee times always at  weird times...i.e 7:32?\",\"What is the deal with all these negative Martin Luther King questions?\",\"El motor del honda preluce 2.3 puede montarse en un honda civic?\"],[\"Why are people so mean 2 me at school not like hurting physicaly but mentally?\",\"Can anyone help me with mail delivery dns error?\",\"Who kicked the first goal in the 82 soccer world cup ?\",\"Which is better, Democrat or Republican ?\",\"how do you go about numbering a newsletter (ie: volumes, issues)?\",\"What do you think is the #1 problem of the human race?\",\"OSU MICHIGAN: Is there any other talent in college football outside of these two teams?\",\"How can I find a used car in Japan?\",\"why do people say that heating pads should be stuck on your panties,and not on the skin?\",\"math....someone help....plz (this is not homewrok, its a take home test) lol?\",...,\"could anybody tell me the basics on Buddhism?\",\"Is this violation worthy?\",\"Anyone knows where to download Sting's \"Shape of my Heart\"?\",\"Here is a question for all those that believe that there religion is the only right one.?\",\"i am in love with a muslim man from egypt and i live in usa how will we be together?\",\"I have a serious medical question, can you please answer?\",\"Is the key to conversion chosing to believe?\",\"how do i tell if my male equipment is fully erect when i mesure it?\",\"Can you please let me know who was the first player to score a goal when world cup started at the first time?\",\"Is it too soon...would it be a rebound? or is that just a word?\"],[\"annual report for walmart?\",\"Any funny story involving friends?\",\"Was Jesus Gay or did he just have a gay way of talking?\",\"If Joseph and Mary received expensive gifts from the wise men, why is Jesus always portrayed as poor?\",\"what is the best  freely available antivirus software on the net?\",\"thanks for answering all the false questions! Are you guys ready for this summer?\",\"I have my own theory, but why do you think Kurt Loder and John Norris are still on MTV? They both seemso unhip\",\"Where is your happy place?\",\"would anyone go to a movie by themselves?\",\"Why is it ok to Racially Profile Muslims at Airports?\",...,\"What day of the week was 4th Feb 1982?\",\"Grey's Anatomy!!??\",\"what does \"communion day\" mean? or can anyone please translate it into Chinese? thanks?\",\"what do you do when you feel your world falling apart, the weight of the world on your shoulders?\",\"how can I download free hindi songs from sites to my PC suggest some songs sites also?\",\"an opinion for girls (BRA)?\",\"When is the best time to apply for scholarships?\",\"how much does an out of state license cost for a few daysin minnesota?\",\"Can God create a stone such heavy that he cant lift it?\",\"Get rid of chronic stomach ache???\"]]\n",
              "question_content: [[\"We have searched and cannot find a ship that sunk in the Pacific on or near the date of his death. He would have been on a troup carrier with the 43rd infantry.\",\"Bill Clinton was an adulterer. He undermined our copyright laws until 2019.\",\"\",\"I'm trying to make a cell that has a list of other cells.  e.g. I want my cell to say \"[d4's value], [d5's value]\"\\n\\nCan I do that?  Right now when I try, Excel spits out the \"#value\" error.  Can you help?\",\"Hi. I know how Bayesian Statistical inference works, but I want to know why it is used. I mean if you already have an idea of what distribution to use, why not perform a goodness of fit test?\",\"I've been dating a man from Mexico.  He's a great guy!  I need to know what things are good/bad in the Mexican culture for dating.  Just some general advice would be great.  Thanks.\",\"Yea, I am only 16 and I have a long time (hopefully) before the Lord takes me away. But I feel like I havent done anything with my life. I see all these kids in sports & band accelerating in something they enjoy. I sit at home all the time \\n\\nIm not a sports kid, Im a music fan. I love it. I was cheated in JH and Elem. school and didnt have band. So I joined it last year, and I feel useless. I dont know how to read music. I really want to learn snare & other instruments like piano or chello, but nobody will help me! They put me on cymbals in band, not much going on there! I have been playing guitar for about 2 years, but im not great at it. I havent had a lesson in so long. Playing guitar has been something i have always wanted to do but for some reason im in a rut. I want to do something interesting like gymnastics, but i just had knee surgery and its too expensive, & my father discourages me saying im not built for it. Im sure if I worked out more and tried I could. \\nHow about you?\",\"http://www.enewsreference.com\",\"\",\"Especially when you really like the people you work for and know they'll be in a bind without you there, after going through training, etc.\",...,\"\",\"i really like this girl where i used to live(i moved recently) and my new school is going to hershey park in june and i want her to go with me how do i ask her\",\"Okay I think I eat healthy and I exericse! I try to stay active but my weight keeps going up! My goal weight is to be between 115-125! I want to lose some weight before Christmas anyone have any Ideas how I can accomplish that\",\"Where is the outrage from the miniority community when a black person like chris rock or richard pryor(sp?) insults a white person but many get  upset when a white person insults a black person?\",\"Yankees OR ......?\",\"I have read a more than a few responses basically saying you Americans are idiots and we are going to use your system to our benefit because we are illegal and you are stupid for not manipulation your system for your own benefit. Do we really need people like that here?\",\"They wre the makers of the game  The Legend of Mir 2\",\"\",\"where do i get the information about the robots from the first kind of robots till today robots with the latest developments . i need to get the achievements at that time n the advances after that. \\n\\ncan anyone help me out soon\",\"... had a huge crush on a guy, only to have him ask you out, do something stupid on the first date (or not do anything at all) and then cry about it when you wouldn't acknowledge him after that?\\n\\n1. How did you feel when he did/didn't behave a certain way on the date?  \\n2. How did you feel about him afterwards?\\n3. Do you ever look back on that(those) type(s) of dates/people?\"],[\"\",\"I am trying to prove a point to a friend about his girlfriend... get this who is a stripper... he needs to see the truth.\",\"like what was the life of the confedeate soldier?\",\"\",\"who has photos of american idol season 3 finalist diana degarmo?(but much better pictures of her showing more flesh than usual)\",\"I've just signed up for an Italian language course and would like to get the \"Oggi in Italia\" book to have a look at it. Does any library have it?\\n\\nThanks for your replies  -I really appreciate!\",\"\",\"\",\"i am talking to this older guy and he don't know how old i am should i tell him?\",\"\",...,\"\",\"\",\"\",\"\",\"Just curious about the election, that is all\",\"who was the first man to play soccer in another country\",\"I know the kid's got a big mouth. I know he irritates everyone. I know some people may consider his fights boring to watch.\\nHowever, he's 37 and 0 and the only person to remotely challenge him has been Castillo, the first time. Second time out, he made the adjustments and took Castillo to school.\\nPersonally, I love his defensive clinics -  Floyd is the best defensive fighter I have ever seen.\\nHe's made the jump from130 to 147 effortlessly, and to put his skills in context, consider this; Castillo and Corrales, two first class warriors, engaged in a see-saw war that will be remembered forever. Mayweather drilled them both. He knocked Corrales on his a*s five times.\\n\\nAs long as he keeps winning, he can keep talking.\",\"You are on an airplane - the beautiful woman or man seated next to you falls asleep and starts to lean on you.\\n\\nDo you: \\n\\nA. Smoothly put your arm around him or her.\\n\\nB. Wedge a pillow in between the two of you as a divider.\\n\\nC. Wake the person up and then return to your reading.\",\"\",\"\"],[\"\",\"i have moved on but sometimes u still wonder and the anger classes was for me and my family my 2 lovely little girls ive also realized along time ago maybe i wasnt that great of a man and the question was posted wrong sorry if i offended any of u out there god bless thanks agian.\",\"Does anyone have suggestions for an SEO company that does international SEO, i.e. europe, latin american and asia? looking for one company to take care of all regions, including US.\",\"\",\"no essays just scholarly slources\",\"\",\"\",\"\",\"any body know what makes it stop,i dont wanna throw up...\",\"\",...,\"\",\"we are reading it in school and i dont know if its worth reading it ALL or just using spark notes\",\"\",\"WITH THINGS HE ACTUALLY DID!!!! DONT THEY KNOW HE IS A REBUBLICAN???!!!!!\",\"Heat are playing with fire tonight.. Especially Wade..\",\"\",\"I would like to sell a bike carrier, that mounts on a vehicle under the rear bumper\",\"Why can't i just golf at 7:30\",\"So much negativity.\\n\\nWhy can't the man be acknowleged for the good he has done and let it be?\\n\\nLet the man rest in peace!\",\"\"],[\"\",\"Remote host said: 451 Mail from this IP address blocked due to DNS \\nblock list.\",\"\",\"Ladies and Gents.  I like most Americans am ready for a change.\\nLAST NIGHT was historical.  The Democrats are on their way\\nback to the top. If your life is worse than it was 6 years ago , then\\nyou have no reason to doubt, that they can make a difference.\\nYou seen the 90's, and what it bought to the table. So let's\\nget to the point.  Drums please.....  Who is better, Democrats,\\nor Republicans ?  May the best answer win.  Good luck !\",\"\",\"\",\"Prediction:  OSU wins with 6 touchdowns.\",\"\",\"i personally use it on my skin. is that wrong?\",\"ok the roots of the equation \\n\\n2x^2-x=4 are....\\n\\nwell i know you have to use b^2-4ac....\\n\\na) real and irrational\\nb) real, rational, and unequal\\nc) real, rational, and equal\\nd) imaginary\\n\\ni got b as the answer...im right???\",...,\"Just genuinly intersested, names of books would also be goog. thankyou.\",\"You have posted content to Yahoo! Answers in violation of our Community Guidelines. As a result, your content has been deleted.\\n\\nQuestion: Isn't it embarrassing to be a NEOCON with their anti-science pro-discrimination pro-violence views?\\n\\nQuestion Details: I just love all those hypocrites who suggest that neo-cons are judgmental while judging neo-cons. You silly little mind. Judgment is required of all of us if we are going to survive. It is by our judgment that we observe liberal nuttiness and reject its foolishness. For instance, when you base your evaluation of a candidate for college on skin color, you are racist and you are hurting the very race you claiming to help, but it makes you feel good because you feel guilty about their plight. http://judgeright.blogspot.com\\n\\nDeleted Answer: I just love all those hypocrites who suggest that neo-cons are judgmental while judging neo-cons. You silly little mind. Judgment is required of all of us if we are going to survive. It is by our judgment that we observe liberal nuttiness and reject its foolishness. For instance, when you base your evaluation of a candidate for college on skin color, you are racist and you are hurting the very race you claiming to help, but it makes you feel good because you feel guilty about their plight. http://judgeright.blogspot.com\\n\\nReason of Violation:Community Guidelines Violation\",\"but not the remix version with Sugababes...\\nappreciate your help!\",\"You are in charge of a orphanage for people of your faith war has broken out in you country and several parents from a completely different faith than your own ask you to take their small children 2-5 years old for safe keeping because they fear for there lives and there children’s. During the next five years you treat the children like every other kid and don’t tell them of their past they soon all forget and assimilate in to the orphanage. The war ends and the parents and close relatives of the children are all dead. A member of there religion goes to your orphanage and asks if you have any children from there members. He has no way of knowing as all documents have been destroyed the during war. \\n\\nDo you give up the kids knowing that they will be going to another religion than your own and might end up in hell? Or do you keep them and raze them to your faith?\\n\\nI want as many answers as possible even if your opinion has been stated.\",\"\",\"I am still freaked out about what happened to me yesterday. It was really late and I was hungry, I went to the kitchen to find a snack. I picked up an open pack of trail mix; I did not know it had been there since Easter. While I was eating it I felt one kind of powder in my mouth, then I noticed it was on my hands. I continued eating, but shortly after, my face and arms were itching and felt like there was something crawling on them. I got up from my computer and turned on the light, then sat down to and looked to see what it was. It wasn’t powder, it was hundreds of tiny (by tiny I mean you can barely see them) red-orange ants. immediately I took off my shirt and through it (I have always been afraid of ants because of a mistake I made when I was younger, I climbed a large ant hill in Louisiana, I had to be hosed down and taken to the hospital), then the worst part, I notice they were coming from my trail mix, that I was eating. I sprayed lysol and bleach on my floor and clothes.\",\"So if I chose to believe in \"God\"(sp?) then I'm good-to-go, right?  \\n\\nI just have to believe that Jesus died for my sins, even though I don't believe in sin\\n\\nBelieve that \"God\"(sp?) is good, even though I think it is evil\\n\\nAnd there is something else I'm forgetting I'm sure, what is it?  There are usually three steps.\\n\\nOh, crap that's what it is.  I have to start paying tithes to a church.\\n\\nThen I'll be good, right?\",\"i have mesured it 3 times befor in the past 5 years and and bord and am going to again...problem is that i am not sure it is 100% when i go to mesure. sick question i know but i am curious\",\"\",\"So my last girlfriend and I were together for only a couple of months and we split up, but the feelings I had for her were intense, but now I have met this new woman and my feelings for her are strong but yet, not like the last....And I know we will never get together again, I just need some advice on what to do...This new girl is liking me and we met by mere coincidence I would say...Man...Love is the most confusing word in the dictionary...Please help me with some strong sincire answers\"],[\"I need a financial report for walmart(2006).\",\"Thank you for sharing!:)\",\"Love they neighbor ect.\",\"I don't know how much gold they received, but weren't frankinscense and myrrh precious spices? What ever happened to those gifts?\",\"\",\"\",\"\",\"Describe your happy place that you goto in your mind when things are going rough. If your happy place is imaginary.....explain.\",\"do you feel that everyone is looking at you and saying oh i wonder if she got stood up? or what, ive always had someone to go with.\",\"just because statistically, muslims make up most of the terrorist, but it is not ok to racially profile blacks in America, when statistically they commit more that 50 percent of homicides and murders?\",...,\"My mum thinks it was a Friday but i'm sure somebody said it was a tuesday. Can anybody please clear this up for us?\",\"Please tell me in EXTREME detail what happened on Grey's Anatomy last night. I missed it. I can't watch it today either because I have to  work.\",\"\",\"my life is filled with so much drama sometimes it gets hard to tell whats real and whats not. my friendships are a huge mess because he said that she said that he said (you know what i mean)my love life is a big joke to the one and only that i care about and my family is going through  a terrible time and no one knows how to cope.my grades are going way down and its hard to keep up or even concentrate wile im in school, half of the time i dont even know what im doing in my classes or even how i got there because i go into trance like stages were all i do is think and the world just goes on around me. i just need some ideas on how to keep myself from falling apart. if all i get is just a few words ill be happy or happier than the usual. id really appreciate it if you wouldnt mind giving me a few words of wisdom. thanks\",\"\",\"suggest on this statement.\\nwhen a girl wears a haulter or backless or strapless she should make sure that she shows her bra or bra straps.\",\"I'm 16 years old. I just recently got promoted to the 10th grade. So next school year I will be entering my softmore year of high school. I am wanting to go to college. But I don't know when the best time to start applying for scholarships. Should I wait or go ahead and start? Is it to early? When is the best time/age/grade to apply? thank you for your help.\",\"\",\"\",\"I have had a queasy stomach for the past 2 days. It goes away when I eat, then comes back soon after. \\nIt gets worse when: I walk a lot, sit for a long time, relax my stomach muscles.\\nIt feels better when: I just stand still, lay down in fetal position, eat.\\nWhat's wrong and how do I get rid of it?\"]]\n",
              "best_answer: [[\"Got an easier way for you to get the records. Since your husband is immediate family, you can now receive those records through the National Personnel Records Center in St. Louis. I have linked thier web site below wich includes instructions on how to apply.\",\"The economy was up, our soldiers weren't out there creating terrorists, other countries respected us, and our freedoms were intact. I don't give a tinker's damn if he got some action off the clock.\",\"I'm doubting it...\\n\\nNow, maybe the Mother Theressa cross with David Blaine of his time, maybe. Assuming he existed.\",\"Use the CONCATENATE function, with one of the arguments being \", \"\\n\\nThe formula you end up with should look something like this:\\n=CONCATENATE(D3,\", \",D5)\",\"Look up wikipedia\",\"just , be always very femenine, and polaite, they have alot of good maners. here american culture is more relaxed when it comes to those things. but they are not. for example ,never ever!! burp. use good maners on the table. things like that mexican people notice.\",\"Glad to see you're a Christian....\\n\\nPlease try not to feel this way.  I remember feeling like that at one time, too.  I used to wonder about what God wanted me to do in my life, then I realized He has written it right there what He wants us to do...its all in His word!!\\n\\nAs for the recreation, pray about it.  Ask the Lord for His will to be done.  Keep letting your light shine, hon...and heads up!!  You've already made the wisest decision you could ever make...the decision to serve the Lord!!  Trust in Him, and He will guide you.\\n\\nGod Bless\",\"Give speech's, raise money for charity, become an elder statesman, and fight the liberals.\",\"HOW TO SOLVE YOUR MAN PROBLEM:\\n\\n1. Go down on him.\\n\\n2. Make him a sandwich.\\n\\n3. Get out of the way of the TV.\\n\\n4. Dont talk so much.\\n\\n5. See #1.\",\"Depends on WHY...if you like the people and just hate the job, then you sit down with your supervisor and explain that everyone's been great but you just don't feel like the job is a good fit and you're sure the company would benefit more with someone taking over the position that was mose suited to it than you are.... If it's for personal reasons, you apologize profusely about the fact that you must give notice due to a change in circumstance at home.... if it is that you've just been offered the job of your dreams, again apologize profusely but explain that you just cannot pass on this opportunity, if possible offer to stay on until they've found a replacement.\\n\\nI've had to do this three times and two out of three employers genuinely wished me well and all three still offer me good references.\",...,\"go to my website:\\nhttp://www.rapordie.com\\n\\n\\nshes the rap or die dime piece of the month™\",\"maybe you should get to know her first.  start talking to her as a friend for a few days.   after that  let her know how cool it has been and then ask her out.  it will be a less intimadting then going up to a stranger and asking them out\",\"I really suggest WeightWatchers. You can do it either by going to meetings (which my mom likes) or by just doing it online (which I prefer). \\n\\nThis has been the best method I've found for a few reasons. First, it really gets you thinking about everything you eat and what activity you are doing. Second, there are no things that you \"Can't\" eat. It's all about making smart choices and staying within your limits. Third, there is great support either through the online community or through the people you meet at meetings.\\n\\nGood luck!\",\"Because only whites can be racists. This world is backwards. Stupid white people bend over backwards to help these minorities out and what do they get? Someone calls a black something they don't like and all hell breaks loose. Minorities should grow the hell up and shut up.\\n\\n \" Sticks and stones may break my bones but words will never hurt me.\" \\n\\n\\nWhenever a black commits a racial crime against a white they can be shouting \"die cracker\" over and over while committing that crime. And it still will not be labeled as a hate crime.\\n\\nEDIT\\n\\nTo those who bring up slavery. GET OVER IT!! \\n\\nIt was abolished well before your time. It doesn't affect you in anyway in today's society except when you feel the need to use it as an excuse to get your way. \\n\\nMost people came over here after it was abolished so your excuse doesn't have a damn thing to do with them. Therefor I have no guilt.\\n\\nAlso if you all are so hellbent on equality then quit your complaining about being called certain names. White people don't complain when we get harassed by you or made fun of by your \"comedians\". Also since you want equality get rid of Affirmative action since that just basically gets you a job regardless of your skills but just because of your skin color.\",\"yanks\\nall the way\",\"What most people fail to realize is that if there were no jobs to be had we would not have an illegal immigration problem. Our government goes after the aliens and not the employers who hire them, much the same as police going after prostitutes but not the johns. \\n\\nEmployers who hire illegally steal from the rest of the country. The employers are not contributing their half to Social Security. Social Security is not just for retirement, but also kids who have lost a  parent and for the disabled. By not paying their share, employers are helping to bankrupt Social Security. Employers are not paying workers compensation. In the event of a serious injury, the workers end up in emergency rooms and unable to pay. With no workers comp insurance, the hospital eats the bill which means that ultimately the tax payers pay for it. Furthermore, if there were no opportunites for work, people would not take the risk of immigrating without documtents. The workers are not paying income tax because the employers are not with holding it. Another way the employers are stealing from the general population.\\n\\nLet's go after the employers who are stealing from us by  not paying taxes and by creating a market that draws people here illegally. No person is an alien and no person is illegal. Actions are illegal. The actions of these employers are illegal and attention needs to be drawn to that!\",\"WEMADE Entertainment is a Korean company. I did not see the company listed on KOSDAQ - so I'm guessing it is not publicly traded, but you may want to check for yourself @ http://english.kosdaq.com/\",\"That depends on two things: What type of family you have and what is your goal as a student?  Assuming your goal as a student is to learn and eventually graduate, living with family can be either a hindrance or an aid depending on the family's demands.  For instance, if you live in a single parent home, and the family needs you to work a full time job in order to make ends meet, then the family's needs are opposing your goal as a student since you will have much less time available to devote to your studies.  Conversely, if every time you come home, your family members ask you \"Do you have any homework?\" Or, \"do you need any help with your homework?\"  Then, the family is reinforcing your goal.  Like most things, it all depends on the situation.\",\"A modern industrial robot is simply a 5 or 6 DOF (Degree Of Freedom) multi-axis machine running 4 or 5 motors under rotational coordinate controls.\\n\\nThe first industrial robots are identified by their use of hydraulic power and hydraulic servo motors for position and velocity control. Advances are the conversion to electric motors - first DC servo motors and now AC servos. The future is the use of linear motors.\\n\\nUse Yahoo and search under \"Industrial Robots\", \"Cincinnati Milacron\", \"Hydraulic Robot\" and see what pops up.\",\"i dated a guy for a little while who was great at first, really complimentary and crazy about me, and suddenly this started to get a bit stifling so i dumped him, he started to drink heavily and annoy my friends about how he was ever supposed to get over me, honestly he turned into such a stalker. (i only went out with him four times!)\\n\\n1)i felt dumb for ever thinking that a guy who is technically \"perfect\" could be the one for me! guys have to have a little bit of a b*st*rd in them to keep it interesting! \\n\\n2)every time i see him or think of him i feel physically ill and get the shivers.\\n\\n3)i do my best not to think about it, but it has forever ruined songs like sting's \"i'll be watching you\" cos they sound like anthems for stalkers, when boys who think they're real romantic by fighting for our affection can't get the hint!!!\"],[\"I believe that the following link is what you need.\\n\\nI hope that helps\\n\\nP.S they use to make bloody good lawnmower engines!\\n\\nAnhar Hussain Miah\",\"A whore is any woman that debases herself for profit.  i.e. prostitute, porno star, stripper, movie star, anyone that uses the image of herself in an inapropriate way, or lets herself be used for unatural purposes.\",\"There are several books on this subject.  Also, check out www.kennedytwins.com for all sorts of links and listings on the Confederacy.\",\"i will go to her and put down her clothes and put her hed between my legs and start spanking her hardly to give her aletter \"dont try again hah?\"\",\"try www.davidmorganphotograhy.com. some excellent pix there, also try her website dianad.com and look at various photoshoots. nothing too revealing though, but very nice and pretty shots.\",\"Other than the Libray of Congress, Howard University seems to be one of the only places in the DC area that holds the title \"Oggi in Italia.\"  Their copy is a 1991 edition which is not the most current, but might be suitable for your needs.  You can use the book in the library but only authorized users can borrow books from the University.  See their website for more info on authorized users:  http://www.howard.edu/library/Services/access_services/Borrowing_Materials.htm\",\"Hey, take it easy on a guy!\\n\\nI'm half and I could grow a \"teaser\" if I wanted, as could most NDN guys.\\n\\nGuess we figured we'll leave that up to the White boys!\",\"what does she look like?,is she hhhhhoooottt?\",\"Yes, sweetie, you have to.  And you should tell your parents.\\n\\nIt's understandable to want someone's undivided attention, but it needs to be appropriate attention.  His attention is not what's best for you right now, even if it seems really good and you feel like you really love him.\\n\\nI know parents can seem lame at your age, but it's their job to look out for the things you don't know to look for yet.  Not because you're not smart, but because you just haven't lived long enough to have learned those lessons yet.  It's their job to keep you safe.  Help them do that as best you can.\\n\\nIf you just can't tell your parents, tell an adult you trust, like a teacher.\",\"try the trial version\",...,\"If you aren't REQUIRED to get one, then don't. If they insist, have them pick the \"independent\" doctor. If not, get a refferal from yours.\\n\\nIn the even this does happen, get a third opinion.\",\"Do you mean \"Artemis\"? She is the ancient Greek goddess of the moon, hunting, wild animals, women and children, childbirth, chastity and youth. When the Romans adopted her as their own goddess, they renamed her \"Dian\" or \"Diana\". Is that what you mean by a \"synonym\"? She is also sometimes known as \"Phoebe\".\\n\\nCheck out the link below...\",\"\",\"lol good joke but completely retarded\",\"The vice president gets a vote.\",\"Arguably soccer was invented in London in 1863 when men sat down to codify the games that they had enjoyed playing at their \"public schools\". An association called \"The Football Association\" was formed. The word \"soccer\" is short for \"Association Football\", as distinct from \"Rugby Football\", which was another sport codified by ex public schoolboys in the late 19th century.\",\"That's what i've been trying to figure out! He's the best fighter out there right now. You don't have to like his personality or some of his antics outside the ring, but we're talking about in the ring. Give me one fighter in boxing right now that is more skillful, has more ring savvy, is as quick, and had dominated more world class opponents than Floyd. I agree that there are still some good fights out there for Floyd, like Paul Williams, Antonio Margarito, Ricky Hatton, Miguel Cotto and Mega fights like Shane Mosley and Oscar De la Hoya, but let's not be blind to what the man has already done in his career. Personally, i would like to see him fight Margarito next because everyone says Floyd is afraid of him and is his biggest threat. I wonder what all the haters will say when he dominates Margarito(sorry folks. way too slow for Floyd) like he did Baldomir? I see a Mayweather-Margarito fight going much like Roy Jones-Julio Gonzalez, the more skillful fighter dominating with speed, technique, and ring smarts against the bigger, slower fighter. Hate him or love him, but if you deny his talents or that he's the best right now, then you are not keeping it real!\",\"Definitely B, I'm too much of a gentleman to take advantage of a girl like that by putting my arm around her, or rudely waking her up, I would gently put a pillow between me and her.\",\"Becauase they're playing the same footage over and over, spliced together where you won't realize it. And um, as in any filmmaking venture, you could stop filming for a month, and when the tape is released, nobody would know. It's not like they are energizer bunnies.\",\"Depends on the dll and what you're doing. Could be that you're missing something linked or an install went haywire.\"],[\"I've only watched a couple of the ravens games this year and it seems to me that they use him quite a bit, especially on third downs, maybe thats why Billick fired the offensive co-ordinator and is running it himself.\",\"Aww thats cute. I hope things work out nicely for you good luck\",\"I have not worked with any of these companies, but they came up at the top when I searched at Google for \"international SEO\" which tells me they know what they are talking about (I find it funny for SEO companies proclaiming SEO expertise and they're nowhere to be found in the search engines )\\n\\nhttp://www.connors.com/international/\\nhttp://www.zunch.com/international_seo.cfm\\nhttp://www.topdesignfirms.com/d.6.0.html\\nhttp://www.mcanerin.com/\",\"If you busted a blood vessel in your eye itself it would look very bloody in most cases.  If you busted one in the area around your eye it would look like a bruise.  If it is just red and swollen then it may just be irratation from the crying.  Try using warm compresses over night.  If you wear contact lenses I sugest you take them out until tomorrow morning.  If it still doesn't seem any better tommow, contact your eye doctor.\",\"Beowulf, totally - he's the chief hero and leader, Gawain was just a member of the Round Table under King Arthur.\",\"the carbon monoxide produced by the cigarette reduces the oxygen carrying capacity of your blood and the nicotine goes and gets deposited in the lungs making them less effective by reducing their capacity\",\"Peyton Manning...10 year contract worth 100 million\",\"Communication, see there point of view, compromise, romance, laugh, erase the past issues, focus of your future goals, have a fun night, sacrifice once in a while, and good love making.\",\"You'll feel better if you do throw it up.  Drink water with electrolytes (i.e. vitamin water, smart water, etc) to rehydrate.  Have tums and crackers to calm your stomach.\\n\\nBut most importantly, if you are still experiencing vomiting and/or diarrhea problems after 24 hours, GO TO THE HOSPITAL.  Losing fluids quickly can be very serious, at times fatal!\\n\\nHope you feel better soon.\",\"No...I think someone else may think so. That is what has spurred your question sweetheart.\",...,\"It means, you are using their electricity.  The faster it moves the more you are consuming.  Try this link:\",\"Yes, it is a great book.  Don't cheat yourself buying sparks notes.  Good literature is about forming your soul, and understanding the human condition.  There is more to it than knowing the facts of the books.\",\"I cant remember her name but she's one of the singers in the British Garage group Misteeq!!!!\",\"The poster above still just is'nt getting it\\nSince when was reporting an actual infraction of the law a smear campaign?  The man was caught with an illegal documented perscription, end of story, THIS ACTUALLY HAPPENED.  Now if some people choose to smear him that is their own perogative, but simply stating a fact is simply stating a fact\",\"Hell Yeah I hope they win. The Mavs cheated they don't deserve to be in the finals at all. It was supposed to actuallly be the spurs not the mavs!!!!!!! SO GO HEAT!!!!!\",\"I meet bush in real life when katrina hit he can to one of the shelters i was working at and he is nice and all they just be haten on him with all that shit they say about him\",\"just go to http://portland.craigslist.org and post a listing.  In the location box, type in Albany, Oregon. See link for examples\",\"Depending on the golf course there is an average time for each group to play a shot.  Our course the tee times are every 7 and 8 mintues.  00 07 15 22 30 37 45 52\",\"I agree completely!!!! Dr. King was a truly extraordinary man, fully deserving of the beautiful memorial which will be erected to him in Washington, D.C.\\n\\nThose with the negative comments of him still suffer from the same ignorance Dr. King worked so hard against.\",\"si mucho bi en,para mucha mas rapido\"],[\"They probably think that you're weird.\",\"That means the host is using a reverse DNS lookup to a list of spam sites, and your ISP is on the list.\\nYou can complain to your ISP, but it probably won't help if they are spam freindly.  Just get a new ISP.\",\"Erwin Vander Bergh scored for Belgium over Diego Maradona's Argentina in what would prove to be a jinx for many defending champion.\",\"Republicans. The other lot represent failed capitalists who are trying to achieve power through the only other route available to them. They convince the people that they are victims of capitalism, turn them into victim groups, then convince them that they can save them from the nasty Republicans. The dumbos believe this and then they vote Democrat. Sad, but true.\",\"i would go by issues\\nbut thats just me\",\"the gap between the rich and the poor...\",\"Any TALENT? Yes. Tyler Palko is a decent QB for PItt. I think Pitt having a coach that wants to run is taking away from his ability but hey he'll be gone next year when his eligibilty is up. They also have Blades at LB. Then you have WVU with Slaton running for 1,441 yards more then the leader for either school. Oh and with 877 yards White is doing a better job then either of the guys in second place for those schools. Yeah WVU likes to run all over people and they would do it in the Big Ten just as well. It's what they do. I'm not playing scout so I'm not going to start looking and telling you who is the great players out there but since you asked for TALENT I feel that proves that yes it is out there.\",\"Japanpartner.com\",\"If you pay attention to what you're doing and don't have it up too high then putting in on your skin is fine... the directions say don't put it on your skin because some stupid people burn themselves.\",\"The discriminant = b^2-4ac = 1 - 4.2.(-4) = 33 > 0 \\n⇒ We can get two unequal, real but irrational roots.\\n\\nThis is so, because, by actually calculating the roots of the equation applying formula. we find that:\\nx= [1±√33]/4\",...,\"What is the essence of the Buddha’s teachings?\\n\\nSimply speaking, this is to avoid harming others and to help them as much as possible. Another way of expressing this is, Abandon negative action; create perfect virtue; subdue your own mind. This is the teaching of the Buddha. By abandoning negative actions (killing, etc.) and destructive motivations (anger, attachment, close-mindedness, etc.), we stop harming ourselves and others. By creating perfect virtue, we develop beneficial attitudes, like impartial love and compassion, and do actions motivated by these thoughts. By subduing our mind, we cut away all false projections, thus making ourselves calm and peaceful by understanding reality.\\n\\nThe essence of Buddha’s teachings is also contained in the three principles of the path: definite emergence, the dedicated heart and wisdom realizing emptiness. Initially, we seek definitely to emerge from the confusion of our problems and their causes. Then, we see that other people also have problems, and with love and compassion, we dedicate our heart to becoming a Buddha so that we are capable of helping others extensively. In order to do this, we develop the wisdom understanding the real nature of ourselves and other phenomena.\",\"Some dude was posting links to really gross, traumatizing anal-old man porn and I get voilation for calling someones immigration \"solution\" 'Silly\". When they were askinwhat we thouht of it.  And whats the deal, they actually TAKE points, I keep gettin \"you're down 12 points\" when I sign in!\",\"here you go , just click below to download-\\nhttp://www.emp3world.com/mp3/108693/Sting/Shape%20Of%20My%20Heart\\n\\nother options-\\nhttp://www.seekasong.com \\nhttp://www.mp3000.net\\nhttp://www.kohit.net \\nhttp://www.soundclick.com\\nhttp://www.purevolume.com\\nhttp://www.sideload.com\\nhttp://www.mp3raid.com\\nhttp://www.mp3free4me.com /\\nhttp://www.mp3fusion.net/\\n\\nYou could also make REQUEST to DOWNLOAD UNLIMITED number of SONGS absolutely FREE by joining a community music forum. To check out the ‘hottest’ music forum out there right now, please click on the link below –\\nhttp://www.music-buzz.com\",\"Simple to answer \\n1. it is a orphanage\\n2. after the war they have no living relatives\\n3. the other religion is just that a religion not next of kin.\\n4.In a case such as this the orphanage is under no legal compulsion to allow the children to be adopted by any one.\\n5. the answer is I keep the children that I was placed in charge of .Because if any one is true to their religion no matter what they believe they would not allow little ones to be raised by someone who is opposed to their beliefs . And I am no different.\\n6. I serve the one true God of Israel and am a follower of Jesus Christ.\\nYour question did not ask what religion .It was written in general terms as was my answer.\",\"The I-130 form is actually done after he gets here and you are married.  You will need to apply for a K-1 nonimmigrant visa.  \\n\\nHowever, before you can do that, you must go visit him.  Take lots of pictures of the 2 of you together.  Also, you will need to make copies of any or all coorespondence with him including but not limited to emails, letters, cards and phone bills.  They will need to establish a relationship.  \\n\\nThen you file all of the paperwork along with your proof of relationship and an affadavit of support.  They will interview him over there.  After he receives his visa and arrives in the US, you will have 90 days to get married in.  It's best to get an attorney.  \\n\\nI'm still going through this.  I have been to Africa twice now.  We filed as soon as I got back in late August of last year.  We are still waiting for an approval.\",\"not that i know of ... try asking your parents of what to do or go see a doctor... but idont think they were fire ants.. ive seen them before i know what you're talking about but i dont know what kind of bugs they were but i know that they werent fire ants.\",\"The key to conversion is not to think. Leave that to the professionals. Once they've got you properly lubricated - I mean once they've initiated you, you just need to do what you have been told and everything else will fall into place.\\nStop thinking so much. That isn't healthy.\",\"Only you can feel if it's as hard as it's going to get. Masturbate almost to the point of orgasm and then measure it. That will be the hardest it's going to get.\",\"Frenchman Lucien Laurent\\n\\nLaurent scored in the 19th minute in France's 4-1 defeat of Mexico in Montevideo on July 13, 1930.\",\"Your feeling are normal every relationship has different qualities,and bring out different feelings, as for the first girl you have memories but NEVER compare them with another girl no 2 are alike.  Love is Living On Various Emotions. Just go day to day and don't rush or have regrets. Good luck...\"],[\"I always order the paper copies from PRARS, but I also listed a website that has them available online.  You also probably can get it from the Walmart website.  However, the latest report may be a quarterly report, or it may be the 2005 annual report.  It is very likely that the 2006 annual report hasn't been issued yet.  I don't recall when their fiscal year ends.\\n\\nBest of luck to you.\",\"My best friend's son just recently celebrated his second birthday. His dad fell asleep on the couch(how rude). So I guess the kid got offended. I was looking at a movie when all of a sudden I hear this loud bang. He had picked up a gift(a keyboard) and slapped his father in the face with it so hard. My best friend and I were laughing so hard. We still dwell on it til this day and it happened in March.\",\"No he isn't! Your insulting God! That is Blasphemy! You will go to HELL! You shouldn't be on this universe in the first place! Blasphemer! Blasphemer! Blasphemer! Blasphemer! Blasphemer! Blasphemer! Blasphemer! Blasphemer! Blasphemer! Blasphemer...\",\"Frankinscense and myrrh were indeed expensive items.  However, Joseph and Mary had other children besides Jesus to care for (Matthew 13:53-56) and no doubt raising a large family would have cost more than a few gifts of myrhh would provide.\",\"AVG. I've had good luck with it.\",\"i been on summer vacation for the past month and i'm lovin it\",\"Because MTV is no longer about being hip.  Or about music, for that matter.\",\"My daughter, I snuggle my nose in her neck or in her hair and we just lay there, it's my favorite place to be, with her on our couch snuggled up with our noses buried in each others necks, it's a feeling I can't explain...so I guess she's my happy place.\",\"i go a lot by myself.i don't too often have anyone to go with me.i don't really care what people think....why,yopu wanna go to the movie with me?\",\"Strange isn't it.\",...,\"It was a Thursday.\",\"Burke tells Christina that he cancelled all his procedures and that he was taking a guys day off with Shepherd. After meeting with Derek they went to pick up the Chief and then George who Izzie sent off like a little boy. Meredith told Derek \"I hope you are enjoying your space.\" Preston admits that George was his idea. Next they end up at Joes and pick up Joe and his lover. Suddenly Alex appear and George say that was not my idea.\\n\\nBack at the hospital that leaves the women in charge, in particular Bailey who assigns Meredith to Mark, Izzie to Lindsey, the resident who took her place that one week, and Christina she kept for herself and made her plw through poop for monopoly pieces in punishment for erasing her name off the surgical board.\\n\\nIn another room Callie is called on for a consult by Addison. This lady has broken her wrist. Callie puts it in suspension. Addison excuses herself and goes to cry. Callie finds her to see what is up and learns that the baby is dead and she has to tell the lady on the table what has happened. She says it is never easy to tell someone who should be so happy that their baby is dead.\\n\\nIzzie is getting tired of Lindsey's cheery probing so she volunteers to help Christina dig through poop. \\n\\nMeredith goes with Mark to see his patient Donna who is in to have her penis turned into a vagina. Meredith had to take a moment to get over the fact that Donna was a man. Then it became a question of saying he or she at that point. Donna's wife tells her to say she. This means Meredith has to spend a large part of the show reading up on penises.\\n\\nBack in the woods, the guys hike out to a camp sight and pitch tents. Joe and his boyfriend have such a large tent that the Chief asks if he could stay with them not knowing they were gay. George clues him in.  Suddenly he is blathering about \"Man Love\" and \"Brokeback Mountain\" and his Gay cousin and how he is all okay with that. Burke broke in before he could further embarrass himself and took the guys fishing. Derek is alittle upset because he thought it would just be the two of them \"Mountain Men\". Burke concludes Derek does not have any guy friends and that is his problem. Meanwhile the Chief is complaining that the fish don't seem to be biting and Derek tell him that is because you are supposed to be silent when fishing. George is talking to Burke about Christina and Callie and how he is trying to commit to Callie te way Burke committed to Christine. He starts to notice that Burke is casting and reeling funny. Burke tells George that Christina and him are a team a machine that works as one.  Burke excuses himself down the river a bit. \\n\\nBack at the Hospital it has been made clear to Christina by Bailey that she wants to know why Christina erased her off the board. If she doesn't come clean she will never see the inside of an OR again.\\n\\nMeanwhile Meredith has set down the rules for Mc Steamy, no flirting, no McSteamy looks, no talking about Derek. He broke all of those rules in about two seconds. His approach was that Derek was damaged. He damaged him, She needs to move on with him.\\n\\nAddison and Callie are having to deal with the woman who wants Addison to say it. She won't believe her baby is dead until Addison says it and when she does the lady cries hysterically. Unfortunately Addison still has to deliver the baby. The woman is having trouble wanting to push but she does and in the end Addison hand her the baby in a sheet to greive.\\n\\nBack to Donna, test show that she is rejecting her hormones and that has created breast cancer. Mark wants to cancel the surgery, stop the hormones and start treating the patient for cancer. Donna is told the hormone will only make the cancer return. Donna refuses the  idea of going back to be Daniel. She wants the surgery and she wants to face the cancer as a woman. Her wife is not happy with this. She doesn't want to see Donna die. She has a hear\",\"im a Catholic..i dont know if we are thinking abt the same thing.  Communion day for Catholics is when we start going to the Sunday Mass and accept the body and blood of Christ.  We usually start having communion at the age of 7 or 8..as far as i can remember.  Well, kids can go to the Mass but do not receive this Holy Communion.  I dont know how it works in some people.  And also, sorry i cant translate to Chinese...im half Chinese but never had the chance to learn it.  Hope this helped u answer ur question.\",\"Believe me when i say there are  people a lot worse off than you\",\"hi,\\n\\nyou can create a login at coolgoose.com (now I think its called cooltoad.com).,. then go into music section and download latest hindi songs by searching in the hindi category.\\n\\nmy tip: use advanced search and select the order by number of downloads :)\",\"I would not show my straps. You can buy a strapless bra as well as a racerback bra to eliminate or hide straps. Racerback bras are for tank tops and offer more support than a strapless bra. Of course, there is the occasional strap slip. When deciding on a bra, get measured first. Seventy percent of women wear the wrong bra size.\",\"You will be entering your sophomore year. You really don't need to start applying for scholarships until the summer before your senior year, although you should make sure you take the PSAT (I got a full scholarship based on my PSAT score!) in your sophomore and the ACT or SAT (or both) in your junior and/or senior year. I would recommend checking with your school's guidance office. They can give very prudent advice. You may also look into online opportunities, such as www.fastweb.com. Good luck!\",\"It would depend what kind of license you're talking about...Usually, if you talk about a drivers license, you can use your out of state license for up to 30 days without requiring a change of address etc...locate your local DMW for that...they'll be able to tell you better...\\n\\nIf you talked about any other kind of license...then sorry, no clue\",\"The short answer to your question would be no.  All religions have at their core a God that is self-eternal.  In other words no one saved God but God.  By definition a self-immortal cannot \"create\" an equal. In order to be equal to the self-begotten, you (or the rock in question) must also be self-begotten.\\n   Long answer available upon request.\",\"Try taking ginger capsules, ginger is really good for the stomach as is licorice root you can buy those at any health food store , even grocery stores in the health section. acidophilus helps regulate the bad bacteria in your stomach and digestive system, i have used all of these 2 days ago and my stomach pain has gone away. You should try all 3 taking one of each with breakfast and again at dinner. Good Luck\"]]\n",
              "input_ids: [[[101,2288,2019,6082,2126,2005,2017,2000,2131,1996,...,0,0,0,0,0,0,0,0,0,0],[101,1996,4610,2001,2039,1010,2256,3548,4694,1005,...,0,0,0,0,0,0,0,0,0,0],[101,1045,1005,1049,4797,2075,2009,1012,1012,1012,...,0,0,0,0,0,0,0,0,0,0],[101,2224,1996,9530,16280,12556,3853,1010,2007,2028,...,0,0,0,0,0,0,0,0,0,0],[101,2298,2039,16948,102,0,0,0,0,0,...,0,0,0,0,0,0,0,0,0,0],[101,2074,1010,2022,2467,2200,10768,3549,3170,1010,...,0,0,0,0,0,0,0,0,0,0],[101,5580,2000,2156,2017,1005,2128,1037,3017,1012,...,0,0,0,0,0,0,0,0,0,0],[101,2507,4613,1005,1055,1010,5333,2769,2005,5952,...,0,0,0,0,0,0,0,0,0,0],[101,2129,2000,9611,2115,2158,3291,1024,1032,1050,...,0,0,0,0,0,0,0,0,0,0],[101,9041,2006,2339,1012,1012,1012,2065,2017,2066,...,0,0,0,0,0,0,0,0,0,0],...,[101,2175,2000,2026,4037,1024,1032,18699,4779,2361,...,0,0,0,0,0,0,0,0,0,0],[101,2672,2017,2323,2131,2000,2113,2014,2034,1012,...,0,0,0,0,0,0,0,0,0,0],[101,1045,2428,6592,3635,18866,2545,1012,2017,2064,...,0,0,0,0,0,0,0,0,0,0],[101,2138,2069,12461,2064,2022,16939,2015,1012,2023,...,0,0,0,0,0,0,0,0,0,0],[101,23178,2015,1032,6583,3363,1996,2126,102,0,...,0,0,0,0,0,0,0,0,0,0],[101,2054,2087,2111,8246,2000,5382,2003,2008,2065,...,0,0,0,0,0,0,0,0,0,0],[101,2057,21565,4024,2003,1037,4759,2194,1012,1045,...,0,0,0,0,0,0,0,0,0,0],[101,2008,9041,2006,2048,2477,1024,2054,2828,1997,...,0,0,0,0,0,0,0,0,0,0],[101,1037,2715,3919,8957,2003,3432,1037,1019,2030,...,0,0,0,0,0,0,0,0,0,0],[101,1045,6052,1037,3124,2005,1037,2210,2096,2040,...,0,0,0,0,0,0,0,0,0,0]],[[101,1045,2903,2008,1996,2206,4957,2003,2054,2017,...,0,0,0,0,0,0,0,0,0,0],[101,1037,17219,2003,2151,2450,2008,2139,15058,2015,...,0,0,0,0,0,0,0,0,0,0],[101,2045,2024,2195,2808,2006,2023,3395,1012,2036,...,0,0,0,0,0,0,0,0,0,0],[101,1045,2097,2175,2000,2014,1998,2404,2091,2014,...,0,0,0,0,0,0,0,0,0,0],[101,3046,7479,1012,2585,5302,16998,8458,11439,17643,...,0,0,0,0,0,0,0,0,0,0],[101,2060,2084,1996,5622,10024,2100,1997,3519,1010,...,0,0,0,0,0,0,0,0,0,0],[101,4931,1010,2202,2009,3733,2006,1037,3124,999,...,0,0,0,0,0,0,0,0,0,0],[101,2054,2515,2016,2298,2066,1029,1010,2003,2016,...,0,0,0,0,0,0,0,0,0,0],[101,2748,1010,22872,1010,2017,2031,2000,1012,1998,...,0,0,0,0,0,0,0,0,0,0],[101,3046,1996,3979,2544,102,0,0,0,0,...,0,0,0,0,0,0,0,0,0,0],...,[101,2065,2017,4995,1005,1056,3223,2000,2131,2028,...,0,0,0,0,0,0,0,0,0,0],[101,2079,2017,2812,1000,19063,1000,1029,2016,2003,...,0,0,0,0,0,0,0,0,0,0],[101,102,0,0,0,0,0,0,0,0,...,0,0,0,0,0,0,0,0,0,0],[101,8840,2140,2204,8257,2021,3294,2128,7559,5732,...,0,0,0,0,0,0,0,0,0,0],[101,1996,3580,2343,4152,1037,3789,1012,102,0,...,0,0,0,0,0,0,0,0,0,0],[101,15835,4715,2001,8826,1999,2414,1999,6899,2043,...,0,0,0,0,0,0,0,0,0,0],[101,2008,1005,1055,2054,1045,1005,2310,2042,2667,...,0,0,0,0,0,0,0,0,0,0],[101,5791,1038,1010,1045,1005,1049,2205,2172,1997,...,0,0,0,0,0,0,0,0,0,0],[101,2022,3540,6692,3366,2027,1005,2128,2652,1996,...,0,0,0,0,0,0,0,0,0,0],[101,9041,2006,1996,21469,2140,1998,2054,2017,1005,...,0,0,0,0,0,0,0,0,0,0]],[[101,1045,1005,2310,2069,3427,1037,3232,1997,1996,...,0,0,0,0,0,0,0,0,0,0],[101,22091,2860,2008,2015,10140,1012,1045,3246,2477,...,0,0,0,0,0,0,0,0,0,0],[101,1045,2031,2025,2499,2007,2151,1997,2122,3316,...,0,0,0,0,0,0,0,0,0,0],[101,2065,2017,23142,1037,2668,6258,1999,2115,3239,...,0,0,0,0,0,0,0,0,0,0],[101,2022,5004,21007,1010,6135,1011,2002,1005,1055,...,0,0,0,0,0,0,0,0,0,0],[101,1996,6351,18847,19491,2550,2011,1996,9907,13416,...,0,0,0,0,0,0,0,0,0,0],[101,17931,11956,1012,1012,1012,2184,2095,3206,4276,...,0,0,0,0,0,0,0,0,0,0],[101,4807,1010,2156,2045,2391,1997,3193,1010,12014,...,0,0,0,0,0,0,0,0,0,0],[101,2017,1005,2222,2514,2488,2065,2017,2079,5466,...,0,0,0,0,0,0,0,0,0,0],[101,2053,1012,1012,1012,1045,2228,2619,2842,2089,...,0,0,0,0,0,0,0,0,0,0],...,[101,2009,2965,1010,2017,2024,2478,2037,6451,1012,...,0,0,0,0,0,0,0,0,0,0],[101,2748,1010,2009,2003,1037,2307,2338,1012,2123,...,0,0,0,0,0,0,0,0,0,0],[101,1045,2064,2102,3342,2014,2171,2021,2016,1005,...,0,0,0,0,0,0,0,0,0,0],[101,1996,13082,2682,2145,2074,2003,1005,23961,2893,...,0,0,0,0,0,0,0,0,0,0],[101,3109,3398,1045,3246,2027,2663,1012,1996,5003,...,0,0,0,0,0,0,0,0,0,0],[101,1045,3113,5747,1999,2613,2166,2043,16864,2718,...,0,0,0,0,0,0,0,0,0,0],[101,2074,2175,2000,8299,1024,1013,1013,6734,1012,...,0,0,0,0,0,0,0,0,0,0],[101,5834,2006,1996,5439,2607,2045,2003,2019,2779,...,0,0,0,0,0,0,0,0,0,0],[101,1045,5993,3294,999,999,999,999,2852,1012,...,0,0,0,0,0,0,0,0,0,0],[101,9033,2172,2080,12170,4372,1010,11498,2172,2050,...,0,0,0,0,0,0,0,0,0,0]],[[101,2027,2763,2228,2008,2017,1005,2128,6881,1012,...,0,0,0,0,0,0,0,0,0,0],[101,2008,2965,1996,3677,2003,2478,1037,7901,1040,...,0,0,0,0,0,0,0,0,0,0],[101,22209,3158,4063,15214,2232,3195,2005,5706,2058,...,0,0,0,0,0,0,0,0,0,0],[101,10643,1012,1996,2060,2843,5050,3478,19640,2015,...,0,0,0,0,0,0,0,0,0,0],[101,1045,2052,2175,2011,3314,1032,1050,8569,2102,...,0,0,0,0,0,0,0,0,0,0],[101,1996,6578,2090,1996,4138,1998,1996,3532,1012,...,0,0,0,0,0,0,0,0,0,0],[101,2151,5848,1029,2748,1012,7482,14412,3683,2003,...,0,0,0,0,0,0,0,0,0,0],[101,2900,19362,18885,1012,4012,102,0,0,0,...,0,0,0,0,0,0,0,0,0,0],[101,2065,2017,3477,3086,2000,2054,2017,1005,2128,...,0,0,0,0,0,0,0,0,0,0],[101,1996,5860,20026,3981,3372,1027,1038,1034,1016,...,0,0,0,0,0,0,0,0,0,0],...,[101,2054,2003,1996,11305,1997,1996,11903,1521,1055,...,0,0,0,0,0,0,0,0,0,0],[101,2070,12043,2001,14739,6971,2000,2428,7977,1010,...,0,0,0,0,0,0,0,0,0,0],[101,2182,2017,2175,1010,2074,11562,2917,2000,8816,...,0,0,0,0,0,0,0,0,0,0],[101,3722,2000,3437,1032,1050,2487,1012,2009,2003,...,0,0,0,0,0,0,0,0,0,0],[101,1996,1045,1011,7558,2433,2003,2941,2589,2044,...,0,0,0,0,0,0,0,0,0,0],[101,2025,2008,1045,2113,1997,1012,1012,1012,3046,...,0,0,0,0,0,0,0,0,0,0],[101,1996,3145,2000,7584,2003,2025,2000,2228,1012,...,0,0,0,0,0,0,0,0,0,0],[101,2069,2017,2064,2514,2065,2009,1005,1055,2004,...,0,0,0,0,0,0,0,0,0,0],[101,26529,11732,14718,1032,1050,1032,17953,21159,4765,...,0,0,0,0,0,0,0,0,0,0],[101,2115,3110,2024,3671,2296,3276,2038,2367,11647,...,0,0,0,0,0,0,0,0,0,0]],[[101,1045,2467,2344,1996,3259,4809,2013,10975,11650,...,0,0,0,0,0,0,0,0,0,0],[101,2026,2190,2767,1005,1055,2365,2074,3728,6334,...,0,0,0,0,0,0,0,0,0,0],[101,2053,2002,3475,1005,1056,999,2115,23979,2643,...,0,0,0,0,0,0,0,0,0,0],[101,3581,7076,19023,2063,1998,2026,12171,2232,2020,...,0,0,0,0,0,0,0,0,0,0],[101,20704,2290,1012,1045,1005,2310,2018,2204,6735,...,0,0,0,0,0,0,0,0,0,0],[101,1045,2042,2006,2621,10885,2005,1996,2627,3204,...,0,0,0,0,0,0,0,0,0,0],[101,2138,8692,2003,2053,2936,2055,2108,5099,1012,...,0,0,0,0,0,0,0,0,0,0],[101,2026,2684,1010,1045,1055,11231,24679,2026,4451,...,0,0,0,0,0,0,0,0,0,0],[101,1045,2175,1037,2843,2011,2870,1012,1045,2123,...,0,0,0,0,0,0,0,0,0,0],[101,4326,3475,1005,1056,2009,1012,102,0,0,...,0,0,0,0,0,0,0,0,0,0],...,[101,2009,2001,1037,9432,1012,102,0,0,0,...,0,0,0,0,0,0,0,0,0,0],[101,9894,4136,12657,2008,2002,8014,2035,2010,8853,...,2003,17949,2008,1996,3869,2123,1005,1056,4025,102],[101,10047,1037,3234,1012,1012,1045,2123,2102,2113,...,0,0,0,0,0,0,0,0,0,0],[101,2903,2033,2043,1045,2360,2045,2024,2111,1037,...,0,0,0,0,0,0,0,0,0,0],[101,7632,1010,1032,1050,1032,6396,7140,2064,3443,...,0,0,0,0,0,0,0,0,0,0],[101,1045,2052,2025,2265,2026,19702,1012,2017,2064,...,0,0,0,0,0,0,0,0,0,0],[101,2017,2097,2022,5738,2115,13758,2095,1012,2017,...,0,0,0,0,0,0,0,0,0,0],[101,2009,2052,12530,2054,2785,1997,6105,2017,1005,...,0,0,0,0,0,0,0,0,0,0],[101,1996,2460,3437,2000,2115,3160,2052,2022,2053,...,0,0,0,0,0,0,0,0,0,0],[101,3046,2635,14580,18269,2015,1010,14580,2003,2428,...,0,0,0,0,0,0,0,0,0,0]]]\n",
              "token_type_ids: [[[0,0,0,0,0,0,0,0,0,0,...,0,0,0,0,0,0,0,0,0,0],[0,0,0,0,0,0,0,0,0,0,...,0,0,0,0,0,0,0,0,0,0],[0,0,0,0,0,0,0,0,0,0,...,0,0,0,0,0,0,0,0,0,0],[0,0,0,0,0,0,0,0,0,0,...,0,0,0,0,0,0,0,0,0,0],[0,0,0,0,0,0,0,0,0,0,...,0,0,0,0,0,0,0,0,0,0],[0,0,0,0,0,0,0,0,0,0,...,0,0,0,0,0,0,0,0,0,0],[0,0,0,0,0,0,0,0,0,0,...,0,0,0,0,0,0,0,0,0,0],[0,0,0,0,0,0,0,0,0,0,...,0,0,0,0,0,0,0,0,0,0],[0,0,0,0,0,0,0,0,0,0,...,0,0,0,0,0,0,0,0,0,0],[0,0,0,0,0,0,0,0,0,0,...,0,0,0,0,0,0,0,0,0,0],...,[0,0,0,0,0,0,0,0,0,0,...,0,0,0,0,0,0,0,0,0,0],[0,0,0,0,0,0,0,0,0,0,...,0,0,0,0,0,0,0,0,0,0],[0,0,0,0,0,0,0,0,0,0,...,0,0,0,0,0,0,0,0,0,0],[0,0,0,0,0,0,0,0,0,0,...,0,0,0,0,0,0,0,0,0,0],[0,0,0,0,0,0,0,0,0,0,...,0,0,0,0,0,0,0,0,0,0],[0,0,0,0,0,0,0,0,0,0,...,0,0,0,0,0,0,0,0,0,0],[0,0,0,0,0,0,0,0,0,0,...,0,0,0,0,0,0,0,0,0,0],[0,0,0,0,0,0,0,0,0,0,...,0,0,0,0,0,0,0,0,0,0],[0,0,0,0,0,0,0,0,0,0,...,0,0,0,0,0,0,0,0,0,0],[0,0,0,0,0,0,0,0,0,0,...,0,0,0,0,0,0,0,0,0,0]],[[0,0,0,0,0,0,0,0,0,0,...,0,0,0,0,0,0,0,0,0,0],[0,0,0,0,0,0,0,0,0,0,...,0,0,0,0,0,0,0,0,0,0],[0,0,0,0,0,0,0,0,0,0,...,0,0,0,0,0,0,0,0,0,0],[0,0,0,0,0,0,0,0,0,0,...,0,0,0,0,0,0,0,0,0,0],[0,0,0,0,0,0,0,0,0,0,...,0,0,0,0,0,0,0,0,0,0],[0,0,0,0,0,0,0,0,0,0,...,0,0,0,0,0,0,0,0,0,0],[0,0,0,0,0,0,0,0,0,0,...,0,0,0,0,0,0,0,0,0,0],[0,0,0,0,0,0,0,0,0,0,...,0,0,0,0,0,0,0,0,0,0],[0,0,0,0,0,0,0,0,0,0,...,0,0,0,0,0,0,0,0,0,0],[0,0,0,0,0,0,0,0,0,0,...,0,0,0,0,0,0,0,0,0,0],...,[0,0,0,0,0,0,0,0,0,0,...,0,0,0,0,0,0,0,0,0,0],[0,0,0,0,0,0,0,0,0,0,...,0,0,0,0,0,0,0,0,0,0],[0,0,0,0,0,0,0,0,0,0,...,0,0,0,0,0,0,0,0,0,0],[0,0,0,0,0,0,0,0,0,0,...,0,0,0,0,0,0,0,0,0,0],[0,0,0,0,0,0,0,0,0,0,...,0,0,0,0,0,0,0,0,0,0],[0,0,0,0,0,0,0,0,0,0,...,0,0,0,0,0,0,0,0,0,0],[0,0,0,0,0,0,0,0,0,0,...,0,0,0,0,0,0,0,0,0,0],[0,0,0,0,0,0,0,0,0,0,...,0,0,0,0,0,0,0,0,0,0],[0,0,0,0,0,0,0,0,0,0,...,0,0,0,0,0,0,0,0,0,0],[0,0,0,0,0,0,0,0,0,0,...,0,0,0,0,0,0,0,0,0,0]],[[0,0,0,0,0,0,0,0,0,0,...,0,0,0,0,0,0,0,0,0,0],[0,0,0,0,0,0,0,0,0,0,...,0,0,0,0,0,0,0,0,0,0],[0,0,0,0,0,0,0,0,0,0,...,0,0,0,0,0,0,0,0,0,0],[0,0,0,0,0,0,0,0,0,0,...,0,0,0,0,0,0,0,0,0,0],[0,0,0,0,0,0,0,0,0,0,...,0,0,0,0,0,0,0,0,0,0],[0,0,0,0,0,0,0,0,0,0,...,0,0,0,0,0,0,0,0,0,0],[0,0,0,0,0,0,0,0,0,0,...,0,0,0,0,0,0,0,0,0,0],[0,0,0,0,0,0,0,0,0,0,...,0,0,0,0,0,0,0,0,0,0],[0,0,0,0,0,0,0,0,0,0,...,0,0,0,0,0,0,0,0,0,0],[0,0,0,0,0,0,0,0,0,0,...,0,0,0,0,0,0,0,0,0,0],...,[0,0,0,0,0,0,0,0,0,0,...,0,0,0,0,0,0,0,0,0,0],[0,0,0,0,0,0,0,0,0,0,...,0,0,0,0,0,0,0,0,0,0],[0,0,0,0,0,0,0,0,0,0,...,0,0,0,0,0,0,0,0,0,0],[0,0,0,0,0,0,0,0,0,0,...,0,0,0,0,0,0,0,0,0,0],[0,0,0,0,0,0,0,0,0,0,...,0,0,0,0,0,0,0,0,0,0],[0,0,0,0,0,0,0,0,0,0,...,0,0,0,0,0,0,0,0,0,0],[0,0,0,0,0,0,0,0,0,0,...,0,0,0,0,0,0,0,0,0,0],[0,0,0,0,0,0,0,0,0,0,...,0,0,0,0,0,0,0,0,0,0],[0,0,0,0,0,0,0,0,0,0,...,0,0,0,0,0,0,0,0,0,0],[0,0,0,0,0,0,0,0,0,0,...,0,0,0,0,0,0,0,0,0,0]],[[0,0,0,0,0,0,0,0,0,0,...,0,0,0,0,0,0,0,0,0,0],[0,0,0,0,0,0,0,0,0,0,...,0,0,0,0,0,0,0,0,0,0],[0,0,0,0,0,0,0,0,0,0,...,0,0,0,0,0,0,0,0,0,0],[0,0,0,0,0,0,0,0,0,0,...,0,0,0,0,0,0,0,0,0,0],[0,0,0,0,0,0,0,0,0,0,...,0,0,0,0,0,0,0,0,0,0],[0,0,0,0,0,0,0,0,0,0,...,0,0,0,0,0,0,0,0,0,0],[0,0,0,0,0,0,0,0,0,0,...,0,0,0,0,0,0,0,0,0,0],[0,0,0,0,0,0,0,0,0,0,...,0,0,0,0,0,0,0,0,0,0],[0,0,0,0,0,0,0,0,0,0,...,0,0,0,0,0,0,0,0,0,0],[0,0,0,0,0,0,0,0,0,0,...,0,0,0,0,0,0,0,0,0,0],...,[0,0,0,0,0,0,0,0,0,0,...,0,0,0,0,0,0,0,0,0,0],[0,0,0,0,0,0,0,0,0,0,...,0,0,0,0,0,0,0,0,0,0],[0,0,0,0,0,0,0,0,0,0,...,0,0,0,0,0,0,0,0,0,0],[0,0,0,0,0,0,0,0,0,0,...,0,0,0,0,0,0,0,0,0,0],[0,0,0,0,0,0,0,0,0,0,...,0,0,0,0,0,0,0,0,0,0],[0,0,0,0,0,0,0,0,0,0,...,0,0,0,0,0,0,0,0,0,0],[0,0,0,0,0,0,0,0,0,0,...,0,0,0,0,0,0,0,0,0,0],[0,0,0,0,0,0,0,0,0,0,...,0,0,0,0,0,0,0,0,0,0],[0,0,0,0,0,0,0,0,0,0,...,0,0,0,0,0,0,0,0,0,0],[0,0,0,0,0,0,0,0,0,0,...,0,0,0,0,0,0,0,0,0,0]],[[0,0,0,0,0,0,0,0,0,0,...,0,0,0,0,0,0,0,0,0,0],[0,0,0,0,0,0,0,0,0,0,...,0,0,0,0,0,0,0,0,0,0],[0,0,0,0,0,0,0,0,0,0,...,0,0,0,0,0,0,0,0,0,0],[0,0,0,0,0,0,0,0,0,0,...,0,0,0,0,0,0,0,0,0,0],[0,0,0,0,0,0,0,0,0,0,...,0,0,0,0,0,0,0,0,0,0],[0,0,0,0,0,0,0,0,0,0,...,0,0,0,0,0,0,0,0,0,0],[0,0,0,0,0,0,0,0,0,0,...,0,0,0,0,0,0,0,0,0,0],[0,0,0,0,0,0,0,0,0,0,...,0,0,0,0,0,0,0,0,0,0],[0,0,0,0,0,0,0,0,0,0,...,0,0,0,0,0,0,0,0,0,0],[0,0,0,0,0,0,0,0,0,0,...,0,0,0,0,0,0,0,0,0,0],...,[0,0,0,0,0,0,0,0,0,0,...,0,0,0,0,0,0,0,0,0,0],[0,0,0,0,0,0,0,0,0,0,...,0,0,0,0,0,0,0,0,0,0],[0,0,0,0,0,0,0,0,0,0,...,0,0,0,0,0,0,0,0,0,0],[0,0,0,0,0,0,0,0,0,0,...,0,0,0,0,0,0,0,0,0,0],[0,0,0,0,0,0,0,0,0,0,...,0,0,0,0,0,0,0,0,0,0],[0,0,0,0,0,0,0,0,0,0,...,0,0,0,0,0,0,0,0,0,0],[0,0,0,0,0,0,0,0,0,0,...,0,0,0,0,0,0,0,0,0,0],[0,0,0,0,0,0,0,0,0,0,...,0,0,0,0,0,0,0,0,0,0],[0,0,0,0,0,0,0,0,0,0,...,0,0,0,0,0,0,0,0,0,0],[0,0,0,0,0,0,0,0,0,0,...,0,0,0,0,0,0,0,0,0,0]]]\n",
              "attention_mask: [[[1,1,1,1,1,1,1,1,1,1,...,0,0,0,0,0,0,0,0,0,0],[1,1,1,1,1,1,1,1,1,1,...,0,0,0,0,0,0,0,0,0,0],[1,1,1,1,1,1,1,1,1,1,...,0,0,0,0,0,0,0,0,0,0],[1,1,1,1,1,1,1,1,1,1,...,0,0,0,0,0,0,0,0,0,0],[1,1,1,1,1,0,0,0,0,0,...,0,0,0,0,0,0,0,0,0,0],[1,1,1,1,1,1,1,1,1,1,...,0,0,0,0,0,0,0,0,0,0],[1,1,1,1,1,1,1,1,1,1,...,0,0,0,0,0,0,0,0,0,0],[1,1,1,1,1,1,1,1,1,1,...,0,0,0,0,0,0,0,0,0,0],[1,1,1,1,1,1,1,1,1,1,...,0,0,0,0,0,0,0,0,0,0],[1,1,1,1,1,1,1,1,1,1,...,0,0,0,0,0,0,0,0,0,0],...,[1,1,1,1,1,1,1,1,1,1,...,0,0,0,0,0,0,0,0,0,0],[1,1,1,1,1,1,1,1,1,1,...,0,0,0,0,0,0,0,0,0,0],[1,1,1,1,1,1,1,1,1,1,...,0,0,0,0,0,0,0,0,0,0],[1,1,1,1,1,1,1,1,1,1,...,0,0,0,0,0,0,0,0,0,0],[1,1,1,1,1,1,1,1,1,0,...,0,0,0,0,0,0,0,0,0,0],[1,1,1,1,1,1,1,1,1,1,...,0,0,0,0,0,0,0,0,0,0],[1,1,1,1,1,1,1,1,1,1,...,0,0,0,0,0,0,0,0,0,0],[1,1,1,1,1,1,1,1,1,1,...,0,0,0,0,0,0,0,0,0,0],[1,1,1,1,1,1,1,1,1,1,...,0,0,0,0,0,0,0,0,0,0],[1,1,1,1,1,1,1,1,1,1,...,0,0,0,0,0,0,0,0,0,0]],[[1,1,1,1,1,1,1,1,1,1,...,0,0,0,0,0,0,0,0,0,0],[1,1,1,1,1,1,1,1,1,1,...,0,0,0,0,0,0,0,0,0,0],[1,1,1,1,1,1,1,1,1,1,...,0,0,0,0,0,0,0,0,0,0],[1,1,1,1,1,1,1,1,1,1,...,0,0,0,0,0,0,0,0,0,0],[1,1,1,1,1,1,1,1,1,1,...,0,0,0,0,0,0,0,0,0,0],[1,1,1,1,1,1,1,1,1,1,...,0,0,0,0,0,0,0,0,0,0],[1,1,1,1,1,1,1,1,1,1,...,0,0,0,0,0,0,0,0,0,0],[1,1,1,1,1,1,1,1,1,1,...,0,0,0,0,0,0,0,0,0,0],[1,1,1,1,1,1,1,1,1,1,...,0,0,0,0,0,0,0,0,0,0],[1,1,1,1,1,1,0,0,0,0,...,0,0,0,0,0,0,0,0,0,0],...,[1,1,1,1,1,1,1,1,1,1,...,0,0,0,0,0,0,0,0,0,0],[1,1,1,1,1,1,1,1,1,1,...,0,0,0,0,0,0,0,0,0,0],[1,1,0,0,0,0,0,0,0,0,...,0,0,0,0,0,0,0,0,0,0],[1,1,1,1,1,1,1,1,1,1,...,0,0,0,0,0,0,0,0,0,0],[1,1,1,1,1,1,1,1,1,0,...,0,0,0,0,0,0,0,0,0,0],[1,1,1,1,1,1,1,1,1,1,...,0,0,0,0,0,0,0,0,0,0],[1,1,1,1,1,1,1,1,1,1,...,0,0,0,0,0,0,0,0,0,0],[1,1,1,1,1,1,1,1,1,1,...,0,0,0,0,0,0,0,0,0,0],[1,1,1,1,1,1,1,1,1,1,...,0,0,0,0,0,0,0,0,0,0],[1,1,1,1,1,1,1,1,1,1,...,0,0,0,0,0,0,0,0,0,0]],[[1,1,1,1,1,1,1,1,1,1,...,0,0,0,0,0,0,0,0,0,0],[1,1,1,1,1,1,1,1,1,1,...,0,0,0,0,0,0,0,0,0,0],[1,1,1,1,1,1,1,1,1,1,...,0,0,0,0,0,0,0,0,0,0],[1,1,1,1,1,1,1,1,1,1,...,0,0,0,0,0,0,0,0,0,0],[1,1,1,1,1,1,1,1,1,1,...,0,0,0,0,0,0,0,0,0,0],[1,1,1,1,1,1,1,1,1,1,...,0,0,0,0,0,0,0,0,0,0],[1,1,1,1,1,1,1,1,1,1,...,0,0,0,0,0,0,0,0,0,0],[1,1,1,1,1,1,1,1,1,1,...,0,0,0,0,0,0,0,0,0,0],[1,1,1,1,1,1,1,1,1,1,...,0,0,0,0,0,0,0,0,0,0],[1,1,1,1,1,1,1,1,1,1,...,0,0,0,0,0,0,0,0,0,0],...,[1,1,1,1,1,1,1,1,1,1,...,0,0,0,0,0,0,0,0,0,0],[1,1,1,1,1,1,1,1,1,1,...,0,0,0,0,0,0,0,0,0,0],[1,1,1,1,1,1,1,1,1,1,...,0,0,0,0,0,0,0,0,0,0],[1,1,1,1,1,1,1,1,1,1,...,0,0,0,0,0,0,0,0,0,0],[1,1,1,1,1,1,1,1,1,1,...,0,0,0,0,0,0,0,0,0,0],[1,1,1,1,1,1,1,1,1,1,...,0,0,0,0,0,0,0,0,0,0],[1,1,1,1,1,1,1,1,1,1,...,0,0,0,0,0,0,0,0,0,0],[1,1,1,1,1,1,1,1,1,1,...,0,0,0,0,0,0,0,0,0,0],[1,1,1,1,1,1,1,1,1,1,...,0,0,0,0,0,0,0,0,0,0],[1,1,1,1,1,1,1,1,1,1,...,0,0,0,0,0,0,0,0,0,0]],[[1,1,1,1,1,1,1,1,1,1,...,0,0,0,0,0,0,0,0,0,0],[1,1,1,1,1,1,1,1,1,1,...,0,0,0,0,0,0,0,0,0,0],[1,1,1,1,1,1,1,1,1,1,...,0,0,0,0,0,0,0,0,0,0],[1,1,1,1,1,1,1,1,1,1,...,0,0,0,0,0,0,0,0,0,0],[1,1,1,1,1,1,1,1,1,1,...,0,0,0,0,0,0,0,0,0,0],[1,1,1,1,1,1,1,1,1,1,...,0,0,0,0,0,0,0,0,0,0],[1,1,1,1,1,1,1,1,1,1,...,0,0,0,0,0,0,0,0,0,0],[1,1,1,1,1,1,1,0,0,0,...,0,0,0,0,0,0,0,0,0,0],[1,1,1,1,1,1,1,1,1,1,...,0,0,0,0,0,0,0,0,0,0],[1,1,1,1,1,1,1,1,1,1,...,0,0,0,0,0,0,0,0,0,0],...,[1,1,1,1,1,1,1,1,1,1,...,0,0,0,0,0,0,0,0,0,0],[1,1,1,1,1,1,1,1,1,1,...,0,0,0,0,0,0,0,0,0,0],[1,1,1,1,1,1,1,1,1,1,...,0,0,0,0,0,0,0,0,0,0],[1,1,1,1,1,1,1,1,1,1,...,0,0,0,0,0,0,0,0,0,0],[1,1,1,1,1,1,1,1,1,1,...,0,0,0,0,0,0,0,0,0,0],[1,1,1,1,1,1,1,1,1,1,...,0,0,0,0,0,0,0,0,0,0],[1,1,1,1,1,1,1,1,1,1,...,0,0,0,0,0,0,0,0,0,0],[1,1,1,1,1,1,1,1,1,1,...,0,0,0,0,0,0,0,0,0,0],[1,1,1,1,1,1,1,1,1,1,...,0,0,0,0,0,0,0,0,0,0],[1,1,1,1,1,1,1,1,1,1,...,0,0,0,0,0,0,0,0,0,0]],[[1,1,1,1,1,1,1,1,1,1,...,0,0,0,0,0,0,0,0,0,0],[1,1,1,1,1,1,1,1,1,1,...,0,0,0,0,0,0,0,0,0,0],[1,1,1,1,1,1,1,1,1,1,...,0,0,0,0,0,0,0,0,0,0],[1,1,1,1,1,1,1,1,1,1,...,0,0,0,0,0,0,0,0,0,0],[1,1,1,1,1,1,1,1,1,1,...,0,0,0,0,0,0,0,0,0,0],[1,1,1,1,1,1,1,1,1,1,...,0,0,0,0,0,0,0,0,0,0],[1,1,1,1,1,1,1,1,1,1,...,0,0,0,0,0,0,0,0,0,0],[1,1,1,1,1,1,1,1,1,1,...,0,0,0,0,0,0,0,0,0,0],[1,1,1,1,1,1,1,1,1,1,...,0,0,0,0,0,0,0,0,0,0],[1,1,1,1,1,1,1,1,0,0,...,0,0,0,0,0,0,0,0,0,0],...,[1,1,1,1,1,1,1,0,0,0,...,0,0,0,0,0,0,0,0,0,0],[1,1,1,1,1,1,1,1,1,1,...,1,1,1,1,1,1,1,1,1,1],[1,1,1,1,1,1,1,1,1,1,...,0,0,0,0,0,0,0,0,0,0],[1,1,1,1,1,1,1,1,1,1,...,0,0,0,0,0,0,0,0,0,0],[1,1,1,1,1,1,1,1,1,1,...,0,0,0,0,0,0,0,0,0,0],[1,1,1,1,1,1,1,1,1,1,...,0,0,0,0,0,0,0,0,0,0],[1,1,1,1,1,1,1,1,1,1,...,0,0,0,0,0,0,0,0,0,0],[1,1,1,1,1,1,1,1,1,1,...,0,0,0,0,0,0,0,0,0,0],[1,1,1,1,1,1,1,1,1,1,...,0,0,0,0,0,0,0,0,0,0],[1,1,1,1,1,1,1,1,1,1,...,0,0,0,0,0,0,0,0,0,0]]]"
            ]
          },
          "metadata": {},
          "execution_count": 22
        }
      ]
    },
    {
      "cell_type": "code",
      "source": [
        "tokenized_test_dataset.data"
      ],
      "metadata": {
        "colab": {
          "base_uri": "https://localhost:8080/"
        },
        "id": "WcWsA9LSSZnU",
        "outputId": "067b46be-0f54-4f23-9f0d-8c2e734d1656"
      },
      "execution_count": 23,
      "outputs": [
        {
          "output_type": "execute_result",
          "data": {
            "text/plain": [
              "MemoryMappedTable\n",
              "id: int32\n",
              "topic: int64\n",
              "question_title: string\n",
              "question_content: string\n",
              "best_answer: string\n",
              "input_ids: list<item: int32>\n",
              "  child 0, item: int32\n",
              "token_type_ids: list<item: int8>\n",
              "  child 0, item: int8\n",
              "attention_mask: list<item: int8>\n",
              "  child 0, item: int8\n",
              "----\n",
              "id: [[3493,57546,8815,19332,15566,22963,21972,22093,1818,46044,...,1066,18844,17384,41212,9912,33477,17925,4710,13050,2493],[53263,38360,8249,20342,24121,2855,27762,54068,29004,24708,...,44552,58134,38904,47944,11993,34714,48384,34325,59238,45688],[56695,9762,34196,55410,27089,53354,16105,29162,33254,124,...,37945,44641,34697,26764,25013,3747,40338,56830,24347,57017],[41822,45167,10706,28163,28514,24048,58948,55952,17428,12321,...,57127,48119,29994,22783,11390,29846,33389,41678,46283,47209]]\n",
              "topic: [[4,4,3,5,5,5,9,9,6,5,...,6,0,5,3,2,8,4,8,2,9],[4,9,2,1,9,6,2,7,1,1,...,7,0,5,9,6,5,1,5,1,2],[2,1,4,6,7,9,3,4,3,3,...,2,9,0,7,5,1,6,6,0,5],[7,5,0,4,2,7,6,8,7,2,...,0,0,9,0,6,7,2,5,4,7]]\n",
              "question_title: [[\"Is the registered version of  REGISTRY MECHANIC worth paying for?\",\"what is better windows xp or mac?\",\"What is the name of the current president of the U.S. and the mayor of Chicago Illinois?\",\"how old is inter`s deffender,sinisha mihajlovic?\",\"Do you think Manchester United will catch Chelsea for the few remaining games?\",\"Does Skateboaring make you lose weight?\",\"Do illegal immigrants know they are breaking the law?\",\"As an individual in the USA, forwarding funds for foreign companies, do I have to file any paper work?\",\"As a CA resident, is it better to get the CA 529 or can I choose any state 529 ? Are there any tax benefits?\",\"how do u shoot pool on yahoo?\",...,\"what is the best way to kill time?\",\"What is life? What is death?\",\"Do any of you twirl baton as a sport ?\",\"what is a good passage from the novel \"The Kite Runner\"?\",\"should darcy go to bed now or eat dinner first then go to bed?\",\"Ok guys, young women in 20s who is chubby or older woman say 30s who is skinny?\",\"how do i set up my yahoo account to a POP account so that I can receive my email on my mobile phone?\",\"What do you do when one of your best friends moves to Viriginia?\",\"Is it just me or is someone online an attention seeker?\",\"In which states can a person pass the bar exam and practice law WITHOUT a degree?\"],[\"how do we downlode word/excel in nokia 6600 ???\",\"What to do about Iran?\",\"Any medical pro.s out there? My mom ran over herself with her own car!?\",\"what is a nitrogen base?\",\"i would like to wrtie a will or living trust ?\",\"Who made up curse words, why?\",\"What do you do when you get depressed? I take Prozac and usually am okay but every now?\",\"Do you think this is a good business idea?\",\"how deep is the alantic ocean?\",\"What shape has the most wind resistance?\",...,\"Has Paula Poundstone ever won the \"wait wait dont tell me\"quiz show?\",\"If you chose your own first name, what would it be?\",\"What 1999 acquisition forced the Cincinnati Reds to add 10 more phones to process ticket orders?\",\"American Residency and handgun ownership.?\",\"Who is known as the father of Texas?\",\"Which guy should I start in my WR spot L. Evans, T. Glenn, K. Johnson?\",\"If something costs £199, whats the VAT ?\",\"Which was the score at the Final game at the Soccer WC?\",\"determine the geometrical figure?\",\"Prescription change?\"],[\"10 ways how to take care of the eyes?\",\"You have a round field.A goat is tethered at one end to eat exactly half of field what is lenth of rope?\",\"What is a reasonably priced accessory to turn a laptop to a car navigator usable in both US and Europe?\",\"If a house if forclosed, isnt all debts against the house forgiven (such as 1st and 2nd mortgages)?\",\"does anyone know???\",\"Should restitution be paid to African Americans...?\",\"how many mickle makes a muckle?\",\"re; apple wallstreet laptop quit working, no power,no boot/w adapter only blinking grn lite?\",\"I have a problem with a teacher!?\",\"how do you say Merry Christmas and Happy New Year in italian language?\",...,\"What is the right age to insert a tampon?\",\"has mr. Bush changed his mind about global warming or is he still adamant that this is just a normal cycle?\",\"ghost walks in essex uk?\",\"I was thinkin a lot of awnsers can be found on the net with a lot more acuracy than some people on here?\",\"How Many Cricket World Cups Has Australia Hosted?\",\"What is X-Ray Crystallography?\",\"Issues accountants face when employees use email for their personal use?\",\"What kind of Jobs can I expect to get with a degree in International Affairs???\",\"If Jesus could do magick....was he a witch then ?\",\"LEHMANN or KHAN?\"],[\"I want to know what the song is called, \"if i just lie here would you lie with me..\"?\",\"Do you want Italy to win Euro 2008?\",\"What if you are Christian and your spouse turns to Satanism, what should you do?\",\"Is TrustyFiles Pro 3.1.0.6 Legal?\",\"Is it possible to be affraid of being IN control or is that just a oxymoron?\",\"how old is andy milinokis?\",\"Should I pay my student loan as much as possible or keep my money in the bank?\",\"Can You Cheat Death? Give Me Proof Beyond Proof If You Say So...I Dare You!?\",\"Wut is the best Final Fantasy game and why ?\",\"how do u get rid of toenail fungus without meds.?\",...,\"What would you do??????\",\"why do fools fall in love??\",\"What is ORC: 2923.161 4?\",\"Wouldn't you say we are all Miracles considering all that can go wrong with us?\",\"wut do u think?\",\"Who is Thomas Mapother IV better known as?\",\"how do former/recovering anorexics deal with the weight gain and not being skinny anymore?? please help!?\",\"why wont the bulls let ben wallace wear a head-band?\",\"what is the difference between an htm or an html page?\",\"How do I find out what type of Clarinet I have.?\"]]\n",
              "question_content: [[\"Or is  the free version good enough?\",\"\",\"What is the name of the current president of the U.S. and the mayor of Chicago Illinois?\",\"\",\"\",\"\",\"After a while I'm sure they find out.But I am not sure if they know they are not supposed to just come when they want.I would like to receive answers from illegal immigrants not haters.\",\"My friend's company is based out of the USA. And they use Paypal as one of their means of collecting funds. Paypal does not support Bank Transfer to their country.\\n\\nWhat my friend's company does is, they transfer a certain amount of money from their Paypal account to my Paypal account everyday. I withdraw the Paypal funds into my Bank Account, then cash the money. I then forward the cash via Western Union to my friend's Bank Account in the foreign country.\\n\\nI am not profiting a cent from this. I am just doing him a favor. My friend's company is legitimate, and the money is clean. And he is not subjected to any tax in the USA.\\n\\nDo I have to file any paper work? As I know that this might trigger off an alarm with the banking and money system.\",\"Are there any CA state tax benefits of California's 529 that I would lose out on in getting any other state's 529 plan? Are there any other differences to keep in mind, apart from the quality of the plan's investment offerings.\",\"\",...,\"\",\"\",\"My sport is baton and I don't knw to many other peopole who twirl, so if you do say something please.  Have you been in competions before?  I have, I even came in first in one of the cometions.\",\"what page or chapter\",\"\",\"Both are kinda cute who do you choose?\",\"\",\"\",\"\",\"\"],[\"i want to down lode game thems and word /excel/ file in my nokia 6600 how do i do it ??? plz help me \\n i have a card reader /bluetoot enabel com what elce i need ??\",\"http://www.latimes.com/news/opinion/commentary/la-op-muravchik19nov19,0,5419188.story?coll=la-home-commentary\\n\\nhttp://www.aynrandbookstore2.com/prodinfo.asp?number=HS25B\\n\\nhttp://www.commentarymagazine.com/podhoretz.htm\",\"Long story short, she jumped out of the car ( thought she ran over the puppy ), threw in R not P. She fell and was pinned by the door which drug her 20 ft. She hurt her knee and her back is really sore. \\n1.the knee is slightly swollen, fluid in it\\n2.pain with just a blanket lying on it\\n3.fine when straight, but when she bends it feels \"like stitches ripping.\"\\nShe stayed off for the first 2 days, then she went back to walking around. After a week she has decided to get off it.\\nShe's only using ice pack, no heat. She's really scared to go to the doc. Help!\",\"\",\"what is better a will or living trust?\\ni am 40=have a house i own jointly \\nwhat items should i put in the will or living trust?\\nhow can i divide the items in the will evenly amonf three \\nchildren >i would like to leave everything only to my three\\nkids>?/\",\"Why do they feel so offensive?\",\"and then I get in moods that are very depressing. I wont leave the house, dont wanna talk, can only dweel on negative things.... any suggestions?\",\"I am an obsessive cleaner, i love to be nekkid, and I need to make some cash....do you think there is a market for a nekkid cleaning service?  How much should I charge?\",\"\",\"We are building parachutes out of plastic bags in and I want to know which shape would have the most wind resistance so my parachute design would have a high hang time.\",...,\"\",\"You see, I don't much care for my own first name, and wonder if anyone else would change theirs, too!\",\"\",\"I am a legal American resident in the state of Missouri (a citizen of Canada).  Can i legally purchase and possess a .40 for the purposes of self defence in the State of Missouri?\",\"\",\"Fantasy Football\",\"\",\"I mean France-Italy, including the penalities? I know that Italy won, but I forgot the score....\",\"what will be the geometrical figure of 3 ^ (5) = 122 ^ (2) - 121 ^ (2)\\nlike 3 ^ (2) = 5 ^ (2) - 3 ^(2) satisfies the conditions of making a right triangle.similarly any given number with any given power can be expressed as difference of infinite sets of two perfect squares\\nand the squares can be terminating decimals what will be the geometrical figures of such a case?\\n\\n\\n\\n\\n\\n\\n\\n\\n\\n\\n\\n\\n\\n\\n\\n\\n\\n\\n\\n6\",\"What is the difference in taking Budeprion tab 100mg SR twice a day, every 8hrs and Changing to Wellbutrin XL Tab 150mg twice a day.\\nI'm taking two Budeprion 150 SR in the morning is it okay?\"],[\"\",\"\",\"\",\"\",\"does anyone know where i can download shakira's song  hips dont lie and jessica simpson's these boots are made for walking  for free?? please do tell me  i have been trying to download them from almost a month but i am unable to.\\nplease help me!!!\",\"whose lives were effected by the Jim Crow Laws in the South?\\n\\nBefore the civil rights movement,  the \"separate but equal\" farce provided inferior schooling and housing. Not to mention separate water fountains, restrooms, and being forced to the back of the bus.\\n\\nThe KKK was allowed to run rampant, burning churches and lynching people with little to no fear of prosecution.  \\n\\nShould the people who were treated this way be compensated? Why or why not?\",\"\",\"laptop was powering up to mac 9.2w/ occasional slow response,now when power tab is pressed all I get is blinking charging lite,there's slight clicking sound w/plugged to adapter,have no baterry for it?\",\"im a collage student i finished 70 credits, and my GPA is 4.2/ 5 there is a course that im taking which im really getting bad marks in it, so i went to the teacher to withdraw the course during the withdraw period, she told me dont worry ill help and ill give you extra work and bounce,but dont w/draw but unfortunately she didnt do anything,, i went to her so many times asking for what she promised but she didnt! then the withdraw period was finished, i went to the dean office and i told the dean that she didnt do what she promised me to ,didnt allow me to withdraw now i want to withdraw it even if the withdraw period is finished, the dean said that i can withdraw the course but the teacher said,, no your r C+ dont worry ull be fine,, ysterday i had my grade.. she gave me 62%.. now i made a huge problem in the adminstatrion about it !! tell me what do u think what should i do, they say im not able to withdraw the course,, i told them that she promised, and told me that im c+ !\",\"\",...,\"I would like to know, and are there any thing I should worry about? (not counting TSS)\",\"\",\"does anybody know of any groups in essex that do ghost walks of haunted locations/buildings in essex??\",\"so  why ask if the info you receive is propaly not always true could it be it passes the time ?your thoughts\",\"\",\"\",\"\",\"\",\"he left no book of shadows ?\",\"\"],[\"whats that song? i cant think of it all.\",\"OK..you're the coach , make up the perfect team to bring the victory for Italy!\\nWhat formation would you use?\",\"Are you bound to stay and work it out?\",\"Is it legal? It cost's money on www.download.com\\nIs it legal and can you download music from it, does it have a monthly subscribtion like rhapsody or the new napster?\\nPlease answer all questions.\",\"\",\"isnt he like thirty? he looks ten. hes the most annoying thing ive ever seen. why does he have a show..\",\"My student loan is the only debt I have. The return from the bank is 4.45% and I also have a CD account at 5%. The interest for the loan is lower than that. What should I do?\",\"if you can cheat death ..tell me how..bcoz i belive DEATH is everybodys Final Destination here on Earth whether you like it or not..no matter how u die..You will die! but the question is? Can you damn cheat it!? go...the power is urs...!\",\"\",\"\",...,\"this morning i stopped @ my local gas station to fill my car got out headed to the pump, picked up the nozzle and gas came out and spilled on my car, I put the nozzle in and ignored it, in the mean time, I went to walk back to the drivers side, I started to back up and my feet stuck, I backed up again, my feet continued to stick, I looked down and there was a HUGE puddle of 'wet' I instantly new I was standing in a puddle of GAS, that had been spilled during the duration of the evening, I took my flip flop off and picked up and WHOo yeah GAS for sure. I walked in to the station, and said to the attendant \"are you aware there is gas all over the front of the pump?\" her answer \"well yeah\" \"well yeah?? why on earth would you not tell someone? or put a note up or something? yell over the intercom?\" of course NO answer no apology she just lked at me- I hd 2 put the shoes in my trunk they smelt so bad & were causing my head 2 pnd I endd up tossing them becoz of it. they were new, should I c\",\"\",\"\",\"\",\"wut do think about hurricane katrina????\",\"What is your favourite movie of his?\",\"recovering anorexic/bulimic trying to deal with and cope with life after anorexia.\",\"\",\"Hi, I use Frontpage 03 to edit my site here on yahoo.  I'm just confused because there are both htm and html pages created.  I'm not sure if/when I was given the option of which to make.  the \"site\" stored in my documents has index.htm as it's home page, and the real website, or remote site as they call it, has it's homepage as index.html. But, on the remote site there is also an index.htm which seems to be linked or synced (sp?) to the homepage, index.htm, on my \"site\" which is in my documents.\\n  So I just deleted the index.htm off the remote site because I thought maybe it's not supposed to be there and I must have mistakenly made it. \\n   Had I only come here first and asked, because I have faith in the yahoo answers community that we can get this problem resolved.  Any answer is appreciated!!!\\nThanks\",\"I havent played in 5 years and Im 18 now. I would like to start back playing but I forgot what kind of clarinet i have. Is it an Eb, Alto, what I forgot. Help\"]]\n",
              "best_answer: [[\"D E F I N I T E L Y !!! I happened across Registry Mechanic 5 in Wal Mart one day. I spent 60 dollars on it and would do it again in a heartbeat. This software is easy to use and extremely effective. G O  F O R  I T !!!\",\"Definitely windows xp\",\"George W. Bush is the current president and Richard M. Daley is the mayor of Chicago.\",\"February 20 1969... very old\",\"No.  United blew their chance by drawing with Sunderland.  Chelsea now only need one point from 3 matches to win the Premiership.  United will beat Chelsea at Stamford Bridge to keep the race going a little longer though\",\"It helps, me and my friends skated for a few months, i skated about three times a week, just went around my neighborhood, to the shopping centers, just went around for the fun of it, and lost about 25 pounds in 3 months, same for him.  so yes, skateboarding will help.\",\"I am sure they are aware but a lot of the immigrants or illegals as some refer to them don't really feel they are breaking the law since they only come here to work to send money to their families and are in no way committing crimes..I think they see it as \"I'm here illegally I'm working a demeaning job with no ladder going up, how can I be hurting the US when it's citizens who are paying me less then minimum wage are benefiting, I am not a criminal here to steal or murder anyone\".\\n\\nAbove DORK, they run from cops because of the brutality in which they are arrested and treated..Not to mention the money they worked hard for to pay to get over here, they have to somehow manage to stay here long enough to make that up..I am sure the US government would love it if they had alaw against illegal runners so that they the Gov. could get that money to let the undocumented come in but of course that would in turn make them runners..They are just trying to find a way to manage to get to that point legally, and it seems with partcially informed citizens it might happen..I gues you're all for building that mockery of the great wall of china.There was a time in America when everyone was welcomed and never turned away.Remember most of us here in the US are not natives from here we all came from different countries and regions it is how AMERICA was made..\",\"Depends on the amount of money, and possibly where it's going. In general, though, it's getting tougher to send money overseas. There might be issues related to the Patriot Act, for example.\\n\\nI'd suggest doing a web search for the particular country that you're trying to send to.\",\"In most cases you would want to get the plan sponsored by your state.  Every state sets its own rules for tax exemption on 529s.  If you are going to go with one outside of your state, I would look at College America which is through the American Funds.  Obtain more info from 529s.com\",\"look it up smartie\",...,\"Come on to Yahoo Answers and ask and answer loads of questions, I spent around 6 hours doing it yesterday when I was supposed to be working, oops\",\"Life is what you do before you die, so enjoy it.\",\"I use a baton in majorettes, ive competed im comps since i was 5 + have regularly won best in scotland. its very fun + a great way to keep fit.\",\"Chapter Sixteen                  \\nRahim Khan found Hassan in 1986. Hassan was married and his wife was expecting a baby. Ali had been killed by a land mine. \\nHassan asked many questions about Amir and wanted to know if Amir would read a letter from him. He wept when told about Baba’s death. \\nHassan and his wife decide to move with Rahim Khan, but will only live in the hut and work as servants so as not to offend Amir. \\nHassan’s daughter was stillborn. \\nHassan’s mother returns to see him, disfigured from a recent knife attack. They nurse her back to health. \\nHassan’s wife gave birth to a son named Sohrab. \\nHassan’s mother died four years later. \\nHassan taught his son to be a kite runner. The Taliban banned kite fighting shortly after taking power. Taliban fighters massacred the Hazaras in Mazar-i-Sharif.\\nI hope your are pleased with my answer this time,bacause is very difficult to understand your\\nquestion in spanish.\\nThanks and have a great day.\",\"If you want to lose weight (since this was in the diet category), you shouldn't eat and then head to bed.  You want to give your body time to burn off some of those calories first.\",\"The first one that will have me, I'm not shallow.\\n\\nMay the best girl win...\",\"Yahoo! doesn't provide free POP access for checking email.  There's a program called Yahoo! POPS that you can download to use on your computer, but I don't think it will work for your phone.  You could always just use the web browser on your phone and check it online.\",\"If you have her address, email, and phone number, that would be good. I know you may feel deppressed and lonely. It happened to me once.\",\"everyone who gets on yahoo answers seeks attention or gets it in one way or the other!\",\"One is eligible to take the bar exam with only law-office study in California, Maine, New York, Vermont, Virginia, Washington, and Wyoming. In addition, you are eligible in California, DC, and New Mexico to take the test if you only have correspondence study. Each state is very different on these requirements, particularly on how long you must work at a law firm, and some of those do require some classroom experience at an ABA accredited law school, even though they don't require a JD or LLD.\\n\\nThat being said, it is pretty rare for someone to apply for and be accepted to the bar without a law degree. It is simply the easiest, fastest way to learn all of the information necessary for the bar exam.\"],[\"salam\\n\\nu can go too http://www.mobango.com\\nregister for free\\nand search for Quick office for your nokia cell phone\\nthis is program that u can install in your phone and have excel , word, access and power point\\n\\nu can find another application for your phone there\\n\\nhope to be the best answer\",\"We have 2 choices: \\n1) Bomb them now.\\n2) wait till they have & use a nuke (it's not a question of if, but when) & then retaliate.\\n\\n1st option will anger the world comunity.\\nIt will also save tens of thousands of innocent lives.\\nTo me, it is an easy choice. It's better to be right than popular.\",\"I recommend you need to get to a doctor ASAP! this is not something to mess around with. I ask my wife and she is a  RN in Mexico. She says see a doctor Immedeately.\",\"A nitrogen base is a base primarily composed of nitrogen.\\n\\nIn the DNA ladder-like format, there are 4 rungs.\\n\\nThe rungs are formed from two nitrogen bases that connect in the middle of the rung.\\n\\nThese are the four nitrogen bases according to what nitrogen bases they connect to. They connect to no other, except in RNA.\\n\\nADENINE - THYMINE\\nGUANINE - CYTOSINE\\n\\nYou can also remember ATGC, just as initials to remind you.\",\"You may want to consult an estate planning lawyer to analyze the specifics of your situation, and to determine what the best approach is for you.\\n\\nFor general information:\\nWills: http://estate.findlaw.com/estate-planning/wills.html\\nTrusts: http://estate.findlaw.com/estate-planning/trusts.html\\nAdvantages of various estate planning tools: http://estate.findlaw.com/articles/2193.html\",\"People made up the words and society decides that they are curse words based on things that it considers to be things we shouldn't talk about.\",\"I have been taking prozac for a long time. DO NOT ever skip days without taking. the level of medicine in your body can get out of whack and you can have side effects that are not good. thoughts of suicide,bad nightmares, bouts of extreme depression. also the prozac might need to be adjusted. You really need to talk with your doctor.\",\"I'm sure some people would definitely pay for that service.\",\"The average depth of this ocean is 3,660 meters,  2.27 miles , or 12,007.87 feet\",\"Maximise Surface Area\\nMinimise Weight\\nOptimise Stability\\nOptimise Lift\",...,\"Not that I am aware of...\",\"I might change it to Jayne in remembrance of an aunt of mine who died several years ago.\",\"Ken Griffey jr.\",\"no, it is illegal for an alien to be in possession of a firearm or firearm accessories as per 18 USC 922\\n\\nit is illegal for an alien whether they are a l.a.p.r or an illegal alien doens't matter.  It still applies to aliens here legally.\",\"That would be Stephen F. Austin.\\n\\nSee the link below for full information.\",\"i think you should go with l evens because Dallas also has Terrel Owens and Carolina also has Steve smith witch is on my roster\",\"if thats a VAT included price then its £29.64\\nif thats before VAT then the VAT will be £34.83\",\"Italy  1–1 (AET)\\n(5–3 PSO)  France Olympiastadion, Berlin\\n\\n\\n\\nMaterazzi 19' \\nZidane 7'\\n\\n\\n    Penalties   \\n\\nPirlo: scored\\nMaterazzi: scored\\nDe Rossi: scored\\nDel Piero: scored\\nGrosso: scored 5–3 \\n\\nWiltord: scored\\nTrezeguet: crossbar\\nAbidal: scored\\nSagnol: scored\",\"You mean 3^2 = 5^2 - 4^2 ... dimensionally this works.  For examples, if the units are feet, then you can take a bunch of one foot by one foot ceramic floor tiles, and arrange them in a 5 by 5 square, then take away a 4 by 4 square chunk of that, and rearrange what remains into a 3 by 3 square of tiles.  Translated into inches, you get (3*12)^2 = (5*12)^2 - (4*12)^2: if you have a whole lot of one inch by one inch tiles, and you make a big 60 by 60 square out of then and remove a 48 by 48 subsquare, then you can rearraqnge the remaining little tiles into a 36 by 36 square.\\n\\nNow consider 3^5 = 243 = (122 + 121)*(122 - 121) = 122^ - 121^2, again in feet.  When you translate that into inches, it doesn't scale the same way: the left hand side is multiplied by 12^5 but the right hand side is only multiplied by 12^2.  What kind of geometrical figure do you want to use given that it does not scale?  \"Take a bunch of little one by one by one by one by one foot hypercubes, and arrange them in five space ... then when you project along the ... the result looks like ...\" ??? \"... but subdivide each hypercube into 12^5 little one inch by ... hypercubes and what you just did no longer works\".  Is that really what you are looking for?\",\"You should follow your doctor's and pharmacist's directions. SR and XL are both forms of extended release tablets but they have different durations and taking them at the wrong times could put too much drug in your system for a while and then leave you high and dry. Often docs will prescribe SR two-three times a day versus XL once daily (or maybe in your case your doc wants you to take it twice daily). XL has a longer extended release.\\n\\nAlways check with a pharmacist if you have questions before taking a medicine, but it's probably safest to follow the instructions on the label.\"],[\"1 use cucumber to cool your eyes\\n2 avoid over straining your eyes.when using your computer closeyour eyes periodically or look far away so as to concentrate on nothing\\n3 clear make up whenever you go to bed\\n4 avoid direct sunlight\\n5 eat food rich in vitamins\\n6 when reading avoid incandescent lamps.\\n7 if you use contacts make sure your hands are clean before you wear them\\n8 Avoid direct heat\\n9 use cold water splashes\\n10 have good sleep\",\"Agree with HayHarbr, but in this case, we can use \\n\\n1) the relation between central angle and inscribed angle (central angle = 2 * inscribed angle)\\n\\n2) the trigonmetric formual for the area of a triangle\\n(S(ABC) = [b*c*sin(A)]/2)\\n\\nEquation I: Area of the crescent = half area of the field\\n[R1^2 * Alpha/2] - [R2^2 * Alpha/4] - [R1^2 * sin(Alpha)]/2 + [R2^2 * sin(Alpha/2)]/2 = pi/2 * R1^2\\n\\nEquation II: \\nR1 * sin(Alpha/2) = R2 * sin(Alpha/4)\\n\\nWhere\\nR1 = radius of the field\\nR2 = length of the rope\\n\\nAbove system of 2 equations is sovable for R2 against R1. As HayHarbr said, it can take a long time to solve manually!\\n\\nFurther comments:\\n\\n1) If things do not simplify, we shall get a solution with reverse trigonometric function (ArcSin).\\n\\n2) What about the approximation \\nR2 = SQRT[R1^2 + (R1^2)/4 + (R1^2)/16]\\nR1 = radius of the field\\nR2 = length of the rope\\n\\n3) Hope you allow considering that the field is FLAT, neglecting also the sphericity of the Earth. If not, I surrender.\\n\\n4) Finally, we are lucky to have a round field. Think how is the shape of the fields of our neighbors and how they should solve the same problem for them.\",\"For one that also includes Europe, I don't think you'll find one reasonably priced. I recommend getting away from using your laptop for serious navigation. Laptops are ok for plotting routes and finding places, but for on the fly real time navigation in both The US and Europe, I have to recommend the Tom Tom. Check it out at Best Buy or the link below.\\nI ran Microsoft streets and trips for 5 years on my laptop with GPS, and it was very hard to manipulate the program while driving if I needed to for an alternate route or something. The new Tom Tom is just great. I love it.\\n\\nPs. Check out some of their other things for laptops and PDA's you might find what you need. Good luck.\",\"NO.  IN most cases you can still owe money.  Your house was merely the security for the loan.  Lenders are in the business to make money - \"forgiveness\" is not usually a business term.  \\n\\nExample:\\n\\nLets say you had a mortgage for $100,000.  When you made your payments you mostly paid the interest so at the time of the foreclosure you owned $97,000 on the loan you signed.  \\n\\nAfter it is foreclosed the bank/lender sells the house for $85,000.  \\n\\n     $97,000  (amount you promised to pay)\\n -     85,000  (amount the lender got for selling the house)\\n____________\\n     $12,000   (the amount still owning on the note you signed)\\n\\nThey can sue you to recoup the amount they lost.\\n\\nAlso, when a house is foreclosed the house now \"belongs\" to the Lender.  It is no longer your house.  If the bank sells the house for a profit (more than you owe) they keep the difference.  After all, they just sold THEIR house.\",\"Your information has been passed to the RIAA.\",\"Tough question.\\n\\nMany native Americans receive financial compensation, yet many are poor, uneducated drunks, and many get pregnant at a very young age. Entering some reservations is like entering a third-world country.\\n\\nRestitution becomes a \"handout\" to those who don't know what to do with it. People in those communities who do know, soon swindle those who don't out of their share.\\n\\nAlmost always, the poor will stay poor simply for making bad choices.\\n\\nJust like many lottery winners.\\n\\nMoral of the story: Yes, compensate them, but require them to attend 4 years of finance and PASS the classes using a standardized test before they can get any funds.\",\"apparently only 1....a muckle  is defined as a mickle\\n\\nhttp://www.thefreedictionary.com/muckle\",\"Replace it\\n\\nXLMan\",\"I had a similar problem during my first Master's Degree. I have straight A's for it, except for one C, in an \"elective.\" There was a professor who didn't give us information on how we were doing until the day before the official allowable withdrawl date, then encouraged us to re-write our test and gave out better grades for it rather than withdraw. However, he had a thing against people from my particular major, and after stringing us along gave me (oh joy) the highest grade from my department.... a C. The other students got D's and F's. However, people giving similar responses from other departments got A's and B's. After this, my department changed it's recommended electives for my type of degree to a similar course taught elsewhere. My department head, after reviewing my situation, accepted the course for the elective credit needed toward my degree (the policy for a Master's level was an A or B only) so that I could just move on and not worry about it. I still feel awfully annoyed, though.\\n\\nIf you have copies of your work, and your professor's comments on them, take it to your department head or college dean, and ask them to look into the situation.\",\"Buon Compleanno is Happy Birthday.\\nBuon Natale is Merry Christmas.\\nFelice Anno Nuovo is Happy New Year.\",...,\"the right age is anyone that menstruates and whenever you feel comfortable.\",\"I doubt it, he doesn't care whether his citizens create so much pollution the earth is poisoned and damaged beyond repair for future generations.\",\"Hmmm, obviously not.\",\"People are bored, they want entertainment and are curious about what other people think.\",\"The only Cricket World Cup hosted by Australia was in 1992.This tournament was hosted jointly by Australia & New Zealand.Pakistan won the tournament.\",\"It is a way of using x-rays to see the structure of a crystal:\\n\\nCrystals are three dimensional ordered structures than can be described as a repetition of identical unit cells. The unit cell is made up of the smallest possible volume that when repeated, is representative of the entire crystal. \\n\\nUsing visible light, it will never be possible to see atoms under even the most powerful of microscopes. In order for an object to be seen, its size needs to be at least half the wavelength of the light being used to see it. Since visible light has a wavelength much longer that the distance between atoms it is useless to see molecules. In order to see molecules it is necessary to use a form of electromagnetic radiation with a wavelength on the order of bond lengths, such as X-rays.\",\"\",\"Anything with the State department (if you're a US citizen).  Possibly with the United Nations or as a consultant to import-export businesses.\",\"Christians call magick \"miracles\"\\n\\nChristians call polytheism \"mystery of the holy trinity \"\\n\\nChristians call alchemy \"turning water into wine\" \\n\\nChristians call magicians \"three wise men\" \\n\\nChristians call astrology \"star over Bethlehem\"\\n\\nDon't you love 'em?\",\"i personally like kahn better, maybe bcoz he has the charisma which i dont see in lehmann. lehmann was a lot better in the match against poland, compared to the one against costa rica. well, i think both are great, but i like kahn better..\\n\\nand i dont know whether you mispelled it or what, but it's KAHN..while khan is normally a surname for indians (?), for exmaply my fav hindi actor, shahrukh khan..LOL..!\"],[\"\"Chasing Cars\" by Snow Patrol.  I love it!\",\"This one is easy Lippi had the perfect team in the world cup. you bring the same exact team they win it all. and of course i want Italy to win and there is no doubt that they will win. Forza Italia, Forza Azzuri.\",\"The BIBLE says that if a believer be married to an unbeliever that wants to remain in the marriage, that we are to remain, but if the unbeliever wants to leave, we are not under bondage.  The WORD also says that we are not to be unequally yoked, so if you go into a relationship knowing that you follow JESUS CHRIST and the other person followes after belial, then it is a situation of rebellion...light hath no place in darkness.\\n\\n1Co 7:10  And unto the married I command, yet not I, but the Lord, Let not the wife depart from her husband: \\n1Co 7:11  But and if she depart, let her remain unmarried, or be reconciled to her husband: and let not the husband put away his wife. \\n1Co 7:12  But to the rest speak I, not the Lord: If any brother hath a wife that believeth not, and she be pleased to dwell with him, let him not put her away. \\n1Co 7:13  And the woman which hath a husband that believeth not, and if he be pleased to dwell with her, let her not leave him. \\n1Co 7:14  For the unbelieving husband is sanctified by the wife, and the unbelieving wife is sanctified by the husband: else were your children unclean; but now are they holy. \\n1Co 7:15  But if the unbelieving depart, let him depart. A brother or a sister is not under bondage in such cases: but God hath called us to peace. \\n1Co 7:16  For what knowest thou, O wife, whether thou shalt save thy husband? or how knowest thou, O man, whether thou shalt save thy wife? \\n1Co 7:17  But as God hath distributed to every man, as the Lord hath called every one, so let him walk. And so ordain I in all churches. \\n\\n\\n\\n\\n2Co 6:14  Be ye not unequally yoked together with unbelievers: for what fellowship hath righteousness with unrighteousness? and what communion hath light with darkness? \\n2Co 6:15  And what concord hath Christ with Belial? or what part hath he that believeth with an infidel? \\n2Co 6:16  And what agreement hath the temple of God with idols? for ye are the temple of the living God; as God hath said, I will dwell in them, and walk in them; and I will be their God, and they shall be my people. \\n2Co 6:17  Wherefore come out from among them, and be ye separate, saith the Lord, and touch not the unclean thing; and I will receive you. \\n2Co 6:18  And will be a Father unto you, and ye shall be my sons and daughters, saith the Lord Almighty. \\n\\n\\nthats what the WORD says.\",\"It is legal to use a file sharing program to download files as long as you dont download copyrighted material.  If you use the program to download music/tv shows/movies then you are doing something illegal with that software.\\n\\nIf you use P2P programs you always risk downloading viruses with your downloads, and there are people that specifically make files that look like a media file but are actually virus installers.\",\"It is totally possible to be afraid of too much control.  With control comes responsibility, and often times people don't want to take responsibility.  If you have low self-esteem, you may think you're not good enough to do things right, and you'd rather have someone else do them.  You may simply be afraid of having to take the blame if you screw things up.  You might also be afraid of not being able to handle things...afraid that you might lose control.\\n\\nHope that makes sense.  Don't worry about it too much...control is really just an illusion anyway.  Just try to be aware of what's going on inside yourself, try to understand why, and when you're ready try to face your fears.  Take control, and see what happens.  You're far more capable than you think.\\n\\nGood luck!\",\"30 years old\",\"That depends on what rate you're paying on your student loan.   If you're loan payment is higher than the 5-5.5% you can get from the bank or CD, then you're losing money on the spread.  In other words, the loan is costing you money.   On the other hand, if you had your money invested in something that gave you an average annual return that exceeded the loan rate, then I would advocate keeping the loan because you're making money on the spread.\\n\\nThe other issue is whether your student loan is fixed or adjustable.   Student loan rates will be going up about 1.5% in the next few months.   If that affects you then it may be even more motivation to go ahead and pay it off.   Ultimately, you just have to decide if you can invest the money for more than the loan payment with a reasonable low risk (based on what you're saying your risk factors are) because if not, then paying on the loan while you make less from the bank doesn't make sense.\",\"No One Can Cheat Death ..... Its A Plague\\nA Tsunami ..... A Tornado .... That You Can evade not,\\nDamn Hell is Hot\",\"Final Fantasy 7 because it has an intricate storyline, likable characters, and an in depth plot.  The main conflict and romance are very emotionally moving and draw the player into the story.\",\"Organic Extra Virgin Coconut Oil- this is not only great for your skin it also helps an abundance of things from weight loss to just feeling better with more energy. Try it on your feet every morning and night rubbing it on w/gloves and youll see a big difference in no time. Look up www.nutiva.com for great info\",...,\"I don't know the laws in your area, but where I am from the store is responsible to clean up hazardous spills like this. It could cause a fire and also harms the environment.I would ask around and report the store to the proper agency. They might get fined if this is an ongoing problem.\",\"who says is foolish to fall in love??? maybe they are smart because they fell in love ...\",\"Ohio Revised Code.  Instead of putting it in here, try putting it in your browser and watch what comes up.\",\"I agree that I am a miracle myself to be alive..born at my mos 21st week of pregnancy at less than two pounds....under formed everything..kidney disease...almost bled to death while having both babies of mine....having had an abusive man that tried to choke me to death when I was trying to leave him...kidnapped and tortured for a half a year....abused severely as a small child by three different authority figures in my child life...four bad car wrecks one tragic for an 11 year old girl....hit by a jaguar on my bycycle at 12....slit my wrists at 13....raped and stabbed last year....yeah miracles are us...thats me...\",\"It sucked. I lost my house. I'm not kidding. Check the screen name.\",\"It's Tom Cruise, and my favourite is (by far) \"Magnolia\".\",\"realize that you look sexier when your ribs aren't showing and your ass isn't boney.\",\"G'day Ben J,\\n\\nThank you for your question.\\n\\nIt is team rules. They would be worried about his form which is well down on his form on both points and rebounds as compared with previous seasons. Before he was benched, he only played for 20 minutes on the previous night. He should spend more time worrying what they pay him for and less about that.\\n\\nRegards\",\"The only difference is the name.\\n\\nDOS only allows 8.3 filenames, so most extensions are kept to three letters for compatibility with old computers.\\n\\nBut the name of the \"default page\" has to be the exact name of the file.... doesn't matter whether you use .htm or .html, but be consistent.\",\"In all probability it would be a B flat Clarinet, the most widely used instrument. If you have access to a piano or keyboard you can check by blowing a note on it without putting any fingers over the holes. If this note corresponds to an F on the keyboard then you have yourself a B flat clarinet.\"]]\n",
              "input_ids: [[[101,1040,1041,1042,1045,1050,1045,1056,1041,1048,...,0,0,0,0,0,0,0,0,0,0],[101,5791,3645,26726,102,0,0,0,0,0,...,0,0,0,0,0,0,0,0,0,0],[101,2577,1059,1012,5747,2003,1996,2783,2343,1998,...,0,0,0,0,0,0,0,0,0,0],[101,2337,2322,3440,1012,1012,1012,2200,2214,102,...,0,0,0,0,0,0,0,0,0,0],[101,2053,1012,2142,8682,2037,3382,2011,5059,2007,...,0,0,0,0,0,0,0,0,0,0],[101,2009,7126,1010,2033,1998,2026,2814,17260,2094,...,0,0,0,0,0,0,0,0,0,0],[101,1045,2572,2469,2027,2024,5204,2021,1037,2843,...,0,0,0,0,0,0,0,0,0,0],[101,9041,2006,1996,3815,1997,2769,1010,1998,4298,...,0,0,0,0,0,0,0,0,0,0],[101,1999,2087,3572,2017,2052,2215,2000,2131,1996,...,0,0,0,0,0,0,0,0,0,0],[101,2298,2009,2039,6047,2666,102,0,0,0,...,0,0,0,0,0,0,0,0,0,0],...,[101,2272,2006,2000,20643,6998,1998,3198,1998,3437,...,0,0,0,0,0,0,0,0,0,0],[101,2166,2003,2054,2017,2079,2077,2017,3280,1010,...,0,0,0,0,0,0,0,0,0,0],[101,1045,2224,1037,15302,1999,2350,26592,1010,4921,...,0,0,0,0,0,0,0,0,0,0],[101,3127,7032,1032,17212,4430,5714,4967,2179,13222,...,0,0,0,0,0,0,0,0,0,0],[101,2065,2017,2215,2000,4558,3635,1006,2144,2023,...,0,0,0,0,0,0,0,0,0,0],[101,1996,2034,2028,2008,2097,2031,2033,1010,1045,...,0,0,0,0,0,0,0,0,0,0],[101,20643,999,2987,1005,1056,3073,2489,3769,3229,...,0,0,0,0,0,0,0,0,0,0],[101,2065,2017,2031,2014,4769,1010,10373,1010,1998,...,0,0,0,0,0,0,0,0,0,0],[101,3071,2040,4152,2006,20643,6998,11014,3086,2030,...,0,0,0,0,0,0,0,0,0,0],[101,2028,2003,7792,2000,2202,1996,3347,11360,2007,...,0,0,0,0,0,0,0,0,0,0]],[[101,16183,3286,1032,1050,1032,16371,2064,2175,2205,...,0,0,0,0,0,0,0,0,0,0],[101,2057,2031,1016,9804,1024,1032,1050,2487,1007,...,0,0,0,0,0,0,0,0,0,0],[101,1045,16755,2017,2342,2000,2131,2000,1037,3460,...,0,0,0,0,0,0,0,0,0,0],[101,1037,14114,2918,2003,1037,2918,3952,3605,1997,...,0,0,0,0,0,0,0,0,0,0],[101,2017,2089,2215,2000,23363,2019,3776,4041,5160,...,0,0,0,0,0,0,0,0,0,0],[101,2111,2081,2039,1996,2616,1998,2554,7288,2008,...,0,0,0,0,0,0,0,0,0,0],[101,1045,2031,2042,2635,4013,4143,2278,2005,1037,...,0,0,0,0,0,0,0,0,0,0],[101,1045,1005,1049,2469,2070,2111,2052,5791,3477,...,0,0,0,0,0,0,0,0,0,0],[101,1996,2779,5995,1997,2023,4153,2003,1017,1010,...,0,0,0,0,0,0,0,0,0,0],[101,20446,5562,3302,2181,1032,22484,3490,28732,3635,...,0,0,0,0,0,0,0,0,0,0],...,[101,2025,2008,1045,2572,5204,1997,1012,1012,1012,...,0,0,0,0,0,0,0,0,0,0],[101,1045,2453,2689,2009,2000,24408,1999,19451,1997,...,0,0,0,0,0,0,0,0,0,0],[101,6358,24665,13355,3240,3781,1012,102,0,0,...,0,0,0,0,0,0,0,0,0,0],[101,2053,1010,2009,2003,6206,2005,2019,7344,2000,...,0,0,0,0,0,0,0,0,0,0],[101,2008,2052,2022,4459,1042,1012,5899,1012,1032,...,0,0,0,0,0,0,0,0,0,0],[101,1045,2228,2017,2323,2175,2007,1048,2130,2015,...,0,0,0,0,0,0,0,0,0,0],[101,2065,2008,2015,1037,12436,2102,2443,3976,2059,...,0,0,0,0,0,0,0,0,0,0],[101,3304,1015,1516,1015,1006,29347,2102,1007,1032,...,0,0,0,0,0,0,0,0,0,0],[101,2017,2812,1017,1034,1016,1027,1019,1034,1016,...,0,0,0,0,0,0,0,0,0,0],[101,2017,2323,3582,2115,3460,1005,1055,1998,6887,...,0,0,0,0,0,0,0,0,0,0]],[[101,1015,2224,12731,24894,5677,2000,4658,2115,2159,...,0,0,0,0,0,0,0,0,0,0],[101,5993,2007,10974,8167,19892,1010,2021,1999,2023,...,0,0,0,0,0,0,0,0,0,0],[101,2005,2028,2008,2036,2950,2885,1010,1045,2123,...,0,0,0,0,0,0,0,0,0,0],[101,2053,1012,1999,2087,3572,2017,2064,2145,12533,...,0,0,0,0,0,0,0,0,0,0],[101,2115,2592,2038,2042,2979,2000,1996,22716,1012,...,0,0,0,0,0,0,0,0,0,0],[101,7823,3160,1012,1032,1050,1032,13221,19092,3128,...,0,0,0,0,0,0,0,0,0,0],[101,4593,2069,1015,1012,1012,1012,1012,1037,14163,...,0,0,0,0,0,0,0,0,0,0],[101,5672,2009,1032,1050,1032,1050,2595,12624,102,...,0,0,0,0,0,0,0,0,0,0],[101,1045,2018,1037,2714,3291,2076,2026,2034,3040,...,0,0,0,0,0,0,0,0,0,0],[101,20934,2239,4012,10814,11639,2080,2003,3407,5798,...,0,0,0,0,0,0,0,0,0,0],...,[101,1996,2157,2287,2003,3087,2008,2273,3367,6820,...,0,0,0,0,0,0,0,0,0,0],[101,1045,4797,2009,1010,2002,2987,1005,1056,2729,...,0,0,0,0,0,0,0,0,0,0],[101,17012,2213,1010,5525,2025,1012,102,0,0,...,0,0,0,0,0,0,0,0,0,0],[101,2111,2024,11471,1010,2027,2215,4024,1998,2024,...,0,0,0,0,0,0,0,0,0,0],[101,1996,2069,4533,2088,2452,4354,2011,2660,2001,...,0,0,0,0,0,0,0,0,0,0],[101,2009,2003,1037,2126,1997,2478,1060,1011,9938,...,0,0,0,0,0,0,0,0,0,0],[101,102,0,0,0,0,0,0,0,0,...,0,0,0,0,0,0,0,0,0,0],[101,2505,2007,1996,2110,2533,1006,2065,2017,1005,...,0,0,0,0,0,0,0,0,0,0],[101,8135,2655,3894,2243,1000,17861,1000,1032,1050,...,0,0,0,0,0,0,0,0,0,0],[101,1045,7714,2066,19361,2488,1010,2672,4647,18153,...,0,0,0,0,0,0,0,0,0,0]],[[101,1000,11777,3765,1000,2011,4586,6477,1012,1045,...,0,0,0,0,0,0,0,0,0,0],[101,2023,2028,2003,3733,5423,8197,2018,1996,3819,...,0,0,0,0,0,0,0,0,0,0],[101,1996,6331,2758,2008,2065,1037,24591,2022,2496,...,2008,2903,2705,2007,2019,1999,20740,2140,1029,102],[101,2009,2003,3423,2000,2224,1037,5371,6631,2565,...,0,0,0,0,0,0,0,0,0,0],[101,2009,2003,6135,2825,2000,2022,4452,1997,2205,...,0,0,0,0,0,0,0,0,0,0],[101,2382,2086,2214,102,0,0,0,0,0,...,0,0,0,0,0,0,0,0,0,0],[101,2008,9041,2006,2054,3446,2017,1005,2128,7079,...,0,0,0,0,0,0,0,0,0,0],[101,2053,2028,2064,21910,2331,1012,1012,1012,1012,...,0,0,0,0,0,0,0,0,0,0],[101,2345,5913,1021,2138,2009,2038,2019,17796,9994,...,0,0,0,0,0,0,0,0,0,0],[101,7554,4469,6261,16027,3514,1011,2023,2003,2025,...,0,0,0,0,0,0,0,0,0,0],...,[101,1045,2123,1005,1056,2113,1996,4277,1999,2115,...,0,0,0,0,0,0,0,0,0,0],[101,2040,2758,2003,13219,2000,2991,1999,2293,1029,...,0,0,0,0,0,0,0,0,0,0],[101,4058,8001,3642,1012,2612,1997,5128,2009,1999,...,0,0,0,0,0,0,0,0,0,0],[101,1045,5993,2008,1045,2572,1037,9727,2870,2000,...,0,0,0,0,0,0,0,0,0,0],[101,2009,8631,1012,1045,2439,2026,2160,1012,1045,...,0,0,0,0,0,0,0,0,0,0],[101,2009,1005,1055,3419,8592,1010,1998,2026,8837,...,0,0,0,0,0,0,0,0,0,0],[101,5382,2008,2017,2298,3348,3771,2043,2115,10335,...,0,0,0,0,0,0,0,0,0,0],[101,1043,1005,2154,3841,1046,1010,1032,1050,1032,...,0,0,0,0,0,0,0,0,0,0],[101,1996,2069,4489,2003,1996,2171,1012,1032,1050,...,0,0,0,0,0,0,0,0,0,0],[101,1999,2035,9723,2009,2052,2022,1037,1038,4257,...,0,0,0,0,0,0,0,0,0,0]]]\n",
              "token_type_ids: [[[0,0,0,0,0,0,0,0,0,0,...,0,0,0,0,0,0,0,0,0,0],[0,0,0,0,0,0,0,0,0,0,...,0,0,0,0,0,0,0,0,0,0],[0,0,0,0,0,0,0,0,0,0,...,0,0,0,0,0,0,0,0,0,0],[0,0,0,0,0,0,0,0,0,0,...,0,0,0,0,0,0,0,0,0,0],[0,0,0,0,0,0,0,0,0,0,...,0,0,0,0,0,0,0,0,0,0],[0,0,0,0,0,0,0,0,0,0,...,0,0,0,0,0,0,0,0,0,0],[0,0,0,0,0,0,0,0,0,0,...,0,0,0,0,0,0,0,0,0,0],[0,0,0,0,0,0,0,0,0,0,...,0,0,0,0,0,0,0,0,0,0],[0,0,0,0,0,0,0,0,0,0,...,0,0,0,0,0,0,0,0,0,0],[0,0,0,0,0,0,0,0,0,0,...,0,0,0,0,0,0,0,0,0,0],...,[0,0,0,0,0,0,0,0,0,0,...,0,0,0,0,0,0,0,0,0,0],[0,0,0,0,0,0,0,0,0,0,...,0,0,0,0,0,0,0,0,0,0],[0,0,0,0,0,0,0,0,0,0,...,0,0,0,0,0,0,0,0,0,0],[0,0,0,0,0,0,0,0,0,0,...,0,0,0,0,0,0,0,0,0,0],[0,0,0,0,0,0,0,0,0,0,...,0,0,0,0,0,0,0,0,0,0],[0,0,0,0,0,0,0,0,0,0,...,0,0,0,0,0,0,0,0,0,0],[0,0,0,0,0,0,0,0,0,0,...,0,0,0,0,0,0,0,0,0,0],[0,0,0,0,0,0,0,0,0,0,...,0,0,0,0,0,0,0,0,0,0],[0,0,0,0,0,0,0,0,0,0,...,0,0,0,0,0,0,0,0,0,0],[0,0,0,0,0,0,0,0,0,0,...,0,0,0,0,0,0,0,0,0,0]],[[0,0,0,0,0,0,0,0,0,0,...,0,0,0,0,0,0,0,0,0,0],[0,0,0,0,0,0,0,0,0,0,...,0,0,0,0,0,0,0,0,0,0],[0,0,0,0,0,0,0,0,0,0,...,0,0,0,0,0,0,0,0,0,0],[0,0,0,0,0,0,0,0,0,0,...,0,0,0,0,0,0,0,0,0,0],[0,0,0,0,0,0,0,0,0,0,...,0,0,0,0,0,0,0,0,0,0],[0,0,0,0,0,0,0,0,0,0,...,0,0,0,0,0,0,0,0,0,0],[0,0,0,0,0,0,0,0,0,0,...,0,0,0,0,0,0,0,0,0,0],[0,0,0,0,0,0,0,0,0,0,...,0,0,0,0,0,0,0,0,0,0],[0,0,0,0,0,0,0,0,0,0,...,0,0,0,0,0,0,0,0,0,0],[0,0,0,0,0,0,0,0,0,0,...,0,0,0,0,0,0,0,0,0,0],...,[0,0,0,0,0,0,0,0,0,0,...,0,0,0,0,0,0,0,0,0,0],[0,0,0,0,0,0,0,0,0,0,...,0,0,0,0,0,0,0,0,0,0],[0,0,0,0,0,0,0,0,0,0,...,0,0,0,0,0,0,0,0,0,0],[0,0,0,0,0,0,0,0,0,0,...,0,0,0,0,0,0,0,0,0,0],[0,0,0,0,0,0,0,0,0,0,...,0,0,0,0,0,0,0,0,0,0],[0,0,0,0,0,0,0,0,0,0,...,0,0,0,0,0,0,0,0,0,0],[0,0,0,0,0,0,0,0,0,0,...,0,0,0,0,0,0,0,0,0,0],[0,0,0,0,0,0,0,0,0,0,...,0,0,0,0,0,0,0,0,0,0],[0,0,0,0,0,0,0,0,0,0,...,0,0,0,0,0,0,0,0,0,0],[0,0,0,0,0,0,0,0,0,0,...,0,0,0,0,0,0,0,0,0,0]],[[0,0,0,0,0,0,0,0,0,0,...,0,0,0,0,0,0,0,0,0,0],[0,0,0,0,0,0,0,0,0,0,...,0,0,0,0,0,0,0,0,0,0],[0,0,0,0,0,0,0,0,0,0,...,0,0,0,0,0,0,0,0,0,0],[0,0,0,0,0,0,0,0,0,0,...,0,0,0,0,0,0,0,0,0,0],[0,0,0,0,0,0,0,0,0,0,...,0,0,0,0,0,0,0,0,0,0],[0,0,0,0,0,0,0,0,0,0,...,0,0,0,0,0,0,0,0,0,0],[0,0,0,0,0,0,0,0,0,0,...,0,0,0,0,0,0,0,0,0,0],[0,0,0,0,0,0,0,0,0,0,...,0,0,0,0,0,0,0,0,0,0],[0,0,0,0,0,0,0,0,0,0,...,0,0,0,0,0,0,0,0,0,0],[0,0,0,0,0,0,0,0,0,0,...,0,0,0,0,0,0,0,0,0,0],...,[0,0,0,0,0,0,0,0,0,0,...,0,0,0,0,0,0,0,0,0,0],[0,0,0,0,0,0,0,0,0,0,...,0,0,0,0,0,0,0,0,0,0],[0,0,0,0,0,0,0,0,0,0,...,0,0,0,0,0,0,0,0,0,0],[0,0,0,0,0,0,0,0,0,0,...,0,0,0,0,0,0,0,0,0,0],[0,0,0,0,0,0,0,0,0,0,...,0,0,0,0,0,0,0,0,0,0],[0,0,0,0,0,0,0,0,0,0,...,0,0,0,0,0,0,0,0,0,0],[0,0,0,0,0,0,0,0,0,0,...,0,0,0,0,0,0,0,0,0,0],[0,0,0,0,0,0,0,0,0,0,...,0,0,0,0,0,0,0,0,0,0],[0,0,0,0,0,0,0,0,0,0,...,0,0,0,0,0,0,0,0,0,0],[0,0,0,0,0,0,0,0,0,0,...,0,0,0,0,0,0,0,0,0,0]],[[0,0,0,0,0,0,0,0,0,0,...,0,0,0,0,0,0,0,0,0,0],[0,0,0,0,0,0,0,0,0,0,...,0,0,0,0,0,0,0,0,0,0],[0,0,0,0,0,0,0,0,0,0,...,0,0,0,0,0,0,0,0,0,0],[0,0,0,0,0,0,0,0,0,0,...,0,0,0,0,0,0,0,0,0,0],[0,0,0,0,0,0,0,0,0,0,...,0,0,0,0,0,0,0,0,0,0],[0,0,0,0,0,0,0,0,0,0,...,0,0,0,0,0,0,0,0,0,0],[0,0,0,0,0,0,0,0,0,0,...,0,0,0,0,0,0,0,0,0,0],[0,0,0,0,0,0,0,0,0,0,...,0,0,0,0,0,0,0,0,0,0],[0,0,0,0,0,0,0,0,0,0,...,0,0,0,0,0,0,0,0,0,0],[0,0,0,0,0,0,0,0,0,0,...,0,0,0,0,0,0,0,0,0,0],...,[0,0,0,0,0,0,0,0,0,0,...,0,0,0,0,0,0,0,0,0,0],[0,0,0,0,0,0,0,0,0,0,...,0,0,0,0,0,0,0,0,0,0],[0,0,0,0,0,0,0,0,0,0,...,0,0,0,0,0,0,0,0,0,0],[0,0,0,0,0,0,0,0,0,0,...,0,0,0,0,0,0,0,0,0,0],[0,0,0,0,0,0,0,0,0,0,...,0,0,0,0,0,0,0,0,0,0],[0,0,0,0,0,0,0,0,0,0,...,0,0,0,0,0,0,0,0,0,0],[0,0,0,0,0,0,0,0,0,0,...,0,0,0,0,0,0,0,0,0,0],[0,0,0,0,0,0,0,0,0,0,...,0,0,0,0,0,0,0,0,0,0],[0,0,0,0,0,0,0,0,0,0,...,0,0,0,0,0,0,0,0,0,0],[0,0,0,0,0,0,0,0,0,0,...,0,0,0,0,0,0,0,0,0,0]]]\n",
              "attention_mask: [[[1,1,1,1,1,1,1,1,1,1,...,0,0,0,0,0,0,0,0,0,0],[1,1,1,1,1,0,0,0,0,0,...,0,0,0,0,0,0,0,0,0,0],[1,1,1,1,1,1,1,1,1,1,...,0,0,0,0,0,0,0,0,0,0],[1,1,1,1,1,1,1,1,1,1,...,0,0,0,0,0,0,0,0,0,0],[1,1,1,1,1,1,1,1,1,1,...,0,0,0,0,0,0,0,0,0,0],[1,1,1,1,1,1,1,1,1,1,...,0,0,0,0,0,0,0,0,0,0],[1,1,1,1,1,1,1,1,1,1,...,0,0,0,0,0,0,0,0,0,0],[1,1,1,1,1,1,1,1,1,1,...,0,0,0,0,0,0,0,0,0,0],[1,1,1,1,1,1,1,1,1,1,...,0,0,0,0,0,0,0,0,0,0],[1,1,1,1,1,1,1,0,0,0,...,0,0,0,0,0,0,0,0,0,0],...,[1,1,1,1,1,1,1,1,1,1,...,0,0,0,0,0,0,0,0,0,0],[1,1,1,1,1,1,1,1,1,1,...,0,0,0,0,0,0,0,0,0,0],[1,1,1,1,1,1,1,1,1,1,...,0,0,0,0,0,0,0,0,0,0],[1,1,1,1,1,1,1,1,1,1,...,0,0,0,0,0,0,0,0,0,0],[1,1,1,1,1,1,1,1,1,1,...,0,0,0,0,0,0,0,0,0,0],[1,1,1,1,1,1,1,1,1,1,...,0,0,0,0,0,0,0,0,0,0],[1,1,1,1,1,1,1,1,1,1,...,0,0,0,0,0,0,0,0,0,0],[1,1,1,1,1,1,1,1,1,1,...,0,0,0,0,0,0,0,0,0,0],[1,1,1,1,1,1,1,1,1,1,...,0,0,0,0,0,0,0,0,0,0],[1,1,1,1,1,1,1,1,1,1,...,0,0,0,0,0,0,0,0,0,0]],[[1,1,1,1,1,1,1,1,1,1,...,0,0,0,0,0,0,0,0,0,0],[1,1,1,1,1,1,1,1,1,1,...,0,0,0,0,0,0,0,0,0,0],[1,1,1,1,1,1,1,1,1,1,...,0,0,0,0,0,0,0,0,0,0],[1,1,1,1,1,1,1,1,1,1,...,0,0,0,0,0,0,0,0,0,0],[1,1,1,1,1,1,1,1,1,1,...,0,0,0,0,0,0,0,0,0,0],[1,1,1,1,1,1,1,1,1,1,...,0,0,0,0,0,0,0,0,0,0],[1,1,1,1,1,1,1,1,1,1,...,0,0,0,0,0,0,0,0,0,0],[1,1,1,1,1,1,1,1,1,1,...,0,0,0,0,0,0,0,0,0,0],[1,1,1,1,1,1,1,1,1,1,...,0,0,0,0,0,0,0,0,0,0],[1,1,1,1,1,1,1,1,1,1,...,0,0,0,0,0,0,0,0,0,0],...,[1,1,1,1,1,1,1,1,1,1,...,0,0,0,0,0,0,0,0,0,0],[1,1,1,1,1,1,1,1,1,1,...,0,0,0,0,0,0,0,0,0,0],[1,1,1,1,1,1,1,1,0,0,...,0,0,0,0,0,0,0,0,0,0],[1,1,1,1,1,1,1,1,1,1,...,0,0,0,0,0,0,0,0,0,0],[1,1,1,1,1,1,1,1,1,1,...,0,0,0,0,0,0,0,0,0,0],[1,1,1,1,1,1,1,1,1,1,...,0,0,0,0,0,0,0,0,0,0],[1,1,1,1,1,1,1,1,1,1,...,0,0,0,0,0,0,0,0,0,0],[1,1,1,1,1,1,1,1,1,1,...,0,0,0,0,0,0,0,0,0,0],[1,1,1,1,1,1,1,1,1,1,...,0,0,0,0,0,0,0,0,0,0],[1,1,1,1,1,1,1,1,1,1,...,0,0,0,0,0,0,0,0,0,0]],[[1,1,1,1,1,1,1,1,1,1,...,0,0,0,0,0,0,0,0,0,0],[1,1,1,1,1,1,1,1,1,1,...,0,0,0,0,0,0,0,0,0,0],[1,1,1,1,1,1,1,1,1,1,...,0,0,0,0,0,0,0,0,0,0],[1,1,1,1,1,1,1,1,1,1,...,0,0,0,0,0,0,0,0,0,0],[1,1,1,1,1,1,1,1,1,1,...,0,0,0,0,0,0,0,0,0,0],[1,1,1,1,1,1,1,1,1,1,...,0,0,0,0,0,0,0,0,0,0],[1,1,1,1,1,1,1,1,1,1,...,0,0,0,0,0,0,0,0,0,0],[1,1,1,1,1,1,1,1,1,1,...,0,0,0,0,0,0,0,0,0,0],[1,1,1,1,1,1,1,1,1,1,...,0,0,0,0,0,0,0,0,0,0],[1,1,1,1,1,1,1,1,1,1,...,0,0,0,0,0,0,0,0,0,0],...,[1,1,1,1,1,1,1,1,1,1,...,0,0,0,0,0,0,0,0,0,0],[1,1,1,1,1,1,1,1,1,1,...,0,0,0,0,0,0,0,0,0,0],[1,1,1,1,1,1,1,1,0,0,...,0,0,0,0,0,0,0,0,0,0],[1,1,1,1,1,1,1,1,1,1,...,0,0,0,0,0,0,0,0,0,0],[1,1,1,1,1,1,1,1,1,1,...,0,0,0,0,0,0,0,0,0,0],[1,1,1,1,1,1,1,1,1,1,...,0,0,0,0,0,0,0,0,0,0],[1,1,0,0,0,0,0,0,0,0,...,0,0,0,0,0,0,0,0,0,0],[1,1,1,1,1,1,1,1,1,1,...,0,0,0,0,0,0,0,0,0,0],[1,1,1,1,1,1,1,1,1,1,...,0,0,0,0,0,0,0,0,0,0],[1,1,1,1,1,1,1,1,1,1,...,0,0,0,0,0,0,0,0,0,0]],[[1,1,1,1,1,1,1,1,1,1,...,0,0,0,0,0,0,0,0,0,0],[1,1,1,1,1,1,1,1,1,1,...,0,0,0,0,0,0,0,0,0,0],[1,1,1,1,1,1,1,1,1,1,...,1,1,1,1,1,1,1,1,1,1],[1,1,1,1,1,1,1,1,1,1,...,0,0,0,0,0,0,0,0,0,0],[1,1,1,1,1,1,1,1,1,1,...,0,0,0,0,0,0,0,0,0,0],[1,1,1,1,1,0,0,0,0,0,...,0,0,0,0,0,0,0,0,0,0],[1,1,1,1,1,1,1,1,1,1,...,0,0,0,0,0,0,0,0,0,0],[1,1,1,1,1,1,1,1,1,1,...,0,0,0,0,0,0,0,0,0,0],[1,1,1,1,1,1,1,1,1,1,...,0,0,0,0,0,0,0,0,0,0],[1,1,1,1,1,1,1,1,1,1,...,0,0,0,0,0,0,0,0,0,0],...,[1,1,1,1,1,1,1,1,1,1,...,0,0,0,0,0,0,0,0,0,0],[1,1,1,1,1,1,1,1,1,1,...,0,0,0,0,0,0,0,0,0,0],[1,1,1,1,1,1,1,1,1,1,...,0,0,0,0,0,0,0,0,0,0],[1,1,1,1,1,1,1,1,1,1,...,0,0,0,0,0,0,0,0,0,0],[1,1,1,1,1,1,1,1,1,1,...,0,0,0,0,0,0,0,0,0,0],[1,1,1,1,1,1,1,1,1,1,...,0,0,0,0,0,0,0,0,0,0],[1,1,1,1,1,1,1,1,1,1,...,0,0,0,0,0,0,0,0,0,0],[1,1,1,1,1,1,1,1,1,1,...,0,0,0,0,0,0,0,0,0,0],[1,1,1,1,1,1,1,1,1,1,...,0,0,0,0,0,0,0,0,0,0],[1,1,1,1,1,1,1,1,1,1,...,0,0,0,0,0,0,0,0,0,0]]]"
            ]
          },
          "metadata": {},
          "execution_count": 23
        }
      ]
    },
    {
      "cell_type": "code",
      "source": [
        "tokenized_test_dataset.set_format(type='torch')\n",
        "tokenized_train_dataset.set_format(type='torch')"
      ],
      "metadata": {
        "id": "yn5jSonvR9Ml"
      },
      "execution_count": 24,
      "outputs": []
    },
    {
      "cell_type": "code",
      "source": [
        "col_names = ['id', 'question_title', 'question_content', 'best_answer']\n",
        "\n",
        "tokenized_test_dataset = tokenized_test_dataset.remove_columns(col_names)\n",
        "tokenized_train_dataset = tokenized_train_dataset.remove_columns(col_names)"
      ],
      "metadata": {
        "id": "DZ_pQns7JtB_"
      },
      "execution_count": 25,
      "outputs": []
    },
    {
      "cell_type": "code",
      "source": [
        "tokenized_test_dataset = tokenized_test_dataset.rename_column('topic', 'labels')"
      ],
      "metadata": {
        "id": "03sPx8rrX_GO"
      },
      "execution_count": 26,
      "outputs": []
    },
    {
      "cell_type": "code",
      "source": [
        "tokenized_train_dataset = tokenized_train_dataset.rename_column('topic', 'labels')"
      ],
      "metadata": {
        "id": "U_h8n5yxaZXJ"
      },
      "execution_count": 27,
      "outputs": []
    },
    {
      "cell_type": "code",
      "source": [
        "'''\n",
        "    hyperparameters:\n",
        "        - learning_rate\n",
        "        - train_epoch\n",
        "        - batch_size\n",
        "'''\n",
        "\n",
        "LEARNING_RATE = 5e-5\n",
        "TRAIN_EPOCH = 5\n",
        "BATCH_SIZE = 16"
      ],
      "metadata": {
        "id": "dPK_2sQTMSQX"
      },
      "execution_count": 28,
      "outputs": []
    },
    {
      "cell_type": "code",
      "source": [
        "batched_train = DataLoader(tokenized_train_dataset, batch_size = BATCH_SIZE)\n",
        "batched_test = DataLoader(tokenized_test_dataset, batch_size = BATCH_SIZE)"
      ],
      "metadata": {
        "id": "e3-F7LBjRgZF"
      },
      "execution_count": 29,
      "outputs": []
    },
    {
      "cell_type": "code",
      "source": [
        "classification_model = ElectraForSequenceClassification.from_pretrained(MODEL_NAME, num_labels=10)"
      ],
      "metadata": {
        "colab": {
          "base_uri": "https://localhost:8080/"
        },
        "id": "MEHUj5UDErFD",
        "outputId": "9a915cb8-7827-41e2-c900-f8ba54ce6266"
      },
      "execution_count": 30,
      "outputs": [
        {
          "output_type": "stream",
          "name": "stderr",
          "text": [
            "Some weights of the model checkpoint at google/electra-small-generator were not used when initializing ElectraForSequenceClassification: ['generator_lm_head.weight', 'generator_lm_head.bias', 'generator_predictions.dense.weight', 'generator_predictions.dense.bias', 'generator_predictions.LayerNorm.weight', 'generator_predictions.LayerNorm.bias']\n",
            "- This IS expected if you are initializing ElectraForSequenceClassification from the checkpoint of a model trained on another task or with another architecture (e.g. initializing a BertForSequenceClassification model from a BertForPreTraining model).\n",
            "- This IS NOT expected if you are initializing ElectraForSequenceClassification from the checkpoint of a model that you expect to be exactly identical (initializing a BertForSequenceClassification model from a BertForSequenceClassification model).\n",
            "Some weights of ElectraForSequenceClassification were not initialized from the model checkpoint at google/electra-small-generator and are newly initialized: ['classifier.out_proj.weight', 'classifier.dense.bias', 'classifier.dense.weight', 'classifier.out_proj.bias']\n",
            "You should probably TRAIN this model on a down-stream task to be able to use it for predictions and inference.\n"
          ]
        }
      ]
    },
    {
      "cell_type": "code",
      "source": [
        "# define optimizer, sсheduler \n",
        "optimizer = torch.optim.AdamW(classification_model.parameters(), lr=LEARNING_RATE)\n",
        "\n",
        "# scheduler\n",
        "num_training_steps = TRAIN_EPOCH * len(batched_train)\n",
        "lr_scheduler = get_scheduler(\n",
        "    name=\"linear\", optimizer=optimizer, num_warmup_steps=0, num_training_steps=num_training_steps\n",
        ")"
      ],
      "metadata": {
        "id": "hHk1e-sNxhi-"
      },
      "execution_count": 31,
      "outputs": []
    },
    {
      "cell_type": "code",
      "source": [
        "# fine-tune the model (write the training loop), plot the loss changes and measure results in terms of weighted F1 score"
      ],
      "metadata": {
        "id": "N13zwT81IYDK"
      },
      "execution_count": 32,
      "outputs": []
    },
    {
      "cell_type": "code",
      "source": [
        "device = torch.device(\"cuda\") if torch.cuda.is_available() else torch.device(\"cpu\")\n",
        "classification_model.to(device)"
      ],
      "metadata": {
        "colab": {
          "base_uri": "https://localhost:8080/"
        },
        "id": "PggRwHGVVzWz",
        "outputId": "4f4a6732-36e1-4739-f9cf-8de56882b682"
      },
      "execution_count": 33,
      "outputs": [
        {
          "output_type": "execute_result",
          "data": {
            "text/plain": [
              "ElectraForSequenceClassification(\n",
              "  (electra): ElectraModel(\n",
              "    (embeddings): ElectraEmbeddings(\n",
              "      (word_embeddings): Embedding(30522, 128, padding_idx=0)\n",
              "      (position_embeddings): Embedding(512, 128)\n",
              "      (token_type_embeddings): Embedding(2, 128)\n",
              "      (LayerNorm): LayerNorm((128,), eps=1e-12, elementwise_affine=True)\n",
              "      (dropout): Dropout(p=0.1, inplace=False)\n",
              "    )\n",
              "    (embeddings_project): Linear(in_features=128, out_features=256, bias=True)\n",
              "    (encoder): ElectraEncoder(\n",
              "      (layer): ModuleList(\n",
              "        (0): ElectraLayer(\n",
              "          (attention): ElectraAttention(\n",
              "            (self): ElectraSelfAttention(\n",
              "              (query): Linear(in_features=256, out_features=256, bias=True)\n",
              "              (key): Linear(in_features=256, out_features=256, bias=True)\n",
              "              (value): Linear(in_features=256, out_features=256, bias=True)\n",
              "              (dropout): Dropout(p=0.1, inplace=False)\n",
              "            )\n",
              "            (output): ElectraSelfOutput(\n",
              "              (dense): Linear(in_features=256, out_features=256, bias=True)\n",
              "              (LayerNorm): LayerNorm((256,), eps=1e-12, elementwise_affine=True)\n",
              "              (dropout): Dropout(p=0.1, inplace=False)\n",
              "            )\n",
              "          )\n",
              "          (intermediate): ElectraIntermediate(\n",
              "            (dense): Linear(in_features=256, out_features=1024, bias=True)\n",
              "            (intermediate_act_fn): GELUActivation()\n",
              "          )\n",
              "          (output): ElectraOutput(\n",
              "            (dense): Linear(in_features=1024, out_features=256, bias=True)\n",
              "            (LayerNorm): LayerNorm((256,), eps=1e-12, elementwise_affine=True)\n",
              "            (dropout): Dropout(p=0.1, inplace=False)\n",
              "          )\n",
              "        )\n",
              "        (1): ElectraLayer(\n",
              "          (attention): ElectraAttention(\n",
              "            (self): ElectraSelfAttention(\n",
              "              (query): Linear(in_features=256, out_features=256, bias=True)\n",
              "              (key): Linear(in_features=256, out_features=256, bias=True)\n",
              "              (value): Linear(in_features=256, out_features=256, bias=True)\n",
              "              (dropout): Dropout(p=0.1, inplace=False)\n",
              "            )\n",
              "            (output): ElectraSelfOutput(\n",
              "              (dense): Linear(in_features=256, out_features=256, bias=True)\n",
              "              (LayerNorm): LayerNorm((256,), eps=1e-12, elementwise_affine=True)\n",
              "              (dropout): Dropout(p=0.1, inplace=False)\n",
              "            )\n",
              "          )\n",
              "          (intermediate): ElectraIntermediate(\n",
              "            (dense): Linear(in_features=256, out_features=1024, bias=True)\n",
              "            (intermediate_act_fn): GELUActivation()\n",
              "          )\n",
              "          (output): ElectraOutput(\n",
              "            (dense): Linear(in_features=1024, out_features=256, bias=True)\n",
              "            (LayerNorm): LayerNorm((256,), eps=1e-12, elementwise_affine=True)\n",
              "            (dropout): Dropout(p=0.1, inplace=False)\n",
              "          )\n",
              "        )\n",
              "        (2): ElectraLayer(\n",
              "          (attention): ElectraAttention(\n",
              "            (self): ElectraSelfAttention(\n",
              "              (query): Linear(in_features=256, out_features=256, bias=True)\n",
              "              (key): Linear(in_features=256, out_features=256, bias=True)\n",
              "              (value): Linear(in_features=256, out_features=256, bias=True)\n",
              "              (dropout): Dropout(p=0.1, inplace=False)\n",
              "            )\n",
              "            (output): ElectraSelfOutput(\n",
              "              (dense): Linear(in_features=256, out_features=256, bias=True)\n",
              "              (LayerNorm): LayerNorm((256,), eps=1e-12, elementwise_affine=True)\n",
              "              (dropout): Dropout(p=0.1, inplace=False)\n",
              "            )\n",
              "          )\n",
              "          (intermediate): ElectraIntermediate(\n",
              "            (dense): Linear(in_features=256, out_features=1024, bias=True)\n",
              "            (intermediate_act_fn): GELUActivation()\n",
              "          )\n",
              "          (output): ElectraOutput(\n",
              "            (dense): Linear(in_features=1024, out_features=256, bias=True)\n",
              "            (LayerNorm): LayerNorm((256,), eps=1e-12, elementwise_affine=True)\n",
              "            (dropout): Dropout(p=0.1, inplace=False)\n",
              "          )\n",
              "        )\n",
              "        (3): ElectraLayer(\n",
              "          (attention): ElectraAttention(\n",
              "            (self): ElectraSelfAttention(\n",
              "              (query): Linear(in_features=256, out_features=256, bias=True)\n",
              "              (key): Linear(in_features=256, out_features=256, bias=True)\n",
              "              (value): Linear(in_features=256, out_features=256, bias=True)\n",
              "              (dropout): Dropout(p=0.1, inplace=False)\n",
              "            )\n",
              "            (output): ElectraSelfOutput(\n",
              "              (dense): Linear(in_features=256, out_features=256, bias=True)\n",
              "              (LayerNorm): LayerNorm((256,), eps=1e-12, elementwise_affine=True)\n",
              "              (dropout): Dropout(p=0.1, inplace=False)\n",
              "            )\n",
              "          )\n",
              "          (intermediate): ElectraIntermediate(\n",
              "            (dense): Linear(in_features=256, out_features=1024, bias=True)\n",
              "            (intermediate_act_fn): GELUActivation()\n",
              "          )\n",
              "          (output): ElectraOutput(\n",
              "            (dense): Linear(in_features=1024, out_features=256, bias=True)\n",
              "            (LayerNorm): LayerNorm((256,), eps=1e-12, elementwise_affine=True)\n",
              "            (dropout): Dropout(p=0.1, inplace=False)\n",
              "          )\n",
              "        )\n",
              "        (4): ElectraLayer(\n",
              "          (attention): ElectraAttention(\n",
              "            (self): ElectraSelfAttention(\n",
              "              (query): Linear(in_features=256, out_features=256, bias=True)\n",
              "              (key): Linear(in_features=256, out_features=256, bias=True)\n",
              "              (value): Linear(in_features=256, out_features=256, bias=True)\n",
              "              (dropout): Dropout(p=0.1, inplace=False)\n",
              "            )\n",
              "            (output): ElectraSelfOutput(\n",
              "              (dense): Linear(in_features=256, out_features=256, bias=True)\n",
              "              (LayerNorm): LayerNorm((256,), eps=1e-12, elementwise_affine=True)\n",
              "              (dropout): Dropout(p=0.1, inplace=False)\n",
              "            )\n",
              "          )\n",
              "          (intermediate): ElectraIntermediate(\n",
              "            (dense): Linear(in_features=256, out_features=1024, bias=True)\n",
              "            (intermediate_act_fn): GELUActivation()\n",
              "          )\n",
              "          (output): ElectraOutput(\n",
              "            (dense): Linear(in_features=1024, out_features=256, bias=True)\n",
              "            (LayerNorm): LayerNorm((256,), eps=1e-12, elementwise_affine=True)\n",
              "            (dropout): Dropout(p=0.1, inplace=False)\n",
              "          )\n",
              "        )\n",
              "        (5): ElectraLayer(\n",
              "          (attention): ElectraAttention(\n",
              "            (self): ElectraSelfAttention(\n",
              "              (query): Linear(in_features=256, out_features=256, bias=True)\n",
              "              (key): Linear(in_features=256, out_features=256, bias=True)\n",
              "              (value): Linear(in_features=256, out_features=256, bias=True)\n",
              "              (dropout): Dropout(p=0.1, inplace=False)\n",
              "            )\n",
              "            (output): ElectraSelfOutput(\n",
              "              (dense): Linear(in_features=256, out_features=256, bias=True)\n",
              "              (LayerNorm): LayerNorm((256,), eps=1e-12, elementwise_affine=True)\n",
              "              (dropout): Dropout(p=0.1, inplace=False)\n",
              "            )\n",
              "          )\n",
              "          (intermediate): ElectraIntermediate(\n",
              "            (dense): Linear(in_features=256, out_features=1024, bias=True)\n",
              "            (intermediate_act_fn): GELUActivation()\n",
              "          )\n",
              "          (output): ElectraOutput(\n",
              "            (dense): Linear(in_features=1024, out_features=256, bias=True)\n",
              "            (LayerNorm): LayerNorm((256,), eps=1e-12, elementwise_affine=True)\n",
              "            (dropout): Dropout(p=0.1, inplace=False)\n",
              "          )\n",
              "        )\n",
              "        (6): ElectraLayer(\n",
              "          (attention): ElectraAttention(\n",
              "            (self): ElectraSelfAttention(\n",
              "              (query): Linear(in_features=256, out_features=256, bias=True)\n",
              "              (key): Linear(in_features=256, out_features=256, bias=True)\n",
              "              (value): Linear(in_features=256, out_features=256, bias=True)\n",
              "              (dropout): Dropout(p=0.1, inplace=False)\n",
              "            )\n",
              "            (output): ElectraSelfOutput(\n",
              "              (dense): Linear(in_features=256, out_features=256, bias=True)\n",
              "              (LayerNorm): LayerNorm((256,), eps=1e-12, elementwise_affine=True)\n",
              "              (dropout): Dropout(p=0.1, inplace=False)\n",
              "            )\n",
              "          )\n",
              "          (intermediate): ElectraIntermediate(\n",
              "            (dense): Linear(in_features=256, out_features=1024, bias=True)\n",
              "            (intermediate_act_fn): GELUActivation()\n",
              "          )\n",
              "          (output): ElectraOutput(\n",
              "            (dense): Linear(in_features=1024, out_features=256, bias=True)\n",
              "            (LayerNorm): LayerNorm((256,), eps=1e-12, elementwise_affine=True)\n",
              "            (dropout): Dropout(p=0.1, inplace=False)\n",
              "          )\n",
              "        )\n",
              "        (7): ElectraLayer(\n",
              "          (attention): ElectraAttention(\n",
              "            (self): ElectraSelfAttention(\n",
              "              (query): Linear(in_features=256, out_features=256, bias=True)\n",
              "              (key): Linear(in_features=256, out_features=256, bias=True)\n",
              "              (value): Linear(in_features=256, out_features=256, bias=True)\n",
              "              (dropout): Dropout(p=0.1, inplace=False)\n",
              "            )\n",
              "            (output): ElectraSelfOutput(\n",
              "              (dense): Linear(in_features=256, out_features=256, bias=True)\n",
              "              (LayerNorm): LayerNorm((256,), eps=1e-12, elementwise_affine=True)\n",
              "              (dropout): Dropout(p=0.1, inplace=False)\n",
              "            )\n",
              "          )\n",
              "          (intermediate): ElectraIntermediate(\n",
              "            (dense): Linear(in_features=256, out_features=1024, bias=True)\n",
              "            (intermediate_act_fn): GELUActivation()\n",
              "          )\n",
              "          (output): ElectraOutput(\n",
              "            (dense): Linear(in_features=1024, out_features=256, bias=True)\n",
              "            (LayerNorm): LayerNorm((256,), eps=1e-12, elementwise_affine=True)\n",
              "            (dropout): Dropout(p=0.1, inplace=False)\n",
              "          )\n",
              "        )\n",
              "        (8): ElectraLayer(\n",
              "          (attention): ElectraAttention(\n",
              "            (self): ElectraSelfAttention(\n",
              "              (query): Linear(in_features=256, out_features=256, bias=True)\n",
              "              (key): Linear(in_features=256, out_features=256, bias=True)\n",
              "              (value): Linear(in_features=256, out_features=256, bias=True)\n",
              "              (dropout): Dropout(p=0.1, inplace=False)\n",
              "            )\n",
              "            (output): ElectraSelfOutput(\n",
              "              (dense): Linear(in_features=256, out_features=256, bias=True)\n",
              "              (LayerNorm): LayerNorm((256,), eps=1e-12, elementwise_affine=True)\n",
              "              (dropout): Dropout(p=0.1, inplace=False)\n",
              "            )\n",
              "          )\n",
              "          (intermediate): ElectraIntermediate(\n",
              "            (dense): Linear(in_features=256, out_features=1024, bias=True)\n",
              "            (intermediate_act_fn): GELUActivation()\n",
              "          )\n",
              "          (output): ElectraOutput(\n",
              "            (dense): Linear(in_features=1024, out_features=256, bias=True)\n",
              "            (LayerNorm): LayerNorm((256,), eps=1e-12, elementwise_affine=True)\n",
              "            (dropout): Dropout(p=0.1, inplace=False)\n",
              "          )\n",
              "        )\n",
              "        (9): ElectraLayer(\n",
              "          (attention): ElectraAttention(\n",
              "            (self): ElectraSelfAttention(\n",
              "              (query): Linear(in_features=256, out_features=256, bias=True)\n",
              "              (key): Linear(in_features=256, out_features=256, bias=True)\n",
              "              (value): Linear(in_features=256, out_features=256, bias=True)\n",
              "              (dropout): Dropout(p=0.1, inplace=False)\n",
              "            )\n",
              "            (output): ElectraSelfOutput(\n",
              "              (dense): Linear(in_features=256, out_features=256, bias=True)\n",
              "              (LayerNorm): LayerNorm((256,), eps=1e-12, elementwise_affine=True)\n",
              "              (dropout): Dropout(p=0.1, inplace=False)\n",
              "            )\n",
              "          )\n",
              "          (intermediate): ElectraIntermediate(\n",
              "            (dense): Linear(in_features=256, out_features=1024, bias=True)\n",
              "            (intermediate_act_fn): GELUActivation()\n",
              "          )\n",
              "          (output): ElectraOutput(\n",
              "            (dense): Linear(in_features=1024, out_features=256, bias=True)\n",
              "            (LayerNorm): LayerNorm((256,), eps=1e-12, elementwise_affine=True)\n",
              "            (dropout): Dropout(p=0.1, inplace=False)\n",
              "          )\n",
              "        )\n",
              "        (10): ElectraLayer(\n",
              "          (attention): ElectraAttention(\n",
              "            (self): ElectraSelfAttention(\n",
              "              (query): Linear(in_features=256, out_features=256, bias=True)\n",
              "              (key): Linear(in_features=256, out_features=256, bias=True)\n",
              "              (value): Linear(in_features=256, out_features=256, bias=True)\n",
              "              (dropout): Dropout(p=0.1, inplace=False)\n",
              "            )\n",
              "            (output): ElectraSelfOutput(\n",
              "              (dense): Linear(in_features=256, out_features=256, bias=True)\n",
              "              (LayerNorm): LayerNorm((256,), eps=1e-12, elementwise_affine=True)\n",
              "              (dropout): Dropout(p=0.1, inplace=False)\n",
              "            )\n",
              "          )\n",
              "          (intermediate): ElectraIntermediate(\n",
              "            (dense): Linear(in_features=256, out_features=1024, bias=True)\n",
              "            (intermediate_act_fn): GELUActivation()\n",
              "          )\n",
              "          (output): ElectraOutput(\n",
              "            (dense): Linear(in_features=1024, out_features=256, bias=True)\n",
              "            (LayerNorm): LayerNorm((256,), eps=1e-12, elementwise_affine=True)\n",
              "            (dropout): Dropout(p=0.1, inplace=False)\n",
              "          )\n",
              "        )\n",
              "        (11): ElectraLayer(\n",
              "          (attention): ElectraAttention(\n",
              "            (self): ElectraSelfAttention(\n",
              "              (query): Linear(in_features=256, out_features=256, bias=True)\n",
              "              (key): Linear(in_features=256, out_features=256, bias=True)\n",
              "              (value): Linear(in_features=256, out_features=256, bias=True)\n",
              "              (dropout): Dropout(p=0.1, inplace=False)\n",
              "            )\n",
              "            (output): ElectraSelfOutput(\n",
              "              (dense): Linear(in_features=256, out_features=256, bias=True)\n",
              "              (LayerNorm): LayerNorm((256,), eps=1e-12, elementwise_affine=True)\n",
              "              (dropout): Dropout(p=0.1, inplace=False)\n",
              "            )\n",
              "          )\n",
              "          (intermediate): ElectraIntermediate(\n",
              "            (dense): Linear(in_features=256, out_features=1024, bias=True)\n",
              "            (intermediate_act_fn): GELUActivation()\n",
              "          )\n",
              "          (output): ElectraOutput(\n",
              "            (dense): Linear(in_features=1024, out_features=256, bias=True)\n",
              "            (LayerNorm): LayerNorm((256,), eps=1e-12, elementwise_affine=True)\n",
              "            (dropout): Dropout(p=0.1, inplace=False)\n",
              "          )\n",
              "        )\n",
              "      )\n",
              "    )\n",
              "  )\n",
              "  (classifier): ElectraClassificationHead(\n",
              "    (dense): Linear(in_features=256, out_features=256, bias=True)\n",
              "    (dropout): Dropout(p=0.1, inplace=False)\n",
              "    (out_proj): Linear(in_features=256, out_features=10, bias=True)\n",
              "  )\n",
              ")"
            ]
          },
          "metadata": {},
          "execution_count": 33
        }
      ]
    },
    {
      "cell_type": "code",
      "source": [
        "classification_model.train()\n",
        "\n",
        "epoch_losses = []\n",
        "\n",
        "for epoch in range(TRAIN_EPOCH):\n",
        "    losses = []\n",
        "\n",
        "    for batch in tqdm(batched_train):\n",
        "        batch = {k: v.to(device) for k, v in batch.items()}\n",
        "        outputs = classification_model(**batch)\n",
        "        loss = outputs.loss\n",
        "        losses.append(loss)\n",
        "        loss.backward()\n",
        "\n",
        "        optimizer.step()\n",
        "        lr_scheduler.step()\n",
        "        optimizer.zero_grad()\n",
        "\n",
        "    epoch_losses.append(torch.mean(torch.tensor(losses)))\n",
        "    print(f\"Epoch {epoch}\\n Current loss {torch.mean(torch.tensor(losses))}\\n\")"
      ],
      "metadata": {
        "colab": {
          "base_uri": "https://localhost:8080/"
        },
        "id": "E7HTajyS4YLq",
        "outputId": "f164a090-ecc7-4678-d124-b24de708808d"
      },
      "execution_count": 34,
      "outputs": [
        {
          "metadata": {
            "tags": null
          },
          "name": "stderr",
          "output_type": "stream",
          "text": [
            "100%|██████████| 313/313 [03:29<00:00,  1.50it/s]\n"
          ]
        },
        {
          "metadata": {
            "tags": null
          },
          "name": "stdout",
          "output_type": "stream",
          "text": [
            "Epoch 0\n",
            " Current loss 1.8755598068237305\n",
            "\n"
          ]
        },
        {
          "metadata": {
            "tags": null
          },
          "name": "stderr",
          "output_type": "stream",
          "text": [
            "100%|██████████| 313/313 [03:29<00:00,  1.49it/s]\n"
          ]
        },
        {
          "metadata": {
            "tags": null
          },
          "name": "stdout",
          "output_type": "stream",
          "text": [
            "Epoch 1\n",
            " Current loss 1.332714319229126\n",
            "\n"
          ]
        },
        {
          "output_type": "stream",
          "name": "stderr",
          "text": [
            "100%|██████████| 313/313 [03:29<00:00,  1.49it/s]\n"
          ]
        },
        {
          "output_type": "stream",
          "name": "stdout",
          "text": [
            "Epoch 2\n",
            " Current loss 1.1414389610290527\n",
            "\n"
          ]
        },
        {
          "output_type": "stream",
          "name": "stderr",
          "text": [
            "100%|██████████| 313/313 [03:29<00:00,  1.49it/s]\n"
          ]
        },
        {
          "output_type": "stream",
          "name": "stdout",
          "text": [
            "Epoch 3\n",
            " Current loss 1.0065592527389526\n",
            "\n"
          ]
        },
        {
          "output_type": "stream",
          "name": "stderr",
          "text": [
            "100%|██████████| 313/313 [03:29<00:00,  1.49it/s]"
          ]
        },
        {
          "output_type": "stream",
          "name": "stdout",
          "text": [
            "Epoch 4\n",
            " Current loss 0.9121224284172058\n",
            "\n"
          ]
        },
        {
          "output_type": "stream",
          "name": "stderr",
          "text": [
            "\n"
          ]
        }
      ]
    },
    {
      "cell_type": "code",
      "source": [
        "sns.set()\n",
        "\n",
        "plt.plot(epoch_losses)\n",
        "plt.title('Losses by epoch')\n",
        "plt.xlabel('Epoch')\n",
        "plt.ylabel('Loss')"
      ],
      "metadata": {
        "colab": {
          "base_uri": "https://localhost:8080/",
          "height": 318
        },
        "id": "rKaBUrN9XFQk",
        "outputId": "56af1182-3ce6-47dd-a1a2-061a14042930"
      },
      "execution_count": 35,
      "outputs": [
        {
          "output_type": "execute_result",
          "data": {
            "text/plain": [
              "Text(0, 0.5, 'Loss')"
            ]
          },
          "metadata": {},
          "execution_count": 35
        },
        {
          "output_type": "display_data",
          "data": {
            "text/plain": [
              "<Figure size 432x288 with 1 Axes>"
            ],
            "image/png": "[encoded data removed]"
          },
          "metadata": {}
        }
      ]
    },
    {
      "cell_type": "code",
      "source": [
        "list_metrics()"
      ],
      "metadata": {
        "colab": {
          "base_uri": "https://localhost:8080/"
        },
        "id": "S4xRiFD_t80p",
        "outputId": "c7d1a83d-1af8-4f30-99ec-3154ed9df926"
      },
      "execution_count": 36,
      "outputs": [
        {
          "output_type": "execute_result",
          "data": {
            "text/plain": [
              "['accuracy',\n",
              " 'bertscore',\n",
              " 'bleu',\n",
              " 'bleurt',\n",
              " 'cer',\n",
              " 'chrf',\n",
              " 'code_eval',\n",
              " 'comet',\n",
              " 'competition_math',\n",
              " 'coval',\n",
              " 'cuad',\n",
              " 'exact_match',\n",
              " 'f1',\n",
              " 'frugalscore',\n",
              " 'gleu',\n",
              " 'glue',\n",
              " 'google_bleu',\n",
              " 'indic_glue',\n",
              " 'mae',\n",
              " 'mahalanobis',\n",
              " 'matthews_correlation',\n",
              " 'mauve',\n",
              " 'mean_iou',\n",
              " 'meteor',\n",
              " 'mse',\n",
              " 'pearsonr',\n",
              " 'perplexity',\n",
              " 'precision',\n",
              " 'recall',\n",
              " 'rouge',\n",
              " 'sacrebleu',\n",
              " 'sari',\n",
              " 'seqeval',\n",
              " 'spearmanr',\n",
              " 'squad',\n",
              " 'squad_v2',\n",
              " 'super_glue',\n",
              " 'ter',\n",
              " 'wer',\n",
              " 'wiki_split',\n",
              " 'xnli',\n",
              " 'xtreme_s']"
            ]
          },
          "metadata": {},
          "execution_count": 36
        }
      ]
    },
    {
      "cell_type": "code",
      "source": [
        "metric = load_metric('f1')\n",
        "classification_model.eval()\n",
        "\n",
        "for batch in tqdm(batched_train):\n",
        "    batch = {k: v.to(device) for k, v in batch.items()}\n",
        "    with torch.no_grad():\n",
        "        outputs = classification_model(**batch)\n",
        "\n",
        "    logits = outputs.logits\n",
        "    predictions = torch.argmax(logits, dim=-1)\n",
        "    metric.add_batch(predictions=predictions, references=batch[\"labels\"])\n",
        "\n",
        "f1_metric = metric.compute(average='weighted')\n",
        "print(f'f1: {f1_metric}')"
      ],
      "metadata": {
        "colab": {
          "base_uri": "https://localhost:8080/"
        },
        "id": "CzzmT4bysf5_",
        "outputId": "0e9a4d21-30d9-4370-990c-0cbc212681d4"
      },
      "execution_count": 38,
      "outputs": [
        {
          "output_type": "stream",
          "name": "stderr",
          "text": [
            "100%|██████████| 313/313 [01:16<00:00,  4.08it/s]"
          ]
        },
        {
          "output_type": "stream",
          "name": "stdout",
          "text": [
            "f1: {'f1': 0.7653889727807}\n"
          ]
        },
        {
          "output_type": "stream",
          "name": "stderr",
          "text": [
            "\n",
            "100%|██████████| 313/313 [01:16<00:00,  4.09it/s]"
          ]
        },
        {
          "output_type": "stream",
          "name": "stdout",
          "text": [
            "f1: {'f1': 0.7653889727807}\n"
          ]
        },
        {
          "output_type": "stream",
          "name": "stderr",
          "text": [
            "\n"
          ]
        }
      ]
    },
    {
      "cell_type": "code",
      "source": [
        "# get the masked word prediction (sample sentences above) on the fine-tuned model"
      ],
      "metadata": {
        "id": "Y6LAi4zA5yuc"
      },
      "execution_count": null,
      "outputs": []
    },
    {
      "cell_type": "code",
      "source": [
        "drive.mount('/content/drive')"
      ],
      "metadata": {
        "id": "aEPJ-GiQ7YD-",
        "outputId": "f940429b-e7a7-40c0-94c9-6a3df5a68757",
        "colab": {
          "base_uri": "https://localhost:8080/"
        }
      },
      "execution_count": 47,
      "outputs": [
        {
          "output_type": "stream",
          "name": "stdout",
          "text": [
            "Drive already mounted at /content/drive; to attempt to forcibly remount, call drive.mount(\"/content/drive\", force_remount=True).\n"
          ]
        }
      ]
    },
    {
      "cell_type": "code",
      "source": [
        "PATH = '/content/drive/MyDrive/ITMO/NLP'\n",
        "classification_model.save_pretrained(PATH)"
      ],
      "metadata": {
        "id": "hhnXvux0vK9x"
      },
      "execution_count": 48,
      "outputs": []
    },
    {
      "cell_type": "code",
      "source": [
        "mask_model = ElectraForMaskedLM.from_pretrained(PATH)"
      ],
      "metadata": {
        "id": "NfBSXDE85kYT",
        "outputId": "45335d98-f969-4777-eec4-f7234fab0ccb",
        "colab": {
          "base_uri": "https://localhost:8080/"
        }
      },
      "execution_count": 50,
      "outputs": [
        {
          "output_type": "stream",
          "name": "stderr",
          "text": [
            "Some weights of the model checkpoint at /content/drive/MyDrive/ITMO/NLP were not used when initializing ElectraForMaskedLM: ['classifier.dense.bias', 'classifier.out_proj.bias', 'classifier.out_proj.weight', 'classifier.dense.weight']\n",
            "- This IS expected if you are initializing ElectraForMaskedLM from the checkpoint of a model trained on another task or with another architecture (e.g. initializing a BertForSequenceClassification model from a BertForPreTraining model).\n",
            "- This IS NOT expected if you are initializing ElectraForMaskedLM from the checkpoint of a model that you expect to be exactly identical (initializing a BertForSequenceClassification model from a BertForSequenceClassification model).\n",
            "Some weights of ElectraForMaskedLM were not initialized from the model checkpoint at /content/drive/MyDrive/ITMO/NLP and are newly initialized: ['generator_lm_head.weight', 'generator_lm_head.bias', 'generator_predictions.dense.weight', 'generator_predictions.dense.bias', 'generator_predictions.LayerNorm.weight', 'generator_predictions.LayerNorm.bias']\n",
            "You should probably TRAIN this model on a down-stream task to be able to use it for predictions and inference.\n"
          ]
        }
      ]
    },
    {
      "cell_type": "code",
      "source": [
        "pipe = pipeline('fill-mask', model=mask_model, tokenizer=tokenizer)"
      ],
      "metadata": {
        "id": "BQrUFMiP8wzh"
      },
      "execution_count": 51,
      "outputs": []
    },
    {
      "cell_type": "code",
      "source": [
        "pipe(\"Why don't you ask [MASK]?\")"
      ],
      "metadata": {
        "id": "ZG0xwK3M83HR",
        "outputId": "7c265e07-2a72-47f5-c2c3-e82c108685db",
        "colab": {
          "base_uri": "https://localhost:8080/"
        }
      },
      "execution_count": 52,
      "outputs": [
        {
          "output_type": "execute_result",
          "data": {
            "text/plain": [
              "[{'score': 0.00030580125167034566,\n",
              "  'sequence': \"why don't you ask tongue?\",\n",
              "  'token': 4416,\n",
              "  'token_str': 't o n g u e'},\n",
              " {'score': 0.00028351644868962467,\n",
              "  'sequence': \"why don't you ask shortage?\",\n",
              "  'token': 15843,\n",
              "  'token_str': 's h o r t a g e'},\n",
              " {'score': 0.0002735873276833445,\n",
              "  'sequence': \"why don't you ask throat?\",\n",
              "  'token': 3759,\n",
              "  'token_str': 't h r o a t'},\n",
              " {'score': 0.00026126138982363045,\n",
              "  'sequence': \"why don't you ask favorites?\",\n",
              "  'token': 20672,\n",
              "  'token_str': 'f a v o r i t e s'},\n",
              " {'score': 0.00025820863083936274,\n",
              "  'sequence': \"why don't you ask virginity?\",\n",
              "  'token': 26970,\n",
              "  'token_str': 'v i r g i n i t y'}]"
            ]
          },
          "metadata": {},
          "execution_count": 52
        }
      ]
    },
    {
      "cell_type": "code",
      "source": [
        "pipe(\"What is [MASK]\")"
      ],
      "metadata": {
        "id": "RX0pmaf5890a",
        "outputId": "ae401e05-9cbb-46b8-c3aa-ee4b74ba883f",
        "colab": {
          "base_uri": "https://localhost:8080/"
        }
      },
      "execution_count": 53,
      "outputs": [
        {
          "output_type": "execute_result",
          "data": {
            "text/plain": [
              "[{'score': 0.00032070185989141464,\n",
              "  'sequence': 'what is almost',\n",
              "  'token': 2471,\n",
              "  'token_str': 'a l m o s t'},\n",
              " {'score': 0.000310450152028352,\n",
              "  'sequence': 'what is lungs',\n",
              "  'token': 8948,\n",
              "  'token_str': 'l u n g s'},\n",
              " {'score': 0.00026625109603628516,\n",
              "  'sequence': 'what is doses',\n",
              "  'token': 21656,\n",
              "  'token_str': 'd o s e s'},\n",
              " {'score': 0.00026193581288680434,\n",
              "  'sequence': 'what is nicaragua',\n",
              "  'token': 15448,\n",
              "  'token_str': 'n i c a r a g u a'},\n",
              " {'score': 0.00026148525648750365,\n",
              "  'sequence': 'what is specializes',\n",
              "  'token': 16997,\n",
              "  'token_str': 's p e c i a l i z e s'}]"
            ]
          },
          "metadata": {},
          "execution_count": 53
        }
      ]
    },
    {
      "cell_type": "code",
      "source": [
        "pipe(\"Let's talk about [MASK] physics\")"
      ],
      "metadata": {
        "id": "QEeBM9oQ9HlJ",
        "outputId": "c3c811c2-e842-47eb-f5df-a7fbf6e5ed8a",
        "colab": {
          "base_uri": "https://localhost:8080/"
        }
      },
      "execution_count": 54,
      "outputs": [
        {
          "output_type": "execute_result",
          "data": {
            "text/plain": [
              "[{'score': 0.0004402179620228708,\n",
              "  'sequence': \"let's talk aboutnight physics\",\n",
              "  'token': 15864,\n",
              "  'token_str': '# # n i g h t'},\n",
              " {'score': 0.00033267177059315145,\n",
              "  'sequence': \"let's talk aboutries physics\",\n",
              "  'token': 5134,\n",
              "  'token_str': '# # r i e s'},\n",
              " {'score': 0.0003303617413621396,\n",
              "  'sequence': \"let's talk abouttle physics\",\n",
              "  'token': 9286,\n",
              "  'token_str': '# # t l e'},\n",
              " {'score': 0.00030383202829398215,\n",
              "  'sequence': \"let's talk about cost physics\",\n",
              "  'token': 3465,\n",
              "  'token_str': 'c o s t'},\n",
              " {'score': 0.00030176175641827285,\n",
              "  'sequence': \"let's talk abouttime physics\",\n",
              "  'token': 7292,\n",
              "  'token_str': '# # t i m e'}]"
            ]
          },
          "metadata": {},
          "execution_count": 54
        }
      ]
    },
    {
      "cell_type": "code",
      "source": [
        "'''\n",
        "    \n",
        "'''"
      ],
      "metadata": {
        "id": "vPB2PIiFIFFZ"
      },
      "execution_count": null,
      "outputs": []
    },
    {
      "cell_type": "code",
      "source": [
        "# tune the training hyperparameters "
      ],
      "metadata": {
        "id": "Rj1UR1aB9OjP"
      },
      "execution_count": null,
      "outputs": []
    },
    {
      "cell_type": "code",
      "source": [
        "classification_model2 = ElectraForSequenceClassification.from_pretrained(\n",
        "    MODEL_NAME, num_labels=10)"
      ],
      "metadata": {
        "id": "LIe493ND-hx0",
        "outputId": "a3097821-6329-41c6-9327-5d37cf380597",
        "colab": {
          "base_uri": "https://localhost:8080/"
        }
      },
      "execution_count": 88,
      "outputs": [
        {
          "output_type": "stream",
          "name": "stderr",
          "text": [
            "Some weights of the model checkpoint at google/electra-small-generator were not used when initializing ElectraForSequenceClassification: ['generator_lm_head.weight', 'generator_lm_head.bias', 'generator_predictions.dense.weight', 'generator_predictions.dense.bias', 'generator_predictions.LayerNorm.weight', 'generator_predictions.LayerNorm.bias']\n",
            "- This IS expected if you are initializing ElectraForSequenceClassification from the checkpoint of a model trained on another task or with another architecture (e.g. initializing a BertForSequenceClassification model from a BertForPreTraining model).\n",
            "- This IS NOT expected if you are initializing ElectraForSequenceClassification from the checkpoint of a model that you expect to be exactly identical (initializing a BertForSequenceClassification model from a BertForSequenceClassification model).\n",
            "Some weights of ElectraForSequenceClassification were not initialized from the model checkpoint at google/electra-small-generator and are newly initialized: ['classifier.out_proj.weight', 'classifier.dense.bias', 'classifier.dense.weight', 'classifier.out_proj.bias']\n",
            "You should probably TRAIN this model on a down-stream task to be able to use it for predictions and inference.\n"
          ]
        }
      ]
    },
    {
      "cell_type": "code",
      "source": [
        "# let's try freezing (do not update the pretrained model weights) all the layers exept the ones for classification\n",
        "\n",
        "for param in classification_model2.electra.parameters():\n",
        "      param.requires_grad = False"
      ],
      "metadata": {
        "id": "wdZ1Dyqi9xcW"
      },
      "execution_count": 94,
      "outputs": []
    },
    {
      "cell_type": "code",
      "source": [
        "LEARNING_RATE = 5e-5\n",
        "TRAIN_EPOCH = 5\n",
        "BATCH_SIZE = 16"
      ],
      "metadata": {
        "id": "XP0lKT-LFupW"
      },
      "execution_count": 95,
      "outputs": []
    },
    {
      "cell_type": "code",
      "source": [
        "batched_train = DataLoader(tokenized_train_dataset, batch_size = BATCH_SIZE)\n",
        "batched_test = DataLoader(tokenized_test_dataset, batch_size = BATCH_SIZE)"
      ],
      "metadata": {
        "id": "trtoNGNVGMfA"
      },
      "execution_count": 96,
      "outputs": []
    },
    {
      "cell_type": "code",
      "source": [
        "# define optimizer, sсheduler \n",
        "optimizer = torch.optim.AdamW(classification_model2.parameters(), lr=LEARNING_RATE)\n",
        "\n",
        "# scheduler\n",
        "num_training_steps = TRAIN_EPOCH * len(batched_train)\n",
        "lr_scheduler = get_scheduler(\n",
        "    name=\"linear\", optimizer=optimizer, num_warmup_steps=0, num_training_steps=num_training_steps\n",
        ")"
      ],
      "metadata": {
        "id": "KBzBU5rsHd_0"
      },
      "execution_count": 97,
      "outputs": []
    },
    {
      "cell_type": "code",
      "source": [
        "classification_model2.to(device)\n",
        "\n",
        "classification_model2.train()\n",
        "\n",
        "epoch_losses = []\n",
        "\n",
        "for epoch in range(TRAIN_EPOCH):\n",
        "    losses = []\n",
        "\n",
        "    for batch in tqdm(batched_train):\n",
        "        batch = {k: v.to(device) for k, v in batch.items()}\n",
        "        outputs = classification_model2(**batch)\n",
        "        loss = outputs.loss\n",
        "        losses.append(loss)\n",
        "        loss.backward()\n",
        "\n",
        "        optimizer.step()\n",
        "        lr_scheduler.step()\n",
        "        optimizer.zero_grad()\n",
        "\n",
        "    epoch_losses.append(torch.mean(torch.tensor(losses)))\n",
        "    print(f\"Epoch {epoch}\\n Current loss {torch.mean(torch.tensor(losses))}\\n\")\n"
      ],
      "metadata": {
        "id": "tQ_4BcNqHqmb",
        "outputId": "889e5950-bb47-4a6c-bf27-137022820638",
        "colab": {
          "base_uri": "https://localhost:8080/"
        }
      },
      "execution_count": 98,
      "outputs": [
        {
          "output_type": "stream",
          "name": "stderr",
          "text": [
            "100%|██████████| 313/313 [01:18<00:00,  4.00it/s]\n"
          ]
        },
        {
          "output_type": "stream",
          "name": "stdout",
          "text": [
            "Epoch 0\n",
            " Current loss 2.2992746829986572\n",
            "\n"
          ]
        },
        {
          "output_type": "stream",
          "name": "stderr",
          "text": [
            "100%|██████████| 313/313 [01:17<00:00,  4.03it/s]\n"
          ]
        },
        {
          "output_type": "stream",
          "name": "stdout",
          "text": [
            "Epoch 1\n",
            " Current loss 2.286168336868286\n",
            "\n"
          ]
        },
        {
          "output_type": "stream",
          "name": "stderr",
          "text": [
            "100%|██████████| 313/313 [01:17<00:00,  4.03it/s]\n"
          ]
        },
        {
          "output_type": "stream",
          "name": "stdout",
          "text": [
            "Epoch 2\n",
            " Current loss 2.2762198448181152\n",
            "\n"
          ]
        },
        {
          "output_type": "stream",
          "name": "stderr",
          "text": [
            "100%|██████████| 313/313 [01:17<00:00,  4.03it/s]\n"
          ]
        },
        {
          "output_type": "stream",
          "name": "stdout",
          "text": [
            "Epoch 3\n",
            " Current loss 2.265979528427124\n",
            "\n"
          ]
        },
        {
          "output_type": "stream",
          "name": "stderr",
          "text": [
            "100%|██████████| 313/313 [01:17<00:00,  4.03it/s]"
          ]
        },
        {
          "output_type": "stream",
          "name": "stdout",
          "text": [
            "Epoch 4\n",
            " Current loss 2.260387897491455\n",
            "\n"
          ]
        },
        {
          "output_type": "stream",
          "name": "stderr",
          "text": [
            "\n"
          ]
        }
      ]
    },
    {
      "cell_type": "code",
      "source": [
        "plt.plot(epoch_losses)\n",
        "plt.title('Losses by epoch')\n",
        "plt.xlabel('Epoch')\n",
        "plt.ylabel('Loss')"
      ],
      "metadata": {
        "id": "kTaaQkdYH-R4",
        "outputId": "e9e5b3cb-a35f-4ab8-b277-eb512734cbf0",
        "colab": {
          "base_uri": "https://localhost:8080/",
          "height": 318
        }
      },
      "execution_count": 106,
      "outputs": [
        {
          "output_type": "execute_result",
          "data": {
            "text/plain": [
              "Text(0, 0.5, 'Loss')"
            ]
          },
          "metadata": {},
          "execution_count": 106
        },
        {
          "output_type": "display_data",
          "data": {
            "text/plain": [
              "<Figure size 432x288 with 1 Axes>"
            ],
            "image/png": "[encoded data removed]"
          },
          "metadata": {}
        }
      ]
    },
    {
      "cell_type": "code",
      "source": [
        "metric = load_metric('f1')\n",
        "classification_model2.eval()\n",
        "\n",
        "for batch in tqdm(batched_train):\n",
        "    batch = {k: v.to(device) for k, v in batch.items()}\n",
        "    with torch.no_grad():\n",
        "        outputs = classification_model2(**batch)\n",
        "\n",
        "    logits = outputs.logits\n",
        "    predictions = torch.argmax(logits, dim=-1)\n",
        "    metric.add_batch(predictions=predictions, references=batch[\"labels\"])\n",
        "\n",
        "f1_metric = metric.compute(average='weighted')\n",
        "print(f'f1: {f1_metric}')"
      ],
      "metadata": {
        "id": "sFrWKca5hUu0",
        "outputId": "b03adaca-d137-476e-a375-3288072cc60a",
        "colab": {
          "base_uri": "https://localhost:8080/"
        }
      },
      "execution_count": 82,
      "outputs": [
        {
          "output_type": "stream",
          "name": "stderr",
          "text": [
            "100%|██████████| 157/157 [01:14<00:00,  2.12it/s]"
          ]
        },
        {
          "output_type": "stream",
          "name": "stdout",
          "text": [
            "f1: {'f1': 0.372881679669861}\n"
          ]
        },
        {
          "output_type": "stream",
          "name": "stderr",
          "text": [
            "\n"
          ]
        }
      ]
    },
    {
      "cell_type": "code",
      "source": [
        "classification_model2.save_pretrained(PATH)"
      ],
      "metadata": {
        "id": "SP31Ru1AhgMO"
      },
      "execution_count": 100,
      "outputs": []
    },
    {
      "cell_type": "code",
      "source": [
        "mask_model2 = ElectraForMaskedLM.from_pretrained(PATH)"
      ],
      "metadata": {
        "id": "nt2tti1wigBN",
        "outputId": "cc173966-58f2-4a86-fb46-e95468876049",
        "colab": {
          "base_uri": "https://localhost:8080/"
        }
      },
      "execution_count": 101,
      "outputs": [
        {
          "output_type": "stream",
          "name": "stderr",
          "text": [
            "Some weights of the model checkpoint at /content/drive/MyDrive/ITMO/NLP were not used when initializing ElectraForMaskedLM: ['classifier.dense.bias', 'classifier.out_proj.bias', 'classifier.out_proj.weight', 'classifier.dense.weight']\n",
            "- This IS expected if you are initializing ElectraForMaskedLM from the checkpoint of a model trained on another task or with another architecture (e.g. initializing a BertForSequenceClassification model from a BertForPreTraining model).\n",
            "- This IS NOT expected if you are initializing ElectraForMaskedLM from the checkpoint of a model that you expect to be exactly identical (initializing a BertForSequenceClassification model from a BertForSequenceClassification model).\n",
            "Some weights of ElectraForMaskedLM were not initialized from the model checkpoint at /content/drive/MyDrive/ITMO/NLP and are newly initialized: ['generator_lm_head.weight', 'generator_lm_head.bias', 'generator_predictions.dense.weight', 'generator_predictions.dense.bias', 'generator_predictions.LayerNorm.weight', 'generator_predictions.LayerNorm.bias']\n",
            "You should probably TRAIN this model on a down-stream task to be able to use it for predictions and inference.\n"
          ]
        }
      ]
    },
    {
      "cell_type": "code",
      "source": [
        "pipe = pipeline('fill-mask', model=mask_model2, tokenizer=tokenizer)"
      ],
      "metadata": {
        "id": "DhCBe4EPiYxj"
      },
      "execution_count": 102,
      "outputs": []
    },
    {
      "cell_type": "code",
      "source": [
        "\n",
        "pipe(\"Why don't you ask [MASK]?\")"
      ],
      "metadata": {
        "id": "UnurPhsaiiqM",
        "outputId": "748ff28e-d461-424e-a249-bc1f3afac857",
        "colab": {
          "base_uri": "https://localhost:8080/"
        }
      },
      "execution_count": 103,
      "outputs": [
        {
          "output_type": "execute_result",
          "data": {
            "text/plain": [
              "[{'score': 0.0004913239390589297,\n",
              "  'sequence': \"why don't you ask blaine?\",\n",
              "  'token': 20002,\n",
              "  'token_str': 'b l a i n e'},\n",
              " {'score': 0.0003274984483141452,\n",
              "  'sequence': \"why don't you askael?\",\n",
              "  'token': 21147,\n",
              "  'token_str': '# # a e l'},\n",
              " {'score': 0.00030835249344818294,\n",
              "  'sequence': \"why don't you asklusion?\",\n",
              "  'token': 24117,\n",
              "  'token_str': '# # l u s i o n'},\n",
              " {'score': 0.00030614694696851075,\n",
              "  'sequence': \"why don't you askgar?\",\n",
              "  'token': 6843,\n",
              "  'token_str': '# # g a r'},\n",
              " {'score': 0.0002913288481067866,\n",
              "  'sequence': \"why don't you ask intention?\",\n",
              "  'token': 6808,\n",
              "  'token_str': 'i n t e n t i o n'}]"
            ]
          },
          "metadata": {},
          "execution_count": 103
        }
      ]
    },
    {
      "cell_type": "code",
      "source": [
        "pipe(\"What is [MASK]\")"
      ],
      "metadata": {
        "id": "TmrCRDjxipoa",
        "outputId": "cadada4c-6bf4-4241-ff67-635d408c0741",
        "colab": {
          "base_uri": "https://localhost:8080/"
        }
      },
      "execution_count": 104,
      "outputs": [
        {
          "output_type": "execute_result",
          "data": {
            "text/plain": [
              "[{'score': 0.0004984412807971239,\n",
              "  'sequence': 'what israil',\n",
              "  'token': 15118,\n",
              "  'token_str': '# # r a i l'},\n",
              " {'score': 0.00046170889982022345,\n",
              "  'sequence': 'what isbry',\n",
              "  'token': 25731,\n",
              "  'token_str': '# # b r y'},\n",
              " {'score': 0.0004526679986156523,\n",
              "  'sequence': 'what islusion',\n",
              "  'token': 24117,\n",
              "  'token_str': '# # l u s i o n'},\n",
              " {'score': 0.000421650183852762,\n",
              "  'sequence': 'what isratic',\n",
              "  'token': 23671,\n",
              "  'token_str': '# # r a t i c'},\n",
              " {'score': 0.0003886965860147029,\n",
              "  'sequence': 'what isedance',\n",
              "  'token': 29605,\n",
              "  'token_str': '# # e d a n c e'}]"
            ]
          },
          "metadata": {},
          "execution_count": 104
        }
      ]
    },
    {
      "cell_type": "code",
      "source": [
        "pipe(\"Let's talk about [MASK] physics\")"
      ],
      "metadata": {
        "id": "U-I84kNgjMlC",
        "outputId": "d8e82899-29ae-449c-da5d-1a45309e53c6",
        "colab": {
          "base_uri": "https://localhost:8080/"
        }
      },
      "execution_count": 105,
      "outputs": [
        {
          "output_type": "execute_result",
          "data": {
            "text/plain": [
              "[{'score': 0.00047877253382466733,\n",
              "  'sequence': \"let's talk about kaitlyn physics\",\n",
              "  'token': 28584,\n",
              "  'token_str': 'k a i t l y n'},\n",
              " {'score': 0.00046052667312324047,\n",
              "  'sequence': \"let's talk aboutloh physics\",\n",
              "  'token': 24729,\n",
              "  'token_str': '# # l o h'},\n",
              " {'score': 0.0004085285763721913,\n",
              "  'sequence': \"let's talk aboutrlin physics\",\n",
              "  'token': 19403,\n",
              "  'token_str': '# # r l i n'},\n",
              " {'score': 0.00034685558057390153,\n",
              "  'sequence': \"let's talk abouthm physics\",\n",
              "  'token': 14227,\n",
              "  'token_str': '# # h m'},\n",
              " {'score': 0.00031064695212990046,\n",
              "  'sequence': \"let's talk about romney physics\",\n",
              "  'token': 19615,\n",
              "  'token_str': 'r o m n e y'}]"
            ]
          },
          "metadata": {},
          "execution_count": 105
        }
      ]
    },
    {
      "cell_type": "code",
      "source": [
        ""
      ],
      "metadata": {
        "id": "rw9b3v0boJiC"
      },
      "execution_count": null,
      "outputs": []
    }
  ]
}